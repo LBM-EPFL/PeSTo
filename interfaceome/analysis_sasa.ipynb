{
 "cells": [
  {
   "cell_type": "code",
   "execution_count": 1,
   "id": "d25e9ea3-3d79-4cc1-8555-eee4b840334c",
   "metadata": {},
   "outputs": [],
   "source": [
    "import h5py\n",
    "import json\n",
    "import numpy as np\n",
    "import torch as pt\n",
    "import pandas as pd\n",
    "import matplotlib.pyplot as plt\n",
    "from tqdm import tqdm\n",
    "from glob import glob\n",
    "\n",
    "from structures_store import h5_load_structure\n",
    "\n",
    "colors = ['#bf4e30', '#0d3b66', '#0e9595', '#c2c1c2', '#dbad6a']"
   ]
  },
  {
   "cell_type": "code",
   "execution_count": 2,
   "id": "75cd0b31-d11a-443b-808d-dea5a06087de",
   "metadata": {},
   "outputs": [
    {
     "name": "stderr",
     "output_type": "stream",
     "text": [
      "100%|███████████████████████████████████████████████████████████████████████████████████████████████████████████████████████████████████████████████████████████████████████████| 7464/7464 [00:29<00:00, 254.47it/s]\n"
     ]
    }
   ],
   "source": [
    "uniprots = pd.read_csv(\"datasets/selected_alphafold_models.csv\").query(\"selected > 0.5\")['uniprot'].values\n",
    "\n",
    "structures = {}\n",
    "with h5py.File(\"datasets/aggregated_structures_data.h5\", 'r') as hf:\n",
    "    #for uniprot in tqdm(hf.keys()):\n",
    "    for uniprot in tqdm(uniprots):\n",
    "        structures[uniprot] = h5_load_structure(hf[uniprot])"
   ]
  },
  {
   "cell_type": "code",
   "execution_count": 3,
   "id": "53c1f020-9891-4dca-b6db-65c448a9552a",
   "metadata": {},
   "outputs": [],
   "source": [
    "# clustered interfaces\n",
    "multi_interfaces_dict = json.load(open(\"datasets/clustered_multi_interfaces.json\", 'r'))"
   ]
  },
  {
   "cell_type": "code",
   "execution_count": 4,
   "id": "c0d85848-a357-4499-911a-fdeeaaab192a",
   "metadata": {},
   "outputs": [
    {
     "name": "stderr",
     "output_type": "stream",
     "text": [
      "100%|██████████████████████████████████████████████████████████████████████████████████████████████████████████████████████████████████████████████████████████████████████████| 7464/7464 [00:01<00:00, 4143.08it/s]\n"
     ]
    }
   ],
   "source": [
    "# parameters\n",
    "p_thr = 0.8\n",
    "labels_map = {\"protein\":\"p0\", \"dna/rna\":\"p1\", \"ion\":\"p2\", \"ligand\":\"p3\", \"lipid\":\"p4\"}\n",
    "itypes_sel = [\"protein\", \"dna/rna\", \"ion\", \"ligand\", \"lipid\"]\n",
    "\n",
    "# select quality interfaces only\n",
    "multi_interfaces_quality_dict = {}\n",
    "for uniprot in tqdm(structures):\n",
    "    multi_interfaces_quality_dict[uniprot] = {itype:[] for itype in multi_interfaces_dict[uniprot]}\n",
    "    for itype in multi_interfaces_dict[uniprot]:\n",
    "        if itype in itypes_sel:\n",
    "            for ids_int in multi_interfaces_dict[uniprot][itype]:\n",
    "                p = np.stack([structures[uniprot][labels_map[it]][ids_int] for it in itype.split('+')], axis=1)\n",
    "                if np.all(np.mean(p, axis=0) > p_thr):\n",
    "                    multi_interfaces_quality_dict[uniprot][itype].append(ids_int)\n",
    "        else:\n",
    "            multi_interfaces_quality_dict[uniprot][itype] = multi_interfaces_dict[uniprot][itype]"
   ]
  },
  {
   "cell_type": "code",
   "execution_count": 5,
   "id": "49cb152b-3e59-41e2-9473-6923dae6f684",
   "metadata": {},
   "outputs": [],
   "source": [
    "del multi_interfaces_dict"
   ]
  },
  {
   "cell_type": "code",
   "execution_count": 6,
   "id": "a4dd06a5-67bb-4d65-9b6f-ab6f99f184cf",
   "metadata": {},
   "outputs": [
    {
     "name": "stderr",
     "output_type": "stream",
     "text": [
      "100%|██████████████████████████████████████████████████████████████████████████████████████████████████████████████████████████████████████████████████████████████████████████| 20504/20504 [03:43<00:00, 91.57it/s]\n"
     ]
    }
   ],
   "source": [
    "# parameters\n",
    "org_sel = \"HUMAN\"\n",
    "\n",
    "sasa_dict = {}\n",
    "with h5py.File(\"datasets/models.h5\", 'r') as hf0:\n",
    "    with h5py.File(\"datasets/solvent_accessible_surface_area.h5\", 'r') as hf1:\n",
    "        for uniprot in tqdm(hf1[org_sel].keys()):\n",
    "            key = '{}/{}/F1'.format(org_sel, uniprot)\n",
    "            resids = h5_load_structure(hf0[key])['resid']\n",
    "            sasa = np.array(hf1[key]).astype(np.float32)\n",
    "            sasa_dict[uniprot] = np.array([np.sum(sasa*(i == resids).astype(np.float32)) for i in np.unique(resids)])"
   ]
  },
  {
   "cell_type": "markdown",
   "id": "9ec5ebf6-dad5-4788-b50a-5d8703629f30",
   "metadata": {},
   "source": [
    "## Interfaces surfaces"
   ]
  },
  {
   "cell_type": "code",
   "execution_count": 7,
   "id": "b27a20ad-45c3-46ec-96d4-6a928966bde7",
   "metadata": {},
   "outputs": [
    {
     "name": "stderr",
     "output_type": "stream",
     "text": [
      "100%|█████████████████████████████████████████████████████████████████████████████████████████████████████████████████████████████████████████████████████████████████████████| 7464/7464 [00:00<00:00, 10124.83it/s]\n"
     ]
    }
   ],
   "source": [
    "total_surfaces = []\n",
    "interfaces_surfaces = {}\n",
    "relative_interfaces_size = {}\n",
    "for uniprot in tqdm(list(structures)):\n",
    "    sasa = sasa_dict[uniprot]\n",
    "    total_surfaces.append(np.sum(sasa))\n",
    "    if uniprot in multi_interfaces_quality_dict:\n",
    "        interfaces = multi_interfaces_quality_dict[uniprot]\n",
    "        #interfaces = multi_interfaces_dict[uniprot]\n",
    "        for itype in interfaces:\n",
    "            if itype in interfaces_surfaces:\n",
    "                interfaces_surfaces[itype].extend([np.sum(sasa[ids]) for ids in interfaces[itype]])\n",
    "                relative_interfaces_size[itype].extend([np.sum(sasa[ids])/np.sum(sasa) for ids in interfaces[itype]])\n",
    "            else:\n",
    "                interfaces_surfaces[itype] = [np.sum(sasa[ids]) for ids in interfaces[itype]]\n",
    "                relative_interfaces_size[itype] = [np.sum(sasa[ids])/np.sum(sasa) for ids in interfaces[itype]]"
   ]
  },
  {
   "cell_type": "code",
   "execution_count": 38,
   "id": "a74de129-da29-4cca-bcf7-5650037cc32f",
   "metadata": {},
   "outputs": [
    {
     "data": {
      "image/png": "[encoded data removed]",
      "text/plain": [
       "<Figure size 288x216 with 1 Axes>"
      ]
     },
     "metadata": {
      "needs_background": "light"
     },
     "output_type": "display_data"
    },
    {
     "data": {
      "image/png": "[encoded data removed]",
      "text/plain": [
       "<Figure size 288x216 with 1 Axes>"
      ]
     },
     "metadata": {
      "needs_background": "light"
     },
     "output_type": "display_data"
    },
    {
     "data": {
      "image/png": "[encoded data removed]",
      "text/plain": [
       "<Figure size 288x216 with 1 Axes>"
      ]
     },
     "metadata": {
      "needs_background": "light"
     },
     "output_type": "display_data"
    },
    {
     "data": {
      "image/png": "[encoded data removed]",
      "text/plain": [
       "<Figure size 288x216 with 1 Axes>"
      ]
     },
     "metadata": {
      "needs_background": "light"
     },
     "output_type": "display_data"
    },
    {
     "data": {
      "image/png": "[encoded data removed]",
      "text/plain": [
       "<Figure size 288x216 with 1 Axes>"
      ]
     },
     "metadata": {
      "needs_background": "light"
     },
     "output_type": "display_data"
    }
   ],
   "source": [
    "labels = [\"protein\", \"dna/rna\", \"ion\", \"ligand\", \"lipid\"]\n",
    "for itype in labels:\n",
    "    sasa = np.array(interfaces_surfaces[itype])\n",
    "\n",
    "    vmax = np.quantile(sasa, 0.99)\n",
    "    #vmax = np.max(sasa)\n",
    "    vmax = 120\n",
    "    \n",
    "    plt.figure(figsize=(4,3))\n",
    "    plt.hist(sasa, bins=60, range=(0.0, vmax), color=colors[1])\n",
    "    plt.title(itype)\n",
    "    plt.xlim(0.0, vmax)\n",
    "    plt.xlabel(\"interface surface [nm^2]\")\n",
    "    plt.ylabel(\"count\")\n",
    "    plt.tight_layout()\n",
    "    plt.savefig(\"results/interface_surface_{}.png\".format(itype.replace('/','')), dpi=300)\n",
    "    plt.savefig(\"results/interface_surface_{}.svg\".format(itype.replace('/','')))\n",
    "    plt.show()"
   ]
  },
  {
   "cell_type": "code",
   "execution_count": 41,
   "id": "7ae8b328-9226-45ed-ade1-b8188dcd5539",
   "metadata": {},
   "outputs": [
    {
     "name": "stdout",
     "output_type": "stream",
     "text": [
      "protein  31.7 26.5 22.4\n",
      "dna/rna  28.8 22.6 23.5\n",
      "ion      6.8 5.8 3.8\n",
      "ligand   15.8 14.9 7.4\n",
      "lipid    17.7 17.7 8.9\n",
      "lipid    75.4 75.0 18.6\n"
     ]
    }
   ],
   "source": [
    "labels = [\"protein\", \"dna/rna\", \"ion\", \"ligand\"]\n",
    "for itype in labels:\n",
    "    sasa = np.array(interfaces_surfaces[itype])\n",
    "    sasa = sasa[sasa > 3]\n",
    "\n",
    "    print(\"{: <8} {:.1f} {:.1f} {:.1f}\".format(itype, np.mean(sasa), np.median(sasa), np.std(sasa)))\n",
    "\n",
    "itype = \"lipid\"\n",
    "sasa = np.array(interfaces_surfaces[itype])\n",
    "sasa = sasa[sasa > 3]\n",
    "sasa_sel = sasa[sasa < 40]\n",
    "print(\"{: <8} {:.1f} {:.1f} {:.1f}\".format(itype, np.mean(sasa_sel), np.median(sasa_sel), np.std(sasa_sel)))\n",
    "sasa_sel = sasa[sasa > 40]\n",
    "print(\"{: <8} {:.1f} {:.1f} {:.1f}\".format(itype, np.mean(sasa_sel), np.median(sasa_sel), np.std(sasa_sel)))"
   ]
  },
  {
   "cell_type": "code",
   "execution_count": null,
   "id": "5d2c1d38-8e47-4162-a530-9829825b1be8",
   "metadata": {},
   "outputs": [],
   "source": []
  },
  {
   "cell_type": "code",
   "execution_count": null,
   "id": "6c3f6ab0-1255-4f44-babc-df250531dd5f",
   "metadata": {},
   "outputs": [],
   "source": []
  },
  {
   "cell_type": "code",
   "execution_count": null,
   "id": "d4c652d5-5f6c-48bb-b980-2eceb9b4c380",
   "metadata": {},
   "outputs": [],
   "source": []
  }
 ],
 "metadata": {
  "kernelspec": {
   "display_name": "pesto",
   "language": "python",
   "name": "pesto"
  },
  "language_info": {
   "codemirror_mode": {
    "name": "ipython",
    "version": 3
   },
   "file_extension": ".py",
   "mimetype": "text/x-python",
   "name": "python",
   "nbconvert_exporter": "python",
   "pygments_lexer": "ipython3",
   "version": "3.9.12"
  }
 },
 "nbformat": 4,
 "nbformat_minor": 5
}
