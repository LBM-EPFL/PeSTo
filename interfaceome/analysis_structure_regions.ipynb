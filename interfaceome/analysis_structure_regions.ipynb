{
 "cells": [
  {
   "cell_type": "code",
   "execution_count": 1,
   "id": "49fc5ead-ef8a-4a1f-9ab8-1de52969e318",
   "metadata": {},
   "outputs": [
    {
     "name": "stderr",
     "output_type": "stream",
     "text": [
      "/home/khaos/miniconda3/envs/pesto/lib/python3.9/site-packages/tqdm/auto.py:22: TqdmWarning: IProgress not found. Please update jupyter and ipywidgets. See https://ipywidgets.readthedocs.io/en/stable/user_install.html\n",
      "  from .autonotebook import tqdm as notebook_tqdm\n"
     ]
    }
   ],
   "source": [
    "import h5py\n",
    "import numpy as np\n",
    "import torch as pt\n",
    "import pandas as pd\n",
    "import matplotlib.pyplot as plt\n",
    "from tqdm import tqdm\n",
    "\n",
    "from src.structure import atom_select\n",
    "from structures_store import StructuresStoreDataset, h5_store_structure, h5_load_structure\n",
    "\n",
    "colors = ['#bf4e30', '#0d3b66', '#0e9595', '#c2c1c2', '#dbad6a']"
   ]
  },
  {
   "cell_type": "code",
   "execution_count": 2,
   "id": "fcb8ce08-52fa-4d24-a425-e59af0df66e7",
   "metadata": {},
   "outputs": [
    {
     "name": "stderr",
     "output_type": "stream",
     "text": [
      "100%|██████████████████████████████████████| 7464/7464 [00:33<00:00, 224.48it/s]\n"
     ]
    }
   ],
   "source": [
    "uniprots = pd.read_csv(\"datasets/selected_alphafold_models.csv\").query(\"selected > 0.5\")['uniprot'].values\n",
    "\n",
    "data = {}\n",
    "with h5py.File(\"datasets/aggregated_structures_data.h5\", 'r') as hf:\n",
    "    #for uniprot in tqdm(hf.keys()):\n",
    "    for uniprot in tqdm(uniprots):\n",
    "        data[uniprot] = h5_load_structure(hf[uniprot])"
   ]
  },
  {
   "cell_type": "code",
   "execution_count": 3,
   "id": "2a618bc4-a28b-45ba-9e4b-aa2e61e95633",
   "metadata": {},
   "outputs": [],
   "source": [
    "for uniprot in data:\n",
    "    entry = data[uniprot]\n",
    "    break"
   ]
  },
  {
   "cell_type": "code",
   "execution_count": 4,
   "id": "2309a3b0-3b36-4952-a637-356a71cb86ab",
   "metadata": {},
   "outputs": [
    {
     "data": {
      "text/html": [
       "<div>\n",
       "<style scoped>\n",
       "    .dataframe tbody tr th:only-of-type {\n",
       "        vertical-align: middle;\n",
       "    }\n",
       "\n",
       "    .dataframe tbody tr th {\n",
       "        vertical-align: top;\n",
       "    }\n",
       "\n",
       "    .dataframe thead th {\n",
       "        text-align: right;\n",
       "    }\n",
       "</style>\n",
       "<table border=\"1\" class=\"dataframe\">\n",
       "  <thead>\n",
       "    <tr style=\"text-align: right;\">\n",
       "      <th></th>\n",
       "      <th>afs</th>\n",
       "      <th>annotation</th>\n",
       "      <th>p0</th>\n",
       "      <th>p1</th>\n",
       "      <th>p2</th>\n",
       "      <th>p3</th>\n",
       "      <th>p4</th>\n",
       "      <th>resid</th>\n",
       "      <th>resname</th>\n",
       "      <th>ss</th>\n",
       "      <th>x</th>\n",
       "      <th>y</th>\n",
       "      <th>z</th>\n",
       "    </tr>\n",
       "  </thead>\n",
       "  <tbody>\n",
       "    <tr>\n",
       "      <th>0</th>\n",
       "      <td>67.040001</td>\n",
       "      <td>Modified residue</td>\n",
       "      <td>0.002775</td>\n",
       "      <td>0.000041</td>\n",
       "      <td>0.008363</td>\n",
       "      <td>0.017583</td>\n",
       "      <td>0.004209</td>\n",
       "      <td>1</td>\n",
       "      <td>MET</td>\n",
       "      <td></td>\n",
       "      <td>-20.885000</td>\n",
       "      <td>-7.085</td>\n",
       "      <td>3.838000</td>\n",
       "    </tr>\n",
       "    <tr>\n",
       "      <th>1</th>\n",
       "      <td>89.000000</td>\n",
       "      <td></td>\n",
       "      <td>0.002556</td>\n",
       "      <td>0.000070</td>\n",
       "      <td>0.009470</td>\n",
       "      <td>0.018736</td>\n",
       "      <td>0.000257</td>\n",
       "      <td>2</td>\n",
       "      <td>ALA</td>\n",
       "      <td></td>\n",
       "      <td>-19.582001</td>\n",
       "      <td>-3.943</td>\n",
       "      <td>5.574000</td>\n",
       "    </tr>\n",
       "    <tr>\n",
       "      <th>2</th>\n",
       "      <td>95.629997</td>\n",
       "      <td></td>\n",
       "      <td>0.004811</td>\n",
       "      <td>0.000257</td>\n",
       "      <td>0.025719</td>\n",
       "      <td>0.030031</td>\n",
       "      <td>0.000037</td>\n",
       "      <td>3</td>\n",
       "      <td>SER</td>\n",
       "      <td></td>\n",
       "      <td>-17.378000</td>\n",
       "      <td>-1.779</td>\n",
       "      <td>3.272000</td>\n",
       "    </tr>\n",
       "    <tr>\n",
       "      <th>3</th>\n",
       "      <td>98.709999</td>\n",
       "      <td>Beta strand</td>\n",
       "      <td>0.001505</td>\n",
       "      <td>0.000014</td>\n",
       "      <td>0.041666</td>\n",
       "      <td>0.042805</td>\n",
       "      <td>0.000060</td>\n",
       "      <td>4</td>\n",
       "      <td>LYS</td>\n",
       "      <td></td>\n",
       "      <td>-13.596000</td>\n",
       "      <td>-2.251</td>\n",
       "      <td>3.606000</td>\n",
       "    </tr>\n",
       "    <tr>\n",
       "      <th>4</th>\n",
       "      <td>98.879997</td>\n",
       "      <td>Beta strand</td>\n",
       "      <td>0.003695</td>\n",
       "      <td>0.000100</td>\n",
       "      <td>0.028141</td>\n",
       "      <td>0.068452</td>\n",
       "      <td>0.000048</td>\n",
       "      <td>5</td>\n",
       "      <td>ARG</td>\n",
       "      <td>E</td>\n",
       "      <td>-11.538000</td>\n",
       "      <td>0.689</td>\n",
       "      <td>4.990000</td>\n",
       "    </tr>\n",
       "    <tr>\n",
       "      <th>...</th>\n",
       "      <td>...</td>\n",
       "      <td>...</td>\n",
       "      <td>...</td>\n",
       "      <td>...</td>\n",
       "      <td>...</td>\n",
       "      <td>...</td>\n",
       "      <td>...</td>\n",
       "      <td>...</td>\n",
       "      <td>...</td>\n",
       "      <td>...</td>\n",
       "      <td>...</td>\n",
       "      <td>...</td>\n",
       "      <td>...</td>\n",
       "    </tr>\n",
       "    <tr>\n",
       "      <th>184</th>\n",
       "      <td>98.480003</td>\n",
       "      <td></td>\n",
       "      <td>0.997042</td>\n",
       "      <td>0.000875</td>\n",
       "      <td>0.053104</td>\n",
       "      <td>0.083734</td>\n",
       "      <td>0.000031</td>\n",
       "      <td>185</td>\n",
       "      <td>LEU</td>\n",
       "      <td>G</td>\n",
       "      <td>-10.209000</td>\n",
       "      <td>3.275</td>\n",
       "      <td>-16.399000</td>\n",
       "    </tr>\n",
       "    <tr>\n",
       "      <th>185</th>\n",
       "      <td>98.139999</td>\n",
       "      <td></td>\n",
       "      <td>0.998075</td>\n",
       "      <td>0.002806</td>\n",
       "      <td>0.045710</td>\n",
       "      <td>0.055657</td>\n",
       "      <td>0.000017</td>\n",
       "      <td>186</td>\n",
       "      <td>VAL</td>\n",
       "      <td>T</td>\n",
       "      <td>-9.351000</td>\n",
       "      <td>2.656</td>\n",
       "      <td>-20.127001</td>\n",
       "    </tr>\n",
       "    <tr>\n",
       "      <th>186</th>\n",
       "      <td>97.970001</td>\n",
       "      <td></td>\n",
       "      <td>0.997633</td>\n",
       "      <td>0.002621</td>\n",
       "      <td>0.070507</td>\n",
       "      <td>0.130161</td>\n",
       "      <td>0.000045</td>\n",
       "      <td>187</td>\n",
       "      <td>LEU</td>\n",
       "      <td></td>\n",
       "      <td>-6.023000</td>\n",
       "      <td>1.049</td>\n",
       "      <td>-19.145000</td>\n",
       "    </tr>\n",
       "    <tr>\n",
       "      <th>187</th>\n",
       "      <td>97.540001</td>\n",
       "      <td></td>\n",
       "      <td>0.995830</td>\n",
       "      <td>0.030220</td>\n",
       "      <td>0.105583</td>\n",
       "      <td>0.151944</td>\n",
       "      <td>0.000159</td>\n",
       "      <td>188</td>\n",
       "      <td>LYS</td>\n",
       "      <td></td>\n",
       "      <td>-3.851000</td>\n",
       "      <td>-0.724</td>\n",
       "      <td>-21.711000</td>\n",
       "    </tr>\n",
       "    <tr>\n",
       "      <th>188</th>\n",
       "      <td>83.669998</td>\n",
       "      <td></td>\n",
       "      <td>0.538132</td>\n",
       "      <td>0.100323</td>\n",
       "      <td>0.046210</td>\n",
       "      <td>0.058601</td>\n",
       "      <td>0.000030</td>\n",
       "      <td>189</td>\n",
       "      <td>ASP</td>\n",
       "      <td></td>\n",
       "      <td>-4.172000</td>\n",
       "      <td>-4.537</td>\n",
       "      <td>-21.431999</td>\n",
       "    </tr>\n",
       "  </tbody>\n",
       "</table>\n",
       "<p>189 rows × 13 columns</p>\n",
       "</div>"
      ],
      "text/plain": [
       "           afs        annotation        p0        p1        p2        p3  \\\n",
       "0    67.040001  Modified residue  0.002775  0.000041  0.008363  0.017583   \n",
       "1    89.000000                    0.002556  0.000070  0.009470  0.018736   \n",
       "2    95.629997                    0.004811  0.000257  0.025719  0.030031   \n",
       "3    98.709999       Beta strand  0.001505  0.000014  0.041666  0.042805   \n",
       "4    98.879997       Beta strand  0.003695  0.000100  0.028141  0.068452   \n",
       "..         ...               ...       ...       ...       ...       ...   \n",
       "184  98.480003                    0.997042  0.000875  0.053104  0.083734   \n",
       "185  98.139999                    0.998075  0.002806  0.045710  0.055657   \n",
       "186  97.970001                    0.997633  0.002621  0.070507  0.130161   \n",
       "187  97.540001                    0.995830  0.030220  0.105583  0.151944   \n",
       "188  83.669998                    0.538132  0.100323  0.046210  0.058601   \n",
       "\n",
       "           p4  resid resname ss          x      y          z  \n",
       "0    0.004209      1     MET    -20.885000 -7.085   3.838000  \n",
       "1    0.000257      2     ALA    -19.582001 -3.943   5.574000  \n",
       "2    0.000037      3     SER    -17.378000 -1.779   3.272000  \n",
       "3    0.000060      4     LYS    -13.596000 -2.251   3.606000  \n",
       "4    0.000048      5     ARG  E -11.538000  0.689   4.990000  \n",
       "..        ...    ...     ... ..        ...    ...        ...  \n",
       "184  0.000031    185     LEU  G -10.209000  3.275 -16.399000  \n",
       "185  0.000017    186     VAL  T  -9.351000  2.656 -20.127001  \n",
       "186  0.000045    187     LEU     -6.023000  1.049 -19.145000  \n",
       "187  0.000159    188     LYS     -3.851000 -0.724 -21.711000  \n",
       "188  0.000030    189     ASP     -4.172000 -4.537 -21.431999  \n",
       "\n",
       "[189 rows x 13 columns]"
      ]
     },
     "execution_count": 4,
     "metadata": {},
     "output_type": "execute_result"
    }
   ],
   "source": [
    "dfs = pd.DataFrame(entry)\n",
    "dfs"
   ]
  },
  {
   "cell_type": "markdown",
   "id": "b690c1b9-2c1c-45a9-be6c-c49f46f33b7e",
   "metadata": {},
   "source": [
    "## Residue interface prevalence"
   ]
  },
  {
   "cell_type": "code",
   "execution_count": 5,
   "id": "fdeca5da-8024-4066-ae8b-3d1b18c448b8",
   "metadata": {},
   "outputs": [
    {
     "name": "stderr",
     "output_type": "stream",
     "text": [
      "100%|█████████████████████████████████████| 7464/7464 [00:05<00:00, 1338.79it/s]\n"
     ]
    }
   ],
   "source": [
    "# parameters\n",
    "afs_thr = 70.0\n",
    "p_thr = 0.8\n",
    "\n",
    "# extract predictions\n",
    "p_dict = {}\n",
    "for uniprot in tqdm(data):\n",
    "    entry = data[uniprot]\n",
    "    for i in range(len(entry['resname'])):\n",
    "        if entry['afs'][i] > afs_thr:\n",
    "            resname = entry['resname'][i]\n",
    "            if resname in p_dict:\n",
    "                for j in range(5):\n",
    "                    p_dict[resname][j].append(entry['p{}'.format(j)][i])\n",
    "            else:\n",
    "                p_dict[resname] = [[entry['p{}'.format(j)][i]] for j in range(5)]\n",
    "\n",
    "# extract prediction ratios per residue\n",
    "ratios = []\n",
    "for i in range(5):\n",
    "    pi_dict = {resname:p_dict[resname][i] for resname in p_dict}\n",
    "    ratio = {}\n",
    "    for resname in pi_dict:\n",
    "        ratio[resname] = np.mean(np.array(pi_dict[resname]) > p_thr)\n",
    "    ratios.append(ratio)"
   ]
  },
  {
   "cell_type": "code",
   "execution_count": 6,
   "id": "6276a652-0b4a-47af-bfcb-506b072014a8",
   "metadata": {},
   "outputs": [
    {
     "data": {
      "image/png": "[encoded data removed]",
      "text/plain": [
       "<Figure size 288x288 with 1 Axes>"
      ]
     },
     "metadata": {
      "needs_background": "light"
     },
     "output_type": "display_data"
    },
    {
     "data": {
      "image/png": "[encoded data removed]",
      "text/plain": [
       "<Figure size 288x288 with 1 Axes>"
      ]
     },
     "metadata": {
      "needs_background": "light"
     },
     "output_type": "display_data"
    },
    {
     "data": {
      "image/png": "[encoded data removed]",
      "text/plain": [
       "<Figure size 288x288 with 1 Axes>"
      ]
     },
     "metadata": {
      "needs_background": "light"
     },
     "output_type": "display_data"
    },
    {
     "data": {
      "image/png": "[encoded data removed]",
      "text/plain": [
       "<Figure size 288x288 with 1 Axes>"
      ]
     },
     "metadata": {
      "needs_background": "light"
     },
     "output_type": "display_data"
    },
    {
     "data": {
      "image/png": "[encoded data removed]",
      "text/plain": [
       "<Figure size 288x288 with 1 Axes>"
      ]
     },
     "metadata": {
      "needs_background": "light"
     },
     "output_type": "display_data"
    }
   ],
   "source": [
    "# plots\n",
    "labels = [\"protein\", \"dna/rna\", \"ion\", \"ligand\", \"lipid\"]\n",
    "for i in range(5):\n",
    "    int_ratio = pd.Series(ratios[i]).sort_values(ascending=True).to_dict()\n",
    "    x = np.array(list(int_ratio))\n",
    "    y = np.array(list(int_ratio.values()))\n",
    "    t = np.arange(x.shape[0])\n",
    "\n",
    "    plt.figure(figsize=(4,4))\n",
    "    plt.barh(t, y*1e2, color=colors[1])\n",
    "    plt.ylim(-0.5, len(t)-0.5)\n",
    "    plt.yticks(t, x)\n",
    "    plt.title(labels[i])\n",
    "    plt.xlabel(\"probability to be predicted as interface [%]\")\n",
    "    plt.tight_layout()\n",
    "    plt.savefig(\"results/residue_interface_p{}_ratio.png\".format(i), dpi=300)\n",
    "    plt.savefig(\"results/residue_interface_p{}_ratio.svg\".format(i))\n",
    "    plt.show()"
   ]
  },
  {
   "cell_type": "markdown",
   "id": "ae1ae1af-b020-4f81-90ff-e0613b12bd6d",
   "metadata": {},
   "source": [
    "* Use uniprot annotation and alphafold structures to train model for more interfaces"
   ]
  },
  {
   "cell_type": "markdown",
   "id": "12bf682b-573a-4353-94d3-99903c719967",
   "metadata": {},
   "source": [
    "### Residue activity"
   ]
  },
  {
   "cell_type": "code",
   "execution_count": 7,
   "id": "9a7ebd3f-8649-4108-9afb-4a29dcfef4c9",
   "metadata": {},
   "outputs": [
    {
     "data": {
      "image/png": "[encoded data removed]",
      "text/plain": [
       "<Figure size 288x288 with 1 Axes>"
      ]
     },
     "metadata": {
      "needs_background": "light"
     },
     "output_type": "display_data"
    }
   ],
   "source": [
    "# parameters\n",
    "p_thr = 0.8\n",
    "\n",
    "# extract global interface prediction ratio\n",
    "global_ratio = {}\n",
    "for resname in p_dict:\n",
    "    global_ratio[resname] = np.mean(np.max(np.array(p_dict[resname]), axis=0) > p_thr)\n",
    "    \n",
    "# plot\n",
    "int_ratio = pd.Series(global_ratio).sort_values(ascending=True).to_dict()\n",
    "x = np.array(list(int_ratio))\n",
    "y = np.array(list(int_ratio.values()))\n",
    "t = np.arange(x.shape[0])\n",
    "\n",
    "plt.figure(figsize=(4,4))\n",
    "plt.barh(t, y*1e2, color=colors[0])\n",
    "plt.ylim(-0.5, len(t)-0.5)\n",
    "plt.yticks(t, x)\n",
    "plt.xlabel(\"probability to be at any interfaces [%]\")\n",
    "plt.title(\"activity\")\n",
    "plt.tight_layout()\n",
    "plt.savefig(\"results/residue_interface_global_ratio.png\", dpi=300)\n",
    "plt.savefig(\"results/residue_interface_global_ratio.svg\")\n",
    "plt.show()"
   ]
  },
  {
   "cell_type": "markdown",
   "id": "1efd5bb1-7f39-47bc-9842-e51fce530efd",
   "metadata": {},
   "source": [
    "* water interface model to quantify hydrophobicity"
   ]
  },
  {
   "cell_type": "markdown",
   "id": "f603e316-4d73-4845-b21d-b4e9b0efd393",
   "metadata": {},
   "source": [
    "## Interface composition\n",
    "* positive: ARG, HIS, LYS\n",
    "* negative: ASP, GLU\n",
    "* polar: SER, THR, ASN, GLN\n",
    "* nonpolar: ALA, VAL, ILE, LEU, MET, PHE, TYR, TRP\n",
    "* special: CYS, GLY, PRO"
   ]
  },
  {
   "cell_type": "code",
   "execution_count": 8,
   "id": "df83397e-2ef3-40f4-9135-3e06b60df781",
   "metadata": {},
   "outputs": [],
   "source": [
    "compo_types = {\n",
    "    'charged': ['ARG', 'HIS', 'LYS', 'ASP', 'GLU'],\n",
    "    'polar': ['SER', 'THR', 'ASN', 'GLN'],\n",
    "    'hydrophobic': ['ALA', 'VAL', 'ILE', 'LEU', 'MET', 'PHE', 'TYR'],\n",
    "    'special': ['CYS', 'GLY', 'PRO'],\n",
    "}"
   ]
  },
  {
   "cell_type": "code",
   "execution_count": 9,
   "id": "82e4d4a1-4051-43e1-9710-7a963a3a5aa3",
   "metadata": {},
   "outputs": [
    {
     "name": "stderr",
     "output_type": "stream",
     "text": [
      "100%|██████████████████████████████████████| 7464/7464 [00:22<00:00, 325.51it/s]\n"
     ]
    }
   ],
   "source": [
    "# parameters\n",
    "afs_thr = 70.0\n",
    "p_thr = 0.8\n",
    "\n",
    "# extract predictions\n",
    "compo_dict = {key:[0 for i in range(5)] for key in compo_types}\n",
    "for uniprot in tqdm(data):\n",
    "    entry = data[uniprot]\n",
    "    for i in range(len(entry['resname'])):\n",
    "        if entry['afs'][i] > afs_thr:\n",
    "            resname = entry['resname'][i]\n",
    "            for key in compo_types:\n",
    "                if resname in compo_types[key]:\n",
    "                    for k in range(5):\n",
    "                        if entry['p{}'.format(k)][i] > p_thr:\n",
    "                            compo_dict[key][k] += 1"
   ]
  },
  {
   "cell_type": "code",
   "execution_count": 10,
   "id": "05646bb7-089e-4f25-9804-9033ad0afe02",
   "metadata": {},
   "outputs": [
    {
     "data": {
      "image/png": "[encoded data removed]",
      "text/plain": [
       "<Figure size 432x288 with 1 Axes>"
      ]
     },
     "metadata": {
      "needs_background": "light"
     },
     "output_type": "display_data"
    }
   ],
   "source": [
    "C = pd.DataFrame(compo_dict).values\n",
    "H = C / np.sum(C, axis=1).reshape(-1,1)\n",
    "Hs = np.concatenate([np.zeros((H.shape[0],1)),np.cumsum(H, axis=1)], axis=1)\n",
    "t = np.arange(H.shape[0])\n",
    "x = [\"protein\", \"dna/rna\", \"ion\", \"ligand\", \"lipid\"]\n",
    "\n",
    "# plot\n",
    "plt.figure()\n",
    "for i in range(H.shape[1]):\n",
    "    plt.bar(t, H[:,i], bottom=Hs[:,i], label=list(compo_types)[i], color=colors[i])\n",
    "plt.xticks(np.linspace(0.0, t.shape[0]-1.0, t.shape[0]), x)\n",
    "plt.xlim(-0.5, t.shape[0]-0.5)\n",
    "plt.ylim(0.0, 1.0)\n",
    "plt.ylabel('predicted interfaces composition')\n",
    "plt.legend(loc='center right', bbox_to_anchor=(1.5, 0.5))\n",
    "plt.tight_layout()\n",
    "plt.savefig(\"results/interfaces_composition.png\", dpi=300)\n",
    "plt.savefig(\"results/interfaces_composition.svg\")\n",
    "plt.show()"
   ]
  },
  {
   "cell_type": "markdown",
   "id": "ba1f296c-3cd9-4301-9a98-1f9659cdfb79",
   "metadata": {},
   "source": [
    "## Secondary structure"
   ]
  },
  {
   "cell_type": "code",
   "execution_count": 11,
   "id": "00f1133a-e035-403e-92bc-f030b7923a02",
   "metadata": {},
   "outputs": [
    {
     "name": "stderr",
     "output_type": "stream",
     "text": [
      "100%|█████████████████████████████████████| 7464/7464 [00:05<00:00, 1398.71it/s]\n"
     ]
    }
   ],
   "source": [
    "# parameters\n",
    "afs_thr = 70.0\n",
    "p_thr = 0.8\n",
    "ss_dict = {\n",
    "    'H' : \"helix\",\n",
    "    'B' : \"strand\",\n",
    "    'E' : \"strand\",\n",
    "    'G' : \"helix\",\n",
    "    'I' : \"helix\",\n",
    "    'T' : \"coil\",\n",
    "    'S' : \"coil\",\n",
    "    ' ' : \"coil\"\n",
    "}\n",
    "\n",
    "# extract predictions\n",
    "p_dict = {}\n",
    "for uniprot in tqdm(data):\n",
    "    entry = data[uniprot]\n",
    "    for i in range(len(entry['ss'])):\n",
    "        if entry['afs'][i] > afs_thr:\n",
    "            #ss = entry['ss'][i]\n",
    "            ss = ss_dict[entry['ss'][i]]\n",
    "            if ss in p_dict:\n",
    "                for j in range(5):\n",
    "                    p_dict[ss][j].append(entry['p{}'.format(j)][i])\n",
    "            else:\n",
    "                p_dict[ss] = [[entry['p{}'.format(j)][i]] for j in range(5)]\n",
    "\n",
    "# extract prediction ratios per residue\n",
    "ratios = []\n",
    "for i in range(5):\n",
    "    pi_dict = {resname:p_dict[resname][i] for resname in p_dict}\n",
    "    ratio = {}\n",
    "    for resname in pi_dict:\n",
    "        ratio[resname] = np.mean(np.array(pi_dict[resname]) > p_thr)\n",
    "    ratios.append(ratio)"
   ]
  },
  {
   "cell_type": "code",
   "execution_count": 12,
   "id": "be2708b5-a65e-4562-b9fd-26a553446aa5",
   "metadata": {},
   "outputs": [
    {
     "data": {
      "image/png": "[encoded data removed]",
      "text/plain": [
       "<Figure size 216x144 with 1 Axes>"
      ]
     },
     "metadata": {
      "needs_background": "light"
     },
     "output_type": "display_data"
    },
    {
     "data": {
      "image/png": "[encoded data removed]",
      "text/plain": [
       "<Figure size 216x144 with 1 Axes>"
      ]
     },
     "metadata": {
      "needs_background": "light"
     },
     "output_type": "display_data"
    },
    {
     "data": {
      "image/png": "[encoded data removed]",
      "text/plain": [
       "<Figure size 216x144 with 1 Axes>"
      ]
     },
     "metadata": {
      "needs_background": "light"
     },
     "output_type": "display_data"
    },
    {
     "data": {
      "image/png": "[encoded data removed]",
      "text/plain": [
       "<Figure size 216x144 with 1 Axes>"
      ]
     },
     "metadata": {
      "needs_background": "light"
     },
     "output_type": "display_data"
    },
    {
     "data": {
      "image/png": "[encoded data removed]",
      "text/plain": [
       "<Figure size 216x144 with 1 Axes>"
      ]
     },
     "metadata": {
      "needs_background": "light"
     },
     "output_type": "display_data"
    }
   ],
   "source": [
    "# plots\n",
    "labels = [\"protein\", \"dna/rna\", \"ion\", \"ligand\", \"lipid\"]\n",
    "ss_dict = {\n",
    "    'H' : \"Alpha helix\",\n",
    "    'B' : \"Residue in isolated beta-bridge\",\n",
    "    'E' : \"Extended strand, participates in beta ladder\",\n",
    "    'G' : \"3-helix (3/10 helix)\",\n",
    "    'I' : \"5 helix (pi helix)\",\n",
    "    'T' : \"hydrogen bonded turn\",\n",
    "    'S' : \"bend\",\n",
    "    ' ' : \"Loops and irregular elements\"\n",
    "}\n",
    "\n",
    "for i in range(5):\n",
    "    int_ratio = pd.Series(ratios[i]).sort_values(ascending=True).to_dict()\n",
    "    x = np.array(list(int_ratio))\n",
    "    y = np.array(list(int_ratio.values()))\n",
    "    t = np.arange(x.shape[0])\n",
    "\n",
    "    plt.figure(figsize=(3,2))\n",
    "    plt.barh(t, y*1e2, color=colors[1])\n",
    "    #plt.xticks(t, [ss_dict[k] for k in x], rotation=90)\n",
    "    plt.yticks(t, x)\n",
    "    plt.xlabel('probability [%]')\n",
    "    plt.title(labels[i])\n",
    "    plt.tight_layout()\n",
    "    #plt.savefig(\"results/secondary_structure_interface_p{}_ratio.png\".format(i), dpi=150)\n",
    "    #plt.savefig(\"results/secondary_structure_interface_p{}_ratio.svg\".format(i))\n",
    "    plt.show()"
   ]
  },
  {
   "cell_type": "markdown",
   "id": "bc074d39-a967-498a-97d3-48bcafd4722a",
   "metadata": {},
   "source": [
    "## Uniprot regions"
   ]
  },
  {
   "cell_type": "code",
   "execution_count": 13,
   "id": "0290d7a5-7457-4133-9943-e0e096feb7b0",
   "metadata": {},
   "outputs": [
    {
     "name": "stderr",
     "output_type": "stream",
     "text": [
      "100%|██████████████████████████████████████| 7464/7464 [00:17<00:00, 431.88it/s]\n"
     ]
    }
   ],
   "source": [
    "# parameter\n",
    "afs_thr = 70.0\n",
    "\n",
    "# aggregate predictions by annotation\n",
    "p_notes = {}\n",
    "for uniprot in tqdm(data):\n",
    "    entry = data[uniprot]\n",
    "    for i in range(len(entry['annotation'])):\n",
    "        if entry['afs'][i] > afs_thr:\n",
    "            notes = entry['annotation'][i].split(':')\n",
    "            for note in notes:\n",
    "                if note in p_notes:\n",
    "                    p_notes[note].append([entry['p{}'.format(j)][i] for j in range(5)])\n",
    "                else:\n",
    "                    p_notes[note] = [[entry['p{}'.format(j)][i] for j in range(5)]]"
   ]
  },
  {
   "cell_type": "markdown",
   "id": "4c8c00a3-f848-4f2f-aed7-e1a7aaa5a069",
   "metadata": {},
   "source": [
    "### Region coverage"
   ]
  },
  {
   "cell_type": "code",
   "execution_count": 17,
   "id": "05bd410f-7ab4-473c-9d84-7f6a75d53944",
   "metadata": {},
   "outputs": [],
   "source": [
    "# parameters\n",
    "p_thr = 0.8\n",
    "sel_tags = [\n",
    "    'Active site',\n",
    "    'Binding site',\n",
    "    'Calcium binding',\n",
    "    'DNA binding',\n",
    "    'Glycosylation',\n",
    "    'Intramembrane',\n",
    "    'Lipidation',\n",
    "    'Metal binding',\n",
    "    'Nucleotide binding',\n",
    "    'Site',\n",
    "    'Topological domain',\n",
    "    'Transmembrane',\n",
    "    'Zinc finger'\n",
    "]\n",
    "\n",
    "H = []\n",
    "for tag in sel_tags:\n",
    "    P = np.array(p_notes[tag])\n",
    "    \n",
    "    c = np.sum(P > p_thr, axis=0)\n",
    "    h = c / P.shape[0]\n",
    "    H.append(h)\n",
    "    \n",
    "H = np.array(H)"
   ]
  },
  {
   "cell_type": "code",
   "execution_count": 19,
   "id": "59cf6280-2456-47ba-aab4-062e9f9f1ee9",
   "metadata": {},
   "outputs": [
    {
     "data": {
      "image/png": "[encoded data removed]",
      "text/plain": [
       "<Figure size 504x216 with 1 Axes>"
      ]
     },
     "metadata": {
      "needs_background": "light"
     },
     "output_type": "display_data"
    },
    {
     "data": {
      "text/html": [
       "<div>\n",
       "<style scoped>\n",
       "    .dataframe tbody tr th:only-of-type {\n",
       "        vertical-align: middle;\n",
       "    }\n",
       "\n",
       "    .dataframe tbody tr th {\n",
       "        vertical-align: top;\n",
       "    }\n",
       "\n",
       "    .dataframe thead th {\n",
       "        text-align: right;\n",
       "    }\n",
       "</style>\n",
       "<table border=\"1\" class=\"dataframe\">\n",
       "  <thead>\n",
       "    <tr style=\"text-align: right;\">\n",
       "      <th></th>\n",
       "      <th>protein</th>\n",
       "      <th>nucleic acid</th>\n",
       "      <th>ion</th>\n",
       "      <th>ligand</th>\n",
       "      <th>lipid</th>\n",
       "    </tr>\n",
       "  </thead>\n",
       "  <tbody>\n",
       "    <tr>\n",
       "      <th>DNA binding</th>\n",
       "      <td>4.6</td>\n",
       "      <td>20.5</td>\n",
       "      <td>4.5</td>\n",
       "      <td>0.7</td>\n",
       "      <td>0.2</td>\n",
       "    </tr>\n",
       "    <tr>\n",
       "      <th>Zinc finger</th>\n",
       "      <td>4.3</td>\n",
       "      <td>16.2</td>\n",
       "      <td>29.6</td>\n",
       "      <td>0.6</td>\n",
       "      <td>0.2</td>\n",
       "    </tr>\n",
       "    <tr>\n",
       "      <th>Metal binding</th>\n",
       "      <td>4.9</td>\n",
       "      <td>2.1</td>\n",
       "      <td>25.3</td>\n",
       "      <td>6.2</td>\n",
       "      <td>2.2</td>\n",
       "    </tr>\n",
       "    <tr>\n",
       "      <th>Calcium binding</th>\n",
       "      <td>5.9</td>\n",
       "      <td>0.3</td>\n",
       "      <td>68.9</td>\n",
       "      <td>0.1</td>\n",
       "      <td>0.3</td>\n",
       "    </tr>\n",
       "    <tr>\n",
       "      <th>Nucleotide binding</th>\n",
       "      <td>3.7</td>\n",
       "      <td>0.7</td>\n",
       "      <td>9.9</td>\n",
       "      <td>53.8</td>\n",
       "      <td>0.3</td>\n",
       "    </tr>\n",
       "    <tr>\n",
       "      <th>Binding site</th>\n",
       "      <td>6.5</td>\n",
       "      <td>1.2</td>\n",
       "      <td>2.6</td>\n",
       "      <td>17.8</td>\n",
       "      <td>1.9</td>\n",
       "    </tr>\n",
       "    <tr>\n",
       "      <th>Active site</th>\n",
       "      <td>5.0</td>\n",
       "      <td>1.5</td>\n",
       "      <td>8.5</td>\n",
       "      <td>8.7</td>\n",
       "      <td>1.7</td>\n",
       "    </tr>\n",
       "    <tr>\n",
       "      <th>Glycosylation</th>\n",
       "      <td>4.5</td>\n",
       "      <td>0.5</td>\n",
       "      <td>1.1</td>\n",
       "      <td>2.4</td>\n",
       "      <td>1.9</td>\n",
       "    </tr>\n",
       "    <tr>\n",
       "      <th>Site</th>\n",
       "      <td>9.2</td>\n",
       "      <td>2.7</td>\n",
       "      <td>2.4</td>\n",
       "      <td>5.4</td>\n",
       "      <td>8.1</td>\n",
       "    </tr>\n",
       "    <tr>\n",
       "      <th>Lipidation</th>\n",
       "      <td>21.6</td>\n",
       "      <td>0.6</td>\n",
       "      <td>1.8</td>\n",
       "      <td>0.0</td>\n",
       "      <td>19.8</td>\n",
       "    </tr>\n",
       "    <tr>\n",
       "      <th>Intramembrane</th>\n",
       "      <td>22.5</td>\n",
       "      <td>0.8</td>\n",
       "      <td>7.3</td>\n",
       "      <td>0.5</td>\n",
       "      <td>28.7</td>\n",
       "    </tr>\n",
       "    <tr>\n",
       "      <th>Transmembrane</th>\n",
       "      <td>6.4</td>\n",
       "      <td>0.0</td>\n",
       "      <td>0.6</td>\n",
       "      <td>0.4</td>\n",
       "      <td>48.1</td>\n",
       "    </tr>\n",
       "    <tr>\n",
       "      <th>Topological domain</th>\n",
       "      <td>5.5</td>\n",
       "      <td>0.6</td>\n",
       "      <td>0.8</td>\n",
       "      <td>1.4</td>\n",
       "      <td>7.7</td>\n",
       "    </tr>\n",
       "  </tbody>\n",
       "</table>\n",
       "</div>"
      ],
      "text/plain": [
       "                    protein  nucleic acid   ion  ligand  lipid\n",
       "DNA binding             4.6          20.5   4.5     0.7    0.2\n",
       "Zinc finger             4.3          16.2  29.6     0.6    0.2\n",
       "Metal binding           4.9           2.1  25.3     6.2    2.2\n",
       "Calcium binding         5.9           0.3  68.9     0.1    0.3\n",
       "Nucleotide binding      3.7           0.7   9.9    53.8    0.3\n",
       "Binding site            6.5           1.2   2.6    17.8    1.9\n",
       "Active site             5.0           1.5   8.5     8.7    1.7\n",
       "Glycosylation           4.5           0.5   1.1     2.4    1.9\n",
       "Site                    9.2           2.7   2.4     5.4    8.1\n",
       "Lipidation             21.6           0.6   1.8     0.0   19.8\n",
       "Intramembrane          22.5           0.8   7.3     0.5   28.7\n",
       "Transmembrane           6.4           0.0   0.6     0.4   48.1\n",
       "Topological domain      5.5           0.6   0.8     1.4    7.7"
      ]
     },
     "execution_count": 19,
     "metadata": {},
     "output_type": "execute_result"
    }
   ],
   "source": [
    "#from theme import colors\n",
    "colors = ['#bf4e30', '#0d3b66', '#0e9595', '#c2c1c2', '#dbad6a']\n",
    "labels = [\"protein\", \"nucleic acid\", \"ion\", \"ligand\", \"lipid\"]\n",
    "ordered_features = [\n",
    "    'DNA binding',\n",
    "    'Zinc finger',\n",
    "    'Metal binding',\n",
    "    'Calcium binding',\n",
    "    'Nucleotide binding',\n",
    "    'Binding site',\n",
    "    'Active site',\n",
    "    'Glycosylation',\n",
    "    'Site',\n",
    "    'Lipidation',\n",
    "    'Intramembrane',\n",
    "    'Transmembrane',\n",
    "    'Topological domain',\n",
    "]\n",
    "ids = np.array([np.where(t == np.array(sel_tags))[0].item() for t in ordered_features])[::-1]\n",
    "\n",
    "Ho = np.stack([H[ids,i] for i in range(5)], axis=1)\n",
    "iO = np.argsort(Ho, axis=1)[:,::-1]\n",
    "So = np.sort(Ho, axis=1)[:,::-1]\n",
    "Zo = np.cumsum(So, axis=1) - So\n",
    "\n",
    "t = np.arange(Ho.shape[0])\n",
    "x = np.array(ordered_features)\n",
    "\n",
    "plt.figure(figsize=(7,3))\n",
    "for i in range(5):\n",
    "    plt.barh(t, Ho[:,i]*1e2, left=Zo[np.where(iO == i)[0], np.where(iO == i)[1]]*1e2, label=labels[i], color=colors[i])\n",
    "\n",
    "plt.ylim(-0.5, len(t)-0.5)\n",
    "plt.xlim(0.0, np.max(np.sum(Ho, axis=1))*1e2)\n",
    "plt.legend(bbox_to_anchor=(0.99, 0.5))\n",
    "plt.yticks(t, x[::-1])\n",
    "plt.xlabel(\"annotated interfaces [%]\")\n",
    "plt.tight_layout()\n",
    "plt.savefig(\"results/annotation_coverage_all.png\", dpi=300)\n",
    "plt.savefig(\"results/annotation_coverage_all.svg\")\n",
    "plt.show()\n",
    "\n",
    "dfs = pd.DataFrame(np.round(1e2*Ho[::-1],1), index=ordered_features, columns=labels)\n",
    "dfs.to_csv(\"results/annotation_coverage_all.csv\")\n",
    "dfs"
   ]
  },
  {
   "cell_type": "code",
   "execution_count": null,
   "id": "ea98bcca-a406-4273-912c-7da7e1556f92",
   "metadata": {},
   "outputs": [],
   "source": []
  },
  {
   "cell_type": "code",
   "execution_count": null,
   "id": "7acd70ab-acd4-49a5-90e8-0ecc6291eca9",
   "metadata": {},
   "outputs": [],
   "source": []
  },
  {
   "cell_type": "code",
   "execution_count": null,
   "id": "a3f13c34-1c43-432d-b3f0-e5980bf13630",
   "metadata": {},
   "outputs": [],
   "source": []
  }
 ],
 "metadata": {
  "kernelspec": {
   "display_name": "pesto",
   "language": "python",
   "name": "pesto"
  },
  "language_info": {
   "codemirror_mode": {
    "name": "ipython",
    "version": 3
   },
   "file_extension": ".py",
   "mimetype": "text/x-python",
   "name": "python",
   "nbconvert_exporter": "python",
   "pygments_lexer": "ipython3",
   "version": "3.9.12"
  }
 },
 "nbformat": 4,
 "nbformat_minor": 5
}
