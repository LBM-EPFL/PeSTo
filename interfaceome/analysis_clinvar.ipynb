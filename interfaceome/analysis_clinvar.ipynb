{
 "cells": [
  {
   "cell_type": "code",
   "execution_count": 1,
   "id": "453a66c2-c7b3-4f4f-a00c-d1311fcb47dd",
   "metadata": {},
   "outputs": [],
   "source": [
    "import re\n",
    "import h5py\n",
    "import json\n",
    "import numpy as np\n",
    "import pandas as pd\n",
    "import matplotlib.pyplot as plt\n",
    "from tqdm import tqdm\n",
    "\n",
    "from structures_store import h5_load_structure"
   ]
  },
  {
   "cell_type": "code",
   "execution_count": 2,
   "id": "804937b9-9ec2-4136-8ecb-726f52fb16a0",
   "metadata": {},
   "outputs": [],
   "source": [
    "# uniprot with interfaces\n",
    "df = pd.read_csv(\"datasets/curated_interfaces_with_uniprot_human.csv\").fillna(\"\")\n",
    "\n",
    "# variants data\n",
    "dfv = pd.read_csv(\"datasets/variant_summary.txt\", sep='\\t')"
   ]
  },
  {
   "cell_type": "code",
   "execution_count": 3,
   "id": "4bf9aa63-14f2-4f4a-8e2b-c2bedd56bc73",
   "metadata": {},
   "outputs": [],
   "source": [
    "# global parameters\n",
    "mpi_thr_l = [0.5, 0.8]"
   ]
  },
  {
   "cell_type": "markdown",
   "id": "580e3434-b6de-4a11-b43e-4a88ceceb24d",
   "metadata": {},
   "source": [
    "## 1. Mutations"
   ]
  },
  {
   "cell_type": "code",
   "execution_count": 4,
   "id": "489c2585-b62e-487f-89ea-615e5c137fd6",
   "metadata": {},
   "outputs": [
    {
     "name": "stdout",
     "output_type": "stream",
     "text": [
      "mpi_thr = 0.50\n"
     ]
    },
    {
     "data": {
      "text/plain": [
       "           4648\n",
       "ligand     2814\n",
       "ion        2036\n",
       "protein    1621\n",
       "lipid      1014\n",
       "dna/rna     611\n",
       "Name: itype, dtype: int64"
      ]
     },
     "metadata": {},
     "output_type": "display_data"
    },
    {
     "data": {
      "text/plain": [
       "           0.364721\n",
       "ligand     0.220810\n",
       "ion        0.159761\n",
       "protein    0.127197\n",
       "lipid      0.079567\n",
       "dna/rna    0.047944\n",
       "Name: itype, dtype: float64"
      ]
     },
     "metadata": {},
     "output_type": "display_data"
    },
    {
     "name": "stdout",
     "output_type": "stream",
     "text": [
      "overlap probability: 63.5%\n",
      "mpi_thr = 0.80\n"
     ]
    },
    {
     "data": {
      "text/plain": [
       "           4648\n",
       "ion        1053\n",
       "ligand     1034\n",
       "protein    1007\n",
       "lipid       651\n",
       "dna/rna     344\n",
       "Name: itype, dtype: int64"
      ]
     },
     "metadata": {},
     "output_type": "display_data"
    },
    {
     "data": {
      "text/plain": [
       "           0.531990\n",
       "ion        0.120522\n",
       "ligand     0.118347\n",
       "protein    0.115257\n",
       "lipid      0.074511\n",
       "dna/rna    0.039373\n",
       "Name: itype, dtype: float64"
      ]
     },
     "metadata": {},
     "output_type": "display_data"
    },
    {
     "name": "stdout",
     "output_type": "stream",
     "text": [
      "overlap probability: 46.8%\n"
     ]
    }
   ],
   "source": [
    "# parameters\n",
    "sel_ftypes = ['mutagenesis site']\n",
    "\n",
    "p_mut_l = []\n",
    "for mpi_thr in mpi_thr_l:\n",
    "    print(\"mpi_thr = {:.2f}\".format(mpi_thr))\n",
    "    \n",
    "    # select by feature type\n",
    "    dfs = df[df['ftype'].isin(sel_ftypes)]\n",
    "\n",
    "    # select high quality predictions\n",
    "    dfs = dfs[(dfs['mpi'] > mpi_thr) | (dfs['mpi'] < 0)]\n",
    "\n",
    "    # display\n",
    "    display(dfs['itype'].value_counts())\n",
    "    display(dfs['itype'].value_counts(normalize=True))\n",
    "    print(\"overlap probability: {:.1f}%\".format(1e2*(1.0 - dfs['itype'].value_counts(normalize=True)[''])))\n",
    "    p_mut_l.append(1e2*(1.0 - dfs['itype'].value_counts(normalize=True)['']))"
   ]
  },
  {
   "cell_type": "markdown",
   "id": "fdf9fa77-2297-4c4a-b8d1-1c7f8314b771",
   "metadata": {},
   "source": [
    "## 2 Sequence variant with ClinVar from dbSNP"
   ]
  },
  {
   "cell_type": "code",
   "execution_count": 5,
   "id": "56072bd4-9021-470a-8f6f-95ff66426ba7",
   "metadata": {},
   "outputs": [
    {
     "name": "stdout",
     "output_type": "stream",
     "text": [
      "mpi_thr = 0.50\n"
     ]
    },
    {
     "name": "stderr",
     "output_type": "stream",
     "text": [
      "100%|███████████████████████████████████████████████████████████████████████████████████████████████████████████████████████████████████████████████████████████████████████████████████████████████████| 32502/32502 [00:06<00:00, 4944.48it/s]\n"
     ]
    },
    {
     "data": {
      "text/plain": [
       "           2633\n",
       "ligand      592\n",
       "protein     502\n",
       "lipid       425\n",
       "ion         309\n",
       "dna/rna      80\n",
       "Name: itype, dtype: int64"
      ]
     },
     "metadata": {},
     "output_type": "display_data"
    },
    {
     "data": {
      "text/plain": [
       "           0.579828\n",
       "ligand     0.130368\n",
       "protein    0.110548\n",
       "lipid      0.093592\n",
       "ion        0.068047\n",
       "dna/rna    0.017617\n",
       "Name: itype, dtype: float64"
      ]
     },
     "metadata": {},
     "output_type": "display_data"
    },
    {
     "name": "stdout",
     "output_type": "stream",
     "text": [
      "overlap probability: 42.0%\n"
     ]
    },
    {
     "data": {
      "text/plain": [
       "           238\n",
       "lipid       36\n",
       "protein     22\n",
       "ligand      16\n",
       "ion          7\n",
       "dna/rna      3\n",
       "Name: itype, dtype: int64"
      ]
     },
     "metadata": {},
     "output_type": "display_data"
    },
    {
     "data": {
      "text/plain": [
       "           0.739130\n",
       "lipid      0.111801\n",
       "protein    0.068323\n",
       "ligand     0.049689\n",
       "ion        0.021739\n",
       "dna/rna    0.009317\n",
       "Name: itype, dtype: float64"
      ]
     },
     "metadata": {},
     "output_type": "display_data"
    },
    {
     "name": "stdout",
     "output_type": "stream",
     "text": [
      "overlap probability: 26.1%\n",
      "mpi_thr = 0.80\n"
     ]
    },
    {
     "name": "stderr",
     "output_type": "stream",
     "text": [
      "100%|███████████████████████████████████████████████████████████████████████████████████████████████████████████████████████████████████████████████████████████████████████████████████████████████████| 24979/24979 [00:05<00:00, 4658.34it/s]\n"
     ]
    },
    {
     "data": {
      "text/plain": [
       "           2633\n",
       "protein     331\n",
       "lipid       282\n",
       "ligand      262\n",
       "ion          99\n",
       "dna/rna      40\n",
       "Name: itype, dtype: int64"
      ]
     },
     "metadata": {},
     "output_type": "display_data"
    },
    {
     "data": {
      "text/plain": [
       "           0.721963\n",
       "protein    0.090760\n",
       "lipid      0.077324\n",
       "ligand     0.071840\n",
       "ion        0.027146\n",
       "dna/rna    0.010968\n",
       "Name: itype, dtype: float64"
      ]
     },
     "metadata": {},
     "output_type": "display_data"
    },
    {
     "name": "stdout",
     "output_type": "stream",
     "text": [
      "overlap probability: 27.8%\n"
     ]
    },
    {
     "data": {
      "text/plain": [
       "           238\n",
       "lipid       18\n",
       "protein     14\n",
       "ligand       4\n",
       "ion          2\n",
       "dna/rna      1\n",
       "Name: itype, dtype: int64"
      ]
     },
     "metadata": {},
     "output_type": "display_data"
    },
    {
     "data": {
      "text/plain": [
       "           0.859206\n",
       "lipid      0.064982\n",
       "protein    0.050542\n",
       "ligand     0.014440\n",
       "ion        0.007220\n",
       "dna/rna    0.003610\n",
       "Name: itype, dtype: float64"
      ]
     },
     "metadata": {},
     "output_type": "display_data"
    },
    {
     "name": "stdout",
     "output_type": "stream",
     "text": [
      "overlap probability: 14.1%\n"
     ]
    }
   ],
   "source": [
    "# parameters\n",
    "sel_ftypes = ['sequence variant']\n",
    "\n",
    "p_pathogenic_l = []\n",
    "p_benign_l = []\n",
    "for mpi_thr in mpi_thr_l:\n",
    "    print(\"mpi_thr = {:.2f}\".format(mpi_thr))\n",
    "    \n",
    "    # select by feature type\n",
    "    dfs = df[df['ftype'].isin(sel_ftypes)]\n",
    "\n",
    "    # select high quality predictions\n",
    "    dfs = dfs[(dfs['mpi'] > mpi_thr) | (dfs['mpi'] < 0)]\n",
    "\n",
    "    # extract clinvars\n",
    "    descs = dfs['desc'].values\n",
    "    clinvars_l = []\n",
    "    for desc in tqdm(descs):\n",
    "        var_ids = [int(i) for i in re.findall(r\"dbSNP:rs([0-9]*)\", desc)]\n",
    "\n",
    "        clinvars_all = []\n",
    "        for var_id in var_ids:\n",
    "            clinvars = dfv[dfv['RS# (dbSNP)'] == var_id]['ClinicalSignificance']\n",
    "            for clinvar in clinvars:\n",
    "                clinvars_all.append(clinvar)\n",
    "\n",
    "        clinvars_l.append(';'.join(np.unique(clinvars_all)))\n",
    "\n",
    "    # pack into dataframe\n",
    "    dfs['clinvar'] = clinvars_l\n",
    "\n",
    "    # PATHOGENIC\n",
    "    key_words = [\n",
    "        'Likely pathogenic', 'Likely pathogenic, Affects',\n",
    "        'Likely pathogenic, other', 'Likely pathogenic, risk factor',\n",
    "        'Pathogenic', 'Pathogenic, Affects', 'Pathogenic, drug response',\n",
    "        'Pathogenic, other', 'Pathogenic, risk factor',\n",
    "        'Pathogenic/Likely pathogenic',\n",
    "        'Pathogenic/Likely pathogenic, drug response',\n",
    "        'Pathogenic/Likely pathogenic, other',\n",
    "        'Pathogenic/Likely pathogenic, risk factor'\n",
    "    ]\n",
    "\n",
    "    m = np.array([np.any(np.isin(key_words, v.split(';'))) for v in dfs['clinvar'].values])\n",
    "    #m = np.any(np.stack([(dfs['clinvar'].values == kw) for kw in key_words], axis=1), axis=1)\n",
    "    dfs0 = dfs[m]\n",
    "\n",
    "    display(dfs0['itype'].value_counts())\n",
    "    display(dfs0['itype'].value_counts(normalize=True))\n",
    "    print(\"overlap probability: {:.1f}%\".format(1e2*(1.0 - dfs0['itype'].value_counts(normalize=True)[''])))\n",
    "    p_pathogenic_l.append(1e2*(1.0 - dfs0['itype'].value_counts(normalize=True)['']))\n",
    "\n",
    "    # BENIGN\n",
    "    key_words = [\n",
    "        'Benign', 'Benign, confers sensitivity', 'Benign, other',\n",
    "        'Benign, risk factor', 'Benign/Likely benign',\n",
    "        'Benign/Likely benign, other', 'Benign/Likely benign, risk factor',\n",
    "        'Likely benign', 'Likely benign, drug response, other',\n",
    "        'Likely benign, other'\n",
    "    ]\n",
    "\n",
    "    m = np.array([np.any(np.isin(key_words, v.split(';'))) for v in dfs['clinvar'].values])\n",
    "    #m = np.any(np.stack([(dfs['clinvar'].values == kw) for kw in key_words], axis=1), axis=1)\n",
    "    dfs0 = dfs[m]\n",
    "\n",
    "    display(dfs0['itype'].value_counts())\n",
    "    display(dfs0['itype'].value_counts(normalize=True))\n",
    "    print(\"overlap probability: {:.1f}%\".format(1e2*(1.0 - dfs0['itype'].value_counts(normalize=True)[''])))\n",
    "    p_benign_l.append(1e2*(1.0 - dfs0['itype'].value_counts(normalize=True)['']))"
   ]
  },
  {
   "cell_type": "code",
   "execution_count": 6,
   "id": "26a8afbe-2b85-421f-9feb-2b4838894cca",
   "metadata": {},
   "outputs": [
    {
     "data": {
      "image/png": "[encoded data removed]",
      "text/plain": [
       "<Figure size 288x144 with 1 Axes>"
      ]
     },
     "metadata": {
      "needs_background": "light"
     },
     "output_type": "display_data"
    }
   ],
   "source": [
    "#from theme import colors\n",
    "colors = ['#bf4e30', '#0d3b66', '#0e9595', '#dbad6a']\n",
    "p_vals = np.array([p_benign_l, p_pathogenic_l, p_mut_l])\n",
    "\n",
    "plt.figure(figsize=(4,2))\n",
    "for i in range(p_vals.shape[1]):\n",
    "    plt.barh(np.array([0,1,2])-0.4*i+0.2, p_vals[:,i], height=0.4, color=colors[i], label=['all','quality'][i])\n",
    "    for k, v in enumerate(p_vals[:,i]):\n",
    "        plt.text(v+8.0, k-0.4*i+0.2, '{:.0f}%'.format(v), horizontalalignment='center', verticalalignment='center')\n",
    "plt.xlim(0.0, 100.0)\n",
    "plt.ylim([-0.5, 2.5])\n",
    "plt.legend(loc='best')\n",
    "plt.yticks([0,1,2], ['benign','pathogenic','mutation site'])\n",
    "plt.xlabel('probability to be within any interfaces [%]')\n",
    "plt.tight_layout()\n",
    "plt.savefig(\"results/overlapping_variants_both.png\", dpi=300)\n",
    "plt.savefig(\"results/overlapping_variants_both.svg\")\n",
    "plt.show()"
   ]
  },
  {
   "cell_type": "code",
   "execution_count": 7,
   "id": "6516f080-0bc0-4b9c-bdc8-c2983e47bd17",
   "metadata": {},
   "outputs": [
    {
     "data": {
      "image/png": "[encoded data removed]",
      "text/plain": [
       "<Figure size 230.4x108 with 1 Axes>"
      ]
     },
     "metadata": {
      "needs_background": "light"
     },
     "output_type": "display_data"
    }
   ],
   "source": [
    "#from theme import colors\n",
    "colors = ['#bf4e30', '#0d3b66', '#0e9595', '#dbad6a']\n",
    "p_vals = np.array([p_benign_l, p_pathogenic_l, p_mut_l])[:,1]\n",
    "\n",
    "plt.figure(figsize=(3.2,1.5))\n",
    "plt.barh([0,1,2], p_vals, color=colors[1])\n",
    "for k, v in enumerate(p_vals):\n",
    "    plt.text(v+7.0, k, '{:.0f}%'.format(v), horizontalalignment='center', verticalalignment='center')\n",
    "plt.xlim(0.0, 65.0)\n",
    "plt.ylim([-0.5, 2.5])\n",
    "plt.yticks([0,1,2], ['benign','pathogenic','mutation site'])\n",
    "plt.xlabel('within interfaces [%]')\n",
    "plt.tight_layout()\n",
    "plt.savefig(\"results/overlapping_variants_quality.png\", dpi=300)\n",
    "plt.savefig(\"results/overlapping_variants_quality.svg\")\n",
    "plt.show()"
   ]
  },
  {
   "cell_type": "code",
   "execution_count": 8,
   "id": "0b2ad7ea-ead8-4525-9c0f-b70063e35748",
   "metadata": {},
   "outputs": [
    {
     "name": "stderr",
     "output_type": "stream",
     "text": [
      "100%|██████████████████████████████████████████████████████████████████████████████████████████████████████████████████████████████████████████████████████████████████████████████████████████████████████| 7444/7444 [00:29<00:00, 248.27it/s]\n"
     ]
    }
   ],
   "source": [
    "# aggregated structures\n",
    "structures = {}\n",
    "with h5py.File(\"datasets/aggregated_structures_data.h5\", 'r') as hf:\n",
    "    #for uniprot in tqdm(hf.keys()):\n",
    "    for uniprot in tqdm(df['uniprot'].unique()):\n",
    "        structures[uniprot] = h5_load_structure(hf[uniprot])"
   ]
  },
  {
   "cell_type": "code",
   "execution_count": 9,
   "id": "59ae5bbd-f188-4df4-8e45-2ac1545fef52",
   "metadata": {},
   "outputs": [],
   "source": [
    "# clustered interfaces\n",
    "multi_interfaces_dict = json.load(open(\"datasets/clustered_multi_interfaces.json\", 'r'))"
   ]
  },
  {
   "cell_type": "code",
   "execution_count": 10,
   "id": "369c0404-e988-4e13-8648-ca1c708d96e1",
   "metadata": {},
   "outputs": [
    {
     "name": "stderr",
     "output_type": "stream",
     "text": [
      "100%|█████████████████████████████████████████████████████████████████████████████████████████████████████████████████████████████████████████████████████████████████████████████████████████████████████| 7444/7444 [00:01<00:00, 4748.33it/s]\n"
     ]
    }
   ],
   "source": [
    "# parameters\n",
    "p_thr = 0.8\n",
    "labels_map = {\"protein\":\"p0\", \"dna/rna\":\"p1\", \"ion\":\"p2\", \"ligand\":\"p3\", \"lipid\":\"p4\"}\n",
    "itypes_sel = [\"protein\", \"dna/rna\", \"ion\", \"ligand\", \"lipid\"]\n",
    "\n",
    "# select quality interfaces only\n",
    "multi_interfaces_quality_dict = {}\n",
    "for uniprot in tqdm(structures):\n",
    "    multi_interfaces_quality_dict[uniprot] = {itype:[] for itype in multi_interfaces_dict[uniprot]}\n",
    "    for itype in multi_interfaces_dict[uniprot]:\n",
    "        if itype in itypes_sel:\n",
    "            for ids_int in multi_interfaces_dict[uniprot][itype]:\n",
    "                p = np.stack([structures[uniprot][labels_map[it]][ids_int] for it in itype.split('+')], axis=1)\n",
    "                if np.all(np.mean(p, axis=0) > p_thr):\n",
    "                    multi_interfaces_quality_dict[uniprot][itype].append(ids_int)\n",
    "        else:\n",
    "            multi_interfaces_quality_dict[uniprot][itype] = multi_interfaces_dict[uniprot][itype]"
   ]
  },
  {
   "cell_type": "code",
   "execution_count": 11,
   "id": "298f3aa5-a2e9-4e73-87eb-d9ae1a73b7b9",
   "metadata": {},
   "outputs": [],
   "source": [
    "sizes = []\n",
    "for uniprot in df['uniprot'].unique():\n",
    "    Ni = np.unique(np.concatenate([sum(multi_interfaces_quality_dict[uniprot][itype],[]) for itype in multi_interfaces_quality_dict[uniprot]]).astype(int)).shape[0]\n",
    "    Na = structures[uniprot]['resid'].shape[0]\n",
    "    sizes.append([Ni, Na])\n",
    "    \n",
    "sizes = np.array(sizes)"
   ]
  },
  {
   "cell_type": "code",
   "execution_count": 12,
   "id": "85a0a88f-c279-4f5c-8bf4-aff6784efeef",
   "metadata": {},
   "outputs": [
    {
     "data": {
      "image/png": "[encoded data removed]",
      "text/plain": [
       "<Figure size 432x288 with 1 Axes>"
      ]
     },
     "metadata": {
      "needs_background": "light"
     },
     "output_type": "display_data"
    },
    {
     "name": "stdout",
     "output_type": "stream",
     "text": [
      "0.23 +- 0.20\n"
     ]
    }
   ],
   "source": [
    "r = sizes[:,0] / sizes[:,1]\n",
    "\n",
    "plt.figure()\n",
    "plt.hist(r, bins=50, range=(0,1))\n",
    "plt.xlim(0.0, 1.0)\n",
    "plt.xlabel('ratio')\n",
    "plt.ylabel('count')\n",
    "plt.show()\n",
    "\n",
    "print(\"{:.2f} +- {:.2f}\".format(np.mean(r), np.std(r)))"
   ]
  },
  {
   "cell_type": "code",
   "execution_count": 13,
   "id": "03199b9a-0603-44a5-bc54-2db691888b85",
   "metadata": {},
   "outputs": [
    {
     "data": {
      "image/png": "[encoded data removed]",
      "text/plain": [
       "<Figure size 432x288 with 1 Axes>"
      ]
     },
     "metadata": {
      "needs_background": "light"
     },
     "output_type": "display_data"
    },
    {
     "data": {
      "image/png": "[encoded data removed]",
      "text/plain": [
       "<Figure size 432x288 with 1 Axes>"
      ]
     },
     "metadata": {
      "needs_background": "light"
     },
     "output_type": "display_data"
    }
   ],
   "source": [
    "plt.figure()\n",
    "plt.plot(sizes[:,1], sizes[:,0], '.')\n",
    "plt.show()\n",
    "\n",
    "plt.figure()\n",
    "plt.plot(sizes[:,1], r, '.')\n",
    "plt.show()"
   ]
  },
  {
   "cell_type": "code",
   "execution_count": 14,
   "id": "c47a59eb-cfea-4d76-9817-f2eb065ca3d7",
   "metadata": {},
   "outputs": [
    {
     "data": {
      "text/plain": [
       "18.794002282807295"
      ]
     },
     "execution_count": 14,
     "metadata": {},
     "output_type": "execute_result"
    }
   ],
   "source": [
    "Ni, Na = np.sum(sizes, axis=0)\n",
    "p_random = (Ni / Na)*1e2\n",
    "p_random"
   ]
  },
  {
   "cell_type": "code",
   "execution_count": 15,
   "id": "c75bcb7f-f80c-426d-8cfe-476291e354b7",
   "metadata": {},
   "outputs": [
    {
     "data": {
      "image/png": "[encoded data removed]",
      "text/plain": [
       "<Figure size 230.4x108 with 1 Axes>"
      ]
     },
     "metadata": {
      "needs_background": "light"
     },
     "output_type": "display_data"
    }
   ],
   "source": [
    "#from theme import colors\n",
    "colors = ['#bf4e30', '#0d3b66', '#0e9595', '#dbad6a']\n",
    "p_vals = np.array([p_benign_l[1], p_pathogenic_l[1], p_mut_l[1]])\n",
    "\n",
    "plt.figure(figsize=(3.2,1.5))\n",
    "plt.barh([0], [p_random], color=colors[0])\n",
    "plt.text(p_random+7.0, 0, '{:.0f}%'.format(p_random), horizontalalignment='center', verticalalignment='center')\n",
    "plt.barh([1,2,3], p_vals, color=colors[1])\n",
    "for k, v in enumerate(p_vals):\n",
    "    plt.text(v+7.0, k+1, '{:.0f}%'.format(v), horizontalalignment='center', verticalalignment='center')\n",
    "plt.xlim(0.0, 65.0)\n",
    "plt.ylim([-0.5, 3.5])\n",
    "plt.yticks([0,1,2,3], ['random residue', 'benign','pathogenic','mutation site'])\n",
    "plt.xlabel('within interfaces [%]')\n",
    "plt.tight_layout()\n",
    "plt.savefig(\"results/overlapping_variants_quality_baseline.png\", dpi=300)\n",
    "plt.savefig(\"results/overlapping_variants_quality_baseline.svg\")\n",
    "plt.show()"
   ]
  },
  {
   "cell_type": "code",
   "execution_count": null,
   "id": "d98a034b-0fe7-4c8e-98f1-da7e2f00c7c7",
   "metadata": {},
   "outputs": [],
   "source": []
  },
  {
   "cell_type": "code",
   "execution_count": null,
   "id": "aba0a7e7-f9d0-48e5-92fe-06d49c6f2acd",
   "metadata": {},
   "outputs": [],
   "source": []
  },
  {
   "cell_type": "code",
   "execution_count": null,
   "id": "cbcb434a-07c9-4385-ac65-f1e87a335198",
   "metadata": {},
   "outputs": [],
   "source": []
  },
  {
   "cell_type": "code",
   "execution_count": null,
   "id": "593f5bff-7c11-4bad-952a-02f11523d36a",
   "metadata": {},
   "outputs": [],
   "source": []
  }
 ],
 "metadata": {
  "kernelspec": {
   "display_name": "pesto",
   "language": "python",
   "name": "pesto"
  },
  "language_info": {
   "codemirror_mode": {
    "name": "ipython",
    "version": 3
   },
   "file_extension": ".py",
   "mimetype": "text/x-python",
   "name": "python",
   "nbconvert_exporter": "python",
   "pygments_lexer": "ipython3",
   "version": "3.9.12"
  }
 },
 "nbformat": 4,
 "nbformat_minor": 5
}
