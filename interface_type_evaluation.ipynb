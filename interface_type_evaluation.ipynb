{
 "cells": [
  {
   "cell_type": "code",
   "execution_count": 1,
   "id": "87ee322a-3011-4a1b-bd30-34da1dcae861",
   "metadata": {},
   "outputs": [
    {
     "name": "stderr",
     "output_type": "stream",
     "text": [
      "/home/khaos/miniconda3/envs/pesto/lib/python3.9/site-packages/tqdm/auto.py:22: TqdmWarning: IProgress not found. Please update jupyter and ipywidgets. See https://ipywidgets.readthedocs.io/en/stable/user_install.html\n",
      "  from .autonotebook import tqdm as notebook_tqdm\n"
     ]
    }
   ],
   "source": [
    "import os\n",
    "import sys\n",
    "import h5py\n",
    "import json\n",
    "import numpy as np\n",
    "import torch as pt\n",
    "import pandas as pd\n",
    "import matplotlib.pyplot as plt\n",
    "from tqdm import tqdm\n",
    "from glob import glob\n",
    "from sklearn import metrics\n",
    "\n",
    "from matplotlib import rcParams\n",
    "rcParams['font.family'] = 'sans-serif'\n",
    "rcParams['font.sans-serif'] = ['Arial']\n",
    "rcParams['font.size'] = 14\n",
    "\n",
    "from theme import colors\n",
    "\n",
    "from src.dataset import StructuresDataset, collate_batch_features, select_by_sid, select_by_max_ba, select_by_interface_types\n",
    "from src.data_encoding import encode_structure, encode_features, extract_topology, categ_to_resnames, resname_to_categ\n",
    "from src.structure import data_to_structure, encode_bfactor\n",
    "from src.structure_io import save_pdb, read_pdb\n",
    "from src.scoring import bc_scoring, bc_score_names, nanmean"
   ]
  },
  {
   "cell_type": "code",
   "execution_count": 3,
   "id": "8f6f6382-fb61-420d-8f48-22fbe3df7af7",
   "metadata": {},
   "outputs": [],
   "source": [
    "def setup_dataset(config_data, r_types_sel):\n",
    "    # set up dataset\n",
    "    dataset = Dataset(\"datasets/contacts_rr5A_64nn_8192.h5\")\n",
    "\n",
    "    # selected structures\n",
    "    sids_sel = np.genfromtxt(\"datasets/subunits_validation_set.txt\", dtype=np.dtype('U'))\n",
    "\n",
    "    # filter dataset\n",
    "    m = select_by_sid(dataset, sids_sel) # select by sids\n",
    "    \n",
    "    # data selection criteria\n",
    "    m = select_by_sid(dataset, sids_sel) # select by sids\n",
    "    m &= select_by_max_ba(dataset, config_data['max_ba'])  # select by max assembly count\n",
    "    #m &= (dataset.sizes[:,0] <= config_data['max_size']) # select by max size\n",
    "    m &= (dataset.sizes[:,1] >= config_data['min_num_res'])  # select by min size\n",
    "    m &= select_by_interface_types(dataset, config_data['l_types'], np.concatenate(r_types_sel))  # select by interface type\n",
    "\n",
    "    # update dataset selection\n",
    "    dataset.update_mask(m)\n",
    "\n",
    "    # set dataset types\n",
    "    dataset.set_types(config_data['l_types'], config_data['r_types'])\n",
    "\n",
    "    # debug print\n",
    "    return dataset\n",
    "\n",
    "\n",
    "def eval_model(model, dataset, ids):\n",
    "    p_l, y_l = [], []\n",
    "    with pt.no_grad():\n",
    "        for i in tqdm(ids):\n",
    "            # get data\n",
    "            X, ids_topk, q, M, y = dataset[i]\n",
    "\n",
    "            # pack data and setup sink (IMPORTANT)\n",
    "            X, ids_topk, q, M = collate_batch_features([[X, ids_topk, q, M]])\n",
    "\n",
    "            # run model\n",
    "            z = model(X.to(device), ids_topk.to(device), q.to(device), M.float().to(device))\n",
    "\n",
    "            # prediction\n",
    "            p = pt.sigmoid(z)\n",
    "\n",
    "            # categorical predictions\n",
    "            pc = pt.cat([1.0 - pt.max(p, axis=1)[0].unsqueeze(1), p], axis=1).cpu()\n",
    "            yc = pt.cat([1.0 - pt.any(y > 0.5, axis=1).float().unsqueeze(1), y], axis=1).cpu()\n",
    "\n",
    "            # data\n",
    "            p_l.append(pc)\n",
    "            y_l.append(yc)\n",
    "    \n",
    "    return p_l, y_l"
   ]
  },
  {
   "cell_type": "code",
   "execution_count": 4,
   "id": "30017a08-0175-4161-90fb-b71c5d203512",
   "metadata": {},
   "outputs": [],
   "source": [
    "# model parameters\n",
    "# R2\n",
    "#save_path = \"model/save/i_v2_4_2021-03-23_11-51\"  # 85\n",
    "#save_path = \"model/save/i_v2_7_2021-05-21_17-33\"  # 89\n",
    "# R3\n",
    "#save_path = \"model/save/i_v3_0_2021-05-27_14-27\"  # 89\n",
    "# R4\n",
    "#save_path = \"model/save/i_v4_0_2021-09-07_11-20\"  # 89\n",
    "save_path = \"model/save/i_v4_1_2021-09-07_11-21\"  # 91\n",
    "\n",
    "# select saved model\n",
    "model_filepath = os.path.join(save_path, 'model_ckpt.pt')\n",
    "#model_filepath = os.path.join(save_path, 'model.pt')"
   ]
  },
  {
   "cell_type": "code",
   "execution_count": 5,
   "id": "6a129667-b2a4-4f99-96d1-bc6d73e27ff0",
   "metadata": {},
   "outputs": [],
   "source": [
    "# add module to path\n",
    "if save_path not in sys.path:\n",
    "    sys.path.insert(0, save_path)\n",
    "    \n",
    "# load functions\n",
    "from config import config_model, config_data\n",
    "from data_handler import Dataset\n",
    "from model import Model"
   ]
  },
  {
   "cell_type": "code",
   "execution_count": 6,
   "id": "bda2e286-072f-4b2e-882a-c75550f5d146",
   "metadata": {},
   "outputs": [],
   "source": [
    "# define device\n",
    "device = pt.device(\"cuda\")\n",
    "\n",
    "# create model\n",
    "model = Model(config_model)\n",
    "\n",
    "# reload model\n",
    "model.load_state_dict(pt.load(model_filepath, map_location=pt.device(\"cpu\")))\n",
    "\n",
    "# set model to inference\n",
    "model = model.eval().to(device)"
   ]
  },
  {
   "cell_type": "code",
   "execution_count": 7,
   "id": "dcf1ecd3-34c6-42b3-90e8-57c297405c23",
   "metadata": {},
   "outputs": [
    {
     "name": "stdout",
     "output_type": "stream",
     "text": [
      "['GLU', 'LEU', 'ALA', 'ASP', 'SER', 'VAL', 'GLY', 'THR', 'ARG', 'PHE', 'TYR', 'ILE', 'PRO', 'ASN', 'LYS', 'GLN', 'HIS', 'TRP', 'MET', 'CYS']\n",
      "dataset: 32905\n"
     ]
    },
    {
     "name": "stderr",
     "output_type": "stream",
     "text": [
      "100%|█████████████████████████████████████████| 512/512 [01:00<00:00,  8.48it/s]\n"
     ]
    },
    {
     "name": "stdout",
     "output_type": "stream",
     "text": [
      "['DA', 'DT', 'DG', 'DC', 'A', 'U', 'G', 'C']\n",
      "dataset: 391\n"
     ]
    },
    {
     "name": "stderr",
     "output_type": "stream",
     "text": [
      "100%|█████████████████████████████████████████| 391/391 [00:48<00:00,  8.01it/s]\n"
     ]
    },
    {
     "name": "stdout",
     "output_type": "stream",
     "text": [
      "['MG', 'ZN', 'CL', 'CA', 'NA', 'MN', 'K', 'IOD', 'CD', 'CU', 'FE', 'NI', 'SR', 'BR', 'CO', 'HG']\n",
      "dataset: 11952\n"
     ]
    },
    {
     "name": "stderr",
     "output_type": "stream",
     "text": [
      "100%|█████████████████████████████████████████| 512/512 [01:05<00:00,  7.80it/s]\n"
     ]
    },
    {
     "name": "stdout",
     "output_type": "stream",
     "text": [
      "['SO4', 'NAG', 'PO4', 'EDO', 'ACT', 'MAN', 'HEM', 'FMT', 'BMA', 'ADP', 'FAD', 'NAD', 'NO3', 'GLC', 'ATP', 'NAP', 'BGC', 'GDP', 'FUC', 'FES', 'FMN', 'GAL', 'GTP', 'PLP', 'MLI', 'ANP', 'H4B', 'AMP', 'NDP', 'SAH', 'OXY']\n",
      "dataset: 16376\n"
     ]
    },
    {
     "name": "stderr",
     "output_type": "stream",
     "text": [
      "100%|█████████████████████████████████████████| 512/512 [01:08<00:00,  7.50it/s]\n"
     ]
    },
    {
     "name": "stdout",
     "output_type": "stream",
     "text": [
      "['PLM', 'CLR', 'CDL', 'RET']\n",
      "dataset: 161\n"
     ]
    },
    {
     "name": "stderr",
     "output_type": "stream",
     "text": [
      "100%|█████████████████████████████████████████| 161/161 [00:31<00:00,  5.08it/s]\n"
     ]
    }
   ],
   "source": [
    "p_l, y_l = [], []\n",
    "for i in range(len(config_data['r_types'])):\n",
    "    # debug print\n",
    "    print(config_data['r_types'][i])\n",
    "\n",
    "    # load datasets\n",
    "    dataset = setup_dataset(config_data, [config_data['r_types'][i]])\n",
    "    print(\"dataset: {}\".format(len(dataset)))\n",
    "\n",
    "    # parameters\n",
    "    N = min(len(dataset), 512)\n",
    "\n",
    "    # run negative examples\n",
    "    ids = np.arange(len(dataset))\n",
    "    np.random.shuffle(ids)\n",
    "    pi_l, yi_l = eval_model(model, dataset, ids[:N])\n",
    "    \n",
    "    # store evaluation results\n",
    "    p_l.append(pi_l)\n",
    "    y_l.append(yi_l)"
   ]
  },
  {
   "cell_type": "markdown",
   "id": "aeedb4ea-3ace-4a52-a5d1-c6406f61edb6",
   "metadata": {},
   "source": [
    "### Seaching interface"
   ]
  },
  {
   "cell_type": "code",
   "execution_count": 8,
   "id": "e5c26260-37d5-48b8-87c7-2f1912ebe9a6",
   "metadata": {},
   "outputs": [
    {
     "data": {
      "text/html": [
       "<div>\n",
       "<style scoped>\n",
       "    .dataframe tbody tr th:only-of-type {\n",
       "        vertical-align: middle;\n",
       "    }\n",
       "\n",
       "    .dataframe tbody tr th {\n",
       "        vertical-align: top;\n",
       "    }\n",
       "\n",
       "    .dataframe thead th {\n",
       "        text-align: right;\n",
       "    }\n",
       "</style>\n",
       "<table border=\"1\" class=\"dataframe\">\n",
       "  <thead>\n",
       "    <tr style=\"text-align: right;\">\n",
       "      <th></th>\n",
       "      <th>protein</th>\n",
       "      <th>DNA/RNA</th>\n",
       "      <th>ion</th>\n",
       "      <th>ligand</th>\n",
       "      <th>lipid</th>\n",
       "    </tr>\n",
       "  </thead>\n",
       "  <tbody>\n",
       "    <tr>\n",
       "      <th>acc</th>\n",
       "      <td>0.88</td>\n",
       "      <td>0.90</td>\n",
       "      <td>0.94</td>\n",
       "      <td>0.89</td>\n",
       "      <td>0.69</td>\n",
       "    </tr>\n",
       "    <tr>\n",
       "      <th>ppv</th>\n",
       "      <td>0.73</td>\n",
       "      <td>0.46</td>\n",
       "      <td>0.39</td>\n",
       "      <td>0.35</td>\n",
       "      <td>0.12</td>\n",
       "    </tr>\n",
       "    <tr>\n",
       "      <th>npv</th>\n",
       "      <td>0.91</td>\n",
       "      <td>0.96</td>\n",
       "      <td>0.98</td>\n",
       "      <td>0.97</td>\n",
       "      <td>0.98</td>\n",
       "    </tr>\n",
       "    <tr>\n",
       "      <th>tpr</th>\n",
       "      <td>0.65</td>\n",
       "      <td>0.63</td>\n",
       "      <td>0.64</td>\n",
       "      <td>0.62</td>\n",
       "      <td>0.72</td>\n",
       "    </tr>\n",
       "    <tr>\n",
       "      <th>tnr</th>\n",
       "      <td>0.94</td>\n",
       "      <td>0.93</td>\n",
       "      <td>0.95</td>\n",
       "      <td>0.91</td>\n",
       "      <td>0.69</td>\n",
       "    </tr>\n",
       "    <tr>\n",
       "      <th>mcc</th>\n",
       "      <td>0.62</td>\n",
       "      <td>0.48</td>\n",
       "      <td>0.47</td>\n",
       "      <td>0.41</td>\n",
       "      <td>0.20</td>\n",
       "    </tr>\n",
       "    <tr>\n",
       "      <th>auc</th>\n",
       "      <td>0.91</td>\n",
       "      <td>0.89</td>\n",
       "      <td>0.87</td>\n",
       "      <td>0.86</td>\n",
       "      <td>0.77</td>\n",
       "    </tr>\n",
       "    <tr>\n",
       "      <th>std</th>\n",
       "      <td>0.32</td>\n",
       "      <td>0.28</td>\n",
       "      <td>0.20</td>\n",
       "      <td>0.24</td>\n",
       "      <td>0.38</td>\n",
       "    </tr>\n",
       "    <tr>\n",
       "      <th>F1</th>\n",
       "      <td>0.69</td>\n",
       "      <td>0.53</td>\n",
       "      <td>0.48</td>\n",
       "      <td>0.45</td>\n",
       "      <td>0.21</td>\n",
       "    </tr>\n",
       "    <tr>\n",
       "      <th>r</th>\n",
       "      <td>0.20</td>\n",
       "      <td>0.09</td>\n",
       "      <td>0.05</td>\n",
       "      <td>0.07</td>\n",
       "      <td>0.06</td>\n",
       "    </tr>\n",
       "  </tbody>\n",
       "</table>\n",
       "</div>"
      ],
      "text/plain": [
       "     protein  DNA/RNA   ion  ligand  lipid\n",
       "acc     0.88     0.90  0.94    0.89   0.69\n",
       "ppv     0.73     0.46  0.39    0.35   0.12\n",
       "npv     0.91     0.96  0.98    0.97   0.98\n",
       "tpr     0.65     0.63  0.64    0.62   0.72\n",
       "tnr     0.94     0.93  0.95    0.91   0.69\n",
       "mcc     0.62     0.48  0.47    0.41   0.20\n",
       "auc     0.91     0.89  0.87    0.86   0.77\n",
       "std     0.32     0.28  0.20    0.24   0.38\n",
       "F1      0.69     0.53  0.48    0.45   0.21\n",
       "r       0.20     0.09  0.05    0.07   0.06"
      ]
     },
     "metadata": {},
     "output_type": "display_data"
    }
   ],
   "source": [
    "# parameters\n",
    "class_names = [\"protein\", \"DNA/RNA\", \"ion\", \"ligand\", \"lipid\"]\n",
    "\n",
    "# compute scores per class\n",
    "scores = []\n",
    "for i in range(len(y_l)):\n",
    "    # extract class\n",
    "    p = pt.cat(p_l[i], axis=0)[:,i+1]\n",
    "    y = pt.cat(y_l[i], axis=0)[:,i+1]\n",
    "\n",
    "    # compute scores\n",
    "    s = bc_scoring(y.unsqueeze(1), p.unsqueeze(1)).squeeze().numpy()\n",
    "    \n",
    "    # compute F1 score\n",
    "    f1 = metrics.f1_score(y.numpy().astype(int), p.numpy().round())\n",
    "    \n",
    "    # compute ratio of positives\n",
    "    r = pt.mean(y)\n",
    "    \n",
    "    # store results\n",
    "    scores.append(np.concatenate([s, [f1, r]]))\n",
    "    \n",
    "# pack data\n",
    "scores = np.stack(scores).T\n",
    "\n",
    "# make table\n",
    "df = pd.DataFrame(data=np.round(scores,2), index=bc_score_names+['F1', 'r'], columns=class_names)\n",
    "\n",
    "# save dataframe\n",
    "df.to_csv(\"results/type_interface_search_scores.csv\")\n",
    "\n",
    "# display\n",
    "display(df)"
   ]
  },
  {
   "cell_type": "code",
   "execution_count": 9,
   "id": "60fc53c6-e94f-4e12-bb04-e71f784d08ed",
   "metadata": {},
   "outputs": [
    {
     "data": {
      "image/png": "[encoded data removed]",
      "text/plain": [
       "<Figure size 360x324 with 1 Axes>"
      ]
     },
     "metadata": {
      "needs_background": "light"
     },
     "output_type": "display_data"
    }
   ],
   "source": [
    "# parameters\n",
    "class_names = [\"protein\", \"nucleic acid\", \"ion\", \"ligand\", \"lipid\"]\n",
    "\n",
    "# plot\n",
    "plt.figure(figsize=(5,4.5))\n",
    "for i in range(len(y_l)):\n",
    "    # get labels and predictions for class\n",
    "    yi = pt.cat(y_l[i], axis=0)[:,i+1]\n",
    "    pi = pt.cat(p_l[i], axis=0)[:,i+1]\n",
    "\n",
    "    # compute roc and roc auc\n",
    "    fpr, tpr, _ = metrics.roc_curve(yi.numpy(), pi.numpy())\n",
    "    auc = metrics.auc(fpr, tpr)\n",
    "    \n",
    "    # update plot\n",
    "    plt.plot(fpr, tpr, '-', color=colors[i], label=\"{} (auc: {:.2f})\".format(class_names[i], auc))\n",
    "    \n",
    "plt.xlim(0.0, 1.0)\n",
    "plt.ylim(0.0, 1.0)\n",
    "plt.legend(loc='best')\n",
    "plt.xlabel('False Positive Rate')\n",
    "plt.ylabel('True Positive Rate')\n",
    "plt.tight_layout()\n",
    "plt.savefig(\"results/type_interface_search_roc_auc.svg\")\n",
    "plt.savefig(\"results/type_interface_search_roc_auc.png\", dpi=300)\n",
    "plt.show()"
   ]
  },
  {
   "cell_type": "code",
   "execution_count": 10,
   "id": "8f3d3233-aa1e-4102-a428-7818d42ba548",
   "metadata": {},
   "outputs": [
    {
     "data": {
      "image/png": "[encoded data removed]",
      "text/plain": [
       "<Figure size 360x324 with 1 Axes>"
      ]
     },
     "metadata": {
      "needs_background": "light"
     },
     "output_type": "display_data"
    }
   ],
   "source": [
    "# parameters\n",
    "class_names = [\"protein\", \"DNA/RNA\", \"ion\", \"ligand\", \"lipid\"]\n",
    "\n",
    "# plot\n",
    "plt.figure(figsize=(5,4.5))\n",
    "for i in range(len(y_l)):\n",
    "    # get labels and predictions for class\n",
    "    yi = pt.cat(y_l[i], axis=0)[:,i+1]\n",
    "    pi = pt.cat(p_l[i], axis=0)[:,i+1]\n",
    "\n",
    "    # compute roc and roc auc\n",
    "    pre, rec, _ = metrics.precision_recall_curve(yi.numpy(), pi.numpy())\n",
    "    auc = metrics.auc(rec, pre)\n",
    "    \n",
    "    # update plot\n",
    "    plt.plot(rec, pre, '-', color=colors[i], label=\"{} (auc: {:.2f})\".format(class_names[i], auc))\n",
    "    \n",
    "plt.xlim(0.0, 1.0)\n",
    "plt.ylim(0.0, 1.0)\n",
    "plt.legend(loc='best')\n",
    "plt.xlabel('Recall')\n",
    "plt.ylabel('Precision')\n",
    "plt.tight_layout()\n",
    "plt.savefig(\"results/type_interface_search_pr_auc.svg\")\n",
    "plt.savefig(\"results/type_interface_search_pr_auc.png\", dpi=300)\n",
    "plt.show()"
   ]
  },
  {
   "cell_type": "markdown",
   "id": "de01d42a-f9ce-4e08-85e2-9409fc2ce869",
   "metadata": {},
   "source": [
    "### Interface identification"
   ]
  },
  {
   "cell_type": "code",
   "execution_count": 11,
   "id": "f1df03ec-c360-486a-b0af-4196501a79b1",
   "metadata": {},
   "outputs": [
    {
     "data": {
      "text/html": [
       "<div>\n",
       "<style scoped>\n",
       "    .dataframe tbody tr th:only-of-type {\n",
       "        vertical-align: middle;\n",
       "    }\n",
       "\n",
       "    .dataframe tbody tr th {\n",
       "        vertical-align: top;\n",
       "    }\n",
       "\n",
       "    .dataframe thead th {\n",
       "        text-align: right;\n",
       "    }\n",
       "</style>\n",
       "<table border=\"1\" class=\"dataframe\">\n",
       "  <thead>\n",
       "    <tr style=\"text-align: right;\">\n",
       "      <th></th>\n",
       "      <th>protein</th>\n",
       "      <th>DNA/RNA</th>\n",
       "      <th>ion</th>\n",
       "      <th>ligand</th>\n",
       "      <th>lipid</th>\n",
       "    </tr>\n",
       "  </thead>\n",
       "  <tbody>\n",
       "    <tr>\n",
       "      <th>acc</th>\n",
       "      <td>0.85</td>\n",
       "      <td>0.91</td>\n",
       "      <td>0.85</td>\n",
       "      <td>0.78</td>\n",
       "      <td>0.93</td>\n",
       "    </tr>\n",
       "    <tr>\n",
       "      <th>ppv</th>\n",
       "      <td>0.63</td>\n",
       "      <td>0.88</td>\n",
       "      <td>0.62</td>\n",
       "      <td>0.47</td>\n",
       "      <td>0.93</td>\n",
       "    </tr>\n",
       "    <tr>\n",
       "      <th>npv</th>\n",
       "      <td>0.91</td>\n",
       "      <td>0.91</td>\n",
       "      <td>0.91</td>\n",
       "      <td>0.90</td>\n",
       "      <td>0.93</td>\n",
       "    </tr>\n",
       "    <tr>\n",
       "      <th>tpr</th>\n",
       "      <td>0.64</td>\n",
       "      <td>0.62</td>\n",
       "      <td>0.64</td>\n",
       "      <td>0.62</td>\n",
       "      <td>0.72</td>\n",
       "    </tr>\n",
       "    <tr>\n",
       "      <th>tnr</th>\n",
       "      <td>0.91</td>\n",
       "      <td>0.98</td>\n",
       "      <td>0.90</td>\n",
       "      <td>0.82</td>\n",
       "      <td>0.99</td>\n",
       "    </tr>\n",
       "    <tr>\n",
       "      <th>mcc</th>\n",
       "      <td>0.54</td>\n",
       "      <td>0.69</td>\n",
       "      <td>0.54</td>\n",
       "      <td>0.40</td>\n",
       "      <td>0.78</td>\n",
       "    </tr>\n",
       "    <tr>\n",
       "      <th>auc</th>\n",
       "      <td>0.88</td>\n",
       "      <td>0.93</td>\n",
       "      <td>0.84</td>\n",
       "      <td>0.81</td>\n",
       "      <td>0.97</td>\n",
       "    </tr>\n",
       "    <tr>\n",
       "      <th>std</th>\n",
       "      <td>0.34</td>\n",
       "      <td>0.31</td>\n",
       "      <td>0.31</td>\n",
       "      <td>0.30</td>\n",
       "      <td>0.31</td>\n",
       "    </tr>\n",
       "    <tr>\n",
       "      <th>F1</th>\n",
       "      <td>0.63</td>\n",
       "      <td>0.73</td>\n",
       "      <td>0.63</td>\n",
       "      <td>0.53</td>\n",
       "      <td>0.81</td>\n",
       "    </tr>\n",
       "  </tbody>\n",
       "</table>\n",
       "</div>"
      ],
      "text/plain": [
       "     protein  DNA/RNA   ion  ligand  lipid\n",
       "acc     0.85     0.91  0.85    0.78   0.93\n",
       "ppv     0.63     0.88  0.62    0.47   0.93\n",
       "npv     0.91     0.91  0.91    0.90   0.93\n",
       "tpr     0.64     0.62  0.64    0.62   0.72\n",
       "tnr     0.91     0.98  0.90    0.82   0.99\n",
       "mcc     0.54     0.69  0.54    0.40   0.78\n",
       "auc     0.88     0.93  0.84    0.81   0.97\n",
       "std     0.34     0.31  0.31    0.30   0.31\n",
       "F1      0.63     0.73  0.63    0.53   0.81"
      ]
     },
     "metadata": {},
     "output_type": "display_data"
    }
   ],
   "source": [
    "# parameters\n",
    "class_names = [\"protein\", \"DNA/RNA\", \"ion\", \"ligand\", \"lipid\"]\n",
    "\n",
    "# pack results\n",
    "P = pt.cat([pt.cat(p, axis=0) for p in p_l], axis=0)\n",
    "Y = pt.cat([pt.cat(y, axis=0) for y in y_l], axis=0)\n",
    "\n",
    "# select only residues at interface\n",
    "m = pt.any(Y[:,1:] > 0.5, axis=1)\n",
    "Pi = P[m,1:]\n",
    "Yi = Y[m,1:]\n",
    "\n",
    "# pick same sampling of all classes\n",
    "n = Yi.shape[1]\n",
    "N = int(pt.min(pt.sum(Yi, axis=0)).item())\n",
    "ids_unif = pt.from_numpy(np.concatenate([np.random.choice(pt.where(Yi[:,i] > 0.5)[0].numpy(), N, replace=False) for i in range(n)]))\n",
    "\n",
    "# compute scores for each class\n",
    "scores = []\n",
    "for i in range(n):\n",
    "    # extract class\n",
    "    p = Pi[ids_unif,i]\n",
    "    y = Yi[ids_unif,i]\n",
    "\n",
    "    # compute scores\n",
    "    s = bc_scoring(y.unsqueeze(1), p.unsqueeze(1)).squeeze().numpy()\n",
    "    \n",
    "    # compute F1 score\n",
    "    f1 = metrics.f1_score(y.numpy().astype(int), p.numpy().round())\n",
    "    \n",
    "    scores.append(np.concatenate([s, [f1]]))\n",
    "    \n",
    "# pack data\n",
    "scores = np.stack(scores).T\n",
    "\n",
    "# make table\n",
    "df = pd.DataFrame(data=np.round(scores,2), index=bc_score_names+['F1'], columns=class_names)\n",
    "\n",
    "# save dataframe\n",
    "df.to_csv(\"results/type_interface_identification_scores.csv\")\n",
    "\n",
    "# display\n",
    "display(df)"
   ]
  },
  {
   "cell_type": "code",
   "execution_count": 12,
   "id": "01d592de-6f0b-49c0-9b63-5a52c3d06460",
   "metadata": {},
   "outputs": [
    {
     "data": {
      "image/png": "[encoded data removed]",
      "text/plain": [
       "<Figure size 360x360 with 2 Axes>"
      ]
     },
     "metadata": {
      "needs_background": "light"
     },
     "output_type": "display_data"
    }
   ],
   "source": [
    "# pack results\n",
    "P = pt.cat([pt.cat(p, axis=0) for p in p_l], axis=0)\n",
    "Y = pt.cat([pt.cat(y, axis=0) for y in y_l], axis=0)\n",
    "\n",
    "# select only residues at interface\n",
    "m = pt.any(Y[:,1:] > 0.5, axis=1)\n",
    "Pi = P[m,1:]\n",
    "Yi = Y[m,1:]\n",
    "\n",
    "# pick same sampling of all classes\n",
    "n = Yi.shape[1]\n",
    "N = int(pt.min(pt.sum(Yi, axis=0)).item())\n",
    "ids_l = [pt.from_numpy(np.random.choice(pt.where(Yi[:,i] > 0.5)[0].numpy(), N, replace=False)) for i in range(n)]\n",
    "\n",
    "# compute scores for each class\n",
    "C = pt.zeros((n,n))\n",
    "for i in range(n):\n",
    "    ids = pt.argmax(Pi[ids_l[i]], axis=1)\n",
    "    for j,k in zip(ids, ids_l[i]):\n",
    "        C[i,j] += Pi[k,j].round()\n",
    "        \n",
    "\n",
    "# normalize score\n",
    "H = (C / pt.sum(C, axis=1).unsqueeze(1)).numpy()\n",
    "#H = (C / pt.sum(C, axis=0).unsqueeze(0)).numpy()\n",
    "\n",
    "# plot\n",
    "plt.figure(figsize=(5, 5))\n",
    "plt.imshow(H, origin='lower', cmap='BuGn', vmin=0.0, vmax=1.0)\n",
    "plt.colorbar(fraction=0.046, pad=0.04)\n",
    "plt.xticks(np.arange(n), class_names, rotation=90)\n",
    "plt.yticks(np.arange(n), class_names)\n",
    "for i in range(n):\n",
    "    for j in range(n):\n",
    "        v = H[i,j]\n",
    "        if v > 0.1:\n",
    "            plt.text(j,i,f\"{v:.2f}\", ha='center', va='center', color=[np.round(v-0.1)]*3)\n",
    "plt.xlabel('predicted')\n",
    "plt.ylabel('actual')\n",
    "plt.tight_layout()\n",
    "plt.savefig(\"results/type_interface_identification_most_confident_confusion_matrix.svg\")\n",
    "plt.savefig(\"results/type_interface_identification_most_confident_confusion_matrix.png\", dpi=300)\n",
    "plt.show()"
   ]
  },
  {
   "cell_type": "code",
   "execution_count": 13,
   "id": "b4a2971a-761f-4e29-ac43-b84a1b177cfd",
   "metadata": {},
   "outputs": [
    {
     "data": {
      "image/png": "[encoded data removed]",
      "text/plain": [
       "<Figure size 360x360 with 2 Axes>"
      ]
     },
     "metadata": {
      "needs_background": "light"
     },
     "output_type": "display_data"
    }
   ],
   "source": [
    "# pack results\n",
    "P = pt.cat([pt.cat(p, axis=0) for p in p_l], axis=0)\n",
    "Y = pt.cat([pt.cat(y, axis=0) for y in y_l], axis=0)\n",
    "\n",
    "# select only residues at interface\n",
    "m = pt.any(Y[:,1:] > 0.5, axis=1)\n",
    "Pi = P[m,1:]\n",
    "Yi = Y[m,1:]\n",
    "\n",
    "# pick same sampling of all classes\n",
    "n = Yi.shape[1]\n",
    "N = int(pt.min(pt.sum(Yi, axis=0)).item())\n",
    "ids_l = [pt.from_numpy(np.random.choice(pt.where(Yi[:,i] > 0.5)[0].numpy(), N, replace=False)) for i in range(n)]\n",
    "\n",
    "# compute scores for each class\n",
    "C = pt.zeros((n,n))\n",
    "for i in range(n):\n",
    "    ids = pt.argmax(Pi[ids_l[i]], axis=1)\n",
    "    for j in range(n):\n",
    "        for k in ids_l[i]:\n",
    "            C[i,j] += Pi[k,j].round()\n",
    "        \n",
    "\n",
    "# normalize score\n",
    "H = (C / pt.sum(C, axis=1).unsqueeze(1)).numpy()\n",
    "#H = (C / pt.sum(C, axis=0).unsqueeze(0)).numpy()\n",
    "\n",
    "# plot\n",
    "plt.figure(figsize=(5, 5))\n",
    "plt.imshow(H, origin='lower', cmap='BuGn', vmin=0.0, vmax=1.0)\n",
    "plt.colorbar(fraction=0.046, pad=0.04)\n",
    "plt.xticks(np.arange(n), class_names, rotation=90)\n",
    "plt.yticks(np.arange(n), class_names)\n",
    "for i in range(n):\n",
    "    for j in range(n):\n",
    "        v = H[i,j]\n",
    "        if v > 0.1:\n",
    "            plt.text(j,i,f\"{v:.2f}\", ha='center', va='center', color=[np.round(v-0.1)]*3)\n",
    "plt.xlabel('predicted')\n",
    "plt.ylabel('actual')\n",
    "plt.tight_layout()\n",
    "#plt.savefig(\"results/type_interface_identification_most_confident_confusion_matrix.svg\")\n",
    "#plt.savefig(\"results/type_interface_identification_most_confident_confusion_matrix.png\", dpi=300)\n",
    "plt.show()"
   ]
  },
  {
   "cell_type": "code",
   "execution_count": null,
   "id": "46b48842-f0ac-4def-bdd1-68709658e8de",
   "metadata": {},
   "outputs": [],
   "source": []
  },
  {
   "cell_type": "code",
   "execution_count": null,
   "id": "8906aacb-caf8-419c-a49d-2e1a5f9bd140",
   "metadata": {},
   "outputs": [],
   "source": []
  },
  {
   "cell_type": "code",
   "execution_count": null,
   "id": "54a5e4ff-3e45-4135-9071-0435567eb279",
   "metadata": {},
   "outputs": [],
   "source": []
  }
 ],
 "metadata": {
  "kernelspec": {
   "display_name": "pesto",
   "language": "python",
   "name": "pesto"
  },
  "language_info": {
   "codemirror_mode": {
    "name": "ipython",
    "version": 3
   },
   "file_extension": ".py",
   "mimetype": "text/x-python",
   "name": "python",
   "nbconvert_exporter": "python",
   "pygments_lexer": "ipython3",
   "version": "3.9.12"
  }
 },
 "nbformat": 4,
 "nbformat_minor": 5
}
