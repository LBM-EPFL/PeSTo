{
 "cells": [
  {
   "cell_type": "code",
   "execution_count": null,
   "id": "87ee322a-3011-4a1b-bd30-34da1dcae861",
   "metadata": {},
   "outputs": [],
   "source": [
    "import os\n",
    "import sys\n",
    "import h5py\n",
    "import json\n",
    "import numpy as np\n",
    "import torch as pt\n",
    "import pandas as pd\n",
    "import matplotlib.pyplot as plt\n",
    "import matplotlib.gridspec as gridspec\n",
    "from tqdm import tqdm\n",
    "from glob import glob\n",
    "from sklearn.metrics import confusion_matrix\n",
    "\n",
    "from matplotlib import rcParams\n",
    "rcParams['font.family'] = 'sans-serif'\n",
    "rcParams['font.sans-serif'] = ['Arial']\n",
    "rcParams['font.size'] = 14\n",
    "\n",
    "from theme import colors\n",
    "\n",
    "from src.dataset import StructuresDataset, collate_batch_features, select_by_sid, select_by_interface_types\n",
    "from src.data_encoding import encode_structure, encode_features, extract_topology, categ_to_resnames, resname_to_categ\n",
    "from src.structure import data_to_structure, encode_bfactor\n",
    "from src.structure_io import save_pdb, read_pdb\n",
    "from src.scoring import bc_scoring, bc_score_names"
   ]
  },
  {
   "cell_type": "code",
   "execution_count": null,
   "id": "30017a08-0175-4161-90fb-b71c5d203512",
   "metadata": {},
   "outputs": [],
   "source": [
    "# model parameters\n",
    "# R3\n",
    "#save_path = \"model/save/i_v3_0_2021-05-27_14-27\"  # 89\n",
    "#save_path = \"model/save/i_v3_1_2021-05-28_12-40\"  # 90\n",
    "# R4\n",
    "#save_path = \"model/save/i_v4_0_2021-09-07_11-20\"  # 89\n",
    "save_path = \"model/save/i_v4_1_2021-09-07_11-21\"  # 91\n",
    "\n",
    "# select saved model\n",
    "model_filepath = os.path.join(save_path, 'model_ckpt.pt')\n",
    "#model_filepath = os.path.join(save_path, 'model.pt')"
   ]
  },
  {
   "cell_type": "code",
   "execution_count": null,
   "id": "6a129667-b2a4-4f99-96d1-bc6d73e27ff0",
   "metadata": {},
   "outputs": [],
   "source": [
    "# add module to path\n",
    "if save_path not in sys.path:\n",
    "    sys.path.insert(0, save_path)\n",
    "    \n",
    "# load functions\n",
    "from config import config_model, config_data\n",
    "from data_handler import Dataset\n",
    "from model import Model"
   ]
  },
  {
   "cell_type": "code",
   "execution_count": null,
   "id": "bda2e286-072f-4b2e-882a-c75550f5d146",
   "metadata": {},
   "outputs": [],
   "source": [
    "# define device\n",
    "device = pt.device(\"cuda\")\n",
    "\n",
    "# create model\n",
    "model = Model(config_model)\n",
    "\n",
    "# reload model\n",
    "model.load_state_dict(pt.load(model_filepath, map_location=pt.device(\"cpu\")))\n",
    "\n",
    "# set model to inference\n",
    "model = model.eval().to(device)"
   ]
  },
  {
   "cell_type": "code",
   "execution_count": null,
   "id": "6501a61e-599d-4ce1-b0a8-3b8b9275d35e",
   "metadata": {},
   "outputs": [
    {
     "name": "stdout",
     "output_type": "stream",
     "text": [
      "79765\n"
     ]
    }
   ],
   "source": [
    "# set up dataset\n",
    "dataset = Dataset(\"datasets/contacts_rr5A_64nn_8192.h5\")\n",
    "\n",
    "# selected structures\n",
    "sids_sel = np.genfromtxt(\"datasets/subunits_validation_set.txt\", dtype=np.dtype('U'))\n",
    "\n",
    "# filter dataset\n",
    "m = select_by_sid(dataset, sids_sel) # select by sids\n",
    "m &= select_by_interface_types(dataset, config_data['l_types'], np.concatenate(config_data['r_types']))  # select by interface type\n",
    "\n",
    "# update dataset selection\n",
    "dataset.update_mask(m)\n",
    "\n",
    "# set dataset types\n",
    "dataset.set_types(config_data['l_types'], config_data['r_types'])\n",
    "\n",
    "# debug print\n",
    "print(len(dataset))"
   ]
  },
  {
   "cell_type": "code",
   "execution_count": null,
   "id": "35614f08-f765-4d00-87aa-7d1386b35d5a",
   "metadata": {},
   "outputs": [
    {
     "name": "stderr",
     "output_type": "stream",
     "text": [
      "100%|████████████████████████████████████████████████████████████████████████████| 8192/8192 [13:12<00:00, 10.34it/s]\n"
     ]
    }
   ],
   "source": [
    "# parameters\n",
    "N = 1024*8\n",
    "\n",
    "# select data randomly\n",
    "ids = np.arange(len(dataset))\n",
    "np.random.shuffle(ids)\n",
    "\n",
    "# compute confidence for correct and wrong predictions\n",
    "c0p_l, c1p_l = [], []\n",
    "c0n_l, c1n_l = [], []\n",
    "with pt.no_grad():\n",
    "    for i in tqdm(ids[:N]):\n",
    "        # get data\n",
    "        X, ids_topk, q, M, y = dataset[i]\n",
    "\n",
    "        # pack data and setup sink (IMPORTANT)\n",
    "        X, ids_topk, q, M = collate_batch_features([[X, ids_topk, q, M]])\n",
    "\n",
    "        # run model\n",
    "        z = model(X.to(device), ids_topk.to(device), q.to(device), M.float().to(device))\n",
    "\n",
    "        # prediction\n",
    "        p = pt.sigmoid(z)\n",
    "        \n",
    "        # protein interface only\n",
    "        p = p[:,0]\n",
    "        y = y[:,0]\n",
    "        \n",
    "        # correct predictions mask\n",
    "        m = (pt.round(p.cpu()) == y)\n",
    "        \n",
    "        # confidence estimate for positive predictions only\n",
    "        mp = (p.cpu() > 0.5)\n",
    "        if pt.any(mp):\n",
    "            # store results\n",
    "            c0p_l.append(p[mp & m].cpu().numpy())\n",
    "            c1p_l.append(p[mp & (~m)].cpu().numpy())\n",
    "\n",
    "        # confidence estimate for negative predictions only\n",
    "        mn = (p.cpu() < 0.5)\n",
    "        if pt.any(mn):\n",
    "            # store results\n",
    "            c0n_l.append(p[mn & m].cpu().numpy())\n",
    "            c1n_l.append(p[mn & (~m)].cpu().numpy())\n",
    "        \n",
    "# pack results\n",
    "c0p = np.concatenate(c0p_l)\n",
    "c1p = np.concatenate(c1p_l)\n",
    "c0n = np.concatenate(c0n_l)\n",
    "c1n = np.concatenate(c1n_l)"
   ]
  },
  {
   "cell_type": "code",
   "execution_count": 10,
   "id": "61d1d768-5bfa-4dcf-9cd7-00041bfd5e20",
   "metadata": {},
   "outputs": [
    {
     "data": {
      "image/png": "[encoded data removed]",
      "text/plain": [
       "<Figure size 360x288 with 2 Axes>"
      ]
     },
     "metadata": {
      "needs_background": "light"
     },
     "output_type": "display_data"
    }
   ],
   "source": [
    "# parameters\n",
    "n = 20\n",
    "\n",
    "# count predictions quality in confidence intervals\n",
    "h0p, x0p = np.histogram(c0p, bins=n, range=(0.5,1.0))\n",
    "h1p, x1p = np.histogram(c1p, bins=n, range=(0.5,1.0))\n",
    "h0n, x0n = np.histogram(c0n, bins=n, range=(0.0,0.5))\n",
    "h1n, x1n = np.histogram(c1n, bins=n, range=(0.0,0.5))\n",
    "\n",
    "# plot\n",
    "plt.figure(figsize=(5,4))\n",
    "gs = gridspec.GridSpec(1,2)\n",
    "gs.update(wspace=0.0, hspace=0.0)\n",
    "\n",
    "# left\n",
    "plt.subplot(gs[0])\n",
    "plt.bar(0.5*(x0n[:-1]+x0n[1:]), h1n / (h0n+h1n), width=(x0n[1]-x0n[0]), edgecolor='k', color=colors[1], label='negative')\n",
    "plt.xlim(0.0, 0.5)\n",
    "plt.ylim(0.0, 1.0)\n",
    "#plt.legend(loc='best')\n",
    "plt.xlabel('prediction')\n",
    "plt.ylabel('false positive probability')\n",
    "\n",
    "# right\n",
    "ax = plt.subplot(gs[1])\n",
    "plt.bar(0.5*(x0p[:-1]+x0p[1:]), 1.0 - h1p / (h0p+h1p), width=(x0p[1]-x0p[0]), edgecolor='k', color=colors[0], label='positive')\n",
    "plt.xlim(0.5, 1.0)\n",
    "plt.ylim(0.0, 1.0)\n",
    "#plt.legend(loc='best')\n",
    "plt.xlabel('confidence')\n",
    "plt.ylabel('true positive probability')\n",
    "ax.yaxis.set_label_position(\"right\")\n",
    "ax.yaxis.tick_right()\n",
    "\n",
    "plt.tight_layout()\n",
    "plt.savefig(\"results/interface_ppi_confidence.svg\")\n",
    "plt.savefig(\"results/interface_ppi_confidence.png\", dpi=300)\n",
    "plt.show()"
   ]
  },
  {
   "cell_type": "code",
   "execution_count": 11,
   "id": "62b73928-bc8a-41fc-bf64-134cb613ad56",
   "metadata": {},
   "outputs": [
    {
     "data": {
      "image/png": "[encoded data removed]",
      "text/plain": [
       "<Figure size 360x288 with 1 Axes>"
      ]
     },
     "metadata": {
      "needs_background": "light"
     },
     "output_type": "display_data"
    }
   ],
   "source": [
    "# parameters\n",
    "n = 20\n",
    "\n",
    "# count predictions quality in confidence intervals\n",
    "h0p, x0p = np.histogram(c0p, bins=n, range=(0.5,1.0))\n",
    "h1p, x1p = np.histogram(c1p, bins=n, range=(0.5,1.0))\n",
    "h0n, x0n = np.histogram(c0n, bins=n, range=(0.0,0.5))\n",
    "h1n, x1n = np.histogram(c1n, bins=n, range=(0.0,0.5))\n",
    "\n",
    "# plot\n",
    "plt.figure(figsize=(5,4))\n",
    "plt.bar(0.5*(x0n[:-1]+x0n[1:]), h0n / (h0n+h1n), width=(x0n[1]-x0n[0]), edgecolor='k', color=colors[1], label='negative')\n",
    "plt.bar(0.5*(x0p[:-1]+x0p[1:]), h0p / (h0p+h1p), width=(x0p[1]-x0p[0]), edgecolor='k', color=colors[0], label='positive')\n",
    "plt.xlabel('prediction confidence')\n",
    "plt.ylabel('correct prediction probability')\n",
    "plt.xlim(0.0, 1.0)\n",
    "plt.ylim(0.0, 1.0)\n",
    "plt.tight_layout()\n",
    "plt.savefig(\"results/interface_ppi_confidence_r1.svg\")\n",
    "plt.savefig(\"results/interface_ppi_confidence_r1.png\", dpi=300)\n",
    "plt.show()"
   ]
  },
  {
   "cell_type": "code",
   "execution_count": null,
   "id": "19710db5-9875-4302-bf63-a5035fbeb0f3",
   "metadata": {},
   "outputs": [],
   "source": []
  },
  {
   "cell_type": "code",
   "execution_count": null,
   "id": "6613ebb4-8441-4bd6-a609-408837984640",
   "metadata": {},
   "outputs": [],
   "source": []
  },
  {
   "cell_type": "code",
   "execution_count": null,
   "id": "598f3e21-f3b3-4039-bbf7-059dce3a130d",
   "metadata": {},
   "outputs": [],
   "source": []
  }
 ],
 "metadata": {
  "kernelspec": {
   "display_name": "pesto",
   "language": "python",
   "name": "pesto"
  },
  "language_info": {
   "codemirror_mode": {
    "name": "ipython",
    "version": 3
   },
   "file_extension": ".py",
   "mimetype": "text/x-python",
   "name": "python",
   "nbconvert_exporter": "python",
   "pygments_lexer": "ipython3",
   "version": "3.9.12"
  }
 },
 "nbformat": 4,
 "nbformat_minor": 5
}
