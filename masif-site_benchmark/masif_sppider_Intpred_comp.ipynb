{
 "cells": [
  {
   "cell_type": "code",
   "execution_count": 1,
   "metadata": {},
   "outputs": [],
   "source": [
    "import pymesh"
   ]
  },
  {
   "cell_type": "code",
   "execution_count": 2,
   "metadata": {},
   "outputs": [],
   "source": [
    "import numpy as np\n",
    "import sys\n",
    "sys.path.append(\"../../../source/\")"
   ]
  },
  {
   "cell_type": "code",
   "execution_count": 3,
   "metadata": {},
   "outputs": [],
   "source": [
    "ground_truth_dir = 'ground_truth/'\n",
    "masif_pred_dir = 'masif_pred/'\n",
    "transient_interactions_file = 'testing_transient.txt'\n",
    "\n",
    "# List of atonn_predictions\n",
    "atonn_pred_dir = '../pdbs_benchmark/'\n",
    "\n",
    "# List of sppider_predictions\n",
    "sppider_pred_dir = 'sppider_pred/'\n",
    "\n",
    "# List of intpred_predictions\n",
    "intpred_pred_dir = 'intpred_pred/intpred_pdbs/'\n",
    "\n",
    "# List of psiver_predictions\n",
    "psiver_pred_dir = 'psiver_pred/psiver_pdbs/'"
   ]
  },
  {
   "cell_type": "code",
   "execution_count": 4,
   "metadata": {},
   "outputs": [],
   "source": [
    "# The list that we will use has 53 proteins which are the ones that worked on both SPPIDER and IntPred.\n",
    "transient_pdbs = set([''.join(x[0:4]) for x in open(transient_interactions_file).readlines()])"
   ]
  },
  {
   "cell_type": "code",
   "execution_count": 5,
   "metadata": {},
   "outputs": [],
   "source": [
    "# To follow SPPIDER's implementation  we only label as interface those residues \n",
    "# with points with more than 4% RSA change and at least 5A RSA change.\n",
    "def is_res_iface(res_labels, vertex_areas):\n",
    "    sum_iface_area = 0.0\n",
    "    sum_total_res_area = 0.0\n",
    "\n",
    "    for ix, label in enumerate(res_labels): \n",
    "        sum_total_res_area += vertex_areas[ix]\n",
    "        if label > 0:\n",
    "            sum_iface_area += vertex_areas[ix]\n",
    "\n",
    "    if sum_iface_area > 5.0 and sum_iface_area/sum_total_res_area > 0.04:\n",
    "        return True\n",
    "    else:\n",
    "        return False"
   ]
  },
  {
   "cell_type": "code",
   "execution_count": 6,
   "metadata": {},
   "outputs": [],
   "source": [
    "# Get the ground truth per residue (as we have it per surface point.)\n",
    "# Atoms: list of PDB atoms in Biopython format. \n",
    "# Residues: list of PDB residues in Biopython format. \n",
    "# ground_truth_mesh: a pymesh mesh object with labeled interface (the ground truth.)\n",
    "# Returns a dict where the key is the residue id and the value is the score. \n",
    "def assign_labels_per_residue(atoms, residues, ground_truth_mesh):\n",
    "    # For every residue, assign a label on whether it is interface or not, based on the buried surface.\n",
    "    flann = pyflann.FLANN()\n",
    "    at_coord = np.array([at.get_coord() for at in atoms]).astype(float)\n",
    "    verts = ground_truth_mesh.vertices.astype(float)\n",
    "\n",
    "    labels = ground_truth_mesh.get_attribute('vertex_iface')\n",
    "    ground_truth_mesh.add_attribute(\"vertex_area\")\n",
    "    vertex_areas = ground_truth_mesh.get_attribute(\"vertex_area\")\n",
    "\n",
    "    # Compute the closest atom to each vertex. \n",
    "    r,d = flann.nn(at_coord, verts)\n",
    "    d = np.sqrt(d)\n",
    "    n= len(r)\n",
    "    \n",
    "    # For each residue, assign the ground truth based on the closest atom. \n",
    "    res_labels = {}\n",
    "    res_areas = {}\n",
    "    for ix, v in enumerate(verts): \n",
    "        pred = labels[ix]\n",
    "        res_id = atoms[r[ix]].get_parent().get_id()\n",
    "        if res_id not in res_labels:\n",
    "            res_labels[res_id] = []\n",
    "            res_areas[res_id] = []\n",
    "        res_labels[res_id].append(pred)\n",
    "        res_areas[res_id].append(vertex_areas[ix])\n",
    "    res_labels_tmp = []\n",
    "    for key in res_labels:\n",
    "        # To follow SPPIDER's implementation (as an approximation) we only label as interface those residues \n",
    "        # with points with more than 4% RSA change and at least 5A RSA change.\n",
    "        if is_res_iface(res_labels[key], res_areas[key]):\n",
    "            res_labels[key] = 1.0\n",
    "        else:\n",
    "            res_labels[key] = 0.0\n",
    "            \n",
    "    return res_labels"
   ]
  },
  {
   "cell_type": "code",
   "execution_count": 7,
   "metadata": {},
   "outputs": [],
   "source": [
    "import seaborn as sns\n",
    "from matplotlib import pyplot as plt\n",
    "%matplotlib inline\n",
    "# Compute the score of each predicted surface. \n",
    "from IPython.core.debugger import set_trace\n",
    "from Bio.PDB import *\n",
    "import pyflann\n",
    "import sklearn.metrics\n",
    "import os\n",
    "\n",
    "# Compute the ROC AUC for SPPIDER/INTPRED for points and residues. \n",
    "# SPPIDER/INTPRED work on residues while we work on points. \n",
    "# This method computes ROC AUCs according to both. \n",
    "def compute_roc_auc_sppider_intpred_psiver(pred_dir, pdbid, alpha=1e-2):\n",
    "    parser = PDBParser()\n",
    "    struct = parser.get_structure(pred_dir+pdbid+'.pdb', pred_dir+pdbid+'.pdb')\n",
    "    atoms = Selection.unfold_entities(struct, 'A')\n",
    "    residues = Selection.unfold_entities(struct, 'R')\n",
    "    at_coord = np.array([at.get_coord() for at in atoms]).astype(float)\n",
    "    \n",
    "    ground_truth_mesh = pymesh.load_mesh(ground_truth_dir+pdbid+'.ply')\n",
    "\n",
    "\n",
    "    flann = pyflann.FLANN()\n",
    "    \n",
    "    verts = ground_truth_mesh.vertices.astype(float)\n",
    "    \n",
    "    # Compute the closest atom to each vertex in vertices\n",
    "    r,d = flann.nn(at_coord, verts)\n",
    "    d = np.sqrt(d)\n",
    "    n= len(r)\n",
    "    \n",
    "    # For each vertex, assign the predictions according to the closest atoms.\n",
    "    pred = np.zeros((n))\n",
    "    labels = ground_truth_mesh.get_attribute('vertex_iface')\n",
    "    \n",
    "    labels_per_residue = assign_labels_per_residue(atoms, residues, ground_truth_mesh)\n",
    "    \n",
    "    res_pred = {}\n",
    "    for res in residues:\n",
    "        if 'CA' in res:\n",
    "            bfactor = res['CA'].bfactor\n",
    "            # If the bfactor is less than zero it means that it was ignored by the program (by intpred in this case.)\n",
    "            if bfactor >= 0:\n",
    "                res_pred[res.get_id()] = bfactor * alpha\n",
    "\n",
    "    res_pred_y = []\n",
    "    res_label_y = []\n",
    "    for key in labels_per_residue:\n",
    "        if key in res_pred and key in labels_per_residue:\n",
    "            res_pred_y.append(res_pred[key])\n",
    "            res_label_y.append(labels_per_residue[key])\n",
    "\n",
    "    try:\n",
    "        res_roc_auc = sklearn.metrics.roc_auc_score(res_label_y, res_pred_y)\n",
    "    except:\n",
    "        res_roc_auc = 0.5\n",
    "    print('Per residue ROC AUC: {:.2f}'.format(res_roc_auc))\n",
    "    \n",
    "    for vi in range(n):\n",
    "        pred[vi] = atoms[r[vi]].bfactor * alpha\n",
    "        \n",
    "    roc_auc = sklearn.metrics.roc_auc_score(labels, pred)\n",
    "    print('{} Per point ROC AUC {} : {:.2f}'.format(pred_dir, pdbid, roc_auc))\n",
    "    return labels, pred, res_label_y, res_pred_y, roc_auc, res_roc_auc"
   ]
  },
  {
   "cell_type": "code",
   "execution_count": 8,
   "metadata": {
    "scrolled": true
   },
   "outputs": [
    {
     "name": "stderr",
     "output_type": "stream",
     "text": [
      "/home/khaos/miniconda3/envs/masif/lib/python3.6/site-packages/Bio/PDB/PDBParser.py:399: PDBConstructionWarning: Ignoring unrecognized record 'TER' at line 4112\n",
      "  PDBConstructionWarning,\n",
      "/home/khaos/miniconda3/envs/masif/lib/python3.6/site-packages/Bio/PDB/PDBParser.py:399: PDBConstructionWarning: Ignoring unrecognized record 'END' at line 4113\n",
      "  PDBConstructionWarning,\n",
      "/home/khaos/miniconda3/envs/masif/lib/python3.6/site-packages/Bio/PDB/PDBParser.py:399: PDBConstructionWarning: Ignoring unrecognized record 'TER' at line 3786\n",
      "  PDBConstructionWarning,\n",
      "/home/khaos/miniconda3/envs/masif/lib/python3.6/site-packages/Bio/PDB/PDBParser.py:399: PDBConstructionWarning: Ignoring unrecognized record 'END' at line 3787\n",
      "  PDBConstructionWarning,\n",
      "/home/khaos/miniconda3/envs/masif/lib/python3.6/site-packages/Bio/PDB/PDBParser.py:399: PDBConstructionWarning: Ignoring unrecognized record 'TER' at line 5338\n",
      "  PDBConstructionWarning,\n",
      "/home/khaos/miniconda3/envs/masif/lib/python3.6/site-packages/Bio/PDB/PDBParser.py:399: PDBConstructionWarning: Ignoring unrecognized record 'END' at line 5339\n",
      "  PDBConstructionWarning,\n"
     ]
    },
    {
     "name": "stdout",
     "output_type": "stream",
     "text": [
      "Per residue ROC AUC: 0.45\n",
      "intpred_pred/intpred_pdbs/ Per point ROC AUC 1XQS_A : 0.43\n",
      "Per residue ROC AUC: 0.52\n",
      "intpred_pred/intpred_pdbs/ Per point ROC AUC 1JTD_B : 0.44\n",
      "Per residue ROC AUC: 0.72\n",
      "intpred_pred/intpred_pdbs/ Per point ROC AUC 5TIH_A : 0.57\n"
     ]
    },
    {
     "name": "stderr",
     "output_type": "stream",
     "text": [
      "/home/khaos/miniconda3/envs/masif/lib/python3.6/site-packages/Bio/PDB/PDBParser.py:399: PDBConstructionWarning: Ignoring unrecognized record 'TER' at line 3786\n",
      "  PDBConstructionWarning,\n",
      "/home/khaos/miniconda3/envs/masif/lib/python3.6/site-packages/Bio/PDB/PDBParser.py:399: PDBConstructionWarning: Ignoring unrecognized record 'END' at line 3787\n",
      "  PDBConstructionWarning,\n",
      "/home/khaos/miniconda3/envs/masif/lib/python3.6/site-packages/Bio/PDB/PDBParser.py:399: PDBConstructionWarning: Ignoring unrecognized record 'TER' at line 5282\n",
      "  PDBConstructionWarning,\n",
      "/home/khaos/miniconda3/envs/masif/lib/python3.6/site-packages/Bio/PDB/PDBParser.py:399: PDBConstructionWarning: Ignoring unrecognized record 'END' at line 5283\n",
      "  PDBConstructionWarning,\n"
     ]
    },
    {
     "name": "stdout",
     "output_type": "stream",
     "text": [
      "Per residue ROC AUC: 0.41\n",
      "intpred_pred/intpred_pdbs/ Per point ROC AUC 4XL5_C : 0.52\n",
      "Per residue ROC AUC: 0.40\n",
      "intpred_pred/intpred_pdbs/ Per point ROC AUC 3ZWL_B : 0.38\n"
     ]
    },
    {
     "name": "stderr",
     "output_type": "stream",
     "text": [
      "/home/khaos/miniconda3/envs/masif/lib/python3.6/site-packages/Bio/PDB/PDBParser.py:399: PDBConstructionWarning: Ignoring unrecognized record 'TER' at line 5473\n",
      "  PDBConstructionWarning,\n",
      "/home/khaos/miniconda3/envs/masif/lib/python3.6/site-packages/Bio/PDB/PDBParser.py:399: PDBConstructionWarning: Ignoring unrecognized record 'END' at line 5474\n",
      "  PDBConstructionWarning,\n",
      "/home/khaos/miniconda3/envs/masif/lib/python3.6/site-packages/Bio/PDB/PDBParser.py:399: PDBConstructionWarning: Ignoring unrecognized record 'TER' at line 6055\n",
      "  PDBConstructionWarning,\n",
      "/home/khaos/miniconda3/envs/masif/lib/python3.6/site-packages/Bio/PDB/PDBParser.py:399: PDBConstructionWarning: Ignoring unrecognized record 'END' at line 6056\n",
      "  PDBConstructionWarning,\n"
     ]
    },
    {
     "name": "stdout",
     "output_type": "stream",
     "text": [
      "Per residue ROC AUC: 0.48\n",
      "intpred_pred/intpred_pdbs/ Per point ROC AUC 3MCA_B : 0.57\n",
      "Per residue ROC AUC: 0.37\n",
      "intpred_pred/intpred_pdbs/ Per point ROC AUC 3NVN_A : 0.58\n"
     ]
    },
    {
     "name": "stderr",
     "output_type": "stream",
     "text": [
      "/home/khaos/miniconda3/envs/masif/lib/python3.6/site-packages/Bio/PDB/PDBParser.py:399: PDBConstructionWarning: Ignoring unrecognized record 'TER' at line 5915\n",
      "  PDBConstructionWarning,\n",
      "/home/khaos/miniconda3/envs/masif/lib/python3.6/site-packages/Bio/PDB/PDBParser.py:399: PDBConstructionWarning: Ignoring unrecognized record 'END' at line 5916\n",
      "  PDBConstructionWarning,\n",
      "/home/khaos/miniconda3/envs/masif/lib/python3.6/site-packages/Bio/PDB/PDBParser.py:399: PDBConstructionWarning: Ignoring unrecognized record 'TER' at line 5282\n",
      "  PDBConstructionWarning,\n",
      "/home/khaos/miniconda3/envs/masif/lib/python3.6/site-packages/Bio/PDB/PDBParser.py:399: PDBConstructionWarning: Ignoring unrecognized record 'END' at line 5283\n",
      "  PDBConstructionWarning,\n"
     ]
    },
    {
     "name": "stdout",
     "output_type": "stream",
     "text": [
      "Per residue ROC AUC: 0.84\n",
      "intpred_pred/intpred_pdbs/ Per point ROC AUC 4ZGY_A : 0.80\n",
      "Per residue ROC AUC: 0.55\n",
      "intpred_pred/intpred_pdbs/ Per point ROC AUC 1W1W_B : 0.49\n"
     ]
    },
    {
     "name": "stderr",
     "output_type": "stream",
     "text": [
      "/home/khaos/miniconda3/envs/masif/lib/python3.6/site-packages/Bio/PDB/PDBParser.py:399: PDBConstructionWarning: Ignoring unrecognized record 'TER' at line 6030\n",
      "  PDBConstructionWarning,\n",
      "/home/khaos/miniconda3/envs/masif/lib/python3.6/site-packages/Bio/PDB/PDBParser.py:399: PDBConstructionWarning: Ignoring unrecognized record 'END' at line 6031\n",
      "  PDBConstructionWarning,\n",
      "/home/khaos/miniconda3/envs/masif/lib/python3.6/site-packages/Bio/PDB/PDBParser.py:399: PDBConstructionWarning: Ignoring unrecognized record 'TER' at line 4544\n",
      "  PDBConstructionWarning,\n",
      "/home/khaos/miniconda3/envs/masif/lib/python3.6/site-packages/Bio/PDB/PDBParser.py:399: PDBConstructionWarning: Ignoring unrecognized record 'END' at line 4545\n",
      "  PDBConstructionWarning,\n"
     ]
    },
    {
     "name": "stdout",
     "output_type": "stream",
     "text": [
      "Per residue ROC AUC: 0.82\n",
      "intpred_pred/intpred_pdbs/ Per point ROC AUC 4ETP_A : 0.79\n",
      "Per residue ROC AUC: 0.42\n",
      "intpred_pred/intpred_pdbs/ Per point ROC AUC 2C0L_A : 0.39\n"
     ]
    },
    {
     "name": "stderr",
     "output_type": "stream",
     "text": [
      "/home/khaos/miniconda3/envs/masif/lib/python3.6/site-packages/Bio/PDB/PDBParser.py:399: PDBConstructionWarning: Ignoring unrecognized record 'TER' at line 4946\n",
      "  PDBConstructionWarning,\n",
      "/home/khaos/miniconda3/envs/masif/lib/python3.6/site-packages/Bio/PDB/PDBParser.py:399: PDBConstructionWarning: Ignoring unrecognized record 'END' at line 4947\n",
      "  PDBConstructionWarning,\n",
      "/home/khaos/miniconda3/envs/masif/lib/python3.6/site-packages/Bio/PDB/PDBParser.py:399: PDBConstructionWarning: Ignoring unrecognized record 'TER' at line 5628\n",
      "  PDBConstructionWarning,\n",
      "/home/khaos/miniconda3/envs/masif/lib/python3.6/site-packages/Bio/PDB/PDBParser.py:399: PDBConstructionWarning: Ignoring unrecognized record 'END' at line 5629\n",
      "  PDBConstructionWarning,\n"
     ]
    },
    {
     "name": "stdout",
     "output_type": "stream",
     "text": [
      "Per residue ROC AUC: 0.35\n",
      "intpred_pred/intpred_pdbs/ Per point ROC AUC 4M0W_A : 0.37\n",
      "Per residue ROC AUC: 0.52\n",
      "intpred_pred/intpred_pdbs/ Per point ROC AUC 2QXV_A : 0.41\n"
     ]
    },
    {
     "name": "stderr",
     "output_type": "stream",
     "text": [
      "/home/khaos/miniconda3/envs/masif/lib/python3.6/site-packages/Bio/PDB/PDBParser.py:399: PDBConstructionWarning: Ignoring unrecognized record 'TER' at line 5987\n",
      "  PDBConstructionWarning,\n",
      "/home/khaos/miniconda3/envs/masif/lib/python3.6/site-packages/Bio/PDB/PDBParser.py:399: PDBConstructionWarning: Ignoring unrecognized record 'END' at line 5988\n",
      "  PDBConstructionWarning,\n",
      "/home/khaos/miniconda3/envs/masif/lib/python3.6/site-packages/Bio/PDB/PDBParser.py:399: PDBConstructionWarning: Ignoring unrecognized record 'TER' at line 4841\n",
      "  PDBConstructionWarning,\n",
      "/home/khaos/miniconda3/envs/masif/lib/python3.6/site-packages/Bio/PDB/PDBParser.py:399: PDBConstructionWarning: Ignoring unrecognized record 'END' at line 4842\n",
      "  PDBConstructionWarning,\n"
     ]
    },
    {
     "name": "stdout",
     "output_type": "stream",
     "text": [
      "Per residue ROC AUC: 0.59\n",
      "intpred_pred/intpred_pdbs/ Per point ROC AUC 1WDW_H : 0.55\n",
      "Per residue ROC AUC: 0.60\n",
      "intpred_pred/intpred_pdbs/ Per point ROC AUC 4YC7_B : 0.51\n"
     ]
    },
    {
     "name": "stderr",
     "output_type": "stream",
     "text": [
      "/home/khaos/miniconda3/envs/masif/lib/python3.6/site-packages/Bio/PDB/PDBParser.py:399: PDBConstructionWarning: Ignoring unrecognized record 'TER' at line 5747\n",
      "  PDBConstructionWarning,\n",
      "/home/khaos/miniconda3/envs/masif/lib/python3.6/site-packages/Bio/PDB/PDBParser.py:399: PDBConstructionWarning: Ignoring unrecognized record 'END' at line 5748\n",
      "  PDBConstructionWarning,\n",
      "/home/khaos/miniconda3/envs/masif/lib/python3.6/site-packages/Bio/PDB/PDBParser.py:399: PDBConstructionWarning: Ignoring unrecognized record 'TER' at line 4584\n",
      "  PDBConstructionWarning,\n",
      "/home/khaos/miniconda3/envs/masif/lib/python3.6/site-packages/Bio/PDB/PDBParser.py:399: PDBConstructionWarning: Ignoring unrecognized record 'END' at line 4585\n",
      "  PDBConstructionWarning,\n"
     ]
    },
    {
     "name": "stdout",
     "output_type": "stream",
     "text": [
      "Per residue ROC AUC: 0.43\n",
      "intpred_pred/intpred_pdbs/ Per point ROC AUC 3VYR_B : 0.46\n",
      "Per residue ROC AUC: 0.39\n",
      "intpred_pred/intpred_pdbs/ Per point ROC AUC 3VV2_A : 0.34\n"
     ]
    },
    {
     "name": "stderr",
     "output_type": "stream",
     "text": [
      "/home/khaos/miniconda3/envs/masif/lib/python3.6/site-packages/Bio/PDB/PDBParser.py:399: PDBConstructionWarning: Ignoring unrecognized record 'TER' at line 4495\n",
      "  PDBConstructionWarning,\n",
      "/home/khaos/miniconda3/envs/masif/lib/python3.6/site-packages/Bio/PDB/PDBParser.py:399: PDBConstructionWarning: Ignoring unrecognized record 'END' at line 4496\n",
      "  PDBConstructionWarning,\n",
      "/home/khaos/miniconda3/envs/masif/lib/python3.6/site-packages/Bio/PDB/PDBParser.py:399: PDBConstructionWarning: Ignoring unrecognized record 'TER' at line 4483\n",
      "  PDBConstructionWarning,\n",
      "/home/khaos/miniconda3/envs/masif/lib/python3.6/site-packages/Bio/PDB/PDBParser.py:399: PDBConstructionWarning: Ignoring unrecognized record 'END' at line 4484\n",
      "  PDBConstructionWarning,\n",
      "/home/khaos/miniconda3/envs/masif/lib/python3.6/site-packages/Bio/PDB/PDBParser.py:399: PDBConstructionWarning: Ignoring unrecognized record 'TER' at line 5478\n",
      "  PDBConstructionWarning,\n",
      "/home/khaos/miniconda3/envs/masif/lib/python3.6/site-packages/Bio/PDB/PDBParser.py:399: PDBConstructionWarning: Ignoring unrecognized record 'END' at line 5479\n",
      "  PDBConstructionWarning,\n"
     ]
    },
    {
     "name": "stdout",
     "output_type": "stream",
     "text": [
      "Per residue ROC AUC: 0.68\n",
      "intpred_pred/intpred_pdbs/ Per point ROC AUC 3O5T_A : 0.58\n",
      "Per residue ROC AUC: 0.58\n",
      "intpred_pred/intpred_pdbs/ Per point ROC AUC 4C9B_B : 0.59\n",
      "Per residue ROC AUC: 0.52\n",
      "intpred_pred/intpred_pdbs/ Per point ROC AUC 1ZHH_A : 0.49\n"
     ]
    },
    {
     "name": "stderr",
     "output_type": "stream",
     "text": [
      "/home/khaos/miniconda3/envs/masif/lib/python3.6/site-packages/Bio/PDB/PDBParser.py:399: PDBConstructionWarning: Ignoring unrecognized record 'TER' at line 3686\n",
      "  PDBConstructionWarning,\n",
      "/home/khaos/miniconda3/envs/masif/lib/python3.6/site-packages/Bio/PDB/PDBParser.py:399: PDBConstructionWarning: Ignoring unrecognized record 'END' at line 3687\n",
      "  PDBConstructionWarning,\n",
      "/home/khaos/miniconda3/envs/masif/lib/python3.6/site-packages/Bio/PDB/PDBParser.py:399: PDBConstructionWarning: Ignoring unrecognized record 'TER' at line 5128\n",
      "  PDBConstructionWarning,\n",
      "/home/khaos/miniconda3/envs/masif/lib/python3.6/site-packages/Bio/PDB/PDBParser.py:399: PDBConstructionWarning: Ignoring unrecognized record 'END' at line 5129\n",
      "  PDBConstructionWarning,\n"
     ]
    },
    {
     "name": "stdout",
     "output_type": "stream",
     "text": [
      "Per residue ROC AUC: 0.59\n",
      "intpred_pred/intpred_pdbs/ Per point ROC AUC 2XWT_C : 0.51\n",
      "Per residue ROC AUC: 0.45\n",
      "intpred_pred/intpred_pdbs/ Per point ROC AUC 2PMS_A : 0.40\n"
     ]
    },
    {
     "name": "stderr",
     "output_type": "stream",
     "text": [
      "/home/khaos/miniconda3/envs/masif/lib/python3.6/site-packages/Bio/PDB/PDBParser.py:399: PDBConstructionWarning: Ignoring unrecognized record 'TER' at line 4290\n",
      "  PDBConstructionWarning,\n",
      "/home/khaos/miniconda3/envs/masif/lib/python3.6/site-packages/Bio/PDB/PDBParser.py:399: PDBConstructionWarning: Ignoring unrecognized record 'END' at line 4291\n",
      "  PDBConstructionWarning,\n",
      "/home/khaos/miniconda3/envs/masif/lib/python3.6/site-packages/Bio/PDB/PDBParser.py:399: PDBConstructionWarning: Ignoring unrecognized record 'TER' at line 5952\n",
      "  PDBConstructionWarning,\n",
      "/home/khaos/miniconda3/envs/masif/lib/python3.6/site-packages/Bio/PDB/PDBParser.py:399: PDBConstructionWarning: Ignoring unrecognized record 'END' at line 5953\n",
      "  PDBConstructionWarning,\n",
      "/home/khaos/miniconda3/envs/masif/lib/python3.6/site-packages/Bio/PDB/PDBParser.py:399: PDBConstructionWarning: Ignoring unrecognized record 'TER' at line 3323\n",
      "  PDBConstructionWarning,\n",
      "/home/khaos/miniconda3/envs/masif/lib/python3.6/site-packages/Bio/PDB/PDBParser.py:399: PDBConstructionWarning: Ignoring unrecognized record 'END' at line 3324\n",
      "  PDBConstructionWarning,\n"
     ]
    },
    {
     "name": "stdout",
     "output_type": "stream",
     "text": [
      "Per residue ROC AUC: 0.74\n",
      "intpred_pred/intpred_pdbs/ Per point ROC AUC 3WN7_A : 0.56\n",
      "Per residue ROC AUC: 0.65\n",
      "intpred_pred/intpred_pdbs/ Per point ROC AUC 3FHC_A : 0.58\n",
      "Per residue ROC AUC: 0.28\n",
      "intpred_pred/intpred_pdbs/ Per point ROC AUC 2V9T_B : 0.29\n"
     ]
    },
    {
     "name": "stderr",
     "output_type": "stream",
     "text": [
      "/home/khaos/miniconda3/envs/masif/lib/python3.6/site-packages/Bio/PDB/PDBParser.py:399: PDBConstructionWarning: Ignoring unrecognized record 'TER' at line 4850\n",
      "  PDBConstructionWarning,\n",
      "/home/khaos/miniconda3/envs/masif/lib/python3.6/site-packages/Bio/PDB/PDBParser.py:399: PDBConstructionWarning: Ignoring unrecognized record 'END' at line 4851\n",
      "  PDBConstructionWarning,\n",
      "/home/khaos/miniconda3/envs/masif/lib/python3.6/site-packages/Bio/PDB/PDBParser.py:399: PDBConstructionWarning: Ignoring unrecognized record 'TER' at line 4710\n",
      "  PDBConstructionWarning,\n",
      "/home/khaos/miniconda3/envs/masif/lib/python3.6/site-packages/Bio/PDB/PDBParser.py:399: PDBConstructionWarning: Ignoring unrecognized record 'END' at line 4711\n",
      "  PDBConstructionWarning,\n",
      "/home/khaos/miniconda3/envs/masif/lib/python3.6/site-packages/Bio/PDB/PDBParser.py:399: PDBConstructionWarning: Ignoring unrecognized record 'TER' at line 4384\n",
      "  PDBConstructionWarning,\n",
      "/home/khaos/miniconda3/envs/masif/lib/python3.6/site-packages/Bio/PDB/PDBParser.py:399: PDBConstructionWarning: Ignoring unrecognized record 'END' at line 4385\n",
      "  PDBConstructionWarning,\n"
     ]
    },
    {
     "name": "stdout",
     "output_type": "stream",
     "text": [
      "Per residue ROC AUC: 0.65\n",
      "intpred_pred/intpred_pdbs/ Per point ROC AUC 4ZRJ_A : 0.53\n",
      "Per residue ROC AUC: 0.81\n",
      "intpred_pred/intpred_pdbs/ Per point ROC AUC 4ETP_B : 0.84\n",
      "Per residue ROC AUC: 0.47\n",
      "intpred_pred/intpred_pdbs/ Per point ROC AUC 4V0O_F : 0.52\n"
     ]
    },
    {
     "name": "stderr",
     "output_type": "stream",
     "text": [
      "/home/khaos/miniconda3/envs/masif/lib/python3.6/site-packages/Bio/PDB/PDBParser.py:399: PDBConstructionWarning: Ignoring unrecognized record 'TER' at line 4856\n",
      "  PDBConstructionWarning,\n",
      "/home/khaos/miniconda3/envs/masif/lib/python3.6/site-packages/Bio/PDB/PDBParser.py:399: PDBConstructionWarning: Ignoring unrecognized record 'END' at line 4857\n",
      "  PDBConstructionWarning,\n",
      "/home/khaos/miniconda3/envs/masif/lib/python3.6/site-packages/Bio/PDB/PDBParser.py:399: PDBConstructionWarning: Ignoring unrecognized record 'TER' at line 5144\n",
      "  PDBConstructionWarning,\n",
      "/home/khaos/miniconda3/envs/masif/lib/python3.6/site-packages/Bio/PDB/PDBParser.py:399: PDBConstructionWarning: Ignoring unrecognized record 'END' at line 5145\n",
      "  PDBConstructionWarning,\n"
     ]
    },
    {
     "name": "stdout",
     "output_type": "stream",
     "text": [
      "Per residue ROC AUC: 0.91\n",
      "intpred_pred/intpred_pdbs/ Per point ROC AUC 2F4M_A : 0.83\n",
      "Per residue ROC AUC: 0.46\n",
      "intpred_pred/intpred_pdbs/ Per point ROC AUC 2WUS_A : 0.49\n"
     ]
    },
    {
     "name": "stderr",
     "output_type": "stream",
     "text": [
      "/home/khaos/miniconda3/envs/masif/lib/python3.6/site-packages/Bio/PDB/PDBParser.py:399: PDBConstructionWarning: Ignoring unrecognized record 'TER' at line 5698\n",
      "  PDBConstructionWarning,\n",
      "/home/khaos/miniconda3/envs/masif/lib/python3.6/site-packages/Bio/PDB/PDBParser.py:399: PDBConstructionWarning: Ignoring unrecognized record 'END' at line 5699\n",
      "  PDBConstructionWarning,\n",
      "/home/khaos/miniconda3/envs/masif/lib/python3.6/site-packages/Bio/PDB/PDBParser.py:399: PDBConstructionWarning: Ignoring unrecognized record 'TER' at line 5132\n",
      "  PDBConstructionWarning,\n",
      "/home/khaos/miniconda3/envs/masif/lib/python3.6/site-packages/Bio/PDB/PDBParser.py:399: PDBConstructionWarning: Ignoring unrecognized record 'END' at line 5133\n",
      "  PDBConstructionWarning,\n"
     ]
    },
    {
     "name": "stdout",
     "output_type": "stream",
     "text": [
      "Per residue ROC AUC: 0.64\n",
      "intpred_pred/intpred_pdbs/ Per point ROC AUC 2V3B_A : 0.55\n",
      "Per residue ROC AUC: 0.56\n",
      "intpred_pred/intpred_pdbs/ Per point ROC AUC 4HDO_A : 0.57\n"
     ]
    },
    {
     "name": "stderr",
     "output_type": "stream",
     "text": [
      "/home/khaos/miniconda3/envs/masif/lib/python3.6/site-packages/Bio/PDB/PDBParser.py:399: PDBConstructionWarning: Ignoring unrecognized record 'TER' at line 4885\n",
      "  PDBConstructionWarning,\n",
      "/home/khaos/miniconda3/envs/masif/lib/python3.6/site-packages/Bio/PDB/PDBParser.py:399: PDBConstructionWarning: Ignoring unrecognized record 'END' at line 4886\n",
      "  PDBConstructionWarning,\n",
      "/home/khaos/miniconda3/envs/masif/lib/python3.6/site-packages/Bio/PDB/PDBParser.py:399: PDBConstructionWarning: Ignoring unrecognized record 'TER' at line 5287\n",
      "  PDBConstructionWarning,\n",
      "/home/khaos/miniconda3/envs/masif/lib/python3.6/site-packages/Bio/PDB/PDBParser.py:399: PDBConstructionWarning: Ignoring unrecognized record 'END' at line 5288\n",
      "  PDBConstructionWarning,\n"
     ]
    },
    {
     "name": "stdout",
     "output_type": "stream",
     "text": [
      "Per residue ROC AUC: 0.49\n",
      "intpred_pred/intpred_pdbs/ Per point ROC AUC 3BH6_B : 0.45\n",
      "Per residue ROC AUC: 0.46\n",
      "intpred_pred/intpred_pdbs/ Per point ROC AUC 2I3T_A : 0.56\n"
     ]
    },
    {
     "name": "stderr",
     "output_type": "stream",
     "text": [
      "/home/khaos/miniconda3/envs/masif/lib/python3.6/site-packages/Bio/PDB/PDBParser.py:399: PDBConstructionWarning: Ignoring unrecognized record 'TER' at line 5814\n",
      "  PDBConstructionWarning,\n",
      "/home/khaos/miniconda3/envs/masif/lib/python3.6/site-packages/Bio/PDB/PDBParser.py:399: PDBConstructionWarning: Ignoring unrecognized record 'END' at line 5815\n",
      "  PDBConstructionWarning,\n",
      "/home/khaos/miniconda3/envs/masif/lib/python3.6/site-packages/Bio/PDB/PDBParser.py:399: PDBConstructionWarning: Ignoring unrecognized record 'TER' at line 5581\n",
      "  PDBConstructionWarning,\n",
      "/home/khaos/miniconda3/envs/masif/lib/python3.6/site-packages/Bio/PDB/PDBParser.py:399: PDBConstructionWarning: Ignoring unrecognized record 'END' at line 5582\n",
      "  PDBConstructionWarning,\n"
     ]
    },
    {
     "name": "stdout",
     "output_type": "stream",
     "text": [
      "Per residue ROC AUC: 0.49\n",
      "intpred_pred/intpred_pdbs/ Per point ROC AUC 4BKX_B : 0.47\n",
      "Per residue ROC AUC: 0.43\n",
      "intpred_pred/intpred_pdbs/ Per point ROC AUC 2AYO_A : 0.35\n"
     ]
    },
    {
     "name": "stderr",
     "output_type": "stream",
     "text": [
      "/home/khaos/miniconda3/envs/masif/lib/python3.6/site-packages/Bio/PDB/PDBParser.py:399: PDBConstructionWarning: Ignoring unrecognized record 'TER' at line 4830\n",
      "  PDBConstructionWarning,\n",
      "/home/khaos/miniconda3/envs/masif/lib/python3.6/site-packages/Bio/PDB/PDBParser.py:399: PDBConstructionWarning: Ignoring unrecognized record 'END' at line 4831\n",
      "  PDBConstructionWarning,\n",
      "/home/khaos/miniconda3/envs/masif/lib/python3.6/site-packages/Bio/PDB/PDBParser.py:399: PDBConstructionWarning: Ignoring unrecognized record 'TER' at line 3806\n",
      "  PDBConstructionWarning,\n",
      "/home/khaos/miniconda3/envs/masif/lib/python3.6/site-packages/Bio/PDB/PDBParser.py:399: PDBConstructionWarning: Ignoring unrecognized record 'END' at line 3807\n",
      "  PDBConstructionWarning,\n",
      "/home/khaos/miniconda3/envs/masif/lib/python3.6/site-packages/Bio/PDB/PDBParser.py:399: PDBConstructionWarning: Ignoring unrecognized record 'TER' at line 4146\n",
      "  PDBConstructionWarning,\n",
      "/home/khaos/miniconda3/envs/masif/lib/python3.6/site-packages/Bio/PDB/PDBParser.py:399: PDBConstructionWarning: Ignoring unrecognized record 'END' at line 4147\n",
      "  PDBConstructionWarning,\n"
     ]
    },
    {
     "name": "stdout",
     "output_type": "stream",
     "text": [
      "Per residue ROC AUC: 0.35\n",
      "intpred_pred/intpred_pdbs/ Per point ROC AUC 1XG2_A : 0.40\n",
      "Per residue ROC AUC: 0.42\n",
      "intpred_pred/intpred_pdbs/ Per point ROC AUC 4Y61_B : 0.39\n",
      "Per residue ROC AUC: 0.62\n",
      "intpred_pred/intpred_pdbs/ Per point ROC AUC 5J57_A : 0.62\n"
     ]
    },
    {
     "name": "stderr",
     "output_type": "stream",
     "text": [
      "/home/khaos/miniconda3/envs/masif/lib/python3.6/site-packages/Bio/PDB/PDBParser.py:399: PDBConstructionWarning: Ignoring unrecognized record 'TER' at line 4913\n",
      "  PDBConstructionWarning,\n",
      "/home/khaos/miniconda3/envs/masif/lib/python3.6/site-packages/Bio/PDB/PDBParser.py:399: PDBConstructionWarning: Ignoring unrecognized record 'END' at line 4914\n",
      "  PDBConstructionWarning,\n",
      "/home/khaos/miniconda3/envs/masif/lib/python3.6/site-packages/Bio/PDB/PDBParser.py:399: PDBConstructionWarning: Ignoring unrecognized record 'TER' at line 5286\n",
      "  PDBConstructionWarning,\n",
      "/home/khaos/miniconda3/envs/masif/lib/python3.6/site-packages/Bio/PDB/PDBParser.py:399: PDBConstructionWarning: Ignoring unrecognized record 'END' at line 5287\n",
      "  PDBConstructionWarning,\n"
     ]
    },
    {
     "name": "stdout",
     "output_type": "stream",
     "text": [
      "Per residue ROC AUC: 0.43\n",
      "intpred_pred/intpred_pdbs/ Per point ROC AUC 4X33_B : 0.33\n",
      "Per residue ROC AUC: 0.26\n",
      "intpred_pred/intpred_pdbs/ Per point ROC AUC 3SJA_I : 0.44\n"
     ]
    },
    {
     "name": "stderr",
     "output_type": "stream",
     "text": [
      "/home/khaos/miniconda3/envs/masif/lib/python3.6/site-packages/Bio/PDB/PDBParser.py:399: PDBConstructionWarning: Ignoring unrecognized record 'TER' at line 4492\n",
      "  PDBConstructionWarning,\n",
      "/home/khaos/miniconda3/envs/masif/lib/python3.6/site-packages/Bio/PDB/PDBParser.py:399: PDBConstructionWarning: Ignoring unrecognized record 'END' at line 4493\n",
      "  PDBConstructionWarning,\n",
      "/home/khaos/miniconda3/envs/masif/lib/python3.6/site-packages/Bio/PDB/PDBParser.py:399: PDBConstructionWarning: Ignoring unrecognized record 'TER' at line 5754\n",
      "  PDBConstructionWarning,\n",
      "/home/khaos/miniconda3/envs/masif/lib/python3.6/site-packages/Bio/PDB/PDBParser.py:399: PDBConstructionWarning: Ignoring unrecognized record 'END' at line 5755\n",
      "  PDBConstructionWarning,\n"
     ]
    },
    {
     "name": "stdout",
     "output_type": "stream",
     "text": [
      "Per residue ROC AUC: 0.60\n",
      "intpred_pred/intpred_pdbs/ Per point ROC AUC 3QML_D : 0.56\n",
      "Per residue ROC AUC: 0.38\n",
      "intpred_pred/intpred_pdbs/ Per point ROC AUC 1I2M_B : 0.40\n"
     ]
    },
    {
     "name": "stderr",
     "output_type": "stream",
     "text": [
      "/home/khaos/miniconda3/envs/masif/lib/python3.6/site-packages/Bio/PDB/PDBParser.py:399: PDBConstructionWarning: Ignoring unrecognized record 'TER' at line 6084\n",
      "  PDBConstructionWarning,\n",
      "/home/khaos/miniconda3/envs/masif/lib/python3.6/site-packages/Bio/PDB/PDBParser.py:399: PDBConstructionWarning: Ignoring unrecognized record 'END' at line 6085\n",
      "  PDBConstructionWarning,\n",
      "/home/khaos/miniconda3/envs/masif/lib/python3.6/site-packages/Bio/PDB/PDBParser.py:399: PDBConstructionWarning: Ignoring unrecognized record 'TER' at line 4753\n",
      "  PDBConstructionWarning,\n",
      "/home/khaos/miniconda3/envs/masif/lib/python3.6/site-packages/Bio/PDB/PDBParser.py:399: PDBConstructionWarning: Ignoring unrecognized record 'END' at line 4754\n",
      "  PDBConstructionWarning,\n",
      "/home/khaos/miniconda3/envs/masif/lib/python3.6/site-packages/Bio/PDB/PDBParser.py:399: PDBConstructionWarning: Ignoring unrecognized record 'TER' at line 4755\n",
      "  PDBConstructionWarning,\n",
      "/home/khaos/miniconda3/envs/masif/lib/python3.6/site-packages/Bio/PDB/PDBParser.py:399: PDBConstructionWarning: Ignoring unrecognized record 'END' at line 4756\n",
      "  PDBConstructionWarning,\n"
     ]
    },
    {
     "name": "stdout",
     "output_type": "stream",
     "text": [
      "Per residue ROC AUC: 0.47\n",
      "intpred_pred/intpred_pdbs/ Per point ROC AUC 3H6G_B : 0.47\n",
      "Per residue ROC AUC: 0.26\n",
      "intpred_pred/intpred_pdbs/ Per point ROC AUC 1EWY_A : 0.30\n",
      "Per residue ROC AUC: 0.41\n",
      "intpred_pred/intpred_pdbs/ Per point ROC AUC 4DVG_B : 0.41\n"
     ]
    },
    {
     "name": "stderr",
     "output_type": "stream",
     "text": [
      "/home/khaos/miniconda3/envs/masif/lib/python3.6/site-packages/Bio/PDB/PDBParser.py:399: PDBConstructionWarning: Ignoring unrecognized record 'TER' at line 4224\n",
      "  PDBConstructionWarning,\n",
      "/home/khaos/miniconda3/envs/masif/lib/python3.6/site-packages/Bio/PDB/PDBParser.py:399: PDBConstructionWarning: Ignoring unrecognized record 'END' at line 4225\n",
      "  PDBConstructionWarning,\n",
      "/home/khaos/miniconda3/envs/masif/lib/python3.6/site-packages/Bio/PDB/PDBParser.py:399: PDBConstructionWarning: Ignoring unrecognized record 'TER' at line 4816\n",
      "  PDBConstructionWarning,\n",
      "/home/khaos/miniconda3/envs/masif/lib/python3.6/site-packages/Bio/PDB/PDBParser.py:399: PDBConstructionWarning: Ignoring unrecognized record 'END' at line 4817\n",
      "  PDBConstructionWarning,\n"
     ]
    },
    {
     "name": "stdout",
     "output_type": "stream",
     "text": [
      "Per residue ROC AUC: 0.45\n",
      "intpred_pred/intpred_pdbs/ Per point ROC AUC 4YEB_A : 0.47\n",
      "Per residue ROC AUC: 0.60\n",
      "intpred_pred/intpred_pdbs/ Per point ROC AUC 1F6M_A : 0.51\n"
     ]
    },
    {
     "name": "stderr",
     "output_type": "stream",
     "text": [
      "/home/khaos/miniconda3/envs/masif/lib/python3.6/site-packages/Bio/PDB/PDBParser.py:399: PDBConstructionWarning: Ignoring unrecognized record 'TER' at line 5207\n",
      "  PDBConstructionWarning,\n",
      "/home/khaos/miniconda3/envs/masif/lib/python3.6/site-packages/Bio/PDB/PDBParser.py:399: PDBConstructionWarning: Ignoring unrecognized record 'END' at line 5208\n",
      "  PDBConstructionWarning,\n",
      "/home/khaos/miniconda3/envs/masif/lib/python3.6/site-packages/Bio/PDB/PDBParser.py:399: PDBConstructionWarning: Ignoring unrecognized record 'TER' at line 5101\n",
      "  PDBConstructionWarning,\n",
      "/home/khaos/miniconda3/envs/masif/lib/python3.6/site-packages/Bio/PDB/PDBParser.py:399: PDBConstructionWarning: Ignoring unrecognized record 'END' at line 5102\n",
      "  PDBConstructionWarning,\n"
     ]
    },
    {
     "name": "stdout",
     "output_type": "stream",
     "text": [
      "Per residue ROC AUC: 0.46\n",
      "intpred_pred/intpred_pdbs/ Per point ROC AUC 4LVN_A : 0.48\n",
      "Per residue ROC AUC: 0.57\n",
      "intpred_pred/intpred_pdbs/ Per point ROC AUC 3RT0_A : 0.57\n",
      "Number of proteins: 50\n",
      "IntPred Global ROC AUC: 0.5049\n",
      "IntPred Global ROC AUC per residue: 0.5367\n",
      "IntPred Median ROC AUC per protein : 0.4939\n",
      "IntPred Median ROC AUC per residue per protein: 0.4810\n"
     ]
    },
    {
     "name": "stderr",
     "output_type": "stream",
     "text": [
      "/home/khaos/miniconda3/envs/masif/lib/python3.6/site-packages/seaborn/distributions.py:2551: FutureWarning: `distplot` is a deprecated function and will be removed in a future version. Please adapt your code to use either `displot` (a figure-level function with similar flexibility) or `histplot` (an axes-level function for histograms).\n",
      "  warnings.warn(msg, FutureWarning)\n",
      "/home/khaos/miniconda3/envs/masif/lib/python3.6/site-packages/seaborn/distributions.py:2551: FutureWarning: `distplot` is a deprecated function and will be removed in a future version. Please adapt your code to use either `displot` (a figure-level function with similar flexibility) or `histplot` (an axes-level function for histograms).\n",
      "  warnings.warn(msg, FutureWarning)\n",
      "/home/khaos/miniconda3/envs/masif/lib/python3.6/site-packages/ipykernel_launcher.py:62: UserWarning: Legend does not support 't' instances.\n",
      "A proxy artist may be used instead.\n",
      "See: https://matplotlib.org/users/legend_guide.html#creating-artists-specifically-for-adding-to-the-legend-aka-proxy-artists\n",
      "/home/khaos/miniconda3/envs/masif/lib/python3.6/site-packages/ipykernel_launcher.py:62: UserWarning: Legend does not support 'r' instances.\n",
      "A proxy artist may be used instead.\n",
      "See: https://matplotlib.org/users/legend_guide.html#creating-artists-specifically-for-adding-to-the-legend-aka-proxy-artists\n",
      "/home/khaos/miniconda3/envs/masif/lib/python3.6/site-packages/ipykernel_launcher.py:62: UserWarning: Legend does not support 'u' instances.\n",
      "A proxy artist may be used instead.\n",
      "See: https://matplotlib.org/users/legend_guide.html#creating-artists-specifically-for-adding-to-the-legend-aka-proxy-artists\n",
      "/home/khaos/miniconda3/envs/masif/lib/python3.6/site-packages/ipykernel_launcher.py:62: UserWarning: Legend does not support 'e' instances.\n",
      "A proxy artist may be used instead.\n",
      "See: https://matplotlib.org/users/legend_guide.html#creating-artists-specifically-for-adding-to-the-legend-aka-proxy-artists\n",
      "/home/khaos/miniconda3/envs/masif/lib/python3.6/site-packages/ipykernel_launcher.py:62: UserWarning: Legend does not support ' ' instances.\n",
      "A proxy artist may be used instead.\n",
      "See: https://matplotlib.org/users/legend_guide.html#creating-artists-specifically-for-adding-to-the-legend-aka-proxy-artists\n",
      "/home/khaos/miniconda3/envs/masif/lib/python3.6/site-packages/ipykernel_launcher.py:62: UserWarning: Legend does not support 'p' instances.\n",
      "A proxy artist may be used instead.\n",
      "See: https://matplotlib.org/users/legend_guide.html#creating-artists-specifically-for-adding-to-the-legend-aka-proxy-artists\n",
      "/home/khaos/miniconda3/envs/masif/lib/python3.6/site-packages/ipykernel_launcher.py:62: UserWarning: Legend does not support 'o' instances.\n",
      "A proxy artist may be used instead.\n",
      "See: https://matplotlib.org/users/legend_guide.html#creating-artists-specifically-for-adding-to-the-legend-aka-proxy-artists\n",
      "/home/khaos/miniconda3/envs/masif/lib/python3.6/site-packages/ipykernel_launcher.py:62: UserWarning: Legend does not support 's' instances.\n",
      "A proxy artist may be used instead.\n",
      "See: https://matplotlib.org/users/legend_guide.html#creating-artists-specifically-for-adding-to-the-legend-aka-proxy-artists\n",
      "/home/khaos/miniconda3/envs/masif/lib/python3.6/site-packages/ipykernel_launcher.py:62: UserWarning: Legend does not support 'i' instances.\n",
      "A proxy artist may be used instead.\n",
      "See: https://matplotlib.org/users/legend_guide.html#creating-artists-specifically-for-adding-to-the-legend-aka-proxy-artists\n",
      "/home/khaos/miniconda3/envs/masif/lib/python3.6/site-packages/ipykernel_launcher.py:62: UserWarning: Legend does not support 'v' instances.\n",
      "A proxy artist may be used instead.\n",
      "See: https://matplotlib.org/users/legend_guide.html#creating-artists-specifically-for-adding-to-the-legend-aka-proxy-artists\n"
     ]
    },
    {
     "data": {
      "text/plain": [
       "<matplotlib.legend.Legend at 0x7ff52c992588>"
      ]
     },
     "execution_count": 8,
     "metadata": {},
     "output_type": "execute_result"
    },
    {
     "data": {
      "image/png": "[encoded data removed]",
      "text/plain": [
       "<Figure size 432x288 with 1 Axes>"
      ]
     },
     "metadata": {
      "needs_background": "light"
     },
     "output_type": "display_data"
    }
   ],
   "source": [
    "# Benchmark IntPred\n",
    "   \n",
    "all_pred = []\n",
    "all_labels = []\n",
    "\n",
    "all_pred_res = []\n",
    "all_labels_res = []\n",
    "\n",
    "all_roc_auc_per_prot_intpred = []\n",
    "all_res_roc_auc_per_prot_intpred = []\n",
    "\n",
    "for fn in os.listdir(intpred_pred_dir):  \n",
    "    \n",
    "    pdbid_chain = fn.split('.')[0]\n",
    "    pdbid = pdbid_chain.split('_')[0]\n",
    "    if pdbid not in transient_pdbs: \n",
    "        continue\n",
    "\n",
    "    l, p, res_l, res_p, roc_auc, res_roc_auc = compute_roc_auc_sppider_intpred_psiver(intpred_pred_dir, pdbid_chain)\n",
    "\n",
    "    all_pred.append(p)\n",
    "    all_labels.append(l)\n",
    "    \n",
    "    all_pred_res.append(res_p)\n",
    "    all_labels_res.append(res_l)\n",
    "    \n",
    "    all_roc_auc_per_prot_intpred.append(roc_auc)\n",
    "    all_res_roc_auc_per_prot_intpred.append(res_roc_auc)\n",
    "    \n",
    "print(\"Number of proteins: {}\".format(len(all_pred)))\n",
    "\n",
    "all_pred = np.concatenate(all_pred, axis=0)\n",
    "all_labels = np.concatenate(all_labels, axis=0)\n",
    "\n",
    "all_pred_by_point_intpred = all_pred.copy()\n",
    "all_labels_by_point_intpred = all_labels.copy()\n",
    "\n",
    "#print(metrics.roc_auc_score(all_my_labels_per_res, all_my_pred_per_res))\n",
    "\n",
    "all_labels_res = np.concatenate(all_labels_res, axis=0)\n",
    "\n",
    "all_pred_res = np.concatenate(all_pred_res, axis=0)\n",
    "\n",
    "\n",
    "all_roc_auc = sklearn.metrics.roc_auc_score(all_labels, all_pred)\n",
    "all_roc_auc_res = sklearn.metrics.roc_auc_score(all_labels_res, all_pred_res)\n",
    "\n",
    "\n",
    "\n",
    "print('IntPred Global ROC AUC: {:.4f}'.format(all_roc_auc))\n",
    "print('IntPred Global ROC AUC per residue: {:.4f}'.format(all_roc_auc_res))\n",
    "\n",
    "print('IntPred Median ROC AUC per protein : {:.4f}'.format(np.median(all_roc_auc_per_prot_intpred)))\n",
    "print('IntPred Median ROC AUC per residue per protein: {:.4f}'.format(np.median(all_res_roc_auc_per_prot_intpred)))\n",
    "\n",
    "pos_label = np.where(all_labels_res == 1)[0]\n",
    "pos = all_pred_res[pos_label]\n",
    "neg_label = np.where(all_labels_res == 0)[0]\n",
    "neg = all_pred_res[neg_label]\n",
    "sns.distplot(pos, hist=True, color='r', kde_kws={\"shade\": True}, norm_hist=True, label='true positives')\n",
    "sns.distplot(neg, hist=True, color='b', kde_kws={\"shade\": True}, norm_hist=True, label='true negatives')\n",
    "plt.legend('true positives', 'true negatives')"
   ]
  },
  {
   "cell_type": "code",
   "execution_count": 9,
   "metadata": {
    "scrolled": true
   },
   "outputs": [
    {
     "name": "stderr",
     "output_type": "stream",
     "text": [
      "/home/khaos/miniconda3/envs/masif/lib/python3.6/site-packages/Bio/PDB/PDBParser.py:399: PDBConstructionWarning: Ignoring unrecognized record 'TER' at line 4112\n",
      "  PDBConstructionWarning,\n",
      "/home/khaos/miniconda3/envs/masif/lib/python3.6/site-packages/Bio/PDB/PDBParser.py:399: PDBConstructionWarning: Ignoring unrecognized record 'END' at line 4113\n",
      "  PDBConstructionWarning,\n",
      "/home/khaos/miniconda3/envs/masif/lib/python3.6/site-packages/Bio/PDB/PDBParser.py:399: PDBConstructionWarning: Ignoring unrecognized record 'TER' at line 3786\n",
      "  PDBConstructionWarning,\n",
      "/home/khaos/miniconda3/envs/masif/lib/python3.6/site-packages/Bio/PDB/PDBParser.py:399: PDBConstructionWarning: Ignoring unrecognized record 'END' at line 3787\n",
      "  PDBConstructionWarning,\n",
      "/home/khaos/miniconda3/envs/masif/lib/python3.6/site-packages/Bio/PDB/PDBParser.py:399: PDBConstructionWarning: Ignoring unrecognized record 'TER' at line 5338\n",
      "  PDBConstructionWarning,\n",
      "/home/khaos/miniconda3/envs/masif/lib/python3.6/site-packages/Bio/PDB/PDBParser.py:399: PDBConstructionWarning: Ignoring unrecognized record 'END' at line 5339\n",
      "  PDBConstructionWarning,\n"
     ]
    },
    {
     "name": "stdout",
     "output_type": "stream",
     "text": [
      "Per residue ROC AUC: 0.81\n",
      "psiver_pred/psiver_pdbs/ Per point ROC AUC 1XQS_A : 0.81\n",
      "Per residue ROC AUC: 0.91\n",
      "psiver_pred/psiver_pdbs/ Per point ROC AUC 1JTD_B : 0.83\n",
      "Per residue ROC AUC: 0.33\n",
      "psiver_pred/psiver_pdbs/ Per point ROC AUC 5TIH_A : 0.32\n"
     ]
    },
    {
     "name": "stderr",
     "output_type": "stream",
     "text": [
      "/home/khaos/miniconda3/envs/masif/lib/python3.6/site-packages/Bio/PDB/PDBParser.py:399: PDBConstructionWarning: Ignoring unrecognized record 'TER' at line 3786\n",
      "  PDBConstructionWarning,\n",
      "/home/khaos/miniconda3/envs/masif/lib/python3.6/site-packages/Bio/PDB/PDBParser.py:399: PDBConstructionWarning: Ignoring unrecognized record 'END' at line 3787\n",
      "  PDBConstructionWarning,\n",
      "/home/khaos/miniconda3/envs/masif/lib/python3.6/site-packages/Bio/PDB/PDBParser.py:399: PDBConstructionWarning: Ignoring unrecognized record 'TER' at line 5282\n",
      "  PDBConstructionWarning,\n",
      "/home/khaos/miniconda3/envs/masif/lib/python3.6/site-packages/Bio/PDB/PDBParser.py:399: PDBConstructionWarning: Ignoring unrecognized record 'END' at line 5283\n",
      "  PDBConstructionWarning,\n"
     ]
    },
    {
     "name": "stdout",
     "output_type": "stream",
     "text": [
      "Per residue ROC AUC: 0.76\n",
      "psiver_pred/psiver_pdbs/ Per point ROC AUC 4XL5_C : 0.73\n",
      "Per residue ROC AUC: 0.49\n",
      "psiver_pred/psiver_pdbs/ Per point ROC AUC 3ZWL_B : 0.49\n"
     ]
    },
    {
     "name": "stderr",
     "output_type": "stream",
     "text": [
      "/home/khaos/miniconda3/envs/masif/lib/python3.6/site-packages/Bio/PDB/PDBParser.py:399: PDBConstructionWarning: Ignoring unrecognized record 'TER' at line 5473\n",
      "  PDBConstructionWarning,\n",
      "/home/khaos/miniconda3/envs/masif/lib/python3.6/site-packages/Bio/PDB/PDBParser.py:399: PDBConstructionWarning: Ignoring unrecognized record 'END' at line 5474\n",
      "  PDBConstructionWarning,\n",
      "/home/khaos/miniconda3/envs/masif/lib/python3.6/site-packages/Bio/PDB/PDBParser.py:399: PDBConstructionWarning: Ignoring unrecognized record 'TER' at line 6055\n",
      "  PDBConstructionWarning,\n",
      "/home/khaos/miniconda3/envs/masif/lib/python3.6/site-packages/Bio/PDB/PDBParser.py:399: PDBConstructionWarning: Ignoring unrecognized record 'END' at line 6056\n",
      "  PDBConstructionWarning,\n"
     ]
    },
    {
     "name": "stdout",
     "output_type": "stream",
     "text": [
      "Per residue ROC AUC: 0.66\n",
      "psiver_pred/psiver_pdbs/ Per point ROC AUC 3MCA_B : 0.57\n",
      "Per residue ROC AUC: 0.65\n",
      "psiver_pred/psiver_pdbs/ Per point ROC AUC 3NVN_A : 0.55\n"
     ]
    },
    {
     "name": "stderr",
     "output_type": "stream",
     "text": [
      "/home/khaos/miniconda3/envs/masif/lib/python3.6/site-packages/Bio/PDB/PDBParser.py:399: PDBConstructionWarning: Ignoring unrecognized record 'TER' at line 5915\n",
      "  PDBConstructionWarning,\n",
      "/home/khaos/miniconda3/envs/masif/lib/python3.6/site-packages/Bio/PDB/PDBParser.py:399: PDBConstructionWarning: Ignoring unrecognized record 'END' at line 5916\n",
      "  PDBConstructionWarning,\n",
      "/home/khaos/miniconda3/envs/masif/lib/python3.6/site-packages/Bio/PDB/PDBParser.py:399: PDBConstructionWarning: Ignoring unrecognized record 'TER' at line 5282\n",
      "  PDBConstructionWarning,\n",
      "/home/khaos/miniconda3/envs/masif/lib/python3.6/site-packages/Bio/PDB/PDBParser.py:399: PDBConstructionWarning: Ignoring unrecognized record 'END' at line 5283\n",
      "  PDBConstructionWarning,\n"
     ]
    },
    {
     "name": "stdout",
     "output_type": "stream",
     "text": [
      "Per residue ROC AUC: 0.66\n",
      "psiver_pred/psiver_pdbs/ Per point ROC AUC 4ZGY_A : 0.57\n",
      "Per residue ROC AUC: 0.51\n",
      "psiver_pred/psiver_pdbs/ Per point ROC AUC 1W1W_B : 0.44\n"
     ]
    },
    {
     "name": "stderr",
     "output_type": "stream",
     "text": [
      "/home/khaos/miniconda3/envs/masif/lib/python3.6/site-packages/Bio/PDB/PDBParser.py:399: PDBConstructionWarning: Ignoring unrecognized record 'TER' at line 6030\n",
      "  PDBConstructionWarning,\n",
      "/home/khaos/miniconda3/envs/masif/lib/python3.6/site-packages/Bio/PDB/PDBParser.py:399: PDBConstructionWarning: Ignoring unrecognized record 'END' at line 6031\n",
      "  PDBConstructionWarning,\n",
      "/home/khaos/miniconda3/envs/masif/lib/python3.6/site-packages/Bio/PDB/PDBParser.py:399: PDBConstructionWarning: Ignoring unrecognized record 'TER' at line 4544\n",
      "  PDBConstructionWarning,\n",
      "/home/khaos/miniconda3/envs/masif/lib/python3.6/site-packages/Bio/PDB/PDBParser.py:399: PDBConstructionWarning: Ignoring unrecognized record 'END' at line 4545\n",
      "  PDBConstructionWarning,\n"
     ]
    },
    {
     "name": "stdout",
     "output_type": "stream",
     "text": [
      "Per residue ROC AUC: 0.41\n",
      "psiver_pred/psiver_pdbs/ Per point ROC AUC 4ETP_A : 0.35\n",
      "Per residue ROC AUC: 0.68\n",
      "psiver_pred/psiver_pdbs/ Per point ROC AUC 2C0L_A : 0.63\n",
      "Per residue ROC AUC: 0.60\n"
     ]
    },
    {
     "name": "stderr",
     "output_type": "stream",
     "text": [
      "/home/khaos/miniconda3/envs/masif/lib/python3.6/site-packages/Bio/PDB/PDBParser.py:399: PDBConstructionWarning: Ignoring unrecognized record 'TER' at line 4946\n",
      "  PDBConstructionWarning,\n",
      "/home/khaos/miniconda3/envs/masif/lib/python3.6/site-packages/Bio/PDB/PDBParser.py:399: PDBConstructionWarning: Ignoring unrecognized record 'END' at line 4947\n",
      "  PDBConstructionWarning,\n",
      "/home/khaos/miniconda3/envs/masif/lib/python3.6/site-packages/Bio/PDB/PDBParser.py:399: PDBConstructionWarning: Ignoring unrecognized record 'TER' at line 5628\n",
      "  PDBConstructionWarning,\n",
      "/home/khaos/miniconda3/envs/masif/lib/python3.6/site-packages/Bio/PDB/PDBParser.py:399: PDBConstructionWarning: Ignoring unrecognized record 'END' at line 5629\n",
      "  PDBConstructionWarning,\n"
     ]
    },
    {
     "name": "stdout",
     "output_type": "stream",
     "text": [
      "psiver_pred/psiver_pdbs/ Per point ROC AUC 4M0W_A : 0.61\n",
      "Per residue ROC AUC: 0.50\n",
      "psiver_pred/psiver_pdbs/ Per point ROC AUC 2QXV_A : 0.54\n"
     ]
    },
    {
     "name": "stderr",
     "output_type": "stream",
     "text": [
      "/home/khaos/miniconda3/envs/masif/lib/python3.6/site-packages/Bio/PDB/PDBParser.py:399: PDBConstructionWarning: Ignoring unrecognized record 'TER' at line 5987\n",
      "  PDBConstructionWarning,\n",
      "/home/khaos/miniconda3/envs/masif/lib/python3.6/site-packages/Bio/PDB/PDBParser.py:399: PDBConstructionWarning: Ignoring unrecognized record 'END' at line 5988\n",
      "  PDBConstructionWarning,\n",
      "/home/khaos/miniconda3/envs/masif/lib/python3.6/site-packages/Bio/PDB/PDBParser.py:399: PDBConstructionWarning: Ignoring unrecognized record 'TER' at line 4841\n",
      "  PDBConstructionWarning,\n",
      "/home/khaos/miniconda3/envs/masif/lib/python3.6/site-packages/Bio/PDB/PDBParser.py:399: PDBConstructionWarning: Ignoring unrecognized record 'END' at line 4842\n",
      "  PDBConstructionWarning,\n"
     ]
    },
    {
     "name": "stdout",
     "output_type": "stream",
     "text": [
      "Per residue ROC AUC: 0.52\n",
      "psiver_pred/psiver_pdbs/ Per point ROC AUC 1WDW_H : 0.50\n",
      "Per residue ROC AUC: 0.57\n",
      "psiver_pred/psiver_pdbs/ Per point ROC AUC 4YC7_B : 0.54\n"
     ]
    },
    {
     "name": "stderr",
     "output_type": "stream",
     "text": [
      "/home/khaos/miniconda3/envs/masif/lib/python3.6/site-packages/Bio/PDB/PDBParser.py:399: PDBConstructionWarning: Ignoring unrecognized record 'TER' at line 5747\n",
      "  PDBConstructionWarning,\n",
      "/home/khaos/miniconda3/envs/masif/lib/python3.6/site-packages/Bio/PDB/PDBParser.py:399: PDBConstructionWarning: Ignoring unrecognized record 'END' at line 5748\n",
      "  PDBConstructionWarning,\n",
      "/home/khaos/miniconda3/envs/masif/lib/python3.6/site-packages/Bio/PDB/PDBParser.py:399: PDBConstructionWarning: Ignoring unrecognized record 'TER' at line 4584\n",
      "  PDBConstructionWarning,\n",
      "/home/khaos/miniconda3/envs/masif/lib/python3.6/site-packages/Bio/PDB/PDBParser.py:399: PDBConstructionWarning: Ignoring unrecognized record 'END' at line 4585\n",
      "  PDBConstructionWarning,\n",
      "/home/khaos/miniconda3/envs/masif/lib/python3.6/site-packages/Bio/PDB/PDBParser.py:399: PDBConstructionWarning: Ignoring unrecognized record 'TER' at line 4495\n",
      "  PDBConstructionWarning,\n",
      "/home/khaos/miniconda3/envs/masif/lib/python3.6/site-packages/Bio/PDB/PDBParser.py:399: PDBConstructionWarning: Ignoring unrecognized record 'END' at line 4496\n",
      "  PDBConstructionWarning,\n"
     ]
    },
    {
     "name": "stdout",
     "output_type": "stream",
     "text": [
      "Per residue ROC AUC: 0.58\n",
      "psiver_pred/psiver_pdbs/ Per point ROC AUC 3VYR_B : 0.56\n",
      "Per residue ROC AUC: 0.50\n",
      "psiver_pred/psiver_pdbs/ Per point ROC AUC 3VV2_A : 0.54\n",
      "Per residue ROC AUC: 0.62\n",
      "psiver_pred/psiver_pdbs/ Per point ROC AUC 3O5T_A : 0.53\n"
     ]
    },
    {
     "name": "stderr",
     "output_type": "stream",
     "text": [
      "/home/khaos/miniconda3/envs/masif/lib/python3.6/site-packages/Bio/PDB/PDBParser.py:399: PDBConstructionWarning: Ignoring unrecognized record 'TER' at line 4483\n",
      "  PDBConstructionWarning,\n",
      "/home/khaos/miniconda3/envs/masif/lib/python3.6/site-packages/Bio/PDB/PDBParser.py:399: PDBConstructionWarning: Ignoring unrecognized record 'END' at line 4484\n",
      "  PDBConstructionWarning,\n",
      "/home/khaos/miniconda3/envs/masif/lib/python3.6/site-packages/Bio/PDB/PDBParser.py:399: PDBConstructionWarning: Ignoring unrecognized record 'TER' at line 5478\n",
      "  PDBConstructionWarning,\n",
      "/home/khaos/miniconda3/envs/masif/lib/python3.6/site-packages/Bio/PDB/PDBParser.py:399: PDBConstructionWarning: Ignoring unrecognized record 'END' at line 5479\n",
      "  PDBConstructionWarning,\n"
     ]
    },
    {
     "name": "stdout",
     "output_type": "stream",
     "text": [
      "Per residue ROC AUC: 0.70\n",
      "psiver_pred/psiver_pdbs/ Per point ROC AUC 4C9B_B : 0.67\n",
      "Per residue ROC AUC: 0.65\n",
      "psiver_pred/psiver_pdbs/ Per point ROC AUC 1ZHH_A : 0.54\n"
     ]
    },
    {
     "name": "stderr",
     "output_type": "stream",
     "text": [
      "/home/khaos/miniconda3/envs/masif/lib/python3.6/site-packages/Bio/PDB/PDBParser.py:399: PDBConstructionWarning: Ignoring unrecognized record 'TER' at line 3686\n",
      "  PDBConstructionWarning,\n",
      "/home/khaos/miniconda3/envs/masif/lib/python3.6/site-packages/Bio/PDB/PDBParser.py:399: PDBConstructionWarning: Ignoring unrecognized record 'END' at line 3687\n",
      "  PDBConstructionWarning,\n",
      "/home/khaos/miniconda3/envs/masif/lib/python3.6/site-packages/Bio/PDB/PDBParser.py:399: PDBConstructionWarning: Ignoring unrecognized record 'TER' at line 5128\n",
      "  PDBConstructionWarning,\n",
      "/home/khaos/miniconda3/envs/masif/lib/python3.6/site-packages/Bio/PDB/PDBParser.py:399: PDBConstructionWarning: Ignoring unrecognized record 'END' at line 5129\n",
      "  PDBConstructionWarning,\n"
     ]
    },
    {
     "name": "stdout",
     "output_type": "stream",
     "text": [
      "Per residue ROC AUC: 0.55\n",
      "psiver_pred/psiver_pdbs/ Per point ROC AUC 2XWT_C : 0.56\n",
      "Per residue ROC AUC: 0.45\n",
      "psiver_pred/psiver_pdbs/ Per point ROC AUC 2PMS_A : 0.47\n",
      "Per residue ROC AUC: 0.69\n",
      "psiver_pred/psiver_pdbs/ Per point ROC AUC 3WN7_A : 0.69\n",
      "Per residue ROC AUC: 0.32\n",
      "psiver_pred/psiver_pdbs/ Per point ROC AUC 1NCA_N : 0.38\n"
     ]
    },
    {
     "name": "stderr",
     "output_type": "stream",
     "text": [
      "/home/khaos/miniconda3/envs/masif/lib/python3.6/site-packages/Bio/PDB/PDBParser.py:399: PDBConstructionWarning: Ignoring unrecognized record 'TER' at line 4290\n",
      "  PDBConstructionWarning,\n",
      "/home/khaos/miniconda3/envs/masif/lib/python3.6/site-packages/Bio/PDB/PDBParser.py:399: PDBConstructionWarning: Ignoring unrecognized record 'END' at line 4291\n",
      "  PDBConstructionWarning,\n",
      "/home/khaos/miniconda3/envs/masif/lib/python3.6/site-packages/Bio/PDB/PDBParser.py:399: PDBConstructionWarning: Ignoring unrecognized record 'TER' at line 5986\n",
      "  PDBConstructionWarning,\n",
      "/home/khaos/miniconda3/envs/masif/lib/python3.6/site-packages/Bio/PDB/PDBParser.py:399: PDBConstructionWarning: Ignoring unrecognized record 'END' at line 5987\n",
      "  PDBConstructionWarning,\n",
      "/home/khaos/miniconda3/envs/masif/lib/python3.6/site-packages/Bio/PDB/PDBParser.py:399: PDBConstructionWarning: Ignoring unrecognized record 'TER' at line 5952\n",
      "  PDBConstructionWarning,\n",
      "/home/khaos/miniconda3/envs/masif/lib/python3.6/site-packages/Bio/PDB/PDBParser.py:399: PDBConstructionWarning: Ignoring unrecognized record 'END' at line 5953\n",
      "  PDBConstructionWarning,\n"
     ]
    },
    {
     "name": "stdout",
     "output_type": "stream",
     "text": [
      "Per residue ROC AUC: 0.62\n",
      "psiver_pred/psiver_pdbs/ Per point ROC AUC 3FHC_A : 0.67\n",
      "Per residue ROC AUC: 0.52\n",
      "psiver_pred/psiver_pdbs/ Per point ROC AUC 2V9T_B : 0.57\n",
      "Per residue ROC AUC: 0.44\n",
      "psiver_pred/psiver_pdbs/ Per point ROC AUC 4ZRJ_A : 0.45\n"
     ]
    },
    {
     "name": "stderr",
     "output_type": "stream",
     "text": [
      "/home/khaos/miniconda3/envs/masif/lib/python3.6/site-packages/Bio/PDB/PDBParser.py:399: PDBConstructionWarning: Ignoring unrecognized record 'TER' at line 3323\n",
      "  PDBConstructionWarning,\n",
      "/home/khaos/miniconda3/envs/masif/lib/python3.6/site-packages/Bio/PDB/PDBParser.py:399: PDBConstructionWarning: Ignoring unrecognized record 'END' at line 3324\n",
      "  PDBConstructionWarning,\n",
      "/home/khaos/miniconda3/envs/masif/lib/python3.6/site-packages/Bio/PDB/PDBParser.py:399: PDBConstructionWarning: Ignoring unrecognized record 'TER' at line 4850\n",
      "  PDBConstructionWarning,\n",
      "/home/khaos/miniconda3/envs/masif/lib/python3.6/site-packages/Bio/PDB/PDBParser.py:399: PDBConstructionWarning: Ignoring unrecognized record 'END' at line 4851\n",
      "  PDBConstructionWarning,\n",
      "/home/khaos/miniconda3/envs/masif/lib/python3.6/site-packages/Bio/PDB/PDBParser.py:399: PDBConstructionWarning: Ignoring unrecognized record 'TER' at line 4710\n",
      "  PDBConstructionWarning,\n",
      "/home/khaos/miniconda3/envs/masif/lib/python3.6/site-packages/Bio/PDB/PDBParser.py:399: PDBConstructionWarning: Ignoring unrecognized record 'END' at line 4711\n",
      "  PDBConstructionWarning,\n"
     ]
    },
    {
     "name": "stdout",
     "output_type": "stream",
     "text": [
      "Per residue ROC AUC: 0.46\n",
      "psiver_pred/psiver_pdbs/ Per point ROC AUC 4ETP_B : 0.39\n",
      "Per residue ROC AUC: 0.53\n",
      "psiver_pred/psiver_pdbs/ Per point ROC AUC 4V0O_F : 0.52\n"
     ]
    },
    {
     "name": "stderr",
     "output_type": "stream",
     "text": [
      "/home/khaos/miniconda3/envs/masif/lib/python3.6/site-packages/Bio/PDB/PDBParser.py:399: PDBConstructionWarning: Ignoring unrecognized record 'TER' at line 4384\n",
      "  PDBConstructionWarning,\n",
      "/home/khaos/miniconda3/envs/masif/lib/python3.6/site-packages/Bio/PDB/PDBParser.py:399: PDBConstructionWarning: Ignoring unrecognized record 'END' at line 4385\n",
      "  PDBConstructionWarning,\n",
      "/home/khaos/miniconda3/envs/masif/lib/python3.6/site-packages/Bio/PDB/PDBParser.py:399: PDBConstructionWarning: Ignoring unrecognized record 'TER' at line 4856\n",
      "  PDBConstructionWarning,\n",
      "/home/khaos/miniconda3/envs/masif/lib/python3.6/site-packages/Bio/PDB/PDBParser.py:399: PDBConstructionWarning: Ignoring unrecognized record 'END' at line 4857\n",
      "  PDBConstructionWarning,\n",
      "/home/khaos/miniconda3/envs/masif/lib/python3.6/site-packages/Bio/PDB/PDBParser.py:399: PDBConstructionWarning: Ignoring unrecognized record 'TER' at line 5144\n",
      "  PDBConstructionWarning,\n",
      "/home/khaos/miniconda3/envs/masif/lib/python3.6/site-packages/Bio/PDB/PDBParser.py:399: PDBConstructionWarning: Ignoring unrecognized record 'END' at line 5145\n",
      "  PDBConstructionWarning,\n"
     ]
    },
    {
     "name": "stdout",
     "output_type": "stream",
     "text": [
      "Per residue ROC AUC: 0.50\n",
      "psiver_pred/psiver_pdbs/ Per point ROC AUC 2F4M_A : 0.56\n",
      "Per residue ROC AUC: 0.66\n",
      "psiver_pred/psiver_pdbs/ Per point ROC AUC 2WUS_A : 0.61\n"
     ]
    },
    {
     "name": "stderr",
     "output_type": "stream",
     "text": [
      "/home/khaos/miniconda3/envs/masif/lib/python3.6/site-packages/Bio/PDB/PDBParser.py:399: PDBConstructionWarning: Ignoring unrecognized record 'TER' at line 5698\n",
      "  PDBConstructionWarning,\n",
      "/home/khaos/miniconda3/envs/masif/lib/python3.6/site-packages/Bio/PDB/PDBParser.py:399: PDBConstructionWarning: Ignoring unrecognized record 'END' at line 5699\n",
      "  PDBConstructionWarning,\n",
      "/home/khaos/miniconda3/envs/masif/lib/python3.6/site-packages/Bio/PDB/PDBParser.py:399: PDBConstructionWarning: Ignoring unrecognized record 'TER' at line 5132\n",
      "  PDBConstructionWarning,\n",
      "/home/khaos/miniconda3/envs/masif/lib/python3.6/site-packages/Bio/PDB/PDBParser.py:399: PDBConstructionWarning: Ignoring unrecognized record 'END' at line 5133\n",
      "  PDBConstructionWarning,\n"
     ]
    },
    {
     "name": "stdout",
     "output_type": "stream",
     "text": [
      "Per residue ROC AUC: 0.46\n",
      "psiver_pred/psiver_pdbs/ Per point ROC AUC 2V3B_A : 0.41\n",
      "Per residue ROC AUC: 0.76\n",
      "psiver_pred/psiver_pdbs/ Per point ROC AUC 4HDO_A : 0.70\n",
      "Per residue ROC AUC: 0.79\n",
      "psiver_pred/psiver_pdbs/ Per point ROC AUC 3BH6_B : 0.81\n"
     ]
    },
    {
     "name": "stderr",
     "output_type": "stream",
     "text": [
      "/home/khaos/miniconda3/envs/masif/lib/python3.6/site-packages/Bio/PDB/PDBParser.py:399: PDBConstructionWarning: Ignoring unrecognized record 'TER' at line 4885\n",
      "  PDBConstructionWarning,\n",
      "/home/khaos/miniconda3/envs/masif/lib/python3.6/site-packages/Bio/PDB/PDBParser.py:399: PDBConstructionWarning: Ignoring unrecognized record 'END' at line 4886\n",
      "  PDBConstructionWarning,\n",
      "/home/khaos/miniconda3/envs/masif/lib/python3.6/site-packages/Bio/PDB/PDBParser.py:399: PDBConstructionWarning: Ignoring unrecognized record 'TER' at line 5287\n",
      "  PDBConstructionWarning,\n",
      "/home/khaos/miniconda3/envs/masif/lib/python3.6/site-packages/Bio/PDB/PDBParser.py:399: PDBConstructionWarning: Ignoring unrecognized record 'END' at line 5288\n",
      "  PDBConstructionWarning,\n"
     ]
    },
    {
     "name": "stdout",
     "output_type": "stream",
     "text": [
      "Per residue ROC AUC: 0.41\n",
      "psiver_pred/psiver_pdbs/ Per point ROC AUC 2I3T_A : 0.40\n",
      "Per residue ROC AUC: 0.61\n",
      "psiver_pred/psiver_pdbs/ Per point ROC AUC 4BKX_B : 0.58\n"
     ]
    },
    {
     "name": "stderr",
     "output_type": "stream",
     "text": [
      "/home/khaos/miniconda3/envs/masif/lib/python3.6/site-packages/Bio/PDB/PDBParser.py:399: PDBConstructionWarning: Ignoring unrecognized record 'TER' at line 5814\n",
      "  PDBConstructionWarning,\n",
      "/home/khaos/miniconda3/envs/masif/lib/python3.6/site-packages/Bio/PDB/PDBParser.py:399: PDBConstructionWarning: Ignoring unrecognized record 'END' at line 5815\n",
      "  PDBConstructionWarning,\n",
      "/home/khaos/miniconda3/envs/masif/lib/python3.6/site-packages/Bio/PDB/PDBParser.py:399: PDBConstructionWarning: Ignoring unrecognized record 'TER' at line 5581\n",
      "  PDBConstructionWarning,\n",
      "/home/khaos/miniconda3/envs/masif/lib/python3.6/site-packages/Bio/PDB/PDBParser.py:399: PDBConstructionWarning: Ignoring unrecognized record 'END' at line 5582\n",
      "  PDBConstructionWarning,\n"
     ]
    },
    {
     "name": "stdout",
     "output_type": "stream",
     "text": [
      "Per residue ROC AUC: 0.64\n",
      "psiver_pred/psiver_pdbs/ Per point ROC AUC 2AYO_A : 0.63\n",
      "Per residue ROC AUC: 0.77\n",
      "psiver_pred/psiver_pdbs/ Per point ROC AUC 1XG2_A : 0.75\n",
      "Per residue ROC AUC: 0.69\n",
      "psiver_pred/psiver_pdbs/ Per point ROC AUC 4Y61_B : 0.68\n"
     ]
    },
    {
     "name": "stderr",
     "output_type": "stream",
     "text": [
      "/home/khaos/miniconda3/envs/masif/lib/python3.6/site-packages/Bio/PDB/PDBParser.py:399: PDBConstructionWarning: Ignoring unrecognized record 'TER' at line 4830\n",
      "  PDBConstructionWarning,\n",
      "/home/khaos/miniconda3/envs/masif/lib/python3.6/site-packages/Bio/PDB/PDBParser.py:399: PDBConstructionWarning: Ignoring unrecognized record 'END' at line 4831\n",
      "  PDBConstructionWarning,\n",
      "/home/khaos/miniconda3/envs/masif/lib/python3.6/site-packages/Bio/PDB/PDBParser.py:399: PDBConstructionWarning: Ignoring unrecognized record 'TER' at line 3806\n",
      "  PDBConstructionWarning,\n",
      "/home/khaos/miniconda3/envs/masif/lib/python3.6/site-packages/Bio/PDB/PDBParser.py:399: PDBConstructionWarning: Ignoring unrecognized record 'END' at line 3807\n",
      "  PDBConstructionWarning,\n",
      "/home/khaos/miniconda3/envs/masif/lib/python3.6/site-packages/Bio/PDB/PDBParser.py:399: PDBConstructionWarning: Ignoring unrecognized record 'TER' at line 4146\n",
      "  PDBConstructionWarning,\n",
      "/home/khaos/miniconda3/envs/masif/lib/python3.6/site-packages/Bio/PDB/PDBParser.py:399: PDBConstructionWarning: Ignoring unrecognized record 'END' at line 4147\n",
      "  PDBConstructionWarning,\n",
      "/home/khaos/miniconda3/envs/masif/lib/python3.6/site-packages/Bio/PDB/PDBParser.py:399: PDBConstructionWarning: Ignoring unrecognized record 'TER' at line 4913\n",
      "  PDBConstructionWarning,\n",
      "/home/khaos/miniconda3/envs/masif/lib/python3.6/site-packages/Bio/PDB/PDBParser.py:399: PDBConstructionWarning: Ignoring unrecognized record 'END' at line 4914\n",
      "  PDBConstructionWarning,\n",
      "/home/khaos/miniconda3/envs/masif/lib/python3.6/site-packages/Bio/PDB/PDBParser.py:399: PDBConstructionWarning: Ignoring unrecognized record 'TER' at line 5286\n",
      "  PDBConstructionWarning,\n",
      "/home/khaos/miniconda3/envs/masif/lib/python3.6/site-packages/Bio/PDB/PDBParser.py:399: PDBConstructionWarning: Ignoring unrecognized record 'END' at line 5287\n",
      "  PDBConstructionWarning,\n"
     ]
    },
    {
     "name": "stdout",
     "output_type": "stream",
     "text": [
      "Per residue ROC AUC: 0.54\n",
      "psiver_pred/psiver_pdbs/ Per point ROC AUC 5J57_A : 0.49\n",
      "Per residue ROC AUC: 0.54\n",
      "psiver_pred/psiver_pdbs/ Per point ROC AUC 4X33_B : 0.41\n",
      "Per residue ROC AUC: 0.84\n",
      "psiver_pred/psiver_pdbs/ Per point ROC AUC 3SJA_I : 0.78\n",
      "Per residue ROC AUC: 0.77\n",
      "psiver_pred/psiver_pdbs/ Per point ROC AUC 3QML_D : 0.83\n"
     ]
    },
    {
     "name": "stderr",
     "output_type": "stream",
     "text": [
      "/home/khaos/miniconda3/envs/masif/lib/python3.6/site-packages/Bio/PDB/PDBParser.py:399: PDBConstructionWarning: Ignoring unrecognized record 'TER' at line 4492\n",
      "  PDBConstructionWarning,\n",
      "/home/khaos/miniconda3/envs/masif/lib/python3.6/site-packages/Bio/PDB/PDBParser.py:399: PDBConstructionWarning: Ignoring unrecognized record 'END' at line 4493\n",
      "  PDBConstructionWarning,\n",
      "/home/khaos/miniconda3/envs/masif/lib/python3.6/site-packages/Bio/PDB/PDBParser.py:399: PDBConstructionWarning: Ignoring unrecognized record 'TER' at line 5754\n",
      "  PDBConstructionWarning,\n",
      "/home/khaos/miniconda3/envs/masif/lib/python3.6/site-packages/Bio/PDB/PDBParser.py:399: PDBConstructionWarning: Ignoring unrecognized record 'END' at line 5755\n",
      "  PDBConstructionWarning,\n"
     ]
    },
    {
     "name": "stdout",
     "output_type": "stream",
     "text": [
      "Per residue ROC AUC: 0.76\n",
      "psiver_pred/psiver_pdbs/ Per point ROC AUC 1I2M_B : 0.71\n",
      "Per residue ROC AUC: 0.46\n",
      "psiver_pred/psiver_pdbs/ Per point ROC AUC 3H6G_B : 0.39\n"
     ]
    },
    {
     "name": "stderr",
     "output_type": "stream",
     "text": [
      "/home/khaos/miniconda3/envs/masif/lib/python3.6/site-packages/Bio/PDB/PDBParser.py:399: PDBConstructionWarning: Ignoring unrecognized record 'TER' at line 6084\n",
      "  PDBConstructionWarning,\n",
      "/home/khaos/miniconda3/envs/masif/lib/python3.6/site-packages/Bio/PDB/PDBParser.py:399: PDBConstructionWarning: Ignoring unrecognized record 'END' at line 6085\n",
      "  PDBConstructionWarning,\n",
      "/home/khaos/miniconda3/envs/masif/lib/python3.6/site-packages/Bio/PDB/PDBParser.py:399: PDBConstructionWarning: Ignoring unrecognized record 'TER' at line 4753\n",
      "  PDBConstructionWarning,\n",
      "/home/khaos/miniconda3/envs/masif/lib/python3.6/site-packages/Bio/PDB/PDBParser.py:399: PDBConstructionWarning: Ignoring unrecognized record 'END' at line 4754\n",
      "  PDBConstructionWarning,\n"
     ]
    },
    {
     "name": "stdout",
     "output_type": "stream",
     "text": [
      "Per residue ROC AUC: 0.69\n",
      "psiver_pred/psiver_pdbs/ Per point ROC AUC 1EWY_A : 0.68\n",
      "Per residue ROC AUC: 0.62\n",
      "psiver_pred/psiver_pdbs/ Per point ROC AUC 4DVG_B : 0.62\n"
     ]
    },
    {
     "name": "stderr",
     "output_type": "stream",
     "text": [
      "/home/khaos/miniconda3/envs/masif/lib/python3.6/site-packages/Bio/PDB/PDBParser.py:399: PDBConstructionWarning: Ignoring unrecognized record 'TER' at line 4755\n",
      "  PDBConstructionWarning,\n",
      "/home/khaos/miniconda3/envs/masif/lib/python3.6/site-packages/Bio/PDB/PDBParser.py:399: PDBConstructionWarning: Ignoring unrecognized record 'END' at line 4756\n",
      "  PDBConstructionWarning,\n",
      "/home/khaos/miniconda3/envs/masif/lib/python3.6/site-packages/Bio/PDB/PDBParser.py:399: PDBConstructionWarning: Ignoring unrecognized record 'TER' at line 4224\n",
      "  PDBConstructionWarning,\n",
      "/home/khaos/miniconda3/envs/masif/lib/python3.6/site-packages/Bio/PDB/PDBParser.py:399: PDBConstructionWarning: Ignoring unrecognized record 'END' at line 4225\n",
      "  PDBConstructionWarning,\n",
      "/home/khaos/miniconda3/envs/masif/lib/python3.6/site-packages/Bio/PDB/PDBParser.py:399: PDBConstructionWarning: Ignoring unrecognized record 'TER' at line 4816\n",
      "  PDBConstructionWarning,\n",
      "/home/khaos/miniconda3/envs/masif/lib/python3.6/site-packages/Bio/PDB/PDBParser.py:399: PDBConstructionWarning: Ignoring unrecognized record 'END' at line 4817\n",
      "  PDBConstructionWarning,\n"
     ]
    },
    {
     "name": "stdout",
     "output_type": "stream",
     "text": [
      "Per residue ROC AUC: 0.54\n",
      "psiver_pred/psiver_pdbs/ Per point ROC AUC 4YEB_A : 0.55\n",
      "Per residue ROC AUC: 0.64\n",
      "psiver_pred/psiver_pdbs/ Per point ROC AUC 1F6M_A : 0.56\n",
      "Per residue ROC AUC: 0.45\n",
      "psiver_pred/psiver_pdbs/ Per point ROC AUC 4LVN_A : 0.44\n"
     ]
    },
    {
     "name": "stderr",
     "output_type": "stream",
     "text": [
      "/home/khaos/miniconda3/envs/masif/lib/python3.6/site-packages/Bio/PDB/PDBParser.py:399: PDBConstructionWarning: Ignoring unrecognized record 'TER' at line 5207\n",
      "  PDBConstructionWarning,\n",
      "/home/khaos/miniconda3/envs/masif/lib/python3.6/site-packages/Bio/PDB/PDBParser.py:399: PDBConstructionWarning: Ignoring unrecognized record 'END' at line 5208\n",
      "  PDBConstructionWarning,\n",
      "/home/khaos/miniconda3/envs/masif/lib/python3.6/site-packages/Bio/PDB/PDBParser.py:399: PDBConstructionWarning: Ignoring unrecognized record 'TER' at line 5101\n",
      "  PDBConstructionWarning,\n",
      "/home/khaos/miniconda3/envs/masif/lib/python3.6/site-packages/Bio/PDB/PDBParser.py:399: PDBConstructionWarning: Ignoring unrecognized record 'END' at line 5102\n",
      "  PDBConstructionWarning,\n"
     ]
    },
    {
     "name": "stdout",
     "output_type": "stream",
     "text": [
      "Per residue ROC AUC: 0.71\n",
      "psiver_pred/psiver_pdbs/ Per point ROC AUC 3RT0_A : 0.61\n",
      "Number of proteins: 51\n",
      "psiver Global ROC AUC: 0.58\n",
      "psiver Global ROC AUC per residue: 0.60\n",
      "psiver Median ROC AUC per protein : 0.56\n",
      "psiver Median ROC AUC per residue per protein: 0.61\n"
     ]
    },
    {
     "name": "stderr",
     "output_type": "stream",
     "text": [
      "/home/khaos/miniconda3/envs/masif/lib/python3.6/site-packages/seaborn/distributions.py:2551: FutureWarning: `distplot` is a deprecated function and will be removed in a future version. Please adapt your code to use either `displot` (a figure-level function with similar flexibility) or `histplot` (an axes-level function for histograms).\n",
      "  warnings.warn(msg, FutureWarning)\n",
      "/home/khaos/miniconda3/envs/masif/lib/python3.6/site-packages/seaborn/distributions.py:2551: FutureWarning: `distplot` is a deprecated function and will be removed in a future version. Please adapt your code to use either `displot` (a figure-level function with similar flexibility) or `histplot` (an axes-level function for histograms).\n",
      "  warnings.warn(msg, FutureWarning)\n"
     ]
    },
    {
     "data": {
      "text/plain": [
       "<AxesSubplot:ylabel='Density'>"
      ]
     },
     "execution_count": 9,
     "metadata": {},
     "output_type": "execute_result"
    },
    {
     "data": {
      "image/png": "[encoded data removed]",
      "text/plain": [
       "<Figure size 432x288 with 1 Axes>"
      ]
     },
     "metadata": {
      "needs_background": "light"
     },
     "output_type": "display_data"
    }
   ],
   "source": [
    "# Benchmark PSIVER\n",
    "   \n",
    "all_pred = []\n",
    "all_labels = []\n",
    "\n",
    "all_pred_res = []\n",
    "all_labels_res = []\n",
    "\n",
    "all_roc_auc_per_prot_psiver = []\n",
    "all_res_roc_auc_per_prot_psiver = []\n",
    "\n",
    "for fn in os.listdir(psiver_pred_dir):  \n",
    "    \n",
    "    pdbid_chain = fn.split('.')[0]\n",
    "    pdbid = pdbid_chain.split('_')[0]\n",
    "    if pdbid not in transient_pdbs: \n",
    "        continue\n",
    "\n",
    "    l, p, res_l, res_p, roc_auc, res_roc_auc = compute_roc_auc_sppider_intpred_psiver(psiver_pred_dir, pdbid_chain)\n",
    "\n",
    "    all_pred.append(p)\n",
    "    all_labels.append(l)\n",
    "    \n",
    "    all_pred_res.append(res_p)\n",
    "    all_labels_res.append(res_l)\n",
    "    \n",
    "    all_roc_auc_per_prot_psiver.append(roc_auc)\n",
    "    all_res_roc_auc_per_prot_psiver.append(res_roc_auc)\n",
    "    \n",
    "print(\"Number of proteins: {}\".format(len(all_pred)))\n",
    "\n",
    "all_pred = np.concatenate(all_pred, axis=0)\n",
    "all_labels = np.concatenate(all_labels, axis=0)\n",
    "\n",
    "all_pred_by_point_psiver = all_pred.copy()\n",
    "all_labels_by_point_psiver = all_labels.copy()\n",
    "\n",
    "#print(metrics.roc_auc_score(all_my_labels_per_res, all_my_pred_per_res))\n",
    "\n",
    "all_labels_res = np.concatenate(all_labels_res, axis=0)\n",
    "\n",
    "all_pred_res = np.concatenate(all_pred_res, axis=0)\n",
    "\n",
    "\n",
    "all_roc_auc = sklearn.metrics.roc_auc_score(all_labels, all_pred)\n",
    "all_roc_auc_res = sklearn.metrics.roc_auc_score(all_labels_res, all_pred_res)\n",
    "\n",
    "\n",
    "\n",
    "print('psiver Global ROC AUC: {:.2f}'.format(all_roc_auc))\n",
    "print('psiver Global ROC AUC per residue: {:.2f}'.format(all_roc_auc_res))\n",
    "\n",
    "print('psiver Median ROC AUC per protein : {:.2f}'.format(np.median(all_roc_auc_per_prot_psiver)))\n",
    "print('psiver Median ROC AUC per residue per protein: {:.2f}'.format(np.median(all_res_roc_auc_per_prot_psiver)))\n",
    "\n",
    "pos_label = np.where(all_labels_res == 1)[0]\n",
    "pos = all_pred_res[pos_label]\n",
    "neg_label = np.where(all_labels_res == 0)[0]\n",
    "neg = all_pred_res[neg_label]\n",
    "sns.distplot(pos, hist=True, color='r', kde_kws={\"shade\": True}, norm_hist=True)\n",
    "sns.distplot(neg, hist=True, color='b', kde_kws={\"shade\": True}, norm_hist=True)"
   ]
  },
  {
   "cell_type": "code",
   "execution_count": 10,
   "metadata": {
    "scrolled": true
   },
   "outputs": [
    {
     "name": "stdout",
     "output_type": "stream",
     "text": [
      "1XQS\n",
      "Per residue ROC AUC: 0.57\n",
      "sppider_pred/ Per point ROC AUC 1XQS_A : 0.52\n",
      "1JTD\n",
      "Per residue ROC AUC: 0.76\n",
      "sppider_pred/ Per point ROC AUC 1JTD_B : 0.70\n",
      "1GP2\n",
      "5TIH\n"
     ]
    },
    {
     "name": "stderr",
     "output_type": "stream",
     "text": [
      "/home/khaos/miniconda3/envs/masif/lib/python3.6/site-packages/Bio/PDB/PDBParser.py:399: PDBConstructionWarning: Ignoring unrecognized record 'TER' at line 4115\n",
      "  PDBConstructionWarning,\n",
      "/home/khaos/miniconda3/envs/masif/lib/python3.6/site-packages/Bio/PDB/PDBParser.py:399: PDBConstructionWarning: Ignoring unrecognized record 'END' at line 4116\n",
      "  PDBConstructionWarning,\n",
      "/home/khaos/miniconda3/envs/masif/lib/python3.6/site-packages/Bio/PDB/PDBParser.py:399: PDBConstructionWarning: Ignoring unrecognized record 'TER' at line 3794\n",
      "  PDBConstructionWarning,\n",
      "/home/khaos/miniconda3/envs/masif/lib/python3.6/site-packages/Bio/PDB/PDBParser.py:399: PDBConstructionWarning: Ignoring unrecognized record 'END' at line 3795\n",
      "  PDBConstructionWarning,\n",
      "/home/khaos/miniconda3/envs/masif/lib/python3.6/site-packages/Bio/PDB/PDBParser.py:399: PDBConstructionWarning: Ignoring unrecognized record 'TER' at line 5341\n",
      "  PDBConstructionWarning,\n",
      "/home/khaos/miniconda3/envs/masif/lib/python3.6/site-packages/Bio/PDB/PDBParser.py:399: PDBConstructionWarning: Ignoring unrecognized record 'END' at line 5342\n",
      "  PDBConstructionWarning,\n"
     ]
    },
    {
     "name": "stdout",
     "output_type": "stream",
     "text": [
      "Per residue ROC AUC: 0.39\n",
      "sppider_pred/ Per point ROC AUC 5TIH_A : 0.30\n",
      "4XL5\n",
      "Per residue ROC AUC: 0.74\n",
      "sppider_pred/ Per point ROC AUC 4XL5_C : 0.75\n",
      "3ZWL\n"
     ]
    },
    {
     "name": "stderr",
     "output_type": "stream",
     "text": [
      "/home/khaos/miniconda3/envs/masif/lib/python3.6/site-packages/Bio/PDB/PDBParser.py:399: PDBConstructionWarning: Ignoring unrecognized record 'TER' at line 3796\n",
      "  PDBConstructionWarning,\n",
      "/home/khaos/miniconda3/envs/masif/lib/python3.6/site-packages/Bio/PDB/PDBParser.py:399: PDBConstructionWarning: Ignoring unrecognized record 'END' at line 3797\n",
      "  PDBConstructionWarning,\n",
      "/home/khaos/miniconda3/envs/masif/lib/python3.6/site-packages/Bio/PDB/PDBParser.py:399: PDBConstructionWarning: Ignoring unrecognized record 'TER' at line 5280\n",
      "  PDBConstructionWarning,\n",
      "/home/khaos/miniconda3/envs/masif/lib/python3.6/site-packages/Bio/PDB/PDBParser.py:399: PDBConstructionWarning: Ignoring unrecognized record 'END' at line 5281\n",
      "  PDBConstructionWarning,\n",
      "/home/khaos/miniconda3/envs/masif/lib/python3.6/site-packages/Bio/PDB/PDBParser.py:399: PDBConstructionWarning: Ignoring unrecognized record 'TER' at line 5474\n",
      "  PDBConstructionWarning,\n",
      "/home/khaos/miniconda3/envs/masif/lib/python3.6/site-packages/Bio/PDB/PDBParser.py:399: PDBConstructionWarning: Ignoring unrecognized record 'END' at line 5475\n",
      "  PDBConstructionWarning,\n"
     ]
    },
    {
     "name": "stdout",
     "output_type": "stream",
     "text": [
      "Per residue ROC AUC: 0.64\n",
      "sppider_pred/ Per point ROC AUC 3ZWL_B : 0.55\n",
      "3MCA\n",
      "Per residue ROC AUC: 0.72\n",
      "sppider_pred/ Per point ROC AUC 3MCA_B : 0.73\n",
      "3NVN\n"
     ]
    },
    {
     "name": "stderr",
     "output_type": "stream",
     "text": [
      "/home/khaos/miniconda3/envs/masif/lib/python3.6/site-packages/Bio/PDB/PDBParser.py:399: PDBConstructionWarning: Ignoring unrecognized record 'TER' at line 6061\n",
      "  PDBConstructionWarning,\n",
      "/home/khaos/miniconda3/envs/masif/lib/python3.6/site-packages/Bio/PDB/PDBParser.py:399: PDBConstructionWarning: Ignoring unrecognized record 'END' at line 6062\n",
      "  PDBConstructionWarning,\n",
      "/home/khaos/miniconda3/envs/masif/lib/python3.6/site-packages/Bio/PDB/PDBParser.py:399: PDBConstructionWarning: Ignoring unrecognized record 'TER' at line 5923\n",
      "  PDBConstructionWarning,\n",
      "/home/khaos/miniconda3/envs/masif/lib/python3.6/site-packages/Bio/PDB/PDBParser.py:399: PDBConstructionWarning: Ignoring unrecognized record 'END' at line 5924\n",
      "  PDBConstructionWarning,\n"
     ]
    },
    {
     "name": "stdout",
     "output_type": "stream",
     "text": [
      "Per residue ROC AUC: 0.65\n",
      "sppider_pred/ Per point ROC AUC 3NVN_A : 0.68\n",
      "2OOR\n",
      "4ZGY\n",
      "Per residue ROC AUC: 0.83\n",
      "sppider_pred/ Per point ROC AUC 4ZGY_A : 0.82\n",
      "1W1W\n"
     ]
    },
    {
     "name": "stderr",
     "output_type": "stream",
     "text": [
      "/home/khaos/miniconda3/envs/masif/lib/python3.6/site-packages/Bio/PDB/PDBParser.py:399: PDBConstructionWarning: Ignoring unrecognized record 'TER' at line 5291\n",
      "  PDBConstructionWarning,\n",
      "/home/khaos/miniconda3/envs/masif/lib/python3.6/site-packages/Bio/PDB/PDBParser.py:399: PDBConstructionWarning: Ignoring unrecognized record 'END' at line 5292\n",
      "  PDBConstructionWarning,\n",
      "/home/khaos/miniconda3/envs/masif/lib/python3.6/site-packages/Bio/PDB/PDBParser.py:399: PDBConstructionWarning: Ignoring unrecognized record 'TER' at line 6030\n",
      "  PDBConstructionWarning,\n",
      "/home/khaos/miniconda3/envs/masif/lib/python3.6/site-packages/Bio/PDB/PDBParser.py:399: PDBConstructionWarning: Ignoring unrecognized record 'END' at line 6031\n",
      "  PDBConstructionWarning,\n"
     ]
    },
    {
     "name": "stdout",
     "output_type": "stream",
     "text": [
      "Per residue ROC AUC: 0.82\n",
      "sppider_pred/ Per point ROC AUC 1W1W_B : 0.81\n",
      "3LVK\n",
      "4ETP\n",
      "Per residue ROC AUC: 0.85\n",
      "sppider_pred/ Per point ROC AUC 4ETP_A : 0.86\n",
      "2C0L\n"
     ]
    },
    {
     "name": "stderr",
     "output_type": "stream",
     "text": [
      "/home/khaos/miniconda3/envs/masif/lib/python3.6/site-packages/Bio/PDB/PDBParser.py:399: PDBConstructionWarning: Ignoring unrecognized record 'TER' at line 4550\n",
      "  PDBConstructionWarning,\n",
      "/home/khaos/miniconda3/envs/masif/lib/python3.6/site-packages/Bio/PDB/PDBParser.py:399: PDBConstructionWarning: Ignoring unrecognized record 'END' at line 4551\n",
      "  PDBConstructionWarning,\n",
      "/home/khaos/miniconda3/envs/masif/lib/python3.6/site-packages/Bio/PDB/PDBParser.py:399: PDBConstructionWarning: Ignoring unrecognized record 'TER' at line 4950\n",
      "  PDBConstructionWarning,\n",
      "/home/khaos/miniconda3/envs/masif/lib/python3.6/site-packages/Bio/PDB/PDBParser.py:399: PDBConstructionWarning: Ignoring unrecognized record 'END' at line 4951\n",
      "  PDBConstructionWarning,\n",
      "/home/khaos/miniconda3/envs/masif/lib/python3.6/site-packages/Bio/PDB/PDBParser.py:399: PDBConstructionWarning: Ignoring unrecognized record 'TER' at line 5624\n",
      "  PDBConstructionWarning,\n",
      "/home/khaos/miniconda3/envs/masif/lib/python3.6/site-packages/Bio/PDB/PDBParser.py:399: PDBConstructionWarning: Ignoring unrecognized record 'END' at line 5625\n",
      "  PDBConstructionWarning,\n"
     ]
    },
    {
     "name": "stdout",
     "output_type": "stream",
     "text": [
      "Per residue ROC AUC: 0.49\n",
      "sppider_pred/ Per point ROC AUC 2C0L_A : 0.48\n",
      "4M0W\n",
      "Per residue ROC AUC: 0.66\n",
      "sppider_pred/ Per point ROC AUC 4M0W_A : 0.58\n",
      "2QXV\n",
      "Per residue ROC AUC: 0.57\n",
      "sppider_pred/ Per point ROC AUC 2QXV_A : 0.51\n",
      "1WDW\n",
      "Per residue ROC AUC: 0.88\n",
      "sppider_pred/ Per point ROC AUC 1WDW_H : 0.82\n",
      "4YC7\n"
     ]
    },
    {
     "name": "stderr",
     "output_type": "stream",
     "text": [
      "/home/khaos/miniconda3/envs/masif/lib/python3.6/site-packages/Bio/PDB/PDBParser.py:399: PDBConstructionWarning: Ignoring unrecognized record 'TER' at line 5990\n",
      "  PDBConstructionWarning,\n",
      "/home/khaos/miniconda3/envs/masif/lib/python3.6/site-packages/Bio/PDB/PDBParser.py:399: PDBConstructionWarning: Ignoring unrecognized record 'END' at line 5991\n",
      "  PDBConstructionWarning,\n",
      "/home/khaos/miniconda3/envs/masif/lib/python3.6/site-packages/Bio/PDB/PDBParser.py:399: PDBConstructionWarning: Ignoring unrecognized record 'TER' at line 4842\n",
      "  PDBConstructionWarning,\n",
      "/home/khaos/miniconda3/envs/masif/lib/python3.6/site-packages/Bio/PDB/PDBParser.py:399: PDBConstructionWarning: Ignoring unrecognized record 'END' at line 4843\n",
      "  PDBConstructionWarning,\n"
     ]
    },
    {
     "name": "stdout",
     "output_type": "stream",
     "text": [
      "Per residue ROC AUC: 0.65\n",
      "sppider_pred/ Per point ROC AUC 4YC7_B : 0.64\n",
      "3VYR\n",
      "Per residue ROC AUC: 0.80\n",
      "sppider_pred/ Per point ROC AUC 3VYR_B : 0.74\n",
      "2MTA\n",
      "3VV2\n",
      "Per residue ROC AUC: 0.64\n",
      "sppider_pred/ Per point ROC AUC 3VV2_A : 0.68\n",
      "3O5T\n"
     ]
    },
    {
     "name": "stderr",
     "output_type": "stream",
     "text": [
      "/home/khaos/miniconda3/envs/masif/lib/python3.6/site-packages/Bio/PDB/PDBParser.py:399: PDBConstructionWarning: Ignoring unrecognized record 'TER' at line 5755\n",
      "  PDBConstructionWarning,\n",
      "/home/khaos/miniconda3/envs/masif/lib/python3.6/site-packages/Bio/PDB/PDBParser.py:399: PDBConstructionWarning: Ignoring unrecognized record 'END' at line 5756\n",
      "  PDBConstructionWarning,\n",
      "/home/khaos/miniconda3/envs/masif/lib/python3.6/site-packages/Bio/PDB/PDBParser.py:399: PDBConstructionWarning: Ignoring unrecognized record 'TER' at line 4592\n",
      "  PDBConstructionWarning,\n",
      "/home/khaos/miniconda3/envs/masif/lib/python3.6/site-packages/Bio/PDB/PDBParser.py:399: PDBConstructionWarning: Ignoring unrecognized record 'END' at line 4593\n",
      "  PDBConstructionWarning,\n",
      "/home/khaos/miniconda3/envs/masif/lib/python3.6/site-packages/Bio/PDB/PDBParser.py:399: PDBConstructionWarning: Ignoring unrecognized record 'TER' at line 4494\n",
      "  PDBConstructionWarning,\n",
      "/home/khaos/miniconda3/envs/masif/lib/python3.6/site-packages/Bio/PDB/PDBParser.py:399: PDBConstructionWarning: Ignoring unrecognized record 'END' at line 4495\n",
      "  PDBConstructionWarning,\n"
     ]
    },
    {
     "name": "stdout",
     "output_type": "stream",
     "text": [
      "Per residue ROC AUC: 0.86\n",
      "sppider_pred/ Per point ROC AUC 3O5T_A : 0.86\n",
      "4C9B\n",
      "Per residue ROC AUC: 0.70\n",
      "sppider_pred/ Per point ROC AUC 4C9B_B : 0.71\n",
      "1ZHH\n"
     ]
    },
    {
     "name": "stderr",
     "output_type": "stream",
     "text": [
      "/home/khaos/miniconda3/envs/masif/lib/python3.6/site-packages/Bio/PDB/PDBParser.py:399: PDBConstructionWarning: Ignoring unrecognized record 'TER' at line 4488\n",
      "  PDBConstructionWarning,\n",
      "/home/khaos/miniconda3/envs/masif/lib/python3.6/site-packages/Bio/PDB/PDBParser.py:399: PDBConstructionWarning: Ignoring unrecognized record 'END' at line 4489\n",
      "  PDBConstructionWarning,\n",
      "/home/khaos/miniconda3/envs/masif/lib/python3.6/site-packages/Bio/PDB/PDBParser.py:399: PDBConstructionWarning: Ignoring unrecognized record 'TER' at line 5482\n",
      "  PDBConstructionWarning,\n",
      "/home/khaos/miniconda3/envs/masif/lib/python3.6/site-packages/Bio/PDB/PDBParser.py:399: PDBConstructionWarning: Ignoring unrecognized record 'END' at line 5483\n",
      "  PDBConstructionWarning,\n",
      "/home/khaos/miniconda3/envs/masif/lib/python3.6/site-packages/Bio/PDB/PDBParser.py:399: PDBConstructionWarning: Ignoring unrecognized record 'TER' at line 3695\n",
      "  PDBConstructionWarning,\n",
      "/home/khaos/miniconda3/envs/masif/lib/python3.6/site-packages/Bio/PDB/PDBParser.py:399: PDBConstructionWarning: Ignoring unrecognized record 'END' at line 3696\n",
      "  PDBConstructionWarning,\n"
     ]
    },
    {
     "name": "stdout",
     "output_type": "stream",
     "text": [
      "Per residue ROC AUC: 0.82\n",
      "sppider_pred/ Per point ROC AUC 1ZHH_A : 0.79\n",
      "2XWT\n",
      "Per residue ROC AUC: 0.55\n",
      "sppider_pred/ Per point ROC AUC 2XWT_C : 0.45\n",
      "\n",
      "2PMS\n",
      "Per residue ROC AUC: 0.68\n",
      "sppider_pred/ Per point ROC AUC 2PMS_A : 0.61\n",
      "3WN7\n"
     ]
    },
    {
     "name": "stderr",
     "output_type": "stream",
     "text": [
      "/home/khaos/miniconda3/envs/masif/lib/python3.6/site-packages/Bio/PDB/PDBParser.py:399: PDBConstructionWarning: Ignoring unrecognized record 'TER' at line 5140\n",
      "  PDBConstructionWarning,\n",
      "/home/khaos/miniconda3/envs/masif/lib/python3.6/site-packages/Bio/PDB/PDBParser.py:399: PDBConstructionWarning: Ignoring unrecognized record 'END' at line 5141\n",
      "  PDBConstructionWarning,\n",
      "/home/khaos/miniconda3/envs/masif/lib/python3.6/site-packages/Bio/PDB/PDBParser.py:399: PDBConstructionWarning: Ignoring unrecognized record 'TER' at line 4291\n",
      "  PDBConstructionWarning,\n",
      "/home/khaos/miniconda3/envs/masif/lib/python3.6/site-packages/Bio/PDB/PDBParser.py:399: PDBConstructionWarning: Ignoring unrecognized record 'END' at line 4292\n",
      "  PDBConstructionWarning,\n"
     ]
    },
    {
     "name": "stdout",
     "output_type": "stream",
     "text": [
      "Per residue ROC AUC: 0.40\n",
      "sppider_pred/ Per point ROC AUC 3WN7_A : 0.31\n",
      "1NCA\n",
      "Per residue ROC AUC: 0.47\n",
      "sppider_pred/ Per point ROC AUC 1NCA_N : 0.38\n",
      "3FHC\n"
     ]
    },
    {
     "name": "stderr",
     "output_type": "stream",
     "text": [
      "/home/khaos/miniconda3/envs/masif/lib/python3.6/site-packages/Bio/PDB/PDBParser.py:399: PDBConstructionWarning: Ignoring unrecognized record 'TER' at line 5994\n",
      "  PDBConstructionWarning,\n",
      "/home/khaos/miniconda3/envs/masif/lib/python3.6/site-packages/Bio/PDB/PDBParser.py:399: PDBConstructionWarning: Ignoring unrecognized record 'END' at line 5995\n",
      "  PDBConstructionWarning,\n",
      "/home/khaos/miniconda3/envs/masif/lib/python3.6/site-packages/Bio/PDB/PDBParser.py:399: PDBConstructionWarning: Ignoring unrecognized record 'TER' at line 5956\n",
      "  PDBConstructionWarning,\n",
      "/home/khaos/miniconda3/envs/masif/lib/python3.6/site-packages/Bio/PDB/PDBParser.py:399: PDBConstructionWarning: Ignoring unrecognized record 'END' at line 5957\n",
      "  PDBConstructionWarning,\n",
      "/home/khaos/miniconda3/envs/masif/lib/python3.6/site-packages/Bio/PDB/PDBParser.py:399: PDBConstructionWarning: Ignoring unrecognized record 'TER' at line 3329\n",
      "  PDBConstructionWarning,\n",
      "/home/khaos/miniconda3/envs/masif/lib/python3.6/site-packages/Bio/PDB/PDBParser.py:399: PDBConstructionWarning: Ignoring unrecognized record 'END' at line 3330\n",
      "  PDBConstructionWarning,\n"
     ]
    },
    {
     "name": "stdout",
     "output_type": "stream",
     "text": [
      "Per residue ROC AUC: 0.41\n",
      "sppider_pred/ Per point ROC AUC 3FHC_A : 0.31\n",
      "3R9A\n",
      "2V9T\n",
      "Per residue ROC AUC: 0.42\n",
      "sppider_pred/ Per point ROC AUC 2V9T_B : 0.30\n",
      "4ZRJ\n"
     ]
    },
    {
     "name": "stderr",
     "output_type": "stream",
     "text": [
      "/home/khaos/miniconda3/envs/masif/lib/python3.6/site-packages/Bio/PDB/PDBParser.py:399: PDBConstructionWarning: Ignoring unrecognized record 'TER' at line 4854\n",
      "  PDBConstructionWarning,\n",
      "/home/khaos/miniconda3/envs/masif/lib/python3.6/site-packages/Bio/PDB/PDBParser.py:399: PDBConstructionWarning: Ignoring unrecognized record 'END' at line 4855\n",
      "  PDBConstructionWarning,\n",
      "/home/khaos/miniconda3/envs/masif/lib/python3.6/site-packages/Bio/PDB/PDBParser.py:399: PDBConstructionWarning: Ignoring unrecognized record 'TER' at line 4718\n",
      "  PDBConstructionWarning,\n",
      "/home/khaos/miniconda3/envs/masif/lib/python3.6/site-packages/Bio/PDB/PDBParser.py:399: PDBConstructionWarning: Ignoring unrecognized record 'END' at line 4719\n",
      "  PDBConstructionWarning,\n",
      "/home/khaos/miniconda3/envs/masif/lib/python3.6/site-packages/Bio/PDB/PDBParser.py:399: PDBConstructionWarning: Ignoring unrecognized record 'TER' at line 4389\n",
      "  PDBConstructionWarning,\n",
      "/home/khaos/miniconda3/envs/masif/lib/python3.6/site-packages/Bio/PDB/PDBParser.py:399: PDBConstructionWarning: Ignoring unrecognized record 'END' at line 4390\n",
      "  PDBConstructionWarning,\n"
     ]
    },
    {
     "name": "stdout",
     "output_type": "stream",
     "text": [
      "Per residue ROC AUC: 0.65\n",
      "sppider_pred/ Per point ROC AUC 4ZRJ_A : 0.64\n",
      "4ETP\n",
      "Per residue ROC AUC: 0.93\n",
      "sppider_pred/ Per point ROC AUC 4ETP_B : 0.89\n",
      "4V0O\n",
      "Per residue ROC AUC: 0.54\n",
      "sppider_pred/ Per point ROC AUC 4V0O_F : 0.46\n",
      "2F4M\n"
     ]
    },
    {
     "name": "stderr",
     "output_type": "stream",
     "text": [
      "/home/khaos/miniconda3/envs/masif/lib/python3.6/site-packages/Bio/PDB/PDBParser.py:399: PDBConstructionWarning: Ignoring unrecognized record 'TER' at line 4859\n",
      "  PDBConstructionWarning,\n",
      "/home/khaos/miniconda3/envs/masif/lib/python3.6/site-packages/Bio/PDB/PDBParser.py:399: PDBConstructionWarning: Ignoring unrecognized record 'END' at line 4860\n",
      "  PDBConstructionWarning,\n",
      "/home/khaos/miniconda3/envs/masif/lib/python3.6/site-packages/Bio/PDB/PDBParser.py:399: PDBConstructionWarning: Ignoring unrecognized record 'TER' at line 5155\n",
      "  PDBConstructionWarning,\n",
      "/home/khaos/miniconda3/envs/masif/lib/python3.6/site-packages/Bio/PDB/PDBParser.py:399: PDBConstructionWarning: Ignoring unrecognized record 'END' at line 5156\n",
      "  PDBConstructionWarning,\n"
     ]
    },
    {
     "name": "stdout",
     "output_type": "stream",
     "text": [
      "Per residue ROC AUC: 0.81\n",
      "sppider_pred/ Per point ROC AUC 2F4M_A : 0.84\n",
      "2WUS\n",
      "Per residue ROC AUC: 0.44\n",
      "sppider_pred/ Per point ROC AUC 2WUS_A : 0.40\n",
      "2V3B\n"
     ]
    },
    {
     "name": "stderr",
     "output_type": "stream",
     "text": [
      "/home/khaos/miniconda3/envs/masif/lib/python3.6/site-packages/Bio/PDB/PDBParser.py:399: PDBConstructionWarning: Ignoring unrecognized record 'TER' at line 5703\n",
      "  PDBConstructionWarning,\n",
      "/home/khaos/miniconda3/envs/masif/lib/python3.6/site-packages/Bio/PDB/PDBParser.py:399: PDBConstructionWarning: Ignoring unrecognized record 'END' at line 5704\n",
      "  PDBConstructionWarning,\n",
      "/home/khaos/miniconda3/envs/masif/lib/python3.6/site-packages/Bio/PDB/PDBParser.py:399: PDBConstructionWarning: Ignoring unrecognized record 'TER' at line 5131\n",
      "  PDBConstructionWarning,\n",
      "/home/khaos/miniconda3/envs/masif/lib/python3.6/site-packages/Bio/PDB/PDBParser.py:399: PDBConstructionWarning: Ignoring unrecognized record 'END' at line 5132\n",
      "  PDBConstructionWarning,\n"
     ]
    },
    {
     "name": "stdout",
     "output_type": "stream",
     "text": [
      "Per residue ROC AUC: 0.78\n",
      "sppider_pred/ Per point ROC AUC 2V3B_A : 0.70\n",
      "4HDO\n",
      "Per residue ROC AUC: 0.72\n",
      "sppider_pred/ Per point ROC AUC 4HDO_A : 0.70\n",
      "3BH6\n",
      "Per residue ROC AUC: 0.68\n",
      "sppider_pred/ Per point ROC AUC 3BH6_B : 0.63\n",
      "2I3T\n"
     ]
    },
    {
     "name": "stderr",
     "output_type": "stream",
     "text": [
      "/home/khaos/miniconda3/envs/masif/lib/python3.6/site-packages/Bio/PDB/PDBParser.py:399: PDBConstructionWarning: Ignoring unrecognized record 'TER' at line 4894\n",
      "  PDBConstructionWarning,\n",
      "/home/khaos/miniconda3/envs/masif/lib/python3.6/site-packages/Bio/PDB/PDBParser.py:399: PDBConstructionWarning: Ignoring unrecognized record 'END' at line 4895\n",
      "  PDBConstructionWarning,\n",
      "/home/khaos/miniconda3/envs/masif/lib/python3.6/site-packages/Bio/PDB/PDBParser.py:399: PDBConstructionWarning: Ignoring unrecognized record 'TER' at line 5295\n",
      "  PDBConstructionWarning,\n",
      "/home/khaos/miniconda3/envs/masif/lib/python3.6/site-packages/Bio/PDB/PDBParser.py:399: PDBConstructionWarning: Ignoring unrecognized record 'END' at line 5296\n",
      "  PDBConstructionWarning,\n"
     ]
    },
    {
     "name": "stdout",
     "output_type": "stream",
     "text": [
      "Per residue ROC AUC: 0.80\n",
      "sppider_pred/ Per point ROC AUC 2I3T_A : 0.70\n",
      "4BKX\n",
      "Per residue ROC AUC: 0.66\n",
      "sppider_pred/ Per point ROC AUC 4BKX_B : 0.65\n",
      "2AYO\n"
     ]
    },
    {
     "name": "stderr",
     "output_type": "stream",
     "text": [
      "/home/khaos/miniconda3/envs/masif/lib/python3.6/site-packages/Bio/PDB/PDBParser.py:399: PDBConstructionWarning: Ignoring unrecognized record 'TER' at line 5813\n",
      "  PDBConstructionWarning,\n",
      "/home/khaos/miniconda3/envs/masif/lib/python3.6/site-packages/Bio/PDB/PDBParser.py:399: PDBConstructionWarning: Ignoring unrecognized record 'END' at line 5814\n",
      "  PDBConstructionWarning,\n",
      "/home/khaos/miniconda3/envs/masif/lib/python3.6/site-packages/Bio/PDB/PDBParser.py:399: PDBConstructionWarning: Ignoring unrecognized record 'TER' at line 5588\n",
      "  PDBConstructionWarning,\n",
      "/home/khaos/miniconda3/envs/masif/lib/python3.6/site-packages/Bio/PDB/PDBParser.py:399: PDBConstructionWarning: Ignoring unrecognized record 'END' at line 5589\n",
      "  PDBConstructionWarning,\n"
     ]
    },
    {
     "name": "stdout",
     "output_type": "stream",
     "text": [
      "Per residue ROC AUC: 0.63\n",
      "sppider_pred/ Per point ROC AUC 2AYO_A : 0.54\n",
      "1XG2\n",
      "Per residue ROC AUC: 0.45\n",
      "sppider_pred/ Per point ROC AUC 1XG2_A : 0.33\n",
      "4Y61\n"
     ]
    },
    {
     "name": "stderr",
     "output_type": "stream",
     "text": [
      "/home/khaos/miniconda3/envs/masif/lib/python3.6/site-packages/Bio/PDB/PDBParser.py:399: PDBConstructionWarning: Ignoring unrecognized record 'TER' at line 4839\n",
      "  PDBConstructionWarning,\n",
      "/home/khaos/miniconda3/envs/masif/lib/python3.6/site-packages/Bio/PDB/PDBParser.py:399: PDBConstructionWarning: Ignoring unrecognized record 'END' at line 4840\n",
      "  PDBConstructionWarning,\n",
      "/home/khaos/miniconda3/envs/masif/lib/python3.6/site-packages/Bio/PDB/PDBParser.py:399: PDBConstructionWarning: Ignoring unrecognized record 'TER' at line 3814\n",
      "  PDBConstructionWarning,\n",
      "/home/khaos/miniconda3/envs/masif/lib/python3.6/site-packages/Bio/PDB/PDBParser.py:399: PDBConstructionWarning: Ignoring unrecognized record 'END' at line 3815\n",
      "  PDBConstructionWarning,\n",
      "/home/khaos/miniconda3/envs/masif/lib/python3.6/site-packages/Bio/PDB/PDBParser.py:399: PDBConstructionWarning: Ignoring unrecognized record 'TER' at line 4153\n",
      "  PDBConstructionWarning,\n",
      "/home/khaos/miniconda3/envs/masif/lib/python3.6/site-packages/Bio/PDB/PDBParser.py:399: PDBConstructionWarning: Ignoring unrecognized record 'END' at line 4154\n",
      "  PDBConstructionWarning,\n"
     ]
    },
    {
     "name": "stdout",
     "output_type": "stream",
     "text": [
      "Per residue ROC AUC: 0.66\n",
      "sppider_pred/ Per point ROC AUC 4Y61_B : 0.51\n",
      "5J57\n",
      "Per residue ROC AUC: 0.57\n",
      "sppider_pred/ Per point ROC AUC 5J57_A : 0.42\n",
      "4X33\n",
      "Per residue ROC AUC: 0.62\n",
      "sppider_pred/ Per point ROC AUC 4X33_B : 0.57\n",
      "3SJA\n"
     ]
    },
    {
     "name": "stderr",
     "output_type": "stream",
     "text": [
      "/home/khaos/miniconda3/envs/masif/lib/python3.6/site-packages/Bio/PDB/PDBParser.py:399: PDBConstructionWarning: Ignoring unrecognized record 'TER' at line 4913\n",
      "  PDBConstructionWarning,\n",
      "/home/khaos/miniconda3/envs/masif/lib/python3.6/site-packages/Bio/PDB/PDBParser.py:399: PDBConstructionWarning: Ignoring unrecognized record 'END' at line 4914\n",
      "  PDBConstructionWarning,\n",
      "/home/khaos/miniconda3/envs/masif/lib/python3.6/site-packages/Bio/PDB/PDBParser.py:399: PDBConstructionWarning: Ignoring unrecognized record 'TER' at line 5292\n",
      "  PDBConstructionWarning,\n",
      "/home/khaos/miniconda3/envs/masif/lib/python3.6/site-packages/Bio/PDB/PDBParser.py:399: PDBConstructionWarning: Ignoring unrecognized record 'END' at line 5293\n",
      "  PDBConstructionWarning,\n"
     ]
    },
    {
     "name": "stdout",
     "output_type": "stream",
     "text": [
      "Per residue ROC AUC: 0.46\n",
      "sppider_pred/ Per point ROC AUC 3SJA_I : 0.34\n",
      "3QML\n",
      "Per residue ROC AUC: 0.57\n",
      "sppider_pred/ Per point ROC AUC 3QML_D : 0.66\n",
      "1I2M\n"
     ]
    },
    {
     "name": "stderr",
     "output_type": "stream",
     "text": [
      "/home/khaos/miniconda3/envs/masif/lib/python3.6/site-packages/Bio/PDB/PDBParser.py:399: PDBConstructionWarning: Ignoring unrecognized record 'TER' at line 4498\n",
      "  PDBConstructionWarning,\n",
      "/home/khaos/miniconda3/envs/masif/lib/python3.6/site-packages/Bio/PDB/PDBParser.py:399: PDBConstructionWarning: Ignoring unrecognized record 'END' at line 4499\n",
      "  PDBConstructionWarning,\n",
      "/home/khaos/miniconda3/envs/masif/lib/python3.6/site-packages/Bio/PDB/PDBParser.py:399: PDBConstructionWarning: Ignoring unrecognized record 'TER' at line 5754\n",
      "  PDBConstructionWarning,\n",
      "/home/khaos/miniconda3/envs/masif/lib/python3.6/site-packages/Bio/PDB/PDBParser.py:399: PDBConstructionWarning: Ignoring unrecognized record 'END' at line 5755\n",
      "  PDBConstructionWarning,\n"
     ]
    },
    {
     "name": "stdout",
     "output_type": "stream",
     "text": [
      "Per residue ROC AUC: 0.60\n",
      "sppider_pred/ Per point ROC AUC 1I2M_B : 0.51\n",
      "3BP8\n",
      "3H6G\n",
      "Per residue ROC AUC: 0.74\n",
      "sppider_pred/ Per point ROC AUC 3H6G_B : 0.71\n",
      "1EWY\n"
     ]
    },
    {
     "name": "stderr",
     "output_type": "stream",
     "text": [
      "/home/khaos/miniconda3/envs/masif/lib/python3.6/site-packages/Bio/PDB/PDBParser.py:399: PDBConstructionWarning: Ignoring unrecognized record 'TER' at line 6088\n",
      "  PDBConstructionWarning,\n",
      "/home/khaos/miniconda3/envs/masif/lib/python3.6/site-packages/Bio/PDB/PDBParser.py:399: PDBConstructionWarning: Ignoring unrecognized record 'END' at line 6089\n",
      "  PDBConstructionWarning,\n",
      "/home/khaos/miniconda3/envs/masif/lib/python3.6/site-packages/Bio/PDB/PDBParser.py:399: PDBConstructionWarning: Ignoring unrecognized record 'TER' at line 4756\n",
      "  PDBConstructionWarning,\n",
      "/home/khaos/miniconda3/envs/masif/lib/python3.6/site-packages/Bio/PDB/PDBParser.py:399: PDBConstructionWarning: Ignoring unrecognized record 'END' at line 4757\n",
      "  PDBConstructionWarning,\n"
     ]
    },
    {
     "name": "stdout",
     "output_type": "stream",
     "text": [
      "Per residue ROC AUC: 0.68\n",
      "sppider_pred/ Per point ROC AUC 1EWY_A : 0.64\n",
      "4DVG\n",
      "Per residue ROC AUC: 0.55\n",
      "sppider_pred/ Per point ROC AUC 4DVG_B : 0.56\n",
      "4YEB\n",
      "Per residue ROC AUC: 0.51\n",
      "sppider_pred/ Per point ROC AUC 4YEB_A : 0.45\n",
      "1F6M\n"
     ]
    },
    {
     "name": "stderr",
     "output_type": "stream",
     "text": [
      "/home/khaos/miniconda3/envs/masif/lib/python3.6/site-packages/Bio/PDB/PDBParser.py:399: PDBConstructionWarning: Ignoring unrecognized record 'TER' at line 4763\n",
      "  PDBConstructionWarning,\n",
      "/home/khaos/miniconda3/envs/masif/lib/python3.6/site-packages/Bio/PDB/PDBParser.py:399: PDBConstructionWarning: Ignoring unrecognized record 'END' at line 4764\n",
      "  PDBConstructionWarning,\n",
      "/home/khaos/miniconda3/envs/masif/lib/python3.6/site-packages/Bio/PDB/PDBParser.py:399: PDBConstructionWarning: Ignoring unrecognized record 'TER' at line 4230\n",
      "  PDBConstructionWarning,\n",
      "/home/khaos/miniconda3/envs/masif/lib/python3.6/site-packages/Bio/PDB/PDBParser.py:399: PDBConstructionWarning: Ignoring unrecognized record 'END' at line 4231\n",
      "  PDBConstructionWarning,\n",
      "/home/khaos/miniconda3/envs/masif/lib/python3.6/site-packages/Bio/PDB/PDBParser.py:399: PDBConstructionWarning: Ignoring unrecognized record 'TER' at line 4817\n",
      "  PDBConstructionWarning,\n",
      "/home/khaos/miniconda3/envs/masif/lib/python3.6/site-packages/Bio/PDB/PDBParser.py:399: PDBConstructionWarning: Ignoring unrecognized record 'END' at line 4818\n",
      "  PDBConstructionWarning,\n"
     ]
    },
    {
     "name": "stdout",
     "output_type": "stream",
     "text": [
      "Per residue ROC AUC: 0.77\n",
      "sppider_pred/ Per point ROC AUC 1F6M_A : 0.76\n",
      "4LVN\n",
      "Per residue ROC AUC: 0.71\n",
      "sppider_pred/ Per point ROC AUC 4LVN_A : 0.74\n",
      "3RT0\n"
     ]
    },
    {
     "name": "stderr",
     "output_type": "stream",
     "text": [
      "/home/khaos/miniconda3/envs/masif/lib/python3.6/site-packages/Bio/PDB/PDBParser.py:399: PDBConstructionWarning: Ignoring unrecognized record 'TER' at line 5206\n",
      "  PDBConstructionWarning,\n",
      "/home/khaos/miniconda3/envs/masif/lib/python3.6/site-packages/Bio/PDB/PDBParser.py:399: PDBConstructionWarning: Ignoring unrecognized record 'END' at line 5207\n",
      "  PDBConstructionWarning,\n",
      "/home/khaos/miniconda3/envs/masif/lib/python3.6/site-packages/Bio/PDB/PDBParser.py:399: PDBConstructionWarning: Ignoring unrecognized record 'TER' at line 5102\n",
      "  PDBConstructionWarning,\n",
      "/home/khaos/miniconda3/envs/masif/lib/python3.6/site-packages/Bio/PDB/PDBParser.py:399: PDBConstructionWarning: Ignoring unrecognized record 'END' at line 5103\n",
      "  PDBConstructionWarning,\n"
     ]
    },
    {
     "name": "stdout",
     "output_type": "stream",
     "text": [
      "Per residue ROC AUC: 0.58\n",
      "sppider_pred/ Per point ROC AUC 3RT0_A : 0.57\n",
      "Number of proteins: 51\n",
      "Global ROC AUC: 0.64\n",
      "Global ROC AUC per residue: 0.66\n",
      "Median ROC AUC per protein : 0.64\n",
      "Median ROC AUC per residue per protein: 0.65\n"
     ]
    },
    {
     "name": "stderr",
     "output_type": "stream",
     "text": [
      "/home/khaos/miniconda3/envs/masif/lib/python3.6/site-packages/seaborn/distributions.py:2551: FutureWarning: `distplot` is a deprecated function and will be removed in a future version. Please adapt your code to use either `displot` (a figure-level function with similar flexibility) or `histplot` (an axes-level function for histograms).\n",
      "  warnings.warn(msg, FutureWarning)\n",
      "/home/khaos/miniconda3/envs/masif/lib/python3.6/site-packages/seaborn/distributions.py:2551: FutureWarning: `distplot` is a deprecated function and will be removed in a future version. Please adapt your code to use either `displot` (a figure-level function with similar flexibility) or `histplot` (an axes-level function for histograms).\n",
      "  warnings.warn(msg, FutureWarning)\n"
     ]
    },
    {
     "data": {
      "text/plain": [
       "<AxesSubplot:ylabel='Density'>"
      ]
     },
     "execution_count": 10,
     "metadata": {},
     "output_type": "execute_result"
    },
    {
     "data": {
      "image/png": "[encoded data removed]",
      "text/plain": [
       "<Figure size 432x288 with 1 Axes>"
      ]
     },
     "metadata": {
      "needs_background": "light"
     },
     "output_type": "display_data"
    }
   ],
   "source": [
    "# Benchmark SPPIDER\n",
    "   \n",
    "all_pred = []\n",
    "all_labels = []\n",
    "\n",
    "all_pred_res = []\n",
    "all_labels_res = []\n",
    "\n",
    "all_roc_auc_per_prot_sppider = []\n",
    "all_res_roc_auc_per_prot_sppider = []\n",
    "\n",
    "for fn in os.listdir(sppider_pred_dir):  \n",
    "    pdbid_chain = fn.split('.')[0]\n",
    "    pdbid = pdbid_chain.split('_')[0]\n",
    "    print(pdbid)\n",
    "    \n",
    "    if pdbid not in transient_pdbs: \n",
    "        continue\n",
    "\n",
    "    l, p, res_l, res_p, roc_auc, res_roc_auc = compute_roc_auc_sppider_intpred_psiver(sppider_pred_dir, pdbid_chain)\n",
    "\n",
    "    all_pred.append(p)\n",
    "    all_labels.append(l)\n",
    "    \n",
    "    all_pred_res.append(res_p)\n",
    "    all_labels_res.append(res_l)\n",
    "    \n",
    "    all_roc_auc_per_prot_sppider.append(roc_auc)\n",
    "    all_res_roc_auc_per_prot_sppider.append(res_roc_auc)\n",
    "    \n",
    "print(\"Number of proteins: {}\".format(len(all_pred)))\n",
    "\n",
    "all_pred = np.concatenate(all_pred, axis=0)\n",
    "all_labels = np.concatenate(all_labels, axis=0)\n",
    "\n",
    "all_pred_by_point_sppider = all_pred.copy()\n",
    "all_labels_by_point_sppider = all_labels.copy()\n",
    "\n",
    "#print(metrics.roc_auc_score(all_my_labels_per_res, all_my_pred_per_res))\n",
    "\n",
    "all_labels_res = np.concatenate(all_labels_res, axis=0)\n",
    "\n",
    "all_pred_res = np.concatenate(all_pred_res, axis=0)\n",
    "\n",
    "\n",
    "all_roc_auc = sklearn.metrics.roc_auc_score(all_labels, all_pred)\n",
    "all_roc_auc_res = sklearn.metrics.roc_auc_score(all_labels_res, all_pred_res)\n",
    "\n",
    "\n",
    "\n",
    "print('Global ROC AUC: {:.2f}'.format(all_roc_auc))\n",
    "print('Global ROC AUC per residue: {:.2f}'.format(all_roc_auc_res))\n",
    "\n",
    "print('Median ROC AUC per protein : {:.2f}'.format(np.median(all_roc_auc_per_prot_sppider)))\n",
    "print('Median ROC AUC per residue per protein: {:.2f}'.format(np.median(all_res_roc_auc_per_prot_sppider)))\n",
    "\n",
    "pos_label = np.where(all_labels_res == 1)[0]\n",
    "pos = all_pred_res[pos_label]\n",
    "neg_label = np.where(all_labels_res == 0)[0]\n",
    "neg = all_pred_res[neg_label]\n",
    "sns.distplot(pos, hist=True, color='r', kde_kws={\"shade\": True}, norm_hist=True)\n",
    "sns.distplot(neg, hist=True, color='b', kde_kws={\"shade\": True}, norm_hist=True)"
   ]
  },
  {
   "cell_type": "code",
   "execution_count": 11,
   "metadata": {},
   "outputs": [
    {
     "name": "stdout",
     "output_type": "stream",
     "text": [
      "1XQS\n",
      "Per residue ROC AUC: 0.89\n",
      "../pdbs_benchmark/ Per point ROC AUC 1XQS_A : 0.89\n",
      "1JTD\n",
      "Per residue ROC AUC: 0.96\n",
      "../pdbs_benchmark/ Per point ROC AUC 1JTD_B : 0.93\n",
      "5TIH\n",
      "Per residue ROC AUC: 0.29\n",
      "../pdbs_benchmark/ Per point ROC AUC 5TIH_A : 0.27\n",
      "4XL5\n"
     ]
    },
    {
     "name": "stderr",
     "output_type": "stream",
     "text": [
      "/home/khaos/miniconda3/envs/masif/lib/python3.6/site-packages/Bio/PDB/PDBParser.py:399: PDBConstructionWarning: Ignoring unrecognized record 'TER' at line 2047\n",
      "  PDBConstructionWarning,\n",
      "/home/khaos/miniconda3/envs/masif/lib/python3.6/site-packages/Bio/PDB/PDBParser.py:399: PDBConstructionWarning: Ignoring unrecognized record 'END' at line 2048\n",
      "  PDBConstructionWarning,\n",
      "/home/khaos/miniconda3/envs/masif/lib/python3.6/site-packages/Bio/PDB/PDBParser.py:399: PDBConstructionWarning: Ignoring unrecognized record 'TER' at line 1934\n",
      "  PDBConstructionWarning,\n",
      "/home/khaos/miniconda3/envs/masif/lib/python3.6/site-packages/Bio/PDB/PDBParser.py:399: PDBConstructionWarning: Ignoring unrecognized record 'END' at line 1935\n",
      "  PDBConstructionWarning,\n",
      "/home/khaos/miniconda3/envs/masif/lib/python3.6/site-packages/Bio/PDB/PDBParser.py:399: PDBConstructionWarning: Ignoring unrecognized record 'TER' at line 2716\n",
      "  PDBConstructionWarning,\n",
      "/home/khaos/miniconda3/envs/masif/lib/python3.6/site-packages/Bio/PDB/PDBParser.py:399: PDBConstructionWarning: Ignoring unrecognized record 'END' at line 2717\n",
      "  PDBConstructionWarning,\n",
      "/home/khaos/miniconda3/envs/masif/lib/python3.6/site-packages/Bio/PDB/PDBParser.py:399: PDBConstructionWarning: Ignoring unrecognized record 'TER' at line 1870\n",
      "  PDBConstructionWarning,\n",
      "/home/khaos/miniconda3/envs/masif/lib/python3.6/site-packages/Bio/PDB/PDBParser.py:399: PDBConstructionWarning: Ignoring unrecognized record 'END' at line 1871\n",
      "  PDBConstructionWarning,\n"
     ]
    },
    {
     "name": "stdout",
     "output_type": "stream",
     "text": [
      "Per residue ROC AUC: 0.97\n",
      "../pdbs_benchmark/ Per point ROC AUC 4XL5_C : 0.95\n",
      "3ZWL\n",
      "Per residue ROC AUC: 0.73\n",
      "../pdbs_benchmark/ Per point ROC AUC 3ZWL_B : 0.69\n",
      "3MCA\n"
     ]
    },
    {
     "name": "stderr",
     "output_type": "stream",
     "text": [
      "/home/khaos/miniconda3/envs/masif/lib/python3.6/site-packages/Bio/PDB/PDBParser.py:399: PDBConstructionWarning: Ignoring unrecognized record 'TER' at line 2684\n",
      "  PDBConstructionWarning,\n",
      "/home/khaos/miniconda3/envs/masif/lib/python3.6/site-packages/Bio/PDB/PDBParser.py:399: PDBConstructionWarning: Ignoring unrecognized record 'END' at line 2685\n",
      "  PDBConstructionWarning,\n",
      "/home/khaos/miniconda3/envs/masif/lib/python3.6/site-packages/Bio/PDB/PDBParser.py:399: PDBConstructionWarning: Ignoring unrecognized record 'TER' at line 2745\n",
      "  PDBConstructionWarning,\n",
      "/home/khaos/miniconda3/envs/masif/lib/python3.6/site-packages/Bio/PDB/PDBParser.py:399: PDBConstructionWarning: Ignoring unrecognized record 'END' at line 2746\n",
      "  PDBConstructionWarning,\n",
      "/home/khaos/miniconda3/envs/masif/lib/python3.6/site-packages/Bio/PDB/PDBParser.py:399: PDBConstructionWarning: Ignoring unrecognized record 'TER' at line 3053\n",
      "  PDBConstructionWarning,\n",
      "/home/khaos/miniconda3/envs/masif/lib/python3.6/site-packages/Bio/PDB/PDBParser.py:399: PDBConstructionWarning: Ignoring unrecognized record 'END' at line 3054\n",
      "  PDBConstructionWarning,\n"
     ]
    },
    {
     "name": "stdout",
     "output_type": "stream",
     "text": [
      "Per residue ROC AUC: 0.77\n",
      "../pdbs_benchmark/ Per point ROC AUC 3MCA_B : 0.77\n",
      "3NVN\n",
      "Per residue ROC AUC: 0.93\n",
      "../pdbs_benchmark/ Per point ROC AUC 3NVN_A : 0.91\n",
      "4ZGY\n",
      "Per residue ROC AUC: 0.85\n",
      "../pdbs_benchmark/ Per point ROC AUC 4ZGY_A : 0.83\n",
      "1W1W\n"
     ]
    },
    {
     "name": "stderr",
     "output_type": "stream",
     "text": [
      "/home/khaos/miniconda3/envs/masif/lib/python3.6/site-packages/Bio/PDB/PDBParser.py:399: PDBConstructionWarning: Ignoring unrecognized record 'TER' at line 2971\n",
      "  PDBConstructionWarning,\n",
      "/home/khaos/miniconda3/envs/masif/lib/python3.6/site-packages/Bio/PDB/PDBParser.py:399: PDBConstructionWarning: Ignoring unrecognized record 'END' at line 2972\n",
      "  PDBConstructionWarning,\n",
      "/home/khaos/miniconda3/envs/masif/lib/python3.6/site-packages/Bio/PDB/PDBParser.py:399: PDBConstructionWarning: Ignoring unrecognized record 'TER' at line 2628\n",
      "  PDBConstructionWarning,\n",
      "/home/khaos/miniconda3/envs/masif/lib/python3.6/site-packages/Bio/PDB/PDBParser.py:399: PDBConstructionWarning: Ignoring unrecognized record 'END' at line 2629\n",
      "  PDBConstructionWarning,\n",
      "/home/khaos/miniconda3/envs/masif/lib/python3.6/site-packages/Bio/PDB/PDBParser.py:399: PDBConstructionWarning: Ignoring unrecognized record 'TER' at line 2994\n",
      "  PDBConstructionWarning,\n",
      "/home/khaos/miniconda3/envs/masif/lib/python3.6/site-packages/Bio/PDB/PDBParser.py:399: PDBConstructionWarning: Ignoring unrecognized record 'END' at line 2995\n",
      "  PDBConstructionWarning,\n"
     ]
    },
    {
     "name": "stdout",
     "output_type": "stream",
     "text": [
      "Per residue ROC AUC: 0.86\n",
      "../pdbs_benchmark/ Per point ROC AUC 1W1W_B : 0.82\n",
      "4ETP\n",
      "Per residue ROC AUC: 0.97\n",
      "../pdbs_benchmark/ Per point ROC AUC 4ETP_A : 0.94\n",
      "2C0L\n"
     ]
    },
    {
     "name": "stderr",
     "output_type": "stream",
     "text": [
      "/home/khaos/miniconda3/envs/masif/lib/python3.6/site-packages/Bio/PDB/PDBParser.py:399: PDBConstructionWarning: Ignoring unrecognized record 'TER' at line 2281\n",
      "  PDBConstructionWarning,\n",
      "/home/khaos/miniconda3/envs/masif/lib/python3.6/site-packages/Bio/PDB/PDBParser.py:399: PDBConstructionWarning: Ignoring unrecognized record 'END' at line 2282\n",
      "  PDBConstructionWarning,\n",
      "/home/khaos/miniconda3/envs/masif/lib/python3.6/site-packages/Bio/PDB/PDBParser.py:399: PDBConstructionWarning: Ignoring unrecognized record 'TER' at line 2494\n",
      "  PDBConstructionWarning,\n",
      "/home/khaos/miniconda3/envs/masif/lib/python3.6/site-packages/Bio/PDB/PDBParser.py:399: PDBConstructionWarning: Ignoring unrecognized record 'END' at line 2495\n",
      "  PDBConstructionWarning,\n",
      "/home/khaos/miniconda3/envs/masif/lib/python3.6/site-packages/Bio/PDB/PDBParser.py:399: PDBConstructionWarning: Ignoring unrecognized record 'TER' at line 2850\n",
      "  PDBConstructionWarning,\n",
      "/home/khaos/miniconda3/envs/masif/lib/python3.6/site-packages/Bio/PDB/PDBParser.py:399: PDBConstructionWarning: Ignoring unrecognized record 'END' at line 2851\n",
      "  PDBConstructionWarning,\n"
     ]
    },
    {
     "name": "stdout",
     "output_type": "stream",
     "text": [
      "Per residue ROC AUC: 0.70\n",
      "../pdbs_benchmark/ Per point ROC AUC 2C0L_A : 0.73\n",
      "4M0W\n",
      "Per residue ROC AUC: 0.75\n",
      "../pdbs_benchmark/ Per point ROC AUC 4M0W_A : 0.70\n",
      "2QXV\n",
      "Per residue ROC AUC: 0.69\n",
      "../pdbs_benchmark/ Per point ROC AUC 2QXV_A : 0.70\n",
      "1WDW\n"
     ]
    },
    {
     "name": "stderr",
     "output_type": "stream",
     "text": [
      "/home/khaos/miniconda3/envs/masif/lib/python3.6/site-packages/Bio/PDB/PDBParser.py:399: PDBConstructionWarning: Ignoring unrecognized record 'TER' at line 2978\n",
      "  PDBConstructionWarning,\n",
      "/home/khaos/miniconda3/envs/masif/lib/python3.6/site-packages/Bio/PDB/PDBParser.py:399: PDBConstructionWarning: Ignoring unrecognized record 'END' at line 2979\n",
      "  PDBConstructionWarning,\n",
      "/home/khaos/miniconda3/envs/masif/lib/python3.6/site-packages/Bio/PDB/PDBParser.py:399: PDBConstructionWarning: Ignoring unrecognized record 'TER' at line 2413\n",
      "  PDBConstructionWarning,\n",
      "/home/khaos/miniconda3/envs/masif/lib/python3.6/site-packages/Bio/PDB/PDBParser.py:399: PDBConstructionWarning: Ignoring unrecognized record 'END' at line 2414\n",
      "  PDBConstructionWarning,\n",
      "/home/khaos/miniconda3/envs/masif/lib/python3.6/site-packages/Bio/PDB/PDBParser.py:399: PDBConstructionWarning: Ignoring unrecognized record 'TER' at line 2879\n",
      "  PDBConstructionWarning,\n",
      "/home/khaos/miniconda3/envs/masif/lib/python3.6/site-packages/Bio/PDB/PDBParser.py:399: PDBConstructionWarning: Ignoring unrecognized record 'END' at line 2880\n",
      "  PDBConstructionWarning,\n"
     ]
    },
    {
     "name": "stdout",
     "output_type": "stream",
     "text": [
      "Per residue ROC AUC: 0.85\n",
      "../pdbs_benchmark/ Per point ROC AUC 1WDW_H : 0.80\n",
      "4YC7\n",
      "Per residue ROC AUC: 0.80\n",
      "../pdbs_benchmark/ Per point ROC AUC 4YC7_B : 0.84\n",
      "3VYR\n",
      "Per residue ROC AUC: 0.92\n",
      "../pdbs_benchmark/ Per point ROC AUC 3VYR_B : 0.91\n",
      "3VV2\n"
     ]
    },
    {
     "name": "stderr",
     "output_type": "stream",
     "text": [
      "/home/khaos/miniconda3/envs/masif/lib/python3.6/site-packages/Bio/PDB/PDBParser.py:399: PDBConstructionWarning: Ignoring unrecognized record 'TER' at line 2328\n",
      "  PDBConstructionWarning,\n",
      "/home/khaos/miniconda3/envs/masif/lib/python3.6/site-packages/Bio/PDB/PDBParser.py:399: PDBConstructionWarning: Ignoring unrecognized record 'END' at line 2329\n",
      "  PDBConstructionWarning,\n",
      "/home/khaos/miniconda3/envs/masif/lib/python3.6/site-packages/Bio/PDB/PDBParser.py:399: PDBConstructionWarning: Ignoring unrecognized record 'TER' at line 2262\n",
      "  PDBConstructionWarning,\n",
      "/home/khaos/miniconda3/envs/masif/lib/python3.6/site-packages/Bio/PDB/PDBParser.py:399: PDBConstructionWarning: Ignoring unrecognized record 'END' at line 2263\n",
      "  PDBConstructionWarning,\n",
      "/home/khaos/miniconda3/envs/masif/lib/python3.6/site-packages/Bio/PDB/PDBParser.py:399: PDBConstructionWarning: Ignoring unrecognized record 'TER' at line 2206\n",
      "  PDBConstructionWarning,\n",
      "/home/khaos/miniconda3/envs/masif/lib/python3.6/site-packages/Bio/PDB/PDBParser.py:399: PDBConstructionWarning: Ignoring unrecognized record 'END' at line 2207\n",
      "  PDBConstructionWarning,\n"
     ]
    },
    {
     "name": "stdout",
     "output_type": "stream",
     "text": [
      "Per residue ROC AUC: 0.80\n",
      "../pdbs_benchmark/ Per point ROC AUC 3VV2_A : 0.77\n",
      "3O5T\n",
      "Per residue ROC AUC: 0.87\n",
      "../pdbs_benchmark/ Per point ROC AUC 3O5T_A : 0.86\n",
      "4C9B\n",
      "Per residue ROC AUC: 0.71\n",
      "../pdbs_benchmark/ Per point ROC AUC 4C9B_B : 0.65\n",
      "1ZHH\n"
     ]
    },
    {
     "name": "stderr",
     "output_type": "stream",
     "text": [
      "/home/khaos/miniconda3/envs/masif/lib/python3.6/site-packages/Bio/PDB/PDBParser.py:399: PDBConstructionWarning: Ignoring unrecognized record 'TER' at line 2776\n",
      "  PDBConstructionWarning,\n",
      "/home/khaos/miniconda3/envs/masif/lib/python3.6/site-packages/Bio/PDB/PDBParser.py:399: PDBConstructionWarning: Ignoring unrecognized record 'END' at line 2777\n",
      "  PDBConstructionWarning,\n",
      "/home/khaos/miniconda3/envs/masif/lib/python3.6/site-packages/Bio/PDB/PDBParser.py:399: PDBConstructionWarning: Ignoring unrecognized record 'TER' at line 1845\n",
      "  PDBConstructionWarning,\n",
      "/home/khaos/miniconda3/envs/masif/lib/python3.6/site-packages/Bio/PDB/PDBParser.py:399: PDBConstructionWarning: Ignoring unrecognized record 'END' at line 1846\n",
      "  PDBConstructionWarning,\n",
      "/home/khaos/miniconda3/envs/masif/lib/python3.6/site-packages/Bio/PDB/PDBParser.py:399: PDBConstructionWarning: Ignoring unrecognized record 'TER' at line 2592\n",
      "  PDBConstructionWarning,\n",
      "/home/khaos/miniconda3/envs/masif/lib/python3.6/site-packages/Bio/PDB/PDBParser.py:399: PDBConstructionWarning: Ignoring unrecognized record 'END' at line 2593\n",
      "  PDBConstructionWarning,\n",
      "/home/khaos/miniconda3/envs/masif/lib/python3.6/site-packages/Bio/PDB/PDBParser.py:399: PDBConstructionWarning: Ignoring unrecognized record 'TER' at line 2197\n",
      "  PDBConstructionWarning,\n",
      "/home/khaos/miniconda3/envs/masif/lib/python3.6/site-packages/Bio/PDB/PDBParser.py:399: PDBConstructionWarning: Ignoring unrecognized record 'END' at line 2198\n",
      "  PDBConstructionWarning,\n"
     ]
    },
    {
     "name": "stdout",
     "output_type": "stream",
     "text": [
      "Per residue ROC AUC: 0.90\n",
      "../pdbs_benchmark/ Per point ROC AUC 1ZHH_A : 0.87\n",
      "2XWT\n",
      "Per residue ROC AUC: 0.93\n",
      "../pdbs_benchmark/ Per point ROC AUC 2XWT_C : 0.93\n",
      "\n",
      "2PMS\n",
      "Per residue ROC AUC: 0.81\n",
      "../pdbs_benchmark/ Per point ROC AUC 2PMS_A : 0.74\n",
      "3WN7\n",
      "Per residue ROC AUC: 0.86\n",
      "../pdbs_benchmark/ Per point ROC AUC 3WN7_A : 0.80\n",
      "1NCA\n"
     ]
    },
    {
     "name": "stderr",
     "output_type": "stream",
     "text": [
      "/home/khaos/miniconda3/envs/masif/lib/python3.6/site-packages/Bio/PDB/PDBParser.py:399: PDBConstructionWarning: Ignoring unrecognized record 'TER' at line 3076\n",
      "  PDBConstructionWarning,\n",
      "/home/khaos/miniconda3/envs/masif/lib/python3.6/site-packages/Bio/PDB/PDBParser.py:399: PDBConstructionWarning: Ignoring unrecognized record 'END' at line 3077\n",
      "  PDBConstructionWarning,\n",
      "/home/khaos/miniconda3/envs/masif/lib/python3.6/site-packages/Bio/PDB/PDBParser.py:399: PDBConstructionWarning: Ignoring unrecognized record 'TER' at line 2968\n",
      "  PDBConstructionWarning,\n",
      "/home/khaos/miniconda3/envs/masif/lib/python3.6/site-packages/Bio/PDB/PDBParser.py:399: PDBConstructionWarning: Ignoring unrecognized record 'END' at line 2969\n",
      "  PDBConstructionWarning,\n"
     ]
    },
    {
     "name": "stdout",
     "output_type": "stream",
     "text": [
      "Per residue ROC AUC: 0.50\n",
      "../pdbs_benchmark/ Per point ROC AUC 1NCA_N : 0.46\n",
      "3FHC\n",
      "Per residue ROC AUC: 0.52\n",
      "../pdbs_benchmark/ Per point ROC AUC 3FHC_A : 0.53\n",
      "2V9T\n",
      "Per residue ROC AUC: 0.94\n",
      "../pdbs_benchmark/ Per point ROC AUC 2V9T_B : 0.94\n",
      "4ZRJ\n"
     ]
    },
    {
     "name": "stderr",
     "output_type": "stream",
     "text": [
      "/home/khaos/miniconda3/envs/masif/lib/python3.6/site-packages/Bio/PDB/PDBParser.py:399: PDBConstructionWarning: Ignoring unrecognized record 'TER' at line 1642\n",
      "  PDBConstructionWarning,\n",
      "/home/khaos/miniconda3/envs/masif/lib/python3.6/site-packages/Bio/PDB/PDBParser.py:399: PDBConstructionWarning: Ignoring unrecognized record 'END' at line 1643\n",
      "  PDBConstructionWarning,\n",
      "/home/khaos/miniconda3/envs/masif/lib/python3.6/site-packages/Bio/PDB/PDBParser.py:399: PDBConstructionWarning: Ignoring unrecognized record 'TER' at line 2452\n",
      "  PDBConstructionWarning,\n",
      "/home/khaos/miniconda3/envs/masif/lib/python3.6/site-packages/Bio/PDB/PDBParser.py:399: PDBConstructionWarning: Ignoring unrecognized record 'END' at line 2453\n",
      "  PDBConstructionWarning,\n",
      "/home/khaos/miniconda3/envs/masif/lib/python3.6/site-packages/Bio/PDB/PDBParser.py:399: PDBConstructionWarning: Ignoring unrecognized record 'TER' at line 2352\n",
      "  PDBConstructionWarning,\n",
      "/home/khaos/miniconda3/envs/masif/lib/python3.6/site-packages/Bio/PDB/PDBParser.py:399: PDBConstructionWarning: Ignoring unrecognized record 'END' at line 2353\n",
      "  PDBConstructionWarning,\n"
     ]
    },
    {
     "name": "stdout",
     "output_type": "stream",
     "text": [
      "Per residue ROC AUC: 0.88\n",
      "../pdbs_benchmark/ Per point ROC AUC 4ZRJ_A : 0.86\n",
      "4ETP\n",
      "Per residue ROC AUC: 0.98\n",
      "../pdbs_benchmark/ Per point ROC AUC 4ETP_B : 0.94\n",
      "4V0O\n",
      "Per residue ROC AUC: 0.75\n",
      "../pdbs_benchmark/ Per point ROC AUC 4V0O_F : 0.73\n",
      "2F4M\n"
     ]
    },
    {
     "name": "stderr",
     "output_type": "stream",
     "text": [
      "/home/khaos/miniconda3/envs/masif/lib/python3.6/site-packages/Bio/PDB/PDBParser.py:399: PDBConstructionWarning: Ignoring unrecognized record 'TER' at line 2231\n",
      "  PDBConstructionWarning,\n",
      "/home/khaos/miniconda3/envs/masif/lib/python3.6/site-packages/Bio/PDB/PDBParser.py:399: PDBConstructionWarning: Ignoring unrecognized record 'END' at line 2232\n",
      "  PDBConstructionWarning,\n",
      "/home/khaos/miniconda3/envs/masif/lib/python3.6/site-packages/Bio/PDB/PDBParser.py:399: PDBConstructionWarning: Ignoring unrecognized record 'TER' at line 2449\n",
      "  PDBConstructionWarning,\n",
      "/home/khaos/miniconda3/envs/masif/lib/python3.6/site-packages/Bio/PDB/PDBParser.py:399: PDBConstructionWarning: Ignoring unrecognized record 'END' at line 2450\n",
      "  PDBConstructionWarning,\n",
      "/home/khaos/miniconda3/envs/masif/lib/python3.6/site-packages/Bio/PDB/PDBParser.py:399: PDBConstructionWarning: Ignoring unrecognized record 'TER' at line 2501\n",
      "  PDBConstructionWarning,\n",
      "/home/khaos/miniconda3/envs/masif/lib/python3.6/site-packages/Bio/PDB/PDBParser.py:399: PDBConstructionWarning: Ignoring unrecognized record 'END' at line 2502\n",
      "  PDBConstructionWarning,\n"
     ]
    },
    {
     "name": "stdout",
     "output_type": "stream",
     "text": [
      "Per residue ROC AUC: 0.99\n",
      "../pdbs_benchmark/ Per point ROC AUC 2F4M_A : 0.97\n",
      "2WUS\n",
      "Per residue ROC AUC: 0.52\n",
      "../pdbs_benchmark/ Per point ROC AUC 2WUS_A : 0.47\n",
      "2V3B\n",
      "Per residue ROC AUC: 0.95\n",
      "../pdbs_benchmark/ Per point ROC AUC 2V3B_A : 0.91\n",
      "4HDO\n"
     ]
    },
    {
     "name": "stderr",
     "output_type": "stream",
     "text": [
      "/home/khaos/miniconda3/envs/masif/lib/python3.6/site-packages/Bio/PDB/PDBParser.py:399: PDBConstructionWarning: Ignoring unrecognized record 'TER' at line 2825\n",
      "  PDBConstructionWarning,\n",
      "/home/khaos/miniconda3/envs/masif/lib/python3.6/site-packages/Bio/PDB/PDBParser.py:399: PDBConstructionWarning: Ignoring unrecognized record 'END' at line 2826\n",
      "  PDBConstructionWarning,\n",
      "/home/khaos/miniconda3/envs/masif/lib/python3.6/site-packages/Bio/PDB/PDBParser.py:399: PDBConstructionWarning: Ignoring unrecognized record 'TER' at line 2539\n",
      "  PDBConstructionWarning,\n",
      "/home/khaos/miniconda3/envs/masif/lib/python3.6/site-packages/Bio/PDB/PDBParser.py:399: PDBConstructionWarning: Ignoring unrecognized record 'END' at line 2540\n",
      "  PDBConstructionWarning,\n"
     ]
    },
    {
     "name": "stdout",
     "output_type": "stream",
     "text": [
      "Per residue ROC AUC: 0.86\n",
      "../pdbs_benchmark/ Per point ROC AUC 4HDO_A : 0.84\n",
      "3BH6\n",
      "Per residue ROC AUC: 0.77\n",
      "../pdbs_benchmark/ Per point ROC AUC 3BH6_B : 0.72\n",
      "2I3T\n",
      "Per residue ROC AUC: 0.85\n",
      "../pdbs_benchmark/ Per point ROC AUC 2I3T_A : 0.80\n",
      "4BKX\n"
     ]
    },
    {
     "name": "stderr",
     "output_type": "stream",
     "text": [
      "/home/khaos/miniconda3/envs/masif/lib/python3.6/site-packages/Bio/PDB/PDBParser.py:399: PDBConstructionWarning: Ignoring unrecognized record 'TER' at line 2468\n",
      "  PDBConstructionWarning,\n",
      "/home/khaos/miniconda3/envs/masif/lib/python3.6/site-packages/Bio/PDB/PDBParser.py:399: PDBConstructionWarning: Ignoring unrecognized record 'END' at line 2469\n",
      "  PDBConstructionWarning,\n",
      "/home/khaos/miniconda3/envs/masif/lib/python3.6/site-packages/Bio/PDB/PDBParser.py:399: PDBConstructionWarning: Ignoring unrecognized record 'TER' at line 2646\n",
      "  PDBConstructionWarning,\n",
      "/home/khaos/miniconda3/envs/masif/lib/python3.6/site-packages/Bio/PDB/PDBParser.py:399: PDBConstructionWarning: Ignoring unrecognized record 'END' at line 2647\n",
      "  PDBConstructionWarning,\n",
      "/home/khaos/miniconda3/envs/masif/lib/python3.6/site-packages/Bio/PDB/PDBParser.py:399: PDBConstructionWarning: Ignoring unrecognized record 'TER' at line 2965\n",
      "  PDBConstructionWarning,\n",
      "/home/khaos/miniconda3/envs/masif/lib/python3.6/site-packages/Bio/PDB/PDBParser.py:399: PDBConstructionWarning: Ignoring unrecognized record 'END' at line 2966\n",
      "  PDBConstructionWarning,\n"
     ]
    },
    {
     "name": "stdout",
     "output_type": "stream",
     "text": [
      "Per residue ROC AUC: 0.71\n",
      "../pdbs_benchmark/ Per point ROC AUC 4BKX_B : 0.69\n",
      "2AYO\n",
      "Per residue ROC AUC: 0.72\n",
      "../pdbs_benchmark/ Per point ROC AUC 2AYO_A : 0.70\n",
      "1XG2\n",
      "Per residue ROC AUC: 0.47\n",
      "../pdbs_benchmark/ Per point ROC AUC 1XG2_A : 0.43\n",
      "4Y61\n"
     ]
    },
    {
     "name": "stderr",
     "output_type": "stream",
     "text": [
      "/home/khaos/miniconda3/envs/masif/lib/python3.6/site-packages/Bio/PDB/PDBParser.py:399: PDBConstructionWarning: Ignoring unrecognized record 'TER' at line 2811\n",
      "  PDBConstructionWarning,\n",
      "/home/khaos/miniconda3/envs/masif/lib/python3.6/site-packages/Bio/PDB/PDBParser.py:399: PDBConstructionWarning: Ignoring unrecognized record 'END' at line 2812\n",
      "  PDBConstructionWarning,\n",
      "/home/khaos/miniconda3/envs/masif/lib/python3.6/site-packages/Bio/PDB/PDBParser.py:399: PDBConstructionWarning: Ignoring unrecognized record 'TER' at line 2433\n",
      "  PDBConstructionWarning,\n",
      "/home/khaos/miniconda3/envs/masif/lib/python3.6/site-packages/Bio/PDB/PDBParser.py:399: PDBConstructionWarning: Ignoring unrecognized record 'END' at line 2434\n",
      "  PDBConstructionWarning,\n",
      "/home/khaos/miniconda3/envs/masif/lib/python3.6/site-packages/Bio/PDB/PDBParser.py:399: PDBConstructionWarning: Ignoring unrecognized record 'TER' at line 1888\n",
      "  PDBConstructionWarning,\n",
      "/home/khaos/miniconda3/envs/masif/lib/python3.6/site-packages/Bio/PDB/PDBParser.py:399: PDBConstructionWarning: Ignoring unrecognized record 'END' at line 1889\n",
      "  PDBConstructionWarning,\n"
     ]
    },
    {
     "name": "stdout",
     "output_type": "stream",
     "text": [
      "Per residue ROC AUC: 0.79\n",
      "../pdbs_benchmark/ Per point ROC AUC 4Y61_B : 0.70\n",
      "5J57\n",
      "Per residue ROC AUC: 0.52\n",
      "../pdbs_benchmark/ Per point ROC AUC 5J57_A : 0.50\n",
      "4X33\n",
      "Per residue ROC AUC: 0.96\n",
      "../pdbs_benchmark/ Per point ROC AUC 4X33_B : 0.93\n",
      "3SJA\n"
     ]
    },
    {
     "name": "stderr",
     "output_type": "stream",
     "text": [
      "/home/khaos/miniconda3/envs/masif/lib/python3.6/site-packages/Bio/PDB/PDBParser.py:399: PDBConstructionWarning: Ignoring unrecognized record 'TER' at line 2088\n",
      "  PDBConstructionWarning,\n",
      "/home/khaos/miniconda3/envs/masif/lib/python3.6/site-packages/Bio/PDB/PDBParser.py:399: PDBConstructionWarning: Ignoring unrecognized record 'END' at line 2089\n",
      "  PDBConstructionWarning,\n",
      "/home/khaos/miniconda3/envs/masif/lib/python3.6/site-packages/Bio/PDB/PDBParser.py:399: PDBConstructionWarning: Ignoring unrecognized record 'TER' at line 2501\n",
      "  PDBConstructionWarning,\n",
      "/home/khaos/miniconda3/envs/masif/lib/python3.6/site-packages/Bio/PDB/PDBParser.py:399: PDBConstructionWarning: Ignoring unrecognized record 'END' at line 2502\n",
      "  PDBConstructionWarning,\n",
      "/home/khaos/miniconda3/envs/masif/lib/python3.6/site-packages/Bio/PDB/PDBParser.py:399: PDBConstructionWarning: Ignoring unrecognized record 'TER' at line 2648\n",
      "  PDBConstructionWarning,\n",
      "/home/khaos/miniconda3/envs/masif/lib/python3.6/site-packages/Bio/PDB/PDBParser.py:399: PDBConstructionWarning: Ignoring unrecognized record 'END' at line 2649\n",
      "  PDBConstructionWarning,\n"
     ]
    },
    {
     "name": "stdout",
     "output_type": "stream",
     "text": [
      "Per residue ROC AUC: 0.23\n",
      "../pdbs_benchmark/ Per point ROC AUC 3SJA_I : 0.15\n",
      "3QML\n",
      "Per residue ROC AUC: 0.50\n",
      "../pdbs_benchmark/ Per point ROC AUC 3QML_D : 0.43\n",
      "1I2M\n",
      "Per residue ROC AUC: 0.91\n",
      "../pdbs_benchmark/ Per point ROC AUC 1I2M_B : 0.87\n",
      "3H6G\n"
     ]
    },
    {
     "name": "stderr",
     "output_type": "stream",
     "text": [
      "/home/khaos/miniconda3/envs/masif/lib/python3.6/site-packages/Bio/PDB/PDBParser.py:399: PDBConstructionWarning: Ignoring unrecognized record 'TER' at line 2247\n",
      "  PDBConstructionWarning,\n",
      "/home/khaos/miniconda3/envs/masif/lib/python3.6/site-packages/Bio/PDB/PDBParser.py:399: PDBConstructionWarning: Ignoring unrecognized record 'END' at line 2248\n",
      "  PDBConstructionWarning,\n",
      "/home/khaos/miniconda3/envs/masif/lib/python3.6/site-packages/Bio/PDB/PDBParser.py:399: PDBConstructionWarning: Ignoring unrecognized record 'TER' at line 2900\n",
      "  PDBConstructionWarning,\n",
      "/home/khaos/miniconda3/envs/masif/lib/python3.6/site-packages/Bio/PDB/PDBParser.py:399: PDBConstructionWarning: Ignoring unrecognized record 'END' at line 2901\n",
      "  PDBConstructionWarning,\n",
      "/home/khaos/miniconda3/envs/masif/lib/python3.6/site-packages/Bio/PDB/PDBParser.py:399: PDBConstructionWarning: Ignoring unrecognized record 'TER' at line 3052\n",
      "  PDBConstructionWarning,\n",
      "/home/khaos/miniconda3/envs/masif/lib/python3.6/site-packages/Bio/PDB/PDBParser.py:399: PDBConstructionWarning: Ignoring unrecognized record 'END' at line 3053\n",
      "  PDBConstructionWarning,\n"
     ]
    },
    {
     "name": "stdout",
     "output_type": "stream",
     "text": [
      "Per residue ROC AUC: 0.98\n",
      "../pdbs_benchmark/ Per point ROC AUC 3H6G_B : 0.96\n",
      "1EWY\n",
      "Per residue ROC AUC: 0.86\n",
      "../pdbs_benchmark/ Per point ROC AUC 1EWY_A : 0.82\n",
      "4DVG\n",
      "Per residue ROC AUC: 0.91\n"
     ]
    },
    {
     "name": "stderr",
     "output_type": "stream",
     "text": [
      "/home/khaos/miniconda3/envs/masif/lib/python3.6/site-packages/Bio/PDB/PDBParser.py:399: PDBConstructionWarning: Ignoring unrecognized record 'TER' at line 2387\n",
      "  PDBConstructionWarning,\n",
      "/home/khaos/miniconda3/envs/masif/lib/python3.6/site-packages/Bio/PDB/PDBParser.py:399: PDBConstructionWarning: Ignoring unrecognized record 'END' at line 2388\n",
      "  PDBConstructionWarning,\n",
      "/home/khaos/miniconda3/envs/masif/lib/python3.6/site-packages/Bio/PDB/PDBParser.py:399: PDBConstructionWarning: Ignoring unrecognized record 'TER' at line 2372\n",
      "  PDBConstructionWarning,\n",
      "/home/khaos/miniconda3/envs/masif/lib/python3.6/site-packages/Bio/PDB/PDBParser.py:399: PDBConstructionWarning: Ignoring unrecognized record 'END' at line 2373\n",
      "  PDBConstructionWarning,\n",
      "/home/khaos/miniconda3/envs/masif/lib/python3.6/site-packages/Bio/PDB/PDBParser.py:399: PDBConstructionWarning: Ignoring unrecognized record 'TER' at line 2164\n",
      "  PDBConstructionWarning,\n",
      "/home/khaos/miniconda3/envs/masif/lib/python3.6/site-packages/Bio/PDB/PDBParser.py:399: PDBConstructionWarning: Ignoring unrecognized record 'END' at line 2165\n",
      "  PDBConstructionWarning,\n"
     ]
    },
    {
     "name": "stdout",
     "output_type": "stream",
     "text": [
      "../pdbs_benchmark/ Per point ROC AUC 4DVG_B : 0.88\n",
      "4YEB\n",
      "Per residue ROC AUC: 0.60\n",
      "../pdbs_benchmark/ Per point ROC AUC 4YEB_A : 0.59\n",
      "1F6M\n",
      "Per residue ROC AUC: 0.92\n",
      "../pdbs_benchmark/ Per point ROC AUC 1F6M_A : 0.89\n",
      "4LVN\n",
      "Per residue ROC AUC: 0.88\n"
     ]
    },
    {
     "name": "stderr",
     "output_type": "stream",
     "text": [
      "/home/khaos/miniconda3/envs/masif/lib/python3.6/site-packages/Bio/PDB/PDBParser.py:399: PDBConstructionWarning: Ignoring unrecognized record 'TER' at line 2424\n",
      "  PDBConstructionWarning,\n",
      "/home/khaos/miniconda3/envs/masif/lib/python3.6/site-packages/Bio/PDB/PDBParser.py:399: PDBConstructionWarning: Ignoring unrecognized record 'END' at line 2425\n",
      "  PDBConstructionWarning,\n",
      "/home/khaos/miniconda3/envs/masif/lib/python3.6/site-packages/Bio/PDB/PDBParser.py:399: PDBConstructionWarning: Ignoring unrecognized record 'TER' at line 2630\n",
      "  PDBConstructionWarning,\n",
      "/home/khaos/miniconda3/envs/masif/lib/python3.6/site-packages/Bio/PDB/PDBParser.py:399: PDBConstructionWarning: Ignoring unrecognized record 'END' at line 2631\n",
      "  PDBConstructionWarning,\n",
      "/home/khaos/miniconda3/envs/masif/lib/python3.6/site-packages/Bio/PDB/PDBParser.py:399: PDBConstructionWarning: Ignoring unrecognized record 'TER' at line 2553\n",
      "  PDBConstructionWarning,\n",
      "/home/khaos/miniconda3/envs/masif/lib/python3.6/site-packages/Bio/PDB/PDBParser.py:399: PDBConstructionWarning: Ignoring unrecognized record 'END' at line 2554\n",
      "  PDBConstructionWarning,\n"
     ]
    },
    {
     "name": "stdout",
     "output_type": "stream",
     "text": [
      "../pdbs_benchmark/ Per point ROC AUC 4LVN_A : 0.86\n",
      "3RT0\n",
      "Per residue ROC AUC: 0.59\n",
      "../pdbs_benchmark/ Per point ROC AUC 3RT0_A : 0.64\n",
      "Number of proteins: 51\n",
      "Global ROC AUC: 0.77\n",
      "Global ROC AUC per residue: 0.79\n",
      "Median ROC AUC per protein : 0.80\n",
      "Median ROC AUC per residue per protein: 0.85\n"
     ]
    },
    {
     "name": "stderr",
     "output_type": "stream",
     "text": [
      "/home/khaos/miniconda3/envs/masif/lib/python3.6/site-packages/seaborn/distributions.py:2551: FutureWarning: `distplot` is a deprecated function and will be removed in a future version. Please adapt your code to use either `displot` (a figure-level function with similar flexibility) or `histplot` (an axes-level function for histograms).\n",
      "  warnings.warn(msg, FutureWarning)\n",
      "/home/khaos/miniconda3/envs/masif/lib/python3.6/site-packages/seaborn/distributions.py:2551: FutureWarning: `distplot` is a deprecated function and will be removed in a future version. Please adapt your code to use either `displot` (a figure-level function with similar flexibility) or `histplot` (an axes-level function for histograms).\n",
      "  warnings.warn(msg, FutureWarning)\n"
     ]
    },
    {
     "data": {
      "text/plain": [
       "<AxesSubplot:ylabel='Density'>"
      ]
     },
     "execution_count": 11,
     "metadata": {},
     "output_type": "execute_result"
    },
    {
     "data": {
      "image/png": "[encoded data removed]",
      "text/plain": [
       "<Figure size 432x288 with 1 Axes>"
      ]
     },
     "metadata": {
      "needs_background": "light"
     },
     "output_type": "display_data"
    }
   ],
   "source": [
    "# Benchmark AToNN\n",
    "   \n",
    "all_pred = []\n",
    "all_labels = []\n",
    "\n",
    "all_pred_res = []\n",
    "all_labels_res = []\n",
    "\n",
    "all_roc_auc_per_prot_atonn = []\n",
    "all_res_roc_auc_per_prot_atonn = []\n",
    "\n",
    "for fn in os.listdir(atonn_pred_dir):  \n",
    "    pdbid_chain = fn.split('.')[0]\n",
    "    pdbid = pdbid_chain.split('_')[0]\n",
    "    print(pdbid)\n",
    "    \n",
    "    if pdbid not in transient_pdbs: \n",
    "        continue\n",
    "\n",
    "    l, p, res_l, res_p, roc_auc, res_roc_auc = compute_roc_auc_sppider_intpred_psiver(atonn_pred_dir, pdbid_chain, alpha=1.0)\n",
    "\n",
    "    all_pred.append(p)\n",
    "    all_labels.append(l)\n",
    "    \n",
    "    all_pred_res.append(res_p)\n",
    "    all_labels_res.append(res_l)\n",
    "    \n",
    "    all_roc_auc_per_prot_atonn.append(roc_auc)\n",
    "    all_res_roc_auc_per_prot_atonn.append(res_roc_auc)\n",
    "    \n",
    "print(\"Number of proteins: {}\".format(len(all_pred)))\n",
    "\n",
    "all_pred = np.concatenate(all_pred, axis=0)\n",
    "all_labels = np.concatenate(all_labels, axis=0)\n",
    "\n",
    "all_pred_by_point_atonn = all_pred.copy()\n",
    "all_labels_by_point_atonn = all_labels.copy()\n",
    "\n",
    "#print(metrics.roc_auc_score(all_my_labels_per_res, all_my_pred_per_res))\n",
    "\n",
    "all_labels_res = np.concatenate(all_labels_res, axis=0)\n",
    "\n",
    "all_pred_res = np.concatenate(all_pred_res, axis=0)\n",
    "\n",
    "\n",
    "all_roc_auc = sklearn.metrics.roc_auc_score(all_labels, all_pred)\n",
    "all_roc_auc_res = sklearn.metrics.roc_auc_score(all_labels_res, all_pred_res)\n",
    "\n",
    "\n",
    "\n",
    "print('Global ROC AUC: {:.2f}'.format(all_roc_auc))\n",
    "print('Global ROC AUC per residue: {:.2f}'.format(all_roc_auc_res))\n",
    "\n",
    "print('Median ROC AUC per protein : {:.2f}'.format(np.median(all_roc_auc_per_prot_atonn)))\n",
    "print('Median ROC AUC per residue per protein: {:.2f}'.format(np.median(all_res_roc_auc_per_prot_atonn)))\n",
    "\n",
    "pos_label = np.where(all_labels_res == 1)[0]\n",
    "pos = all_pred_res[pos_label]\n",
    "neg_label = np.where(all_labels_res == 0)[0]\n",
    "neg = all_pred_res[neg_label]\n",
    "sns.distplot(pos, hist=True, color='r', kde_kws={\"shade\": True}, norm_hist=True)\n",
    "sns.distplot(neg, hist=True, color='b', kde_kws={\"shade\": True}, norm_hist=True)"
   ]
  },
  {
   "cell_type": "code",
   "execution_count": 12,
   "metadata": {},
   "outputs": [],
   "source": [
    "# Compute the MASIF predictions per residue.\n",
    "# Params: myid: PDBID_CHAIN format\n",
    "# scores: the predicted scores for this one. \n",
    "def compute_pred_labels_per_residue(myid, scores):\n",
    "    # We use the same pdb that sppider predicted. \n",
    "    parser = PDBParser()\n",
    "    # Use the same pdb that sppider used. \n",
    "    struct = parser.get_structure(sppider_pred_dir+myid+'.pdb',sppider_pred_dir+myid+'.pdb')\n",
    "    atoms = Selection.unfold_entities(struct, 'A')\n",
    "    residues = Selection.unfold_entities(struct, 'R')\n",
    "    \n",
    "    ground_truth_mesh = pymesh.load_mesh(ground_truth_dir+myid+'.ply')\n",
    "    \n",
    "    res_labels = assign_labels_per_residue(atoms, residues, ground_truth_mesh)\n",
    "    \n",
    "    # Now assign predictions to each vert    \n",
    "    verts = ground_truth_mesh.vertices\n",
    "    ground_truth_mesh.add_attribute(\"vertex_area\")\n",
    "    vertex_areas = ground_truth_mesh.get_attribute(\"vertex_area\")\n",
    "    \n",
    "    at_coord = np.array([at.get_coord() for at in atoms]).astype(float)\n",
    "    verts = ground_truth_mesh.vertices.astype(float)\n",
    "    \n",
    "    \n",
    "    residues = [x for x in verts]\n",
    "    flann = pyflann.FLANN()\n",
    "    r,d = flann.nn(at_coord, verts)\n",
    "    d = np.sqrt(d)\n",
    "    n= len(r)\n",
    "    \n",
    "    # For each residue, assign the mean score. \n",
    "    res_scores = {}\n",
    "    res_areas = {}\n",
    "    for ix, v in enumerate(verts): \n",
    "        pred = scores[ix]\n",
    "        res_id = atoms[r[ix]].get_parent().get_id()\n",
    "        if res_id not in res_scores:\n",
    "            res_scores[res_id] = []\n",
    "            res_areas[res_id] = []\n",
    "        res_scores[res_id].append(pred)\n",
    "        res_areas[res_id].append(pred)\n",
    "    print('Total number of residues {}'.format(len(res_scores.keys())))\n",
    "\n",
    "    for key in res_scores:\n",
    "        res_scores[key] =  np.max(res_scores[key])\n",
    "\n",
    "    pred_per_res = []\n",
    "    labels_per_res = []\n",
    "    for key in res_labels: \n",
    "        if key in res_scores and key in res_labels:\n",
    "            pred_per_res.append(res_scores[key])\n",
    "            labels_per_res.append(res_labels[key])\n",
    "    \n",
    "    return pred_per_res, labels_per_res "
   ]
  },
  {
   "cell_type": "code",
   "execution_count": 20,
   "metadata": {},
   "outputs": [],
   "source": [
    "# Compute per residue and per point ROC AUC scores for MASIF> \n",
    "def compute_masif_scores():\n",
    "    all_my_scores = []\n",
    "    all_my_labels = []\n",
    "    all_my_auc_per_protein = {}\n",
    "    all_my_auc_per_res = []\n",
    "    all_my_names = []\n",
    "    all_pred_per_res = {}\n",
    "    \n",
    "    all_my_pred_per_res = []\n",
    "    all_my_labels_per_res = []\n",
    "    count = 0\n",
    "\n",
    "    for name in os.listdir(masif_pred_dir): \n",
    "\n",
    "        myid = name.split('.')[0]\n",
    "        pdbid = myid.split('_')[0]\n",
    "        print(pdbid)\n",
    "    \n",
    "        if pdbid not in transient_pdbs: \n",
    "            continue\n",
    "        # Load interface for file. \n",
    "        mesh = pymesh.load_mesh(masif_pred_dir+'/'+name)\n",
    "        masif_pred = mesh.get_attribute('vertex_iface')\n",
    "        all_my_scores.append(masif_pred)\n",
    "        \n",
    "        # Load groundtruth for file. \n",
    "        mesh = pymesh.load_mesh(ground_truth_dir+'/'+name)\n",
    "        groundtruth = mesh.get_attribute('vertex_iface')\n",
    "        all_my_labels.append(groundtruth)\n",
    "        \n",
    "        auc = metrics.roc_auc_score(groundtruth, masif_pred)\n",
    "        print (auc)\n",
    "        all_my_auc_per_protein[myid] = auc\n",
    "\n",
    "        count = count+1\n",
    "            \n",
    "        print('{} ROC AUC: {}'.format(myid, auc))\n",
    "            \n",
    "        # Compute the prediction per residue.\n",
    "        pred_per_res, labels_per_res = compute_pred_labels_per_residue(myid, masif_pred)\n",
    "        all_pred_per_res[myid] = pred_per_res\n",
    "        auc_per_res = metrics.roc_auc_score(labels_per_res, pred_per_res)\n",
    "        all_my_auc_per_res.append(auc_per_res)\n",
    "\n",
    "        all_my_pred_per_res.append(pred_per_res)\n",
    "        all_my_labels_per_res.append(labels_per_res)\n",
    "        print('{} ROC AUC per res: {}'.format(myid, auc_per_res))\n",
    "\n",
    "    all_my_scores = np.concatenate(all_my_scores, axis=0)\n",
    "    all_my_labels = np.concatenate(all_my_labels, axis=0)\n",
    "    print('Number of proteins: {}'.format(count))\n",
    "    print('Median AUC per res: {}'.format(np.median(all_my_auc_per_res)))\n",
    "            \n",
    "    return all_my_scores, all_my_labels, all_my_auc_per_protein, \\\n",
    "                    all_my_names, \\\n",
    "                    all_my_labels_per_res, all_my_pred_per_res, \\\n",
    "                    all_my_auc_per_res, \\\n",
    "                    all_pred_per_res"
   ]
  },
  {
   "cell_type": "code",
   "execution_count": 21,
   "metadata": {
    "scrolled": true
   },
   "outputs": [
    {
     "name": "stdout",
     "output_type": "stream",
     "text": [
      "4ETP\n",
      "0.9325052852950115\n",
      "4ETP_B ROC AUC: 0.9325052852950115\n",
      "Total number of residues 253\n",
      "4ETP_B ROC AUC per res: 0.9349779735682819\n",
      "3SJA\n",
      "0.23343990330419095\n",
      "3SJA_I ROC AUC: 0.23343990330419095\n"
     ]
    },
    {
     "name": "stderr",
     "output_type": "stream",
     "text": [
      "/home/khaos/miniconda3/envs/masif/lib/python3.6/site-packages/Bio/PDB/PDBParser.py:399: PDBConstructionWarning: Ignoring unrecognized record 'TER' at line 4718\n",
      "  PDBConstructionWarning,\n",
      "/home/khaos/miniconda3/envs/masif/lib/python3.6/site-packages/Bio/PDB/PDBParser.py:399: PDBConstructionWarning: Ignoring unrecognized record 'END' at line 4719\n",
      "  PDBConstructionWarning,\n",
      "/home/khaos/miniconda3/envs/masif/lib/python3.6/site-packages/Bio/PDB/PDBParser.py:399: PDBConstructionWarning: Ignoring unrecognized record 'TER' at line 5292\n",
      "  PDBConstructionWarning,\n",
      "/home/khaos/miniconda3/envs/masif/lib/python3.6/site-packages/Bio/PDB/PDBParser.py:399: PDBConstructionWarning: Ignoring unrecognized record 'END' at line 5293\n",
      "  PDBConstructionWarning,\n"
     ]
    },
    {
     "name": "stdout",
     "output_type": "stream",
     "text": [
      "Total number of residues 310\n",
      "3SJA_I ROC AUC per res: 0.19572368421052633\n",
      "3MCA\n",
      "0.8610093830060467\n",
      "3MCA_B ROC AUC: 0.8610093830060467\n"
     ]
    },
    {
     "name": "stderr",
     "output_type": "stream",
     "text": [
      "/home/khaos/miniconda3/envs/masif/lib/python3.6/site-packages/Bio/PDB/PDBParser.py:399: PDBConstructionWarning: Ignoring unrecognized record 'TER' at line 5474\n",
      "  PDBConstructionWarning,\n",
      "/home/khaos/miniconda3/envs/masif/lib/python3.6/site-packages/Bio/PDB/PDBParser.py:399: PDBConstructionWarning: Ignoring unrecognized record 'END' at line 5475\n",
      "  PDBConstructionWarning,\n",
      "/home/khaos/miniconda3/envs/masif/lib/python3.6/site-packages/Bio/PDB/PDBParser.py:399: PDBConstructionWarning: Ignoring unrecognized record 'TER' at line 4291\n",
      "  PDBConstructionWarning,\n",
      "/home/khaos/miniconda3/envs/masif/lib/python3.6/site-packages/Bio/PDB/PDBParser.py:399: PDBConstructionWarning: Ignoring unrecognized record 'END' at line 4292\n",
      "  PDBConstructionWarning,\n"
     ]
    },
    {
     "name": "stdout",
     "output_type": "stream",
     "text": [
      "Total number of residues 307\n",
      "3MCA_B ROC AUC per res: 0.7594521604938271\n",
      "2MTA\n",
      "2OOR\n",
      "3WN7\n",
      "0.7291930553444462\n",
      "3WN7_A ROC AUC: 0.7291930553444462\n",
      "Total number of residues 247\n",
      "3WN7_A ROC AUC per res: 0.6195084485407066\n",
      "4C9B\n",
      "0.532132486967701\n",
      "4C9B_B ROC AUC: 0.532132486967701\n"
     ]
    },
    {
     "name": "stderr",
     "output_type": "stream",
     "text": [
      "/home/khaos/miniconda3/envs/masif/lib/python3.6/site-packages/Bio/PDB/PDBParser.py:399: PDBConstructionWarning: Ignoring unrecognized record 'TER' at line 4488\n",
      "  PDBConstructionWarning,\n",
      "/home/khaos/miniconda3/envs/masif/lib/python3.6/site-packages/Bio/PDB/PDBParser.py:399: PDBConstructionWarning: Ignoring unrecognized record 'END' at line 4489\n",
      "  PDBConstructionWarning,\n",
      "/home/khaos/miniconda3/envs/masif/lib/python3.6/site-packages/Bio/PDB/PDBParser.py:399: PDBConstructionWarning: Ignoring unrecognized record 'TER' at line 5482\n",
      "  PDBConstructionWarning,\n",
      "/home/khaos/miniconda3/envs/masif/lib/python3.6/site-packages/Bio/PDB/PDBParser.py:399: PDBConstructionWarning: Ignoring unrecognized record 'END' at line 5483\n",
      "  PDBConstructionWarning,\n"
     ]
    },
    {
     "name": "stdout",
     "output_type": "stream",
     "text": [
      "Total number of residues 232\n",
      "4C9B_B ROC AUC per res: 0.4545608968914558\n",
      "1ZHH\n",
      "0.7383194850112892\n",
      "1ZHH_A ROC AUC: 0.7383194850112892\n",
      "Total number of residues 286\n",
      "1ZHH_A ROC AUC per res: 0.6523985239852399\n",
      "3H6G\n",
      "0.9412925799563508\n",
      "3H6G_B ROC AUC: 0.9412925799563508\n"
     ]
    },
    {
     "name": "stderr",
     "output_type": "stream",
     "text": [
      "/home/khaos/miniconda3/envs/masif/lib/python3.6/site-packages/Bio/PDB/PDBParser.py:399: PDBConstructionWarning: Ignoring unrecognized record 'TER' at line 6088\n",
      "  PDBConstructionWarning,\n",
      "/home/khaos/miniconda3/envs/masif/lib/python3.6/site-packages/Bio/PDB/PDBParser.py:399: PDBConstructionWarning: Ignoring unrecognized record 'END' at line 6089\n",
      "  PDBConstructionWarning,\n",
      "/home/khaos/miniconda3/envs/masif/lib/python3.6/site-packages/Bio/PDB/PDBParser.py:399: PDBConstructionWarning: Ignoring unrecognized record 'TER' at line 6030\n",
      "  PDBConstructionWarning,\n",
      "/home/khaos/miniconda3/envs/masif/lib/python3.6/site-packages/Bio/PDB/PDBParser.py:399: PDBConstructionWarning: Ignoring unrecognized record 'END' at line 6031\n",
      "  PDBConstructionWarning,\n"
     ]
    },
    {
     "name": "stdout",
     "output_type": "stream",
     "text": [
      "Total number of residues 305\n",
      "3H6G_B ROC AUC per res: 0.9649725274725274\n",
      "4ETP\n",
      "0.9569008182323422\n",
      "4ETP_A ROC AUC: 0.9569008182323422\n",
      "Total number of residues 327\n",
      "4ETP_A ROC AUC per res: 0.9584328714763497\n",
      "2PMS\n",
      "0.8302527402669955\n",
      "2PMS_A ROC AUC: 0.8302527402669955\n",
      "Total number of residues 279\n",
      "2PMS_A ROC AUC per res: 0.798140770252324\n",
      "4YC7\n",
      "0.743368099170046\n",
      "4YC7_B ROC AUC: 0.743368099170046\n"
     ]
    },
    {
     "name": "stderr",
     "output_type": "stream",
     "text": [
      "/home/khaos/miniconda3/envs/masif/lib/python3.6/site-packages/Bio/PDB/PDBParser.py:399: PDBConstructionWarning: Ignoring unrecognized record 'TER' at line 5140\n",
      "  PDBConstructionWarning,\n",
      "/home/khaos/miniconda3/envs/masif/lib/python3.6/site-packages/Bio/PDB/PDBParser.py:399: PDBConstructionWarning: Ignoring unrecognized record 'END' at line 5141\n",
      "  PDBConstructionWarning,\n",
      "/home/khaos/miniconda3/envs/masif/lib/python3.6/site-packages/Bio/PDB/PDBParser.py:399: PDBConstructionWarning: Ignoring unrecognized record 'TER' at line 4842\n",
      "  PDBConstructionWarning,\n",
      "/home/khaos/miniconda3/envs/masif/lib/python3.6/site-packages/Bio/PDB/PDBParser.py:399: PDBConstructionWarning: Ignoring unrecognized record 'END' at line 4843\n",
      "  PDBConstructionWarning,\n"
     ]
    },
    {
     "name": "stdout",
     "output_type": "stream",
     "text": [
      "Total number of residues 245\n",
      "4YC7_B ROC AUC per res: 0.6987218502738892\n",
      "5TIH\n",
      "0.25242319246692924\n",
      "5TIH_A ROC AUC: 0.25242319246692924\n"
     ]
    },
    {
     "name": "stderr",
     "output_type": "stream",
     "text": [
      "/home/khaos/miniconda3/envs/masif/lib/python3.6/site-packages/Bio/PDB/PDBParser.py:399: PDBConstructionWarning: Ignoring unrecognized record 'TER' at line 5341\n",
      "  PDBConstructionWarning,\n",
      "/home/khaos/miniconda3/envs/masif/lib/python3.6/site-packages/Bio/PDB/PDBParser.py:399: PDBConstructionWarning: Ignoring unrecognized record 'END' at line 5342\n",
      "  PDBConstructionWarning,\n",
      "/home/khaos/miniconda3/envs/masif/lib/python3.6/site-packages/Bio/PDB/PDBParser.py:399: PDBConstructionWarning: Ignoring unrecognized record 'TER' at line 4763\n",
      "  PDBConstructionWarning,\n",
      "/home/khaos/miniconda3/envs/masif/lib/python3.6/site-packages/Bio/PDB/PDBParser.py:399: PDBConstructionWarning: Ignoring unrecognized record 'END' at line 4764\n",
      "  PDBConstructionWarning,\n"
     ]
    },
    {
     "name": "stdout",
     "output_type": "stream",
     "text": [
      "Total number of residues 282\n",
      "5TIH_A ROC AUC per res: 0.23707706766917294\n",
      "4DVG\n",
      "0.762499970064971\n",
      "4DVG_B ROC AUC: 0.762499970064971\n",
      "Total number of residues 276\n",
      "4DVG_B ROC AUC per res: 0.7054865424430641\n",
      "1GP2\n",
      "3NVN\n",
      "0.865961738949481\n",
      "3NVN_A ROC AUC: 0.865961738949481\n"
     ]
    },
    {
     "name": "stderr",
     "output_type": "stream",
     "text": [
      "/home/khaos/miniconda3/envs/masif/lib/python3.6/site-packages/Bio/PDB/PDBParser.py:399: PDBConstructionWarning: Ignoring unrecognized record 'TER' at line 6061\n",
      "  PDBConstructionWarning,\n",
      "/home/khaos/miniconda3/envs/masif/lib/python3.6/site-packages/Bio/PDB/PDBParser.py:399: PDBConstructionWarning: Ignoring unrecognized record 'END' at line 6062\n",
      "  PDBConstructionWarning,\n"
     ]
    },
    {
     "name": "stdout",
     "output_type": "stream",
     "text": [
      "Total number of residues 338\n",
      "3NVN_A ROC AUC per res: 0.8194978926149898\n",
      "3FHC\n",
      "0.41368560905796037\n",
      "3FHC_A ROC AUC: 0.41368560905796037\n"
     ]
    },
    {
     "name": "stderr",
     "output_type": "stream",
     "text": [
      "/home/khaos/miniconda3/envs/masif/lib/python3.6/site-packages/Bio/PDB/PDBParser.py:399: PDBConstructionWarning: Ignoring unrecognized record 'TER' at line 5956\n",
      "  PDBConstructionWarning,\n",
      "/home/khaos/miniconda3/envs/masif/lib/python3.6/site-packages/Bio/PDB/PDBParser.py:399: PDBConstructionWarning: Ignoring unrecognized record 'END' at line 5957\n",
      "  PDBConstructionWarning,\n",
      "/home/khaos/miniconda3/envs/masif/lib/python3.6/site-packages/Bio/PDB/PDBParser.py:399: PDBConstructionWarning: Ignoring unrecognized record 'TER' at line 4854\n",
      "  PDBConstructionWarning,\n",
      "/home/khaos/miniconda3/envs/masif/lib/python3.6/site-packages/Bio/PDB/PDBParser.py:399: PDBConstructionWarning: Ignoring unrecognized record 'END' at line 4855\n",
      "  PDBConstructionWarning,\n"
     ]
    },
    {
     "name": "stdout",
     "output_type": "stream",
     "text": [
      "Total number of residues 326\n",
      "3FHC_A ROC AUC per res: 0.4005572971090212\n",
      "4ZRJ\n",
      "0.9290031805481243\n",
      "4ZRJ_A ROC AUC: 0.9290031805481243\n",
      "Total number of residues 261\n",
      "4ZRJ_A ROC AUC per res: 0.9121951219512194\n",
      "3BH6\n",
      "0.8637100744471169\n",
      "3BH6_B ROC AUC: 0.8637100744471169\n"
     ]
    },
    {
     "name": "stderr",
     "output_type": "stream",
     "text": [
      "/home/khaos/miniconda3/envs/masif/lib/python3.6/site-packages/Bio/PDB/PDBParser.py:399: PDBConstructionWarning: Ignoring unrecognized record 'TER' at line 4894\n",
      "  PDBConstructionWarning,\n",
      "/home/khaos/miniconda3/envs/masif/lib/python3.6/site-packages/Bio/PDB/PDBParser.py:399: PDBConstructionWarning: Ignoring unrecognized record 'END' at line 4895\n",
      "  PDBConstructionWarning,\n",
      "/home/khaos/miniconda3/envs/masif/lib/python3.6/site-packages/Bio/PDB/PDBParser.py:399: PDBConstructionWarning: Ignoring unrecognized record 'TER' at line 5102\n",
      "  PDBConstructionWarning,\n",
      "/home/khaos/miniconda3/envs/masif/lib/python3.6/site-packages/Bio/PDB/PDBParser.py:399: PDBConstructionWarning: Ignoring unrecognized record 'END' at line 5103\n",
      "  PDBConstructionWarning,\n"
     ]
    },
    {
     "name": "stdout",
     "output_type": "stream",
     "text": [
      "Total number of residues 263\n",
      "3BH6_B ROC AUC per res: 0.8550210970464135\n",
      "3RT0\n",
      "0.63753981838064\n",
      "3RT0_A ROC AUC: 0.63753981838064\n",
      "Total number of residues 263\n",
      "3RT0_A ROC AUC per res: 0.5542635658914729\n",
      "2V9T\n",
      "0.9448898107337309\n",
      "2V9T_B ROC AUC: 0.9448898107337309\n"
     ]
    },
    {
     "name": "stderr",
     "output_type": "stream",
     "text": [
      "/home/khaos/miniconda3/envs/masif/lib/python3.6/site-packages/Bio/PDB/PDBParser.py:399: PDBConstructionWarning: Ignoring unrecognized record 'TER' at line 3329\n",
      "  PDBConstructionWarning,\n",
      "/home/khaos/miniconda3/envs/masif/lib/python3.6/site-packages/Bio/PDB/PDBParser.py:399: PDBConstructionWarning: Ignoring unrecognized record 'END' at line 3330\n",
      "  PDBConstructionWarning,\n",
      "/home/khaos/miniconda3/envs/masif/lib/python3.6/site-packages/Bio/PDB/PDBParser.py:399: PDBConstructionWarning: Ignoring unrecognized record 'TER' at line 4230\n",
      "  PDBConstructionWarning,\n",
      "/home/khaos/miniconda3/envs/masif/lib/python3.6/site-packages/Bio/PDB/PDBParser.py:399: PDBConstructionWarning: Ignoring unrecognized record 'END' at line 4231\n",
      "  PDBConstructionWarning,\n"
     ]
    },
    {
     "name": "stdout",
     "output_type": "stream",
     "text": [
      "Total number of residues 179\n",
      "2V9T_B ROC AUC per res: 0.9196428571428571\n",
      "4YEB\n",
      "0.30842007374672264\n",
      "4YEB_A ROC AUC: 0.30842007374672264\n",
      "Total number of residues 205\n",
      "4YEB_A ROC AUC per res: 0.3280701754385964\n",
      "3VV2\n",
      "0.7720700157350882\n",
      "3VV2_A ROC AUC: 0.7720700157350882\n",
      "Total number of residues 228\n",
      "3VV2_A ROC AUC per res: 0.6926477812346488\n",
      "3BP8\n",
      "1XQS\n",
      "0.8668554287697527\n",
      "1XQS_A ROC AUC: 0.8668554287697527\n",
      "Total number of residues 217\n",
      "1XQS_A ROC AUC per res: 0.868302312464749\n",
      "3QML\n"
     ]
    },
    {
     "name": "stderr",
     "output_type": "stream",
     "text": [
      "/home/khaos/miniconda3/envs/masif/lib/python3.6/site-packages/Bio/PDB/PDBParser.py:399: PDBConstructionWarning: Ignoring unrecognized record 'TER' at line 4592\n",
      "  PDBConstructionWarning,\n",
      "/home/khaos/miniconda3/envs/masif/lib/python3.6/site-packages/Bio/PDB/PDBParser.py:399: PDBConstructionWarning: Ignoring unrecognized record 'END' at line 4593\n",
      "  PDBConstructionWarning,\n",
      "/home/khaos/miniconda3/envs/masif/lib/python3.6/site-packages/Bio/PDB/PDBParser.py:399: PDBConstructionWarning: Ignoring unrecognized record 'TER' at line 4115\n",
      "  PDBConstructionWarning,\n",
      "/home/khaos/miniconda3/envs/masif/lib/python3.6/site-packages/Bio/PDB/PDBParser.py:399: PDBConstructionWarning: Ignoring unrecognized record 'END' at line 4116\n",
      "  PDBConstructionWarning,\n"
     ]
    },
    {
     "name": "stdout",
     "output_type": "stream",
     "text": [
      "0.656069492653465\n",
      "3QML_D ROC AUC: 0.656069492653465\n",
      "Total number of residues 232\n",
      "3QML_D ROC AUC per res: 0.6210628019323672\n",
      "2I3T\n",
      "0.8429039439739575\n",
      "2I3T_A ROC AUC: 0.8429039439739575\n"
     ]
    },
    {
     "name": "stderr",
     "output_type": "stream",
     "text": [
      "/home/khaos/miniconda3/envs/masif/lib/python3.6/site-packages/Bio/PDB/PDBParser.py:399: PDBConstructionWarning: Ignoring unrecognized record 'TER' at line 4498\n",
      "  PDBConstructionWarning,\n",
      "/home/khaos/miniconda3/envs/masif/lib/python3.6/site-packages/Bio/PDB/PDBParser.py:399: PDBConstructionWarning: Ignoring unrecognized record 'END' at line 4499\n",
      "  PDBConstructionWarning,\n",
      "/home/khaos/miniconda3/envs/masif/lib/python3.6/site-packages/Bio/PDB/PDBParser.py:399: PDBConstructionWarning: Ignoring unrecognized record 'TER' at line 5295\n",
      "  PDBConstructionWarning,\n",
      "/home/khaos/miniconda3/envs/masif/lib/python3.6/site-packages/Bio/PDB/PDBParser.py:399: PDBConstructionWarning: Ignoring unrecognized record 'END' at line 5296\n",
      "  PDBConstructionWarning,\n"
     ]
    },
    {
     "name": "stdout",
     "output_type": "stream",
     "text": [
      "Total number of residues 282\n",
      "2I3T_A ROC AUC per res: 0.7835648148148148\n",
      "3VYR\n",
      "0.891829367647864\n",
      "3VYR_B ROC AUC: 0.891829367647864\n"
     ]
    },
    {
     "name": "stderr",
     "output_type": "stream",
     "text": [
      "/home/khaos/miniconda3/envs/masif/lib/python3.6/site-packages/Bio/PDB/PDBParser.py:399: PDBConstructionWarning: Ignoring unrecognized record 'TER' at line 5755\n",
      "  PDBConstructionWarning,\n",
      "/home/khaos/miniconda3/envs/masif/lib/python3.6/site-packages/Bio/PDB/PDBParser.py:399: PDBConstructionWarning: Ignoring unrecognized record 'END' at line 5756\n",
      "  PDBConstructionWarning,\n",
      "/home/khaos/miniconda3/envs/masif/lib/python3.6/site-packages/Bio/PDB/PDBParser.py:399: PDBConstructionWarning: Ignoring unrecognized record 'TER' at line 5754\n",
      "  PDBConstructionWarning,\n",
      "/home/khaos/miniconda3/envs/masif/lib/python3.6/site-packages/Bio/PDB/PDBParser.py:399: PDBConstructionWarning: Ignoring unrecognized record 'END' at line 5755\n",
      "  PDBConstructionWarning,\n"
     ]
    },
    {
     "name": "stdout",
     "output_type": "stream",
     "text": [
      "Total number of residues 297\n",
      "3VYR_B ROC AUC per res: 0.9076286764705883\n",
      "1I2M\n",
      "0.705224134429956\n",
      "1I2M_B ROC AUC: 0.705224134429956\n",
      "Total number of residues 311\n",
      "1I2M_B ROC AUC per res: 0.6869292626414065\n",
      "2F4M\n",
      "0.936316576658875\n",
      "2F4M_A ROC AUC: 0.936316576658875\n"
     ]
    },
    {
     "name": "stderr",
     "output_type": "stream",
     "text": [
      "/home/khaos/miniconda3/envs/masif/lib/python3.6/site-packages/Bio/PDB/PDBParser.py:399: PDBConstructionWarning: Ignoring unrecognized record 'TER' at line 4859\n",
      "  PDBConstructionWarning,\n",
      "/home/khaos/miniconda3/envs/masif/lib/python3.6/site-packages/Bio/PDB/PDBParser.py:399: PDBConstructionWarning: Ignoring unrecognized record 'END' at line 4860\n",
      "  PDBConstructionWarning,\n",
      "/home/khaos/miniconda3/envs/masif/lib/python3.6/site-packages/Bio/PDB/PDBParser.py:399: PDBConstructionWarning: Ignoring unrecognized record 'TER' at line 4950\n",
      "  PDBConstructionWarning,\n",
      "/home/khaos/miniconda3/envs/masif/lib/python3.6/site-packages/Bio/PDB/PDBParser.py:399: PDBConstructionWarning: Ignoring unrecognized record 'END' at line 4951\n",
      "  PDBConstructionWarning,\n"
     ]
    },
    {
     "name": "stdout",
     "output_type": "stream",
     "text": [
      "Total number of residues 259\n",
      "2F4M_A ROC AUC per res: 0.9556851311953354\n",
      "4M0W\n",
      "0.8937126928750877\n",
      "4M0W_A ROC AUC: 0.8937126928750877\n",
      "Total number of residues 272\n",
      "4M0W_A ROC AUC per res: 0.8685175484546883\n",
      "4XL5\n",
      "0.9480246716989467\n",
      "4XL5_C ROC AUC: 0.9480246716989467\n"
     ]
    },
    {
     "name": "stderr",
     "output_type": "stream",
     "text": [
      "/home/khaos/miniconda3/envs/masif/lib/python3.6/site-packages/Bio/PDB/PDBParser.py:399: PDBConstructionWarning: Ignoring unrecognized record 'TER' at line 3796\n",
      "  PDBConstructionWarning,\n",
      "/home/khaos/miniconda3/envs/masif/lib/python3.6/site-packages/Bio/PDB/PDBParser.py:399: PDBConstructionWarning: Ignoring unrecognized record 'END' at line 3797\n",
      "  PDBConstructionWarning,\n",
      "/home/khaos/miniconda3/envs/masif/lib/python3.6/site-packages/Bio/PDB/PDBParser.py:399: PDBConstructionWarning: Ignoring unrecognized record 'TER' at line 4153\n",
      "  PDBConstructionWarning,\n",
      "/home/khaos/miniconda3/envs/masif/lib/python3.6/site-packages/Bio/PDB/PDBParser.py:399: PDBConstructionWarning: Ignoring unrecognized record 'END' at line 4154\n",
      "  PDBConstructionWarning,\n"
     ]
    },
    {
     "name": "stdout",
     "output_type": "stream",
     "text": [
      "Total number of residues 206\n",
      "4XL5_C ROC AUC per res: 0.9300673148840688\n",
      "5J57\n",
      "0.29827168476651966\n",
      "5J57_A ROC AUC: 0.29827168476651966\n",
      "Total number of residues 225\n",
      "5J57_A ROC AUC per res: 0.3258998435054773\n",
      "1EWY\n",
      "0.7542497591856523\n",
      "1EWY_A ROC AUC: 0.7542497591856523\n"
     ]
    },
    {
     "name": "stderr",
     "output_type": "stream",
     "text": [
      "/home/khaos/miniconda3/envs/masif/lib/python3.6/site-packages/Bio/PDB/PDBParser.py:399: PDBConstructionWarning: Ignoring unrecognized record 'TER' at line 4756\n",
      "  PDBConstructionWarning,\n",
      "/home/khaos/miniconda3/envs/masif/lib/python3.6/site-packages/Bio/PDB/PDBParser.py:399: PDBConstructionWarning: Ignoring unrecognized record 'END' at line 4757\n",
      "  PDBConstructionWarning,\n",
      "/home/khaos/miniconda3/envs/masif/lib/python3.6/site-packages/Bio/PDB/PDBParser.py:399: PDBConstructionWarning: Ignoring unrecognized record 'TER' at line 4817\n",
      "  PDBConstructionWarning,\n",
      "/home/khaos/miniconda3/envs/masif/lib/python3.6/site-packages/Bio/PDB/PDBParser.py:399: PDBConstructionWarning: Ignoring unrecognized record 'END' at line 4818\n",
      "  PDBConstructionWarning,\n"
     ]
    },
    {
     "name": "stdout",
     "output_type": "stream",
     "text": [
      "Total number of residues 260\n",
      "1EWY_A ROC AUC per res: 0.8324637681159421\n",
      "1F6M\n",
      "0.8256860771353656\n",
      "1F6M_A ROC AUC: 0.8256860771353656\n",
      "Total number of residues 280\n",
      "1F6M_A ROC AUC per res: 0.8276923076923077\n",
      "4V0O\n",
      "0.850999751734946\n",
      "4V0O_F ROC AUC: 0.850999751734946\n"
     ]
    },
    {
     "name": "stderr",
     "output_type": "stream",
     "text": [
      "/home/khaos/miniconda3/envs/masif/lib/python3.6/site-packages/Bio/PDB/PDBParser.py:399: PDBConstructionWarning: Ignoring unrecognized record 'TER' at line 4389\n",
      "  PDBConstructionWarning,\n",
      "/home/khaos/miniconda3/envs/masif/lib/python3.6/site-packages/Bio/PDB/PDBParser.py:399: PDBConstructionWarning: Ignoring unrecognized record 'END' at line 4390\n",
      "  PDBConstructionWarning,\n",
      "/home/khaos/miniconda3/envs/masif/lib/python3.6/site-packages/Bio/PDB/PDBParser.py:399: PDBConstructionWarning: Ignoring unrecognized record 'TER' at line 5588\n",
      "  PDBConstructionWarning,\n",
      "/home/khaos/miniconda3/envs/masif/lib/python3.6/site-packages/Bio/PDB/PDBParser.py:399: PDBConstructionWarning: Ignoring unrecognized record 'END' at line 5589\n",
      "  PDBConstructionWarning,\n"
     ]
    },
    {
     "name": "stdout",
     "output_type": "stream",
     "text": [
      "Total number of residues 270\n",
      "4V0O_F ROC AUC per res: 0.8728005865102639\n",
      "2AYO\n",
      "0.871198177086431\n",
      "2AYO_A ROC AUC: 0.871198177086431\n",
      "Total number of residues 310\n",
      "2AYO_A ROC AUC per res: 0.8071296296296296\n",
      "4BKX\n",
      "0.7848349612058485\n",
      "4BKX_B ROC AUC: 0.7848349612058485\n",
      "Total number of residues 266\n",
      "4BKX_B ROC AUC per res: 0.7552778974579922\n",
      "3LVK\n",
      "3O5T\n",
      "0.8389708668613335\n",
      "3O5T_A ROC AUC: 0.8389708668613335\n"
     ]
    },
    {
     "name": "stderr",
     "output_type": "stream",
     "text": [
      "/home/khaos/miniconda3/envs/masif/lib/python3.6/site-packages/Bio/PDB/PDBParser.py:399: PDBConstructionWarning: Ignoring unrecognized record 'TER' at line 5813\n",
      "  PDBConstructionWarning,\n",
      "/home/khaos/miniconda3/envs/masif/lib/python3.6/site-packages/Bio/PDB/PDBParser.py:399: PDBConstructionWarning: Ignoring unrecognized record 'END' at line 5814\n",
      "  PDBConstructionWarning,\n",
      "/home/khaos/miniconda3/envs/masif/lib/python3.6/site-packages/Bio/PDB/PDBParser.py:399: PDBConstructionWarning: Ignoring unrecognized record 'TER' at line 4494\n",
      "  PDBConstructionWarning,\n",
      "/home/khaos/miniconda3/envs/masif/lib/python3.6/site-packages/Bio/PDB/PDBParser.py:399: PDBConstructionWarning: Ignoring unrecognized record 'END' at line 4495\n",
      "  PDBConstructionWarning,\n"
     ]
    },
    {
     "name": "stdout",
     "output_type": "stream",
     "text": [
      "Total number of residues 220\n",
      "3O5T_A ROC AUC per res: 0.7803392779469334\n",
      "3ZWL\n",
      "0.7810445204717154\n",
      "3ZWL_B ROC AUC: 0.7810445204717154\n",
      "Total number of residues 290\n",
      "3ZWL_B ROC AUC per res: 0.7411140583554376\n",
      "2QXV\n",
      "0.8590961176367113\n",
      "2QXV_A ROC AUC: 0.8590961176367113\n"
     ]
    },
    {
     "name": "stderr",
     "output_type": "stream",
     "text": [
      "/home/khaos/miniconda3/envs/masif/lib/python3.6/site-packages/Bio/PDB/PDBParser.py:399: PDBConstructionWarning: Ignoring unrecognized record 'TER' at line 5280\n",
      "  PDBConstructionWarning,\n",
      "/home/khaos/miniconda3/envs/masif/lib/python3.6/site-packages/Bio/PDB/PDBParser.py:399: PDBConstructionWarning: Ignoring unrecognized record 'END' at line 5281\n",
      "  PDBConstructionWarning,\n",
      "/home/khaos/miniconda3/envs/masif/lib/python3.6/site-packages/Bio/PDB/PDBParser.py:399: PDBConstructionWarning: Ignoring unrecognized record 'TER' at line 5624\n",
      "  PDBConstructionWarning,\n",
      "/home/khaos/miniconda3/envs/masif/lib/python3.6/site-packages/Bio/PDB/PDBParser.py:399: PDBConstructionWarning: Ignoring unrecognized record 'END' at line 5625\n",
      "  PDBConstructionWarning,\n",
      "/home/khaos/miniconda3/envs/masif/lib/python3.6/site-packages/Bio/PDB/PDBParser.py:399: PDBConstructionWarning: Ignoring unrecognized record 'TER' at line 4550\n",
      "  PDBConstructionWarning,\n",
      "/home/khaos/miniconda3/envs/masif/lib/python3.6/site-packages/Bio/PDB/PDBParser.py:399: PDBConstructionWarning: Ignoring unrecognized record 'END' at line 4551\n",
      "  PDBConstructionWarning,\n"
     ]
    },
    {
     "name": "stdout",
     "output_type": "stream",
     "text": [
      "Total number of residues 283\n",
      "2QXV_A ROC AUC per res: 0.8751993620414673\n",
      "2C0L\n",
      "0.6976427210560338\n",
      "2C0L_A ROC AUC: 0.6976427210560338\n",
      "Total number of residues 249\n",
      "2C0L_A ROC AUC per res: 0.6146428571428572\n",
      "4HDO\n",
      "0.7855665998869883\n",
      "4HDO_A ROC AUC: 0.7855665998869883\n"
     ]
    },
    {
     "name": "stderr",
     "output_type": "stream",
     "text": [
      "/home/khaos/miniconda3/envs/masif/lib/python3.6/site-packages/Bio/PDB/PDBParser.py:399: PDBConstructionWarning: Ignoring unrecognized record 'TER' at line 5131\n",
      "  PDBConstructionWarning,\n",
      "/home/khaos/miniconda3/envs/masif/lib/python3.6/site-packages/Bio/PDB/PDBParser.py:399: PDBConstructionWarning: Ignoring unrecognized record 'END' at line 5132\n",
      "  PDBConstructionWarning,\n",
      "/home/khaos/miniconda3/envs/masif/lib/python3.6/site-packages/Bio/PDB/PDBParser.py:399: PDBConstructionWarning: Ignoring unrecognized record 'TER' at line 5206\n",
      "  PDBConstructionWarning,\n",
      "/home/khaos/miniconda3/envs/masif/lib/python3.6/site-packages/Bio/PDB/PDBParser.py:399: PDBConstructionWarning: Ignoring unrecognized record 'END' at line 5207\n",
      "  PDBConstructionWarning,\n"
     ]
    },
    {
     "name": "stdout",
     "output_type": "stream",
     "text": [
      "Total number of residues 282\n",
      "4HDO_A ROC AUC per res: 0.7309627641730962\n",
      "4LVN\n",
      "0.8935504560164755\n",
      "4LVN_A ROC AUC: 0.8935504560164755\n",
      "Total number of residues 245\n",
      "4LVN_A ROC AUC per res: 0.9177272727272727\n",
      "1JTD\n",
      "0.9281327325620278\n",
      "1JTD_B ROC AUC: 0.9281327325620278\n"
     ]
    },
    {
     "name": "stderr",
     "output_type": "stream",
     "text": [
      "/home/khaos/miniconda3/envs/masif/lib/python3.6/site-packages/Bio/PDB/PDBParser.py:399: PDBConstructionWarning: Ignoring unrecognized record 'TER' at line 3794\n",
      "  PDBConstructionWarning,\n",
      "/home/khaos/miniconda3/envs/masif/lib/python3.6/site-packages/Bio/PDB/PDBParser.py:399: PDBConstructionWarning: Ignoring unrecognized record 'END' at line 3795\n",
      "  PDBConstructionWarning,\n",
      "/home/khaos/miniconda3/envs/masif/lib/python3.6/site-packages/Bio/PDB/PDBParser.py:399: PDBConstructionWarning: Ignoring unrecognized record 'TER' at line 3695\n",
      "  PDBConstructionWarning,\n",
      "/home/khaos/miniconda3/envs/masif/lib/python3.6/site-packages/Bio/PDB/PDBParser.py:399: PDBConstructionWarning: Ignoring unrecognized record 'END' at line 3696\n",
      "  PDBConstructionWarning,\n"
     ]
    },
    {
     "name": "stdout",
     "output_type": "stream",
     "text": [
      "Total number of residues 237\n",
      "1JTD_B ROC AUC per res: 0.9701940035273369\n",
      "2XWT\n",
      "0.9399650020191143\n",
      "2XWT_C ROC AUC: 0.9399650020191143\n",
      "Total number of residues 193\n",
      "2XWT_C ROC AUC per res: 0.9454545454545454\n",
      "2WUS\n",
      "0.8458786638253328\n",
      "2WUS_A ROC AUC: 0.8458786638253328\n"
     ]
    },
    {
     "name": "stderr",
     "output_type": "stream",
     "text": [
      "/home/khaos/miniconda3/envs/masif/lib/python3.6/site-packages/Bio/PDB/PDBParser.py:399: PDBConstructionWarning: Ignoring unrecognized record 'TER' at line 5155\n",
      "  PDBConstructionWarning,\n",
      "/home/khaos/miniconda3/envs/masif/lib/python3.6/site-packages/Bio/PDB/PDBParser.py:399: PDBConstructionWarning: Ignoring unrecognized record 'END' at line 5156\n",
      "  PDBConstructionWarning,\n",
      "/home/khaos/miniconda3/envs/masif/lib/python3.6/site-packages/Bio/PDB/PDBParser.py:399: PDBConstructionWarning: Ignoring unrecognized record 'TER' at line 5291\n",
      "  PDBConstructionWarning,\n",
      "/home/khaos/miniconda3/envs/masif/lib/python3.6/site-packages/Bio/PDB/PDBParser.py:399: PDBConstructionWarning: Ignoring unrecognized record 'END' at line 5292\n",
      "  PDBConstructionWarning,\n"
     ]
    },
    {
     "name": "stdout",
     "output_type": "stream",
     "text": [
      "Total number of residues 274\n",
      "2WUS_A ROC AUC per res: 0.8467432950191571\n",
      "1W1W\n",
      "0.8232751674152109\n",
      "1W1W_B ROC AUC: 0.8232751674152109\n",
      "Total number of residues 283\n",
      "1W1W_B ROC AUC per res: 0.8233351678591084\n",
      "4ZGY\n",
      "0.8519036885346533\n",
      "4ZGY_A ROC AUC: 0.8519036885346533\n"
     ]
    },
    {
     "name": "stderr",
     "output_type": "stream",
     "text": [
      "/home/khaos/miniconda3/envs/masif/lib/python3.6/site-packages/Bio/PDB/PDBParser.py:399: PDBConstructionWarning: Ignoring unrecognized record 'TER' at line 5923\n",
      "  PDBConstructionWarning,\n",
      "/home/khaos/miniconda3/envs/masif/lib/python3.6/site-packages/Bio/PDB/PDBParser.py:399: PDBConstructionWarning: Ignoring unrecognized record 'END' at line 5924\n",
      "  PDBConstructionWarning,\n",
      "/home/khaos/miniconda3/envs/masif/lib/python3.6/site-packages/Bio/PDB/PDBParser.py:399: PDBConstructionWarning: Ignoring unrecognized record 'TER' at line 4839\n",
      "  PDBConstructionWarning,\n",
      "/home/khaos/miniconda3/envs/masif/lib/python3.6/site-packages/Bio/PDB/PDBParser.py:399: PDBConstructionWarning: Ignoring unrecognized record 'END' at line 4840\n",
      "  PDBConstructionWarning,\n"
     ]
    },
    {
     "name": "stdout",
     "output_type": "stream",
     "text": [
      "Total number of residues 328\n",
      "4ZGY_A ROC AUC per res: 0.8032786885245901\n",
      "1XG2\n",
      "0.7721965497926699\n",
      "1XG2_A ROC AUC: 0.7721965497926699\n",
      "Total number of residues 244\n",
      "1XG2_A ROC AUC per res: 0.7502741228070176\n",
      "4X33\n",
      "0.9098260710844206\n",
      "4X33_B ROC AUC: 0.9098260710844206\n"
     ]
    },
    {
     "name": "stderr",
     "output_type": "stream",
     "text": [
      "/home/khaos/miniconda3/envs/masif/lib/python3.6/site-packages/Bio/PDB/PDBParser.py:399: PDBConstructionWarning: Ignoring unrecognized record 'TER' at line 4913\n",
      "  PDBConstructionWarning,\n",
      "/home/khaos/miniconda3/envs/masif/lib/python3.6/site-packages/Bio/PDB/PDBParser.py:399: PDBConstructionWarning: Ignoring unrecognized record 'END' at line 4914\n",
      "  PDBConstructionWarning,\n",
      "/home/khaos/miniconda3/envs/masif/lib/python3.6/site-packages/Bio/PDB/PDBParser.py:399: PDBConstructionWarning: Ignoring unrecognized record 'TER' at line 5990\n",
      "  PDBConstructionWarning,\n",
      "/home/khaos/miniconda3/envs/masif/lib/python3.6/site-packages/Bio/PDB/PDBParser.py:399: PDBConstructionWarning: Ignoring unrecognized record 'END' at line 5991\n",
      "  PDBConstructionWarning,\n"
     ]
    },
    {
     "name": "stdout",
     "output_type": "stream",
     "text": [
      "Total number of residues 285\n",
      "4X33_B ROC AUC per res: 0.9260377358490566\n",
      "1WDW\n",
      "0.8077133203299502\n",
      "1WDW_H ROC AUC: 0.8077133203299502\n",
      "Total number of residues 302\n",
      "1WDW_H ROC AUC per res: 0.8440779610194902\n",
      "1NCA\n",
      "0.6073050323050323\n",
      "1NCA_N ROC AUC: 0.6073050323050323\n"
     ]
    },
    {
     "name": "stderr",
     "output_type": "stream",
     "text": [
      "/home/khaos/miniconda3/envs/masif/lib/python3.6/site-packages/Bio/PDB/PDBParser.py:399: PDBConstructionWarning: Ignoring unrecognized record 'TER' at line 5994\n",
      "  PDBConstructionWarning,\n",
      "/home/khaos/miniconda3/envs/masif/lib/python3.6/site-packages/Bio/PDB/PDBParser.py:399: PDBConstructionWarning: Ignoring unrecognized record 'END' at line 5995\n",
      "  PDBConstructionWarning,\n",
      "/home/khaos/miniconda3/envs/masif/lib/python3.6/site-packages/Bio/PDB/PDBParser.py:399: PDBConstructionWarning: Ignoring unrecognized record 'TER' at line 5703\n",
      "  PDBConstructionWarning,\n",
      "/home/khaos/miniconda3/envs/masif/lib/python3.6/site-packages/Bio/PDB/PDBParser.py:399: PDBConstructionWarning: Ignoring unrecognized record 'END' at line 5704\n",
      "  PDBConstructionWarning,\n"
     ]
    },
    {
     "name": "stdout",
     "output_type": "stream",
     "text": [
      "Total number of residues 289\n",
      "1NCA_N ROC AUC per res: 0.5604756047560475\n",
      "3R9A\n",
      "2V3B\n",
      "0.9304992977868178\n",
      "2V3B_A ROC AUC: 0.9304992977868178\n",
      "Total number of residues 336\n",
      "2V3B_A ROC AUC per res: 0.9662538699690403\n",
      "4Y61\n",
      "0.7199084334989589\n",
      "4Y61_B ROC AUC: 0.7199084334989589\n",
      "Total number of residues 204\n",
      "4Y61_B ROC AUC per res: 0.6750550487574709\n",
      "Number of proteins: 51\n",
      "Median AUC per res: 0.8032786885245901\n",
      "ROC AUC for all points : 0.785\n",
      "ROC AUC for all residues: 0.759\n",
      "Median AUC per protein at the residue level: 0.803\n",
      "0.8302527402669955\n",
      "Median AUC per protein at the point level: 0.830\n"
     ]
    },
    {
     "name": "stderr",
     "output_type": "stream",
     "text": [
      "/home/khaos/miniconda3/envs/masif/lib/python3.6/site-packages/Bio/PDB/PDBParser.py:399: PDBConstructionWarning: Ignoring unrecognized record 'TER' at line 3814\n",
      "  PDBConstructionWarning,\n",
      "/home/khaos/miniconda3/envs/masif/lib/python3.6/site-packages/Bio/PDB/PDBParser.py:399: PDBConstructionWarning: Ignoring unrecognized record 'END' at line 3815\n",
      "  PDBConstructionWarning,\n"
     ]
    }
   ],
   "source": [
    "from sklearn import metrics\n",
    "import os\n",
    "\n",
    "all_scores_masif, all_labels_masif, all_auc_per_protein_masif, \\\n",
    "    all_names_masif, \\\n",
    "    all_my_labels_per_res_masif, all_my_pred_per_res_masif, \\\n",
    "    all_auc_per_protein_per_res_masif, _ = compute_masif_scores()\n",
    "\n",
    "all_my_labels_per_res_masif = np.concatenate(all_my_labels_per_res_masif, axis = 0)\n",
    "all_my_pred_per_res_masif = np.concatenate(all_my_pred_per_res_masif, axis = 0)    \n",
    "\n",
    "print('ROC AUC for all points : {:.3f}'.format(metrics.roc_auc_score(all_labels_masif, all_scores_masif)))\n",
    "print('ROC AUC for all residues: {:.3f}'.format(metrics.roc_auc_score(all_my_labels_per_res_masif, all_my_pred_per_res_masif)))\n",
    "print('Median AUC per protein at the residue level: {:.3f}'.format(np.median(all_auc_per_protein_per_res_masif)))\n",
    "\n",
    "all_auc_per_protein_masif_list = [all_auc_per_protein_masif[x] for x in all_auc_per_protein_masif.keys() ]\n",
    "print(np.median(all_auc_per_protein_masif_list))\n",
    "\n",
    "print('Median AUC per protein at the point level: {:.3f}'.format(np.median(all_auc_per_protein_masif_list)))"
   ]
  },
  {
   "cell_type": "code",
   "execution_count": 22,
   "metadata": {},
   "outputs": [
    {
     "name": "stderr",
     "output_type": "stream",
     "text": [
      "/home/khaos/miniconda3/envs/masif/lib/python3.6/site-packages/ipykernel_launcher.py:31: MatplotlibDeprecationWarning: savefig() got unexpected keyword argument \"type\" which is no longer supported as of 3.3 and will become an error two minor releases later\n"
     ]
    },
    {
     "name": "stdout",
     "output_type": "stream",
     "text": [
      "[0.8509683318094922, 0.8032786885245901, 0.6483566646378576, 0.6106346483704974]\n"
     ]
    },
    {
     "data": {
      "image/png": "[encoded data removed]",
      "text/plain": [
       "<Figure size 576x288 with 1 Axes>"
      ]
     },
     "metadata": {},
     "output_type": "display_data"
    }
   ],
   "source": [
    "import seaborn as sns\n",
    "sns.set(style=\"white\", context=\"talk\")\n",
    "\n",
    "xdata = ['AToNN', 'MaSIF-site', 'SPPIDER', 'PSIVER']\n",
    "ydata = [np.median(all_res_roc_auc_per_prot_atonn),\n",
    "         np.median(all_auc_per_protein_per_res_masif),\n",
    "         np.median(all_res_roc_auc_per_prot_sppider), \n",
    "         np.median(all_res_roc_auc_per_prot_psiver)]\n",
    "\n",
    "f, (ax1) = plt.subplots(1, 1, figsize=(8, 4), sharex=False)\n",
    "\n",
    "plt.ylim([0.5,1.0])\n",
    "\n",
    "sns.barplot(x=xdata, y=ydata, ax=ax1, palette=['red', 'lightgray', 'blue', 'lightgreen', 'pink'])\n",
    "\n",
    "ax1.set_ylim([0,1])\n",
    "plt.text(-0.2,ydata[0],'{:.2f}'.format(ydata[0]))\n",
    "plt.text(0.8,ydata[1],'{:.2f}'.format(ydata[1]))\n",
    "plt.text(1.8,ydata[2],'{:.2f}'.format(ydata[2]))\n",
    "plt.text(2.8,ydata[3],'{:.2f}'.format(ydata[3]))\n",
    "#ax1.set_xticks([])\n",
    "\n",
    "ax1.spines['right'].set_visible(False)\n",
    "ax1.spines['top'].set_visible(False)\n",
    "#axes[0].spines['right'].set_visible(False)\n",
    "#axes[0].spines['top'].set_visible(False)\n",
    "\n",
    "\n",
    "print(ydata)\n",
    "\n",
    "plt.savefig('sppider_bars_w_intpred.pdf', type='pdf')"
   ]
  },
  {
   "cell_type": "code",
   "execution_count": null,
   "metadata": {},
   "outputs": [],
   "source": []
  },
  {
   "cell_type": "code",
   "execution_count": 23,
   "metadata": {},
   "outputs": [],
   "source": [
    "# Compute the MASIF predictions per residue.\n",
    "# Params: myid: PDBID_CHAIN format\n",
    "# scores: the predicted scores for this one. \n",
    "def compute_pred_labels_per_residue(myid, scores):\n",
    "    # We use the same pdb that sppider predicted. \n",
    "    parser = PDBParser()\n",
    "    # Use the same pdb that sppider used. \n",
    "    struct = parser.get_structure(sppider_pred_dir+myid+'.pdb',sppider_pred_dir+myid+'.pdb')\n",
    "    atoms = Selection.unfold_entities(struct, 'A')\n",
    "    residues = Selection.unfold_entities(struct, 'R')\n",
    "    \n",
    "    ground_truth_mesh = pymesh.load_mesh(ground_truth_dir+myid+'.ply')\n",
    "    \n",
    "    res_labels = assign_labels_per_residue(atoms, residues, ground_truth_mesh)\n",
    "    \n",
    "    # Now assign predictions to each vert    \n",
    "    verts = ground_truth_mesh.vertices\n",
    "    ground_truth_mesh.add_attribute(\"vertex_area\")\n",
    "    vertex_areas = ground_truth_mesh.get_attribute(\"vertex_area\")\n",
    "    \n",
    "    at_coord = np.array([at.get_coord() for at in atoms]).astype(float)\n",
    "    verts = ground_truth_mesh.vertices.astype(float)\n",
    "    \n",
    "    \n",
    "    residues = [x for x in verts]\n",
    "    flann = pyflann.FLANN()\n",
    "    r,d = flann.nn(at_coord, verts)\n",
    "    d = np.sqrt(d)\n",
    "    n= len(r)\n",
    "    \n",
    "    # For each residue, assign the mean score. \n",
    "    res_scores = {}\n",
    "    res_areas = {}\n",
    "    for ix, v in enumerate(verts): \n",
    "        pred = scores[ix]\n",
    "        res_id = atoms[r[ix]].get_parent().get_id()\n",
    "        if res_id not in res_scores:\n",
    "            res_scores[res_id] = []\n",
    "            res_areas[res_id] = []\n",
    "        res_scores[res_id].append(pred)\n",
    "        res_areas[res_id].append(pred)\n",
    "    print('Total number of residues {}'.format(len(res_scores.keys())))\n",
    "\n",
    "    for key in res_scores:\n",
    "        res_scores[key] =  np.max(res_scores[key])\n",
    "        \n",
    "    pred_per_res = []\n",
    "    labels_per_res = []\n",
    "    for r in Selection.unfold_entities(struct, 'R'):\n",
    "        i = r.get_id()\n",
    "        if i in res_scores:\n",
    "            pred_per_res.append(res_scores[i])\n",
    "        else:\n",
    "            pred_per_res.append(0.0)\n",
    "            \n",
    "        if i in res_labels:\n",
    "            labels_per_res.append(res_labels[i])\n",
    "        else:\n",
    "            labels_per_res.append(0.0)\n",
    "    \n",
    "    return pred_per_res, labels_per_res \n",
    "\n",
    "    pred_per_res = []\n",
    "    labels_per_res = []\n",
    "    for key in res_labels: \n",
    "        if key in res_scores and key in res_labels:\n",
    "            pred_per_res.append(res_scores[key])\n",
    "            labels_per_res.append(res_labels[key])\n",
    "    \n",
    "    return pred_per_res, labels_per_res "
   ]
  },
  {
   "cell_type": "code",
   "execution_count": 24,
   "metadata": {},
   "outputs": [],
   "source": [
    "# Compute per residue and per point ROC AUC scores for MASIF> \n",
    "def compute_masif_scores():\n",
    "    all_my_scores = []\n",
    "    all_my_labels = []\n",
    "    all_my_auc_per_protein = {}\n",
    "    all_my_auc_per_res = []\n",
    "    all_my_names = []\n",
    "    all_pred_per_res = {}\n",
    "    \n",
    "    all_my_pred_per_res = []\n",
    "    all_my_labels_per_res = []\n",
    "    count = 0\n",
    "\n",
    "    for name in os.listdir(masif_pred_dir): \n",
    "\n",
    "        myid = name.split('.')[0]\n",
    "        pdbid = myid.split('_')[0]\n",
    "        print(pdbid)\n",
    "    \n",
    "        if pdbid not in transient_pdbs: \n",
    "            continue\n",
    "        # Load interface for file. \n",
    "        mesh = pymesh.load_mesh(masif_pred_dir+'/'+name)\n",
    "        masif_pred = mesh.get_attribute('vertex_iface')\n",
    "        all_my_scores.append(masif_pred)\n",
    "        \n",
    "        # Load groundtruth for file. \n",
    "        mesh = pymesh.load_mesh(ground_truth_dir+'/'+name)\n",
    "        groundtruth = mesh.get_attribute('vertex_iface')\n",
    "        all_my_labels.append(groundtruth)\n",
    "        \n",
    "        auc = metrics.roc_auc_score(groundtruth, masif_pred)\n",
    "        print (auc)\n",
    "        all_my_auc_per_protein[myid] = auc\n",
    "\n",
    "        count = count+1\n",
    "            \n",
    "        print('{} ROC AUC: {}'.format(myid, auc))\n",
    "            \n",
    "        # Compute the prediction per residue.\n",
    "        pred_per_res, labels_per_res = compute_pred_labels_per_residue(myid, masif_pred)\n",
    "        all_pred_per_res[myid] = pred_per_res\n",
    "        auc_per_res = metrics.roc_auc_score(labels_per_res, pred_per_res)\n",
    "        all_my_auc_per_res.append(auc_per_res)\n",
    "\n",
    "        all_my_pred_per_res.append(pred_per_res)\n",
    "        all_my_labels_per_res.append(labels_per_res)\n",
    "        print('{} ROC AUC per res: {}'.format(myid, auc_per_res))\n",
    "\n",
    "    all_my_scores = np.concatenate(all_my_scores, axis=0)\n",
    "    all_my_labels = np.concatenate(all_my_labels, axis=0)\n",
    "    print('Number of proteins: {}'.format(count))\n",
    "    print('Median AUC per res: {}'.format(np.median(all_my_auc_per_res)))\n",
    "            \n",
    "    return all_my_scores, all_my_labels, all_my_auc_per_protein, \\\n",
    "                    all_my_names, \\\n",
    "                    all_my_labels_per_res, all_my_pred_per_res, \\\n",
    "                    all_my_auc_per_res, \\\n",
    "                    all_pred_per_res"
   ]
  },
  {
   "cell_type": "code",
   "execution_count": 25,
   "metadata": {},
   "outputs": [
    {
     "name": "stdout",
     "output_type": "stream",
     "text": [
      "4ETP\n",
      "0.9325052852950115\n",
      "4ETP_B ROC AUC: 0.9325052852950115\n",
      "Total number of residues 252\n",
      "4ETP_B ROC AUC per res: 0.9438167938931298\n",
      "3SJA\n",
      "0.23343990330419095\n",
      "3SJA_I ROC AUC: 0.23343990330419095\n"
     ]
    },
    {
     "name": "stderr",
     "output_type": "stream",
     "text": [
      "/home/khaos/miniconda3/envs/masif/lib/python3.6/site-packages/Bio/PDB/PDBParser.py:399: PDBConstructionWarning: Ignoring unrecognized record 'TER' at line 4718\n",
      "  PDBConstructionWarning,\n",
      "/home/khaos/miniconda3/envs/masif/lib/python3.6/site-packages/Bio/PDB/PDBParser.py:399: PDBConstructionWarning: Ignoring unrecognized record 'END' at line 4719\n",
      "  PDBConstructionWarning,\n",
      "/home/khaos/miniconda3/envs/masif/lib/python3.6/site-packages/Bio/PDB/PDBParser.py:399: PDBConstructionWarning: Ignoring unrecognized record 'TER' at line 5292\n",
      "  PDBConstructionWarning,\n",
      "/home/khaos/miniconda3/envs/masif/lib/python3.6/site-packages/Bio/PDB/PDBParser.py:399: PDBConstructionWarning: Ignoring unrecognized record 'END' at line 5293\n",
      "  PDBConstructionWarning,\n"
     ]
    },
    {
     "name": "stdout",
     "output_type": "stream",
     "text": [
      "Total number of residues 310\n",
      "3SJA_I ROC AUC per res: 0.26476476476476474\n",
      "3MCA\n",
      "0.8610093830060467\n",
      "3MCA_B ROC AUC: 0.8610093830060467\n",
      "Total number of residues 306\n",
      "3MCA_B ROC AUC per res: 0.7856897144822842\n",
      "2MTA\n",
      "2OOR\n",
      "3WN7\n",
      "0.7291930553444462\n",
      "3WN7_A ROC AUC: 0.7291930553444462\n"
     ]
    },
    {
     "name": "stderr",
     "output_type": "stream",
     "text": [
      "/home/khaos/miniconda3/envs/masif/lib/python3.6/site-packages/Bio/PDB/PDBParser.py:399: PDBConstructionWarning: Ignoring unrecognized record 'TER' at line 5474\n",
      "  PDBConstructionWarning,\n",
      "/home/khaos/miniconda3/envs/masif/lib/python3.6/site-packages/Bio/PDB/PDBParser.py:399: PDBConstructionWarning: Ignoring unrecognized record 'END' at line 5475\n",
      "  PDBConstructionWarning,\n",
      "/home/khaos/miniconda3/envs/masif/lib/python3.6/site-packages/Bio/PDB/PDBParser.py:399: PDBConstructionWarning: Ignoring unrecognized record 'TER' at line 4291\n",
      "  PDBConstructionWarning,\n",
      "/home/khaos/miniconda3/envs/masif/lib/python3.6/site-packages/Bio/PDB/PDBParser.py:399: PDBConstructionWarning: Ignoring unrecognized record 'END' at line 4292\n",
      "  PDBConstructionWarning,\n"
     ]
    },
    {
     "name": "stdout",
     "output_type": "stream",
     "text": [
      "Total number of residues 248\n",
      "3WN7_A ROC AUC per res: 0.6774739583333333\n",
      "4C9B\n",
      "0.532132486967701\n",
      "4C9B_B ROC AUC: 0.532132486967701\n",
      "Total number of residues 233\n",
      "4C9B_B ROC AUC per res: 0.5619621342512909\n",
      "1ZHH\n",
      "0.7383194850112892\n",
      "1ZHH_A ROC AUC: 0.7383194850112892\n"
     ]
    },
    {
     "name": "stderr",
     "output_type": "stream",
     "text": [
      "/home/khaos/miniconda3/envs/masif/lib/python3.6/site-packages/Bio/PDB/PDBParser.py:399: PDBConstructionWarning: Ignoring unrecognized record 'TER' at line 4488\n",
      "  PDBConstructionWarning,\n",
      "/home/khaos/miniconda3/envs/masif/lib/python3.6/site-packages/Bio/PDB/PDBParser.py:399: PDBConstructionWarning: Ignoring unrecognized record 'END' at line 4489\n",
      "  PDBConstructionWarning,\n",
      "/home/khaos/miniconda3/envs/masif/lib/python3.6/site-packages/Bio/PDB/PDBParser.py:399: PDBConstructionWarning: Ignoring unrecognized record 'TER' at line 5482\n",
      "  PDBConstructionWarning,\n",
      "/home/khaos/miniconda3/envs/masif/lib/python3.6/site-packages/Bio/PDB/PDBParser.py:399: PDBConstructionWarning: Ignoring unrecognized record 'END' at line 5483\n",
      "  PDBConstructionWarning,\n"
     ]
    },
    {
     "name": "stdout",
     "output_type": "stream",
     "text": [
      "Total number of residues 285\n",
      "1ZHH_A ROC AUC per res: 0.7179331306990882\n",
      "3H6G\n",
      "0.9412925799563508\n",
      "3H6G_B ROC AUC: 0.9412925799563508\n",
      "Total number of residues 305\n",
      "3H6G_B ROC AUC per res: 0.9723240469208212\n",
      "4ETP\n"
     ]
    },
    {
     "name": "stderr",
     "output_type": "stream",
     "text": [
      "/home/khaos/miniconda3/envs/masif/lib/python3.6/site-packages/Bio/PDB/PDBParser.py:399: PDBConstructionWarning: Ignoring unrecognized record 'TER' at line 6088\n",
      "  PDBConstructionWarning,\n",
      "/home/khaos/miniconda3/envs/masif/lib/python3.6/site-packages/Bio/PDB/PDBParser.py:399: PDBConstructionWarning: Ignoring unrecognized record 'END' at line 6089\n",
      "  PDBConstructionWarning,\n",
      "/home/khaos/miniconda3/envs/masif/lib/python3.6/site-packages/Bio/PDB/PDBParser.py:399: PDBConstructionWarning: Ignoring unrecognized record 'TER' at line 6030\n",
      "  PDBConstructionWarning,\n",
      "/home/khaos/miniconda3/envs/masif/lib/python3.6/site-packages/Bio/PDB/PDBParser.py:399: PDBConstructionWarning: Ignoring unrecognized record 'END' at line 6031\n",
      "  PDBConstructionWarning,\n"
     ]
    },
    {
     "name": "stdout",
     "output_type": "stream",
     "text": [
      "0.9569008182323422\n",
      "4ETP_A ROC AUC: 0.9569008182323422\n",
      "Total number of residues 328\n",
      "4ETP_A ROC AUC per res: 0.964997964997965\n",
      "2PMS\n",
      "0.8302527402669955\n",
      "2PMS_A ROC AUC: 0.8302527402669955\n"
     ]
    },
    {
     "name": "stderr",
     "output_type": "stream",
     "text": [
      "/home/khaos/miniconda3/envs/masif/lib/python3.6/site-packages/Bio/PDB/PDBParser.py:399: PDBConstructionWarning: Ignoring unrecognized record 'TER' at line 5140\n",
      "  PDBConstructionWarning,\n",
      "/home/khaos/miniconda3/envs/masif/lib/python3.6/site-packages/Bio/PDB/PDBParser.py:399: PDBConstructionWarning: Ignoring unrecognized record 'END' at line 5141\n",
      "  PDBConstructionWarning,\n",
      "/home/khaos/miniconda3/envs/masif/lib/python3.6/site-packages/Bio/PDB/PDBParser.py:399: PDBConstructionWarning: Ignoring unrecognized record 'TER' at line 4842\n",
      "  PDBConstructionWarning,\n",
      "/home/khaos/miniconda3/envs/masif/lib/python3.6/site-packages/Bio/PDB/PDBParser.py:399: PDBConstructionWarning: Ignoring unrecognized record 'END' at line 4843\n",
      "  PDBConstructionWarning,\n"
     ]
    },
    {
     "name": "stdout",
     "output_type": "stream",
     "text": [
      "Total number of residues 279\n",
      "2PMS_A ROC AUC per res: 0.8338206627680311\n",
      "4YC7\n",
      "0.743368099170046\n",
      "4YC7_B ROC AUC: 0.743368099170046\n",
      "Total number of residues 244\n",
      "4YC7_B ROC AUC per res: 0.7557071960297767\n",
      "5TIH\n",
      "0.25242319246692924\n",
      "5TIH_A ROC AUC: 0.25242319246692924\n",
      "Total number of residues 282\n",
      "5TIH_A ROC AUC per res: 0.34798387096774197\n",
      "4DVG\n",
      "0.762499970064971\n",
      "4DVG_B ROC AUC: 0.762499970064971\n"
     ]
    },
    {
     "name": "stderr",
     "output_type": "stream",
     "text": [
      "/home/khaos/miniconda3/envs/masif/lib/python3.6/site-packages/Bio/PDB/PDBParser.py:399: PDBConstructionWarning: Ignoring unrecognized record 'TER' at line 5341\n",
      "  PDBConstructionWarning,\n",
      "/home/khaos/miniconda3/envs/masif/lib/python3.6/site-packages/Bio/PDB/PDBParser.py:399: PDBConstructionWarning: Ignoring unrecognized record 'END' at line 5342\n",
      "  PDBConstructionWarning,\n",
      "/home/khaos/miniconda3/envs/masif/lib/python3.6/site-packages/Bio/PDB/PDBParser.py:399: PDBConstructionWarning: Ignoring unrecognized record 'TER' at line 4763\n",
      "  PDBConstructionWarning,\n",
      "/home/khaos/miniconda3/envs/masif/lib/python3.6/site-packages/Bio/PDB/PDBParser.py:399: PDBConstructionWarning: Ignoring unrecognized record 'END' at line 4764\n",
      "  PDBConstructionWarning,\n"
     ]
    },
    {
     "name": "stdout",
     "output_type": "stream",
     "text": [
      "Total number of residues 276\n",
      "4DVG_B ROC AUC per res: 0.7237285416332424\n",
      "1GP2\n",
      "3NVN\n",
      "0.865961738949481\n",
      "3NVN_A ROC AUC: 0.865961738949481\n",
      "Total number of residues 340\n",
      "3NVN_A ROC AUC per res: 0.8331726133076183\n",
      "3FHC\n"
     ]
    },
    {
     "name": "stderr",
     "output_type": "stream",
     "text": [
      "/home/khaos/miniconda3/envs/masif/lib/python3.6/site-packages/Bio/PDB/PDBParser.py:399: PDBConstructionWarning: Ignoring unrecognized record 'TER' at line 6061\n",
      "  PDBConstructionWarning,\n",
      "/home/khaos/miniconda3/envs/masif/lib/python3.6/site-packages/Bio/PDB/PDBParser.py:399: PDBConstructionWarning: Ignoring unrecognized record 'END' at line 6062\n",
      "  PDBConstructionWarning,\n"
     ]
    },
    {
     "name": "stdout",
     "output_type": "stream",
     "text": [
      "0.41368560905796037\n",
      "3FHC_A ROC AUC: 0.41368560905796037\n",
      "Total number of residues 327\n",
      "3FHC_A ROC AUC per res: 0.49931426332288403\n",
      "4ZRJ\n"
     ]
    },
    {
     "name": "stderr",
     "output_type": "stream",
     "text": [
      "/home/khaos/miniconda3/envs/masif/lib/python3.6/site-packages/Bio/PDB/PDBParser.py:399: PDBConstructionWarning: Ignoring unrecognized record 'TER' at line 5956\n",
      "  PDBConstructionWarning,\n",
      "/home/khaos/miniconda3/envs/masif/lib/python3.6/site-packages/Bio/PDB/PDBParser.py:399: PDBConstructionWarning: Ignoring unrecognized record 'END' at line 5957\n",
      "  PDBConstructionWarning,\n",
      "/home/khaos/miniconda3/envs/masif/lib/python3.6/site-packages/Bio/PDB/PDBParser.py:399: PDBConstructionWarning: Ignoring unrecognized record 'TER' at line 4854\n",
      "  PDBConstructionWarning,\n",
      "/home/khaos/miniconda3/envs/masif/lib/python3.6/site-packages/Bio/PDB/PDBParser.py:399: PDBConstructionWarning: Ignoring unrecognized record 'END' at line 4855\n",
      "  PDBConstructionWarning,\n"
     ]
    },
    {
     "name": "stdout",
     "output_type": "stream",
     "text": [
      "0.9290031805481243\n",
      "4ZRJ_A ROC AUC: 0.9290031805481243\n",
      "Total number of residues 261\n",
      "4ZRJ_A ROC AUC per res: 0.9269230769230768\n",
      "3BH6\n",
      "0.8637100744471169\n",
      "3BH6_B ROC AUC: 0.8637100744471169\n"
     ]
    },
    {
     "name": "stderr",
     "output_type": "stream",
     "text": [
      "/home/khaos/miniconda3/envs/masif/lib/python3.6/site-packages/Bio/PDB/PDBParser.py:399: PDBConstructionWarning: Ignoring unrecognized record 'TER' at line 4894\n",
      "  PDBConstructionWarning,\n",
      "/home/khaos/miniconda3/envs/masif/lib/python3.6/site-packages/Bio/PDB/PDBParser.py:399: PDBConstructionWarning: Ignoring unrecognized record 'END' at line 4895\n",
      "  PDBConstructionWarning,\n",
      "/home/khaos/miniconda3/envs/masif/lib/python3.6/site-packages/Bio/PDB/PDBParser.py:399: PDBConstructionWarning: Ignoring unrecognized record 'TER' at line 5102\n",
      "  PDBConstructionWarning,\n",
      "/home/khaos/miniconda3/envs/masif/lib/python3.6/site-packages/Bio/PDB/PDBParser.py:399: PDBConstructionWarning: Ignoring unrecognized record 'END' at line 5103\n",
      "  PDBConstructionWarning,\n"
     ]
    },
    {
     "name": "stdout",
     "output_type": "stream",
     "text": [
      "Total number of residues 266\n",
      "3BH6_B ROC AUC per res: 0.8725259515570934\n",
      "3RT0\n",
      "0.63753981838064\n",
      "3RT0_A ROC AUC: 0.63753981838064\n",
      "Total number of residues 263\n",
      "3RT0_A ROC AUC per res: 0.6610119047619047\n",
      "2V9T\n",
      "0.9448898107337309\n",
      "2V9T_B ROC AUC: 0.9448898107337309\n"
     ]
    },
    {
     "name": "stderr",
     "output_type": "stream",
     "text": [
      "/home/khaos/miniconda3/envs/masif/lib/python3.6/site-packages/Bio/PDB/PDBParser.py:399: PDBConstructionWarning: Ignoring unrecognized record 'TER' at line 3329\n",
      "  PDBConstructionWarning,\n",
      "/home/khaos/miniconda3/envs/masif/lib/python3.6/site-packages/Bio/PDB/PDBParser.py:399: PDBConstructionWarning: Ignoring unrecognized record 'END' at line 3330\n",
      "  PDBConstructionWarning,\n",
      "/home/khaos/miniconda3/envs/masif/lib/python3.6/site-packages/Bio/PDB/PDBParser.py:399: PDBConstructionWarning: Ignoring unrecognized record 'TER' at line 4230\n",
      "  PDBConstructionWarning,\n",
      "/home/khaos/miniconda3/envs/masif/lib/python3.6/site-packages/Bio/PDB/PDBParser.py:399: PDBConstructionWarning: Ignoring unrecognized record 'END' at line 4231\n",
      "  PDBConstructionWarning,\n"
     ]
    },
    {
     "name": "stdout",
     "output_type": "stream",
     "text": [
      "Total number of residues 180\n",
      "2V9T_B ROC AUC per res: 0.9329896907216495\n",
      "4YEB\n",
      "0.30842007374672264\n",
      "4YEB_A ROC AUC: 0.30842007374672264\n",
      "Total number of residues 206\n",
      "4YEB_A ROC AUC per res: 0.49656084656084654\n",
      "3VV2\n",
      "0.7720700157350882\n",
      "3VV2_A ROC AUC: 0.7720700157350882\n"
     ]
    },
    {
     "name": "stderr",
     "output_type": "stream",
     "text": [
      "/home/khaos/miniconda3/envs/masif/lib/python3.6/site-packages/Bio/PDB/PDBParser.py:399: PDBConstructionWarning: Ignoring unrecognized record 'TER' at line 4592\n",
      "  PDBConstructionWarning,\n",
      "/home/khaos/miniconda3/envs/masif/lib/python3.6/site-packages/Bio/PDB/PDBParser.py:399: PDBConstructionWarning: Ignoring unrecognized record 'END' at line 4593\n",
      "  PDBConstructionWarning,\n",
      "/home/khaos/miniconda3/envs/masif/lib/python3.6/site-packages/Bio/PDB/PDBParser.py:399: PDBConstructionWarning: Ignoring unrecognized record 'TER' at line 4115\n",
      "  PDBConstructionWarning,\n",
      "/home/khaos/miniconda3/envs/masif/lib/python3.6/site-packages/Bio/PDB/PDBParser.py:399: PDBConstructionWarning: Ignoring unrecognized record 'END' at line 4116\n",
      "  PDBConstructionWarning,\n"
     ]
    },
    {
     "name": "stdout",
     "output_type": "stream",
     "text": [
      "Total number of residues 228\n",
      "3VV2_A ROC AUC per res: 0.7947315548610336\n",
      "3BP8\n",
      "1XQS\n",
      "0.8668554287697527\n",
      "1XQS_A ROC AUC: 0.8668554287697527\n",
      "Total number of residues 216\n",
      "1XQS_A ROC AUC per res: 0.8824919441460795\n",
      "3QML\n",
      "0.656069492653465\n",
      "3QML_D ROC AUC: 0.656069492653465\n"
     ]
    },
    {
     "name": "stderr",
     "output_type": "stream",
     "text": [
      "/home/khaos/miniconda3/envs/masif/lib/python3.6/site-packages/Bio/PDB/PDBParser.py:399: PDBConstructionWarning: Ignoring unrecognized record 'TER' at line 4498\n",
      "  PDBConstructionWarning,\n",
      "/home/khaos/miniconda3/envs/masif/lib/python3.6/site-packages/Bio/PDB/PDBParser.py:399: PDBConstructionWarning: Ignoring unrecognized record 'END' at line 4499\n",
      "  PDBConstructionWarning,\n",
      "/home/khaos/miniconda3/envs/masif/lib/python3.6/site-packages/Bio/PDB/PDBParser.py:399: PDBConstructionWarning: Ignoring unrecognized record 'TER' at line 5295\n",
      "  PDBConstructionWarning,\n",
      "/home/khaos/miniconda3/envs/masif/lib/python3.6/site-packages/Bio/PDB/PDBParser.py:399: PDBConstructionWarning: Ignoring unrecognized record 'END' at line 5296\n",
      "  PDBConstructionWarning,\n"
     ]
    },
    {
     "name": "stdout",
     "output_type": "stream",
     "text": [
      "Total number of residues 234\n",
      "3QML_D ROC AUC per res: 0.68\n",
      "2I3T\n",
      "0.8429039439739575\n",
      "2I3T_A ROC AUC: 0.8429039439739575\n",
      "Total number of residues 282\n",
      "2I3T_A ROC AUC per res: 0.8237179487179487\n",
      "3VYR\n",
      "0.891829367647864\n",
      "3VYR_B ROC AUC: 0.891829367647864\n"
     ]
    },
    {
     "name": "stderr",
     "output_type": "stream",
     "text": [
      "/home/khaos/miniconda3/envs/masif/lib/python3.6/site-packages/Bio/PDB/PDBParser.py:399: PDBConstructionWarning: Ignoring unrecognized record 'TER' at line 5755\n",
      "  PDBConstructionWarning,\n",
      "/home/khaos/miniconda3/envs/masif/lib/python3.6/site-packages/Bio/PDB/PDBParser.py:399: PDBConstructionWarning: Ignoring unrecognized record 'END' at line 5756\n",
      "  PDBConstructionWarning,\n",
      "/home/khaos/miniconda3/envs/masif/lib/python3.6/site-packages/Bio/PDB/PDBParser.py:399: PDBConstructionWarning: Ignoring unrecognized record 'TER' at line 5754\n",
      "  PDBConstructionWarning,\n",
      "/home/khaos/miniconda3/envs/masif/lib/python3.6/site-packages/Bio/PDB/PDBParser.py:399: PDBConstructionWarning: Ignoring unrecognized record 'END' at line 5755\n",
      "  PDBConstructionWarning,\n"
     ]
    },
    {
     "name": "stdout",
     "output_type": "stream",
     "text": [
      "Total number of residues 297\n",
      "3VYR_B ROC AUC per res: 0.9271676300578034\n",
      "1I2M\n",
      "0.705224134429956\n",
      "1I2M_B ROC AUC: 0.705224134429956\n",
      "Total number of residues 311\n",
      "1I2M_B ROC AUC per res: 0.7543329623151535\n",
      "2F4M\n",
      "0.936316576658875\n",
      "2F4M_A ROC AUC: 0.936316576658875\n"
     ]
    },
    {
     "name": "stderr",
     "output_type": "stream",
     "text": [
      "/home/khaos/miniconda3/envs/masif/lib/python3.6/site-packages/Bio/PDB/PDBParser.py:399: PDBConstructionWarning: Ignoring unrecognized record 'TER' at line 4859\n",
      "  PDBConstructionWarning,\n",
      "/home/khaos/miniconda3/envs/masif/lib/python3.6/site-packages/Bio/PDB/PDBParser.py:399: PDBConstructionWarning: Ignoring unrecognized record 'END' at line 4860\n",
      "  PDBConstructionWarning,\n",
      "/home/khaos/miniconda3/envs/masif/lib/python3.6/site-packages/Bio/PDB/PDBParser.py:399: PDBConstructionWarning: Ignoring unrecognized record 'TER' at line 4950\n",
      "  PDBConstructionWarning,\n",
      "/home/khaos/miniconda3/envs/masif/lib/python3.6/site-packages/Bio/PDB/PDBParser.py:399: PDBConstructionWarning: Ignoring unrecognized record 'END' at line 4951\n",
      "  PDBConstructionWarning,\n"
     ]
    },
    {
     "name": "stdout",
     "output_type": "stream",
     "text": [
      "Total number of residues 259\n",
      "2F4M_A ROC AUC per res: 0.9611082867310625\n",
      "4M0W\n",
      "0.8937126928750877\n",
      "4M0W_A ROC AUC: 0.8937126928750877\n",
      "Total number of residues 272\n",
      "4M0W_A ROC AUC per res: 0.8926353149955634\n",
      "4XL5\n",
      "0.9480246716989467\n",
      "4XL5_C ROC AUC: 0.9480246716989467\n"
     ]
    },
    {
     "name": "stderr",
     "output_type": "stream",
     "text": [
      "/home/khaos/miniconda3/envs/masif/lib/python3.6/site-packages/Bio/PDB/PDBParser.py:399: PDBConstructionWarning: Ignoring unrecognized record 'TER' at line 3796\n",
      "  PDBConstructionWarning,\n",
      "/home/khaos/miniconda3/envs/masif/lib/python3.6/site-packages/Bio/PDB/PDBParser.py:399: PDBConstructionWarning: Ignoring unrecognized record 'END' at line 3797\n",
      "  PDBConstructionWarning,\n",
      "/home/khaos/miniconda3/envs/masif/lib/python3.6/site-packages/Bio/PDB/PDBParser.py:399: PDBConstructionWarning: Ignoring unrecognized record 'TER' at line 4153\n",
      "  PDBConstructionWarning,\n",
      "/home/khaos/miniconda3/envs/masif/lib/python3.6/site-packages/Bio/PDB/PDBParser.py:399: PDBConstructionWarning: Ignoring unrecognized record 'END' at line 4154\n",
      "  PDBConstructionWarning,\n"
     ]
    },
    {
     "name": "stdout",
     "output_type": "stream",
     "text": [
      "Total number of residues 207\n",
      "4XL5_C ROC AUC per res: 0.9400123685837972\n",
      "5J57\n",
      "0.29827168476651966\n",
      "5J57_A ROC AUC: 0.29827168476651966\n",
      "Total number of residues 225\n",
      "5J57_A ROC AUC per res: 0.4295634920634921\n",
      "1EWY\n",
      "0.7542497591856523\n",
      "1EWY_A ROC AUC: 0.7542497591856523\n"
     ]
    },
    {
     "name": "stderr",
     "output_type": "stream",
     "text": [
      "/home/khaos/miniconda3/envs/masif/lib/python3.6/site-packages/Bio/PDB/PDBParser.py:399: PDBConstructionWarning: Ignoring unrecognized record 'TER' at line 4756\n",
      "  PDBConstructionWarning,\n",
      "/home/khaos/miniconda3/envs/masif/lib/python3.6/site-packages/Bio/PDB/PDBParser.py:399: PDBConstructionWarning: Ignoring unrecognized record 'END' at line 4757\n",
      "  PDBConstructionWarning,\n",
      "/home/khaos/miniconda3/envs/masif/lib/python3.6/site-packages/Bio/PDB/PDBParser.py:399: PDBConstructionWarning: Ignoring unrecognized record 'TER' at line 4817\n",
      "  PDBConstructionWarning,\n",
      "/home/khaos/miniconda3/envs/masif/lib/python3.6/site-packages/Bio/PDB/PDBParser.py:399: PDBConstructionWarning: Ignoring unrecognized record 'END' at line 4818\n",
      "  PDBConstructionWarning,\n"
     ]
    },
    {
     "name": "stdout",
     "output_type": "stream",
     "text": [
      "Total number of residues 261\n",
      "1EWY_A ROC AUC per res: 0.8566544566544566\n",
      "1F6M\n",
      "0.8256860771353656\n",
      "1F6M_A ROC AUC: 0.8256860771353656\n",
      "Total number of residues 280\n",
      "1F6M_A ROC AUC per res: 0.8527903469079939\n",
      "4V0O\n",
      "0.850999751734946\n",
      "4V0O_F ROC AUC: 0.850999751734946\n"
     ]
    },
    {
     "name": "stderr",
     "output_type": "stream",
     "text": [
      "/home/khaos/miniconda3/envs/masif/lib/python3.6/site-packages/Bio/PDB/PDBParser.py:399: PDBConstructionWarning: Ignoring unrecognized record 'TER' at line 4389\n",
      "  PDBConstructionWarning,\n",
      "/home/khaos/miniconda3/envs/masif/lib/python3.6/site-packages/Bio/PDB/PDBParser.py:399: PDBConstructionWarning: Ignoring unrecognized record 'END' at line 4390\n",
      "  PDBConstructionWarning,\n",
      "/home/khaos/miniconda3/envs/masif/lib/python3.6/site-packages/Bio/PDB/PDBParser.py:399: PDBConstructionWarning: Ignoring unrecognized record 'TER' at line 5588\n",
      "  PDBConstructionWarning,\n",
      "/home/khaos/miniconda3/envs/masif/lib/python3.6/site-packages/Bio/PDB/PDBParser.py:399: PDBConstructionWarning: Ignoring unrecognized record 'END' at line 5589\n",
      "  PDBConstructionWarning,\n"
     ]
    },
    {
     "name": "stdout",
     "output_type": "stream",
     "text": [
      "Total number of residues 270\n",
      "4V0O_F ROC AUC per res: 0.8964206525182136\n",
      "2AYO\n",
      "0.871198177086431\n",
      "2AYO_A ROC AUC: 0.871198177086431\n",
      "Total number of residues 308\n",
      "2AYO_A ROC AUC per res: 0.8351587301587301\n",
      "4BKX\n",
      "0.7848349612058485\n",
      "4BKX_B ROC AUC: 0.7848349612058485\n",
      "Total number of residues 264\n",
      "4BKX_B ROC AUC per res: 0.8340474811812392\n",
      "3LVK\n",
      "3O5T\n",
      "0.8389708668613335\n",
      "3O5T_A ROC AUC: 0.8389708668613335\n"
     ]
    },
    {
     "name": "stderr",
     "output_type": "stream",
     "text": [
      "/home/khaos/miniconda3/envs/masif/lib/python3.6/site-packages/Bio/PDB/PDBParser.py:399: PDBConstructionWarning: Ignoring unrecognized record 'TER' at line 5813\n",
      "  PDBConstructionWarning,\n",
      "/home/khaos/miniconda3/envs/masif/lib/python3.6/site-packages/Bio/PDB/PDBParser.py:399: PDBConstructionWarning: Ignoring unrecognized record 'END' at line 5814\n",
      "  PDBConstructionWarning,\n",
      "/home/khaos/miniconda3/envs/masif/lib/python3.6/site-packages/Bio/PDB/PDBParser.py:399: PDBConstructionWarning: Ignoring unrecognized record 'TER' at line 4494\n",
      "  PDBConstructionWarning,\n",
      "/home/khaos/miniconda3/envs/masif/lib/python3.6/site-packages/Bio/PDB/PDBParser.py:399: PDBConstructionWarning: Ignoring unrecognized record 'END' at line 4495\n",
      "  PDBConstructionWarning,\n"
     ]
    },
    {
     "name": "stdout",
     "output_type": "stream",
     "text": [
      "Total number of residues 221\n",
      "3O5T_A ROC AUC per res: 0.8370678617157491\n",
      "3ZWL\n",
      "0.7810445204717154\n",
      "3ZWL_B ROC AUC: 0.7810445204717154\n",
      "Total number of residues 290\n",
      "3ZWL_B ROC AUC per res: 0.7828698553948832\n",
      "2QXV\n",
      "0.8590961176367113\n",
      "2QXV_A ROC AUC: 0.8590961176367113\n"
     ]
    },
    {
     "name": "stderr",
     "output_type": "stream",
     "text": [
      "/home/khaos/miniconda3/envs/masif/lib/python3.6/site-packages/Bio/PDB/PDBParser.py:399: PDBConstructionWarning: Ignoring unrecognized record 'TER' at line 5280\n",
      "  PDBConstructionWarning,\n",
      "/home/khaos/miniconda3/envs/masif/lib/python3.6/site-packages/Bio/PDB/PDBParser.py:399: PDBConstructionWarning: Ignoring unrecognized record 'END' at line 5281\n",
      "  PDBConstructionWarning,\n",
      "/home/khaos/miniconda3/envs/masif/lib/python3.6/site-packages/Bio/PDB/PDBParser.py:399: PDBConstructionWarning: Ignoring unrecognized record 'TER' at line 5624\n",
      "  PDBConstructionWarning,\n",
      "/home/khaos/miniconda3/envs/masif/lib/python3.6/site-packages/Bio/PDB/PDBParser.py:399: PDBConstructionWarning: Ignoring unrecognized record 'END' at line 5625\n",
      "  PDBConstructionWarning,\n"
     ]
    },
    {
     "name": "stdout",
     "output_type": "stream",
     "text": [
      "Total number of residues 284\n",
      "2QXV_A ROC AUC per res: 0.9112602535421328\n",
      "2C0L\n",
      "0.6976427210560338\n",
      "2C0L_A ROC AUC: 0.6976427210560338\n",
      "Total number of residues 249\n",
      "2C0L_A ROC AUC per res: 0.6865671641791045\n",
      "4HDO\n",
      "0.7855665998869883\n",
      "4HDO_A ROC AUC: 0.7855665998869883\n"
     ]
    },
    {
     "name": "stderr",
     "output_type": "stream",
     "text": [
      "/home/khaos/miniconda3/envs/masif/lib/python3.6/site-packages/Bio/PDB/PDBParser.py:399: PDBConstructionWarning: Ignoring unrecognized record 'TER' at line 4550\n",
      "  PDBConstructionWarning,\n",
      "/home/khaos/miniconda3/envs/masif/lib/python3.6/site-packages/Bio/PDB/PDBParser.py:399: PDBConstructionWarning: Ignoring unrecognized record 'END' at line 4551\n",
      "  PDBConstructionWarning,\n",
      "/home/khaos/miniconda3/envs/masif/lib/python3.6/site-packages/Bio/PDB/PDBParser.py:399: PDBConstructionWarning: Ignoring unrecognized record 'TER' at line 5131\n",
      "  PDBConstructionWarning,\n",
      "/home/khaos/miniconda3/envs/masif/lib/python3.6/site-packages/Bio/PDB/PDBParser.py:399: PDBConstructionWarning: Ignoring unrecognized record 'END' at line 5132\n",
      "  PDBConstructionWarning,\n"
     ]
    },
    {
     "name": "stdout",
     "output_type": "stream",
     "text": [
      "Total number of residues 282\n",
      "4HDO_A ROC AUC per res: 0.7816666666666666\n",
      "4LVN\n",
      "0.8935504560164755\n",
      "4LVN_A ROC AUC: 0.8935504560164755\n",
      "Total number of residues 245\n",
      "4LVN_A ROC AUC per res: 0.9455946450809465\n",
      "1JTD\n",
      "0.9281327325620278\n",
      "1JTD_B ROC AUC: 0.9281327325620278\n"
     ]
    },
    {
     "name": "stderr",
     "output_type": "stream",
     "text": [
      "/home/khaos/miniconda3/envs/masif/lib/python3.6/site-packages/Bio/PDB/PDBParser.py:399: PDBConstructionWarning: Ignoring unrecognized record 'TER' at line 5206\n",
      "  PDBConstructionWarning,\n",
      "/home/khaos/miniconda3/envs/masif/lib/python3.6/site-packages/Bio/PDB/PDBParser.py:399: PDBConstructionWarning: Ignoring unrecognized record 'END' at line 5207\n",
      "  PDBConstructionWarning,\n",
      "/home/khaos/miniconda3/envs/masif/lib/python3.6/site-packages/Bio/PDB/PDBParser.py:399: PDBConstructionWarning: Ignoring unrecognized record 'TER' at line 3794\n",
      "  PDBConstructionWarning,\n",
      "/home/khaos/miniconda3/envs/masif/lib/python3.6/site-packages/Bio/PDB/PDBParser.py:399: PDBConstructionWarning: Ignoring unrecognized record 'END' at line 3795\n",
      "  PDBConstructionWarning,\n"
     ]
    },
    {
     "name": "stdout",
     "output_type": "stream",
     "text": [
      "Total number of residues 237\n",
      "1JTD_B ROC AUC per res: 0.9729056368732482\n",
      "2XWT\n",
      "0.9399650020191143\n",
      "2XWT_C ROC AUC: 0.9399650020191143\n",
      "Total number of residues 195\n",
      "2XWT_C ROC AUC per res: 0.9507962068348541\n",
      "2WUS\n"
     ]
    },
    {
     "name": "stderr",
     "output_type": "stream",
     "text": [
      "/home/khaos/miniconda3/envs/masif/lib/python3.6/site-packages/Bio/PDB/PDBParser.py:399: PDBConstructionWarning: Ignoring unrecognized record 'TER' at line 3695\n",
      "  PDBConstructionWarning,\n",
      "/home/khaos/miniconda3/envs/masif/lib/python3.6/site-packages/Bio/PDB/PDBParser.py:399: PDBConstructionWarning: Ignoring unrecognized record 'END' at line 3696\n",
      "  PDBConstructionWarning,\n",
      "/home/khaos/miniconda3/envs/masif/lib/python3.6/site-packages/Bio/PDB/PDBParser.py:399: PDBConstructionWarning: Ignoring unrecognized record 'TER' at line 5155\n",
      "  PDBConstructionWarning,\n",
      "/home/khaos/miniconda3/envs/masif/lib/python3.6/site-packages/Bio/PDB/PDBParser.py:399: PDBConstructionWarning: Ignoring unrecognized record 'END' at line 5156\n",
      "  PDBConstructionWarning,\n"
     ]
    },
    {
     "name": "stdout",
     "output_type": "stream",
     "text": [
      "0.8458786638253328\n",
      "2WUS_A ROC AUC: 0.8458786638253328\n",
      "Total number of residues 275\n",
      "2WUS_A ROC AUC per res: 0.8753869969040248\n",
      "1W1W\n",
      "0.8232751674152109\n",
      "1W1W_B ROC AUC: 0.8232751674152109\n"
     ]
    },
    {
     "name": "stderr",
     "output_type": "stream",
     "text": [
      "/home/khaos/miniconda3/envs/masif/lib/python3.6/site-packages/Bio/PDB/PDBParser.py:399: PDBConstructionWarning: Ignoring unrecognized record 'TER' at line 5291\n",
      "  PDBConstructionWarning,\n",
      "/home/khaos/miniconda3/envs/masif/lib/python3.6/site-packages/Bio/PDB/PDBParser.py:399: PDBConstructionWarning: Ignoring unrecognized record 'END' at line 5292\n",
      "  PDBConstructionWarning,\n",
      "/home/khaos/miniconda3/envs/masif/lib/python3.6/site-packages/Bio/PDB/PDBParser.py:399: PDBConstructionWarning: Ignoring unrecognized record 'TER' at line 5923\n",
      "  PDBConstructionWarning,\n",
      "/home/khaos/miniconda3/envs/masif/lib/python3.6/site-packages/Bio/PDB/PDBParser.py:399: PDBConstructionWarning: Ignoring unrecognized record 'END' at line 5924\n",
      "  PDBConstructionWarning,\n"
     ]
    },
    {
     "name": "stdout",
     "output_type": "stream",
     "text": [
      "Total number of residues 284\n",
      "1W1W_B ROC AUC per res: 0.8495440729483282\n",
      "4ZGY\n",
      "0.8519036885346533\n",
      "4ZGY_A ROC AUC: 0.8519036885346533\n",
      "Total number of residues 328\n",
      "4ZGY_A ROC AUC per res: 0.8320048309178744\n",
      "1XG2\n",
      "0.7721965497926699\n",
      "1XG2_A ROC AUC: 0.7721965497926699\n",
      "Total number of residues 244\n",
      "1XG2_A ROC AUC per res: 0.811046511627907\n",
      "4X33\n"
     ]
    },
    {
     "name": "stderr",
     "output_type": "stream",
     "text": [
      "/home/khaos/miniconda3/envs/masif/lib/python3.6/site-packages/Bio/PDB/PDBParser.py:399: PDBConstructionWarning: Ignoring unrecognized record 'TER' at line 4839\n",
      "  PDBConstructionWarning,\n",
      "/home/khaos/miniconda3/envs/masif/lib/python3.6/site-packages/Bio/PDB/PDBParser.py:399: PDBConstructionWarning: Ignoring unrecognized record 'END' at line 4840\n",
      "  PDBConstructionWarning,\n",
      "/home/khaos/miniconda3/envs/masif/lib/python3.6/site-packages/Bio/PDB/PDBParser.py:399: PDBConstructionWarning: Ignoring unrecognized record 'TER' at line 4913\n",
      "  PDBConstructionWarning,\n",
      "/home/khaos/miniconda3/envs/masif/lib/python3.6/site-packages/Bio/PDB/PDBParser.py:399: PDBConstructionWarning: Ignoring unrecognized record 'END' at line 4914\n",
      "  PDBConstructionWarning,\n"
     ]
    },
    {
     "name": "stdout",
     "output_type": "stream",
     "text": [
      "0.9098260710844206\n",
      "4X33_B ROC AUC: 0.9098260710844206\n",
      "Total number of residues 286\n",
      "4X33_B ROC AUC per res: 0.9371872303710095\n",
      "1WDW\n",
      "0.8077133203299502\n",
      "1WDW_H ROC AUC: 0.8077133203299502\n"
     ]
    },
    {
     "name": "stderr",
     "output_type": "stream",
     "text": [
      "/home/khaos/miniconda3/envs/masif/lib/python3.6/site-packages/Bio/PDB/PDBParser.py:399: PDBConstructionWarning: Ignoring unrecognized record 'TER' at line 5990\n",
      "  PDBConstructionWarning,\n",
      "/home/khaos/miniconda3/envs/masif/lib/python3.6/site-packages/Bio/PDB/PDBParser.py:399: PDBConstructionWarning: Ignoring unrecognized record 'END' at line 5991\n",
      "  PDBConstructionWarning,\n",
      "/home/khaos/miniconda3/envs/masif/lib/python3.6/site-packages/Bio/PDB/PDBParser.py:399: PDBConstructionWarning: Ignoring unrecognized record 'TER' at line 5994\n",
      "  PDBConstructionWarning,\n",
      "/home/khaos/miniconda3/envs/masif/lib/python3.6/site-packages/Bio/PDB/PDBParser.py:399: PDBConstructionWarning: Ignoring unrecognized record 'END' at line 5995\n",
      "  PDBConstructionWarning,\n"
     ]
    },
    {
     "name": "stdout",
     "output_type": "stream",
     "text": [
      "Total number of residues 303\n",
      "1WDW_H ROC AUC per res: 0.8855714547789397\n",
      "1NCA\n",
      "0.6073050323050323\n",
      "1NCA_N ROC AUC: 0.6073050323050323\n",
      "Total number of residues 289\n",
      "1NCA_N ROC AUC per res: 0.6814914645103325\n",
      "3R9A\n",
      "2V3B\n",
      "0.9304992977868178\n",
      "2V3B_A ROC AUC: 0.9304992977868178\n",
      "Total number of residues 335\n",
      "2V3B_A ROC AUC per res: 0.9820788530465949\n",
      "4Y61\n"
     ]
    },
    {
     "name": "stderr",
     "output_type": "stream",
     "text": [
      "/home/khaos/miniconda3/envs/masif/lib/python3.6/site-packages/Bio/PDB/PDBParser.py:399: PDBConstructionWarning: Ignoring unrecognized record 'TER' at line 5703\n",
      "  PDBConstructionWarning,\n",
      "/home/khaos/miniconda3/envs/masif/lib/python3.6/site-packages/Bio/PDB/PDBParser.py:399: PDBConstructionWarning: Ignoring unrecognized record 'END' at line 5704\n",
      "  PDBConstructionWarning,\n",
      "/home/khaos/miniconda3/envs/masif/lib/python3.6/site-packages/Bio/PDB/PDBParser.py:399: PDBConstructionWarning: Ignoring unrecognized record 'TER' at line 3814\n",
      "  PDBConstructionWarning,\n",
      "/home/khaos/miniconda3/envs/masif/lib/python3.6/site-packages/Bio/PDB/PDBParser.py:399: PDBConstructionWarning: Ignoring unrecognized record 'END' at line 3815\n",
      "  PDBConstructionWarning,\n"
     ]
    },
    {
     "name": "stdout",
     "output_type": "stream",
     "text": [
      "0.7199084334989589\n",
      "4Y61_B ROC AUC: 0.7199084334989589\n",
      "Total number of residues 204\n",
      "4Y61_B ROC AUC per res: 0.7269293038316244\n",
      "Number of proteins: 51\n",
      "Median AUC per res: 0.8340474811812392\n",
      "ROC AUC for all points : 0.785\n",
      "ROC AUC for all residues: 0.802\n",
      "Median AUC per protein at the residue level: 0.834\n",
      "0.8302527402669955\n",
      "Median AUC per protein at the point level: 0.830\n"
     ]
    }
   ],
   "source": [
    "import json\n",
    "from sklearn import metrics\n",
    "import os\n",
    "\n",
    "all_scores_masif, all_labels_masif, all_auc_per_protein_masif, \\\n",
    "    all_names_masif, \\\n",
    "    all_my_labels_per_res_masif, all_my_pred_per_res_masif, \\\n",
    "    all_auc_per_protein_per_res_masif, \\\n",
    "    all_pred_per_res = compute_masif_scores()\n",
    "\n",
    "all_my_labels_per_res_masif = np.concatenate(all_my_labels_per_res_masif, axis = 0)\n",
    "all_my_pred_per_res_masif = np.concatenate(all_my_pred_per_res_masif, axis = 0)    \n",
    "\n",
    "print('ROC AUC for all points : {:.3f}'.format(metrics.roc_auc_score(all_labels_masif, all_scores_masif)))\n",
    "print('ROC AUC for all residues: {:.3f}'.format(metrics.roc_auc_score(all_my_labels_per_res_masif, all_my_pred_per_res_masif)))\n",
    "print('Median AUC per protein at the residue level: {:.3f}'.format(np.median(all_auc_per_protein_per_res_masif)))\n",
    "\n",
    "all_auc_per_protein_masif_list = [all_auc_per_protein_masif[x] for x in all_auc_per_protein_masif.keys() ]\n",
    "print(np.median(all_auc_per_protein_masif_list))\n",
    "\n",
    "print('Median AUC per protein at the point level: {:.3f}'.format(np.median(all_auc_per_protein_masif_list)))\n",
    "\n",
    "json.dump(all_pred_per_res, open(\"masif_pred_per_res.json\", 'w'))"
   ]
  },
  {
   "cell_type": "code",
   "execution_count": null,
   "metadata": {},
   "outputs": [],
   "source": []
  }
 ],
 "metadata": {
  "kernelspec": {
   "display_name": "masif",
   "language": "python",
   "name": "masif"
  },
  "language_info": {
   "codemirror_mode": {
    "name": "ipython",
    "version": 3
   },
   "file_extension": ".py",
   "mimetype": "text/x-python",
   "name": "python",
   "nbconvert_exporter": "python",
   "pygments_lexer": "ipython3",
   "version": "3.6.12"
  }
 },
 "nbformat": 4,
 "nbformat_minor": 4
}
