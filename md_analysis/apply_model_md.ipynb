{
 "cells": [
  {
   "cell_type": "code",
   "execution_count": 1,
   "id": "increased-visiting",
   "metadata": {},
   "outputs": [],
   "source": [
    "import os\n",
    "import sys\n",
    "import h5py\n",
    "import numpy as np\n",
    "import torch as pt\n",
    "import pandas as pd\n",
    "import matplotlib.pyplot as plt\n",
    "from tqdm import tqdm\n",
    "from sklearn.metrics import roc_auc_score\n",
    "\n",
    "import mdtraj_utils as mdu\n",
    "from CLoNe.clone import CLoNe\n",
    "from src.structure import clean_structure, tag_hetatm_chains, split_by_chain, filter_non_atomic_subunits, remove_duplicate_tagged_subunits, concatenate_chains, atom_select, data_to_structure, encode_bfactor\n",
    "from src.data_encoding import config_encoding, encode_structure, encode_features, extract_topology, extract_all_contacts, std_elements, std_resnames, std_names\n",
    "from src.dataset import collate_batch_features\n",
    "from src.structure_io import save_pdb"
   ]
  },
  {
   "cell_type": "code",
   "execution_count": 2,
   "id": "30fe6311-91b7-4697-8ef0-7670cd5e41fd",
   "metadata": {},
   "outputs": [],
   "source": [
    "def traj_to_struct(traj):\n",
    "    df = traj.topology.to_dataframe()[0]\n",
    "    return {\n",
    "        \"xyz\": np.transpose(traj.xyz, (1,0,2))*1e1,\n",
    "        \"name\": df[\"name\"].values,\n",
    "        \"element\": df[\"element\"].values,\n",
    "        \"resname\": df[\"resName\"].values,\n",
    "        \"resid\": df[\"resSeq\"].values,\n",
    "        \"het_flag\": np.array(['A']*traj.xyz.shape[1]),\n",
    "        \"chain_name\": df[\"chainID\"].values,\n",
    "        \"icode\": np.array([\"\"]*df.shape[0]),\n",
    "    }\n",
    "\n",
    "\n",
    "def process_structure(structure):\n",
    "    # process structure\n",
    "    structure = clean_structure(structure)\n",
    "\n",
    "    # update molecules chains\n",
    "    structure = tag_hetatm_chains(structure)\n",
    "\n",
    "    # split structure\n",
    "    subunits = split_by_chain(structure)\n",
    "\n",
    "    # remove non atomic structures\n",
    "    subunits = filter_non_atomic_subunits(subunits)\n",
    "\n",
    "    # remove duplicated molecules and ions\n",
    "    subunits = remove_duplicate_tagged_subunits(subunits)\n",
    "    \n",
    "    return subunits\n",
    "\n",
    "\n",
    "def superpose_transform(xyz_ref, xyz):\n",
    "    # centering\n",
    "    t = np.expand_dims(np.mean(xyz,axis=1),1)\n",
    "    t_ref = np.expand_dims(np.mean(xyz_ref,axis=1),1)\n",
    "\n",
    "    # SVD decomposition\n",
    "    U, S, Vt = np.linalg.svd(np.matmul(np.swapaxes(xyz_ref-t_ref,1,2), xyz-t))\n",
    "\n",
    "    # reflection matrix\n",
    "    Z = np.zeros(U.shape) + np.expand_dims(np.eye(U.shape[1], U.shape[2]),0)\n",
    "    Z[:,-1,-1] = np.linalg.det(U) * np.linalg.det(Vt)\n",
    "\n",
    "    R = np.matmul(np.swapaxes(Vt,1,2), np.matmul(Z, np.swapaxes(U,1,2)))\n",
    "\n",
    "    return t_ref, t, R\n",
    "\n",
    "\n",
    "def superpose(xyz_ref, xyz):\n",
    "    # centering\n",
    "    t = np.expand_dims(np.mean(xyz,axis=1),1)\n",
    "    t_ref = np.expand_dims(np.mean(xyz_ref,axis=1),1)\n",
    "\n",
    "    # SVD decomposition\n",
    "    U, S, Vt = np.linalg.svd(np.matmul(np.swapaxes(xyz_ref-t_ref,1,2), xyz-t))\n",
    "\n",
    "    # reflection matrix\n",
    "    Z = np.zeros(U.shape) + np.expand_dims(np.eye(U.shape[1], U.shape[2]),0)\n",
    "    Z[:,-1,-1] = np.linalg.det(U) * np.linalg.det(Vt)\n",
    "\n",
    "    R = np.matmul(np.swapaxes(Vt,1,2), np.matmul(Z, np.swapaxes(U,1,2)))\n",
    "\n",
    "    return xyz_ref-t_ref, np.matmul(xyz-t, R)"
   ]
  },
  {
   "cell_type": "code",
   "execution_count": 3,
   "id": "03d81f4a-bd95-494e-82d0-23b8e887094c",
   "metadata": {},
   "outputs": [],
   "source": [
    "# model parameters\n",
    "# R3\n",
    "#save_path = \"save/i_v3_0_2021-05-27_14-27\"  # 89\n",
    "#save_path = \"save/i_v3_1_2021-05-28_12-40\"  # 90\n",
    "# R4\n",
    "#save_path = \"save/i_v4_0_2021-09-07_11-20\"  # 89\n",
    "save_path = \"save/i_v4_1_2021-09-07_11-21\"  # 91\n",
    "\n",
    "# select saved model\n",
    "model_filepath = os.path.join(save_path, 'model_ckpt.pt')\n",
    "#model_filepath = os.path.join(save_path, 'model.pt')"
   ]
  },
  {
   "cell_type": "code",
   "execution_count": 4,
   "id": "ded53d36-bdfa-46e1-88f9-667eb66da076",
   "metadata": {},
   "outputs": [],
   "source": [
    "# add module to path\n",
    "if save_path not in sys.path:\n",
    "    sys.path.insert(0, save_path)\n",
    "    \n",
    "# load functions\n",
    "from config import config_model, config_data\n",
    "from data_handler import Dataset\n",
    "from model import Model"
   ]
  },
  {
   "cell_type": "code",
   "execution_count": 5,
   "id": "d969b0fd-9b2f-4194-ba18-a09243537b6f",
   "metadata": {},
   "outputs": [],
   "source": [
    "# define device\n",
    "device = pt.device(\"cuda\")\n",
    "\n",
    "# create model\n",
    "model = Model(config_model)\n",
    "\n",
    "# reload model\n",
    "model.load_state_dict(pt.load(model_filepath, map_location=pt.device(\"cpu\")))\n",
    "\n",
    "# set model to inference\n",
    "model = model.eval().to(device)"
   ]
  },
  {
   "cell_type": "code",
   "execution_count": 6,
   "id": "streaming-boston",
   "metadata": {},
   "outputs": [],
   "source": [
    "# parameters\n",
    "pdbids = [\"1JTG\",\"1CLV\",\"1Z0K\",\"1AK4\",\"1R6Q\",\"1D6R\",\"2I25\",\"3F1P\",\"1R0R\",\"1E96\",\"1GPW\",\"1RKE\",\"1FLE\",\"2O3B\",\"3SGQ\",\"1ZHH\",\"1CGI\",\"2UUY\",\"2HQS\",\"2OOB\"]\n",
    "mdids = [\"uR\", \"uL\"]\n",
    "\n",
    "# setup data connector\n",
    "dc = mdu.data.DataConnector(\"database\")"
   ]
  },
  {
   "cell_type": "code",
   "execution_count": 7,
   "id": "impaired-mining",
   "metadata": {},
   "outputs": [
    {
     "name": "stdout",
     "output_type": "stream",
     "text": [
      "1JTG bR\n"
     ]
    },
    {
     "name": "stderr",
     "output_type": "stream",
     "text": [
      "100%|██████████████████████████████████████████████████████████████████████████████| 534/534 [00:40<00:00, 13.10it/s]\n"
     ]
    },
    {
     "name": "stdout",
     "output_type": "stream",
     "text": [
      "1JTG bL\n",
      "WARNING: time overlap between prod10 and prod11\n"
     ]
    },
    {
     "name": "stderr",
     "output_type": "stream",
     "text": [
      "100%|██████████████████████████████████████████████████████████████████████████████| 546/546 [01:04<00:00,  8.51it/s]\n"
     ]
    },
    {
     "name": "stdout",
     "output_type": "stream",
     "text": [
      "1CLV bR\n"
     ]
    },
    {
     "name": "stderr",
     "output_type": "stream",
     "text": [
      "100%|██████████████████████████████████████████████████████████████████████████████| 513/513 [01:47<00:00,  4.77it/s]\n"
     ]
    },
    {
     "name": "stdout",
     "output_type": "stream",
     "text": [
      "1CLV bL\n"
     ]
    },
    {
     "name": "stderr",
     "output_type": "stream",
     "text": [
      "100%|██████████████████████████████████████████████████████████████████████████████| 502/502 [00:18<00:00, 26.88it/s]\n"
     ]
    },
    {
     "name": "stdout",
     "output_type": "stream",
     "text": [
      "1Z0K bR\n"
     ]
    },
    {
     "name": "stderr",
     "output_type": "stream",
     "text": [
      "100%|██████████████████████████████████████████████████████████████████████████████| 502/502 [00:41<00:00, 11.96it/s]\n"
     ]
    },
    {
     "name": "stdout",
     "output_type": "stream",
     "text": [
      "1Z0K bL\n"
     ]
    },
    {
     "name": "stderr",
     "output_type": "stream",
     "text": [
      "100%|██████████████████████████████████████████████████████████████████████████████| 502/502 [00:21<00:00, 23.26it/s]\n"
     ]
    },
    {
     "name": "stdout",
     "output_type": "stream",
     "text": [
      "1AK4 bR\n"
     ]
    },
    {
     "name": "stderr",
     "output_type": "stream",
     "text": [
      "100%|██████████████████████████████████████████████████████████████████████████████| 536/536 [00:41<00:00, 12.91it/s]\n"
     ]
    },
    {
     "name": "stdout",
     "output_type": "stream",
     "text": [
      "1AK4 bL\n"
     ]
    },
    {
     "name": "stderr",
     "output_type": "stream",
     "text": [
      "100%|██████████████████████████████████████████████████████████████████████████████| 536/536 [00:37<00:00, 14.13it/s]\n"
     ]
    },
    {
     "name": "stdout",
     "output_type": "stream",
     "text": [
      "1R6Q bR\n"
     ]
    },
    {
     "name": "stderr",
     "output_type": "stream",
     "text": [
      "100%|██████████████████████████████████████████████████████████████████████████████| 506/506 [00:35<00:00, 14.21it/s]\n"
     ]
    },
    {
     "name": "stdout",
     "output_type": "stream",
     "text": [
      "1R6Q bL\n",
      "WARNING: time overlap between prod10 and prod11\n"
     ]
    },
    {
     "name": "stderr",
     "output_type": "stream",
     "text": [
      "100%|██████████████████████████████████████████████████████████████████████████████| 558/558 [00:28<00:00, 19.73it/s]\n"
     ]
    },
    {
     "name": "stdout",
     "output_type": "stream",
     "text": [
      "1D6R bR\n"
     ]
    },
    {
     "name": "stderr",
     "output_type": "stream",
     "text": [
      "100%|██████████████████████████████████████████████████████████████████████████████| 502/502 [00:48<00:00, 10.34it/s]\n"
     ]
    },
    {
     "name": "stdout",
     "output_type": "stream",
     "text": [
      "1D6R bL\n"
     ]
    },
    {
     "name": "stderr",
     "output_type": "stream",
     "text": [
      "100%|██████████████████████████████████████████████████████████████████████████████| 502/502 [00:20<00:00, 24.27it/s]\n"
     ]
    },
    {
     "name": "stdout",
     "output_type": "stream",
     "text": [
      "2I25 bR\n"
     ]
    },
    {
     "name": "stderr",
     "output_type": "stream",
     "text": [
      "100%|██████████████████████████████████████████████████████████████████████████████| 533/533 [00:31<00:00, 17.02it/s]\n"
     ]
    },
    {
     "name": "stdout",
     "output_type": "stream",
     "text": [
      "2I25 bL\n"
     ]
    },
    {
     "name": "stderr",
     "output_type": "stream",
     "text": [
      "100%|██████████████████████████████████████████████████████████████████████████████| 547/547 [00:35<00:00, 15.57it/s]\n"
     ]
    },
    {
     "name": "stdout",
     "output_type": "stream",
     "text": [
      "3F1P bR\n"
     ]
    },
    {
     "name": "stderr",
     "output_type": "stream",
     "text": [
      "100%|██████████████████████████████████████████████████████████████████████████████| 502/502 [00:29<00:00, 16.95it/s]\n"
     ]
    },
    {
     "name": "stdout",
     "output_type": "stream",
     "text": [
      "3F1P bL\n"
     ]
    },
    {
     "name": "stderr",
     "output_type": "stream",
     "text": [
      "100%|██████████████████████████████████████████████████████████████████████████████| 574/574 [00:34<00:00, 16.62it/s]\n"
     ]
    },
    {
     "name": "stdout",
     "output_type": "stream",
     "text": [
      "1R0R bR\n"
     ]
    },
    {
     "name": "stderr",
     "output_type": "stream",
     "text": [
      "/home/khaos/miniconda3/envs/pesto/lib/python3.9/site-packages/mdtraj/utils/unitcell.py:169: RuntimeWarning: invalid value encountered in true_divide\n",
      "  gamma = np.arccos(np.einsum('...i, ...i', a, b) / (a_length * b_length))\n",
      "100%|██████████████████████████████████████████████████████████████████████████████| 554/554 [01:02<00:00,  8.88it/s]\n"
     ]
    },
    {
     "name": "stdout",
     "output_type": "stream",
     "text": [
      "1R0R bL\n"
     ]
    },
    {
     "name": "stderr",
     "output_type": "stream",
     "text": [
      "100%|██████████████████████████████████████████████████████████████████████████████| 502/502 [00:20<00:00, 25.09it/s]\n"
     ]
    },
    {
     "name": "stdout",
     "output_type": "stream",
     "text": [
      "1E96 bR\n"
     ]
    },
    {
     "name": "stderr",
     "output_type": "stream",
     "text": [
      "100%|██████████████████████████████████████████████████████████████████████████████| 542/542 [00:47<00:00, 11.52it/s]\n"
     ]
    },
    {
     "name": "stdout",
     "output_type": "stream",
     "text": [
      "1E96 bL\n"
     ]
    },
    {
     "name": "stderr",
     "output_type": "stream",
     "text": [
      "100%|██████████████████████████████████████████████████████████████████████████████| 506/506 [00:47<00:00, 10.66it/s]\n"
     ]
    },
    {
     "name": "stdout",
     "output_type": "stream",
     "text": [
      "1GPW bR\n"
     ]
    },
    {
     "name": "stderr",
     "output_type": "stream",
     "text": [
      "100%|██████████████████████████████████████████████████████████████████████████████| 502/502 [00:57<00:00,  8.76it/s]\n"
     ]
    },
    {
     "name": "stdout",
     "output_type": "stream",
     "text": [
      "1GPW bL\n"
     ]
    },
    {
     "name": "stderr",
     "output_type": "stream",
     "text": [
      "100%|██████████████████████████████████████████████████████████████████████████████| 533/533 [00:51<00:00, 10.42it/s]\n"
     ]
    },
    {
     "name": "stdout",
     "output_type": "stream",
     "text": [
      "1RKE bR\n"
     ]
    },
    {
     "name": "stderr",
     "output_type": "stream",
     "text": [
      "100%|██████████████████████████████████████████████████████████████████████████████| 502/502 [00:39<00:00, 12.76it/s]\n"
     ]
    },
    {
     "name": "stdout",
     "output_type": "stream",
     "text": [
      "1RKE bL\n"
     ]
    },
    {
     "name": "stderr",
     "output_type": "stream",
     "text": [
      "100%|██████████████████████████████████████████████████████████████████████████████| 512/512 [00:57<00:00,  8.87it/s]\n"
     ]
    },
    {
     "name": "stdout",
     "output_type": "stream",
     "text": [
      "1FLE bR\n"
     ]
    },
    {
     "name": "stderr",
     "output_type": "stream",
     "text": [
      "100%|██████████████████████████████████████████████████████████████████████████████| 547/547 [00:58<00:00,  9.33it/s]\n"
     ]
    },
    {
     "name": "stdout",
     "output_type": "stream",
     "text": [
      "1FLE bL\n"
     ]
    },
    {
     "name": "stderr",
     "output_type": "stream",
     "text": [
      "100%|██████████████████████████████████████████████████████████████████████████████| 502/502 [00:19<00:00, 25.85it/s]\n"
     ]
    },
    {
     "name": "stdout",
     "output_type": "stream",
     "text": [
      "2O3B bR\n"
     ]
    },
    {
     "name": "stderr",
     "output_type": "stream",
     "text": [
      "100%|██████████████████████████████████████████████████████████████████████████████| 502/502 [00:54<00:00,  9.22it/s]\n"
     ]
    },
    {
     "name": "stdout",
     "output_type": "stream",
     "text": [
      "2O3B bL\n"
     ]
    },
    {
     "name": "stderr",
     "output_type": "stream",
     "text": [
      "100%|██████████████████████████████████████████████████████████████████████████████| 547/547 [00:36<00:00, 14.84it/s]\n"
     ]
    },
    {
     "name": "stdout",
     "output_type": "stream",
     "text": [
      "3SGQ bR\n"
     ]
    },
    {
     "name": "stderr",
     "output_type": "stream",
     "text": [
      "100%|██████████████████████████████████████████████████████████████████████████████| 540/540 [00:43<00:00, 12.51it/s]\n"
     ]
    },
    {
     "name": "stdout",
     "output_type": "stream",
     "text": [
      "3SGQ bL\n"
     ]
    },
    {
     "name": "stderr",
     "output_type": "stream",
     "text": [
      "100%|██████████████████████████████████████████████████████████████████████████████| 502/502 [00:20<00:00, 25.06it/s]\n"
     ]
    },
    {
     "name": "stdout",
     "output_type": "stream",
     "text": [
      "1ZHH bR\n"
     ]
    },
    {
     "name": "stderr",
     "output_type": "stream",
     "text": [
      "100%|██████████████████████████████████████████████████████████████████████████████| 516/516 [01:22<00:00,  6.25it/s]\n"
     ]
    },
    {
     "name": "stdout",
     "output_type": "stream",
     "text": [
      "1ZHH bL\n",
      "WARNING: time overlap between prod10 and prod11\n"
     ]
    },
    {
     "name": "stderr",
     "output_type": "stream",
     "text": [
      "100%|██████████████████████████████████████████████████████████████████████████████| 546/546 [00:56<00:00,  9.70it/s]\n"
     ]
    },
    {
     "name": "stdout",
     "output_type": "stream",
     "text": [
      "1CGI bR\n"
     ]
    },
    {
     "name": "stderr",
     "output_type": "stream",
     "text": [
      "100%|██████████████████████████████████████████████████████████████████████████████| 652/652 [01:09<00:00,  9.41it/s]\n"
     ]
    },
    {
     "name": "stdout",
     "output_type": "stream",
     "text": [
      "1CGI bL\n"
     ]
    },
    {
     "name": "stderr",
     "output_type": "stream",
     "text": [
      "100%|██████████████████████████████████████████████████████████████████████████████| 502/502 [00:20<00:00, 24.13it/s]\n"
     ]
    },
    {
     "name": "stdout",
     "output_type": "stream",
     "text": [
      "2UUY bR\n"
     ]
    },
    {
     "name": "stderr",
     "output_type": "stream",
     "text": [
      "100%|██████████████████████████████████████████████████████████████████████████████| 536/536 [00:51<00:00, 10.34it/s]\n"
     ]
    },
    {
     "name": "stdout",
     "output_type": "stream",
     "text": [
      "2UUY bL\n"
     ]
    },
    {
     "name": "stderr",
     "output_type": "stream",
     "text": [
      "100%|██████████████████████████████████████████████████████████████████████████████| 502/502 [00:20<00:00, 24.90it/s]\n"
     ]
    },
    {
     "name": "stdout",
     "output_type": "stream",
     "text": [
      "2HQS bR\n"
     ]
    },
    {
     "name": "stderr",
     "output_type": "stream",
     "text": [
      "100%|██████████████████████████████████████████████████████████████████████████████| 509/509 [01:28<00:00,  5.74it/s]\n"
     ]
    },
    {
     "name": "stdout",
     "output_type": "stream",
     "text": [
      "2HQS bL\n"
     ]
    },
    {
     "name": "stderr",
     "output_type": "stream",
     "text": [
      "100%|██████████████████████████████████████████████████████████████████████████████| 544/544 [00:31<00:00, 17.34it/s]\n"
     ]
    },
    {
     "name": "stdout",
     "output_type": "stream",
     "text": [
      "2OOB bR\n",
      "WARNING: time overlap between prod10 and prod11\n"
     ]
    },
    {
     "name": "stderr",
     "output_type": "stream",
     "text": [
      "100%|██████████████████████████████████████████████████████████████████████████████| 552/552 [00:20<00:00, 26.77it/s]\n"
     ]
    },
    {
     "name": "stdout",
     "output_type": "stream",
     "text": [
      "2OOB bL\n"
     ]
    },
    {
     "name": "stderr",
     "output_type": "stream",
     "text": [
      "100%|██████████████████████████████████████████████████████████████████████████████| 502/502 [00:22<00:00, 22.26it/s]\n"
     ]
    }
   ],
   "source": [
    "# parameters\n",
    "n_skip = 100\n",
    "\n",
    "for pdbid in pdbids:\n",
    "    # load reference\n",
    "    dc.load_reference(pdbid, \"C\")\n",
    "\n",
    "    # convert and process structure\n",
    "    struct_ref = traj_to_struct(dc[pdbid][\"C\"][\"traj_ref\"])\n",
    "    struct_ref['xyz'] = struct_ref['xyz'][:,0]\n",
    "    subunits_ref = process_structure(struct_ref)\n",
    "\n",
    "    # find interfaces\n",
    "    contacts = extract_all_contacts(subunits_ref, 5.0, device=device)\n",
    "    \n",
    "    # for each md\n",
    "    for mdid in mdids:\n",
    "        # debug print\n",
    "        print(pdbid, mdid)\n",
    "\n",
    "        # load trajectory\n",
    "        dc.load_trajectory(pdbid, mdid)\n",
    "\n",
    "        # convert to structure\n",
    "        structure = traj_to_struct(dc[pdbid][mdid]['traj'])\n",
    "\n",
    "        # process structure\n",
    "        subunits = process_structure(structure)\n",
    "\n",
    "        # concatenate subunits\n",
    "        structure = concatenate_chains(subunits)\n",
    "\n",
    "        # encode structure and features\n",
    "        X_traj, M = encode_structure(structure)\n",
    "        q_all = pt.cat(encode_features(structure), dim=1)\n",
    "        q = encode_features(structure)[0]\n",
    "\n",
    "        # extract topology\n",
    "        ids_topk, D_topk, R_topk, D, R = extract_topology(X_traj[:,0], 64)\n",
    "\n",
    "        # pack data and setup sink (IMPORTANT)\n",
    "        _, ids_topk, q, M = collate_batch_features([[X_traj[:,0], ids_topk, q, M]])\n",
    "        \n",
    "        # auto-detect chains\n",
    "        ids_sim = mdu.utils.align(dc[pdbid][\"C\"][\"traj_ref\"], dc[pdbid][mdid][\"traj\"], selection=\"all\")\n",
    "        cids_ref = dc[pdbid][\"C\"][\"traj_ref\"].topology.to_dataframe()[0].iloc[ids_sim[:,0]]['chainID'].unique().astype('str')\n",
    "        cids = np.array(list(contacts))\n",
    "        \n",
    "        # define labels\n",
    "        ids = contacts[cids_ref[0]][cids[~np.isin(cids, cids_ref)][0]]['ids']\n",
    "        y = np.zeros(M.shape[0])\n",
    "        y[ids[:,0]] = 1.0\n",
    "        y = (np.matmul(y, M.detach().cpu().numpy()) > 0.5).astype(float)\n",
    "\n",
    "        # run model\n",
    "        P, t = [], []\n",
    "        with pt.no_grad():\n",
    "            for i in tqdm(range(0, X_traj.shape[1], n_skip)):\n",
    "                # extract frame coordinates\n",
    "                X = X_traj[:,i]\n",
    "\n",
    "                # make prediction\n",
    "                z = model(X.to(device), ids_topk.to(device), q.to(device), M.float().to(device))\n",
    "                #p = pt.sigmoid(z).flatten()\n",
    "                p = pt.sigmoid(z)[:,0].flatten()\n",
    "\n",
    "                # store results\n",
    "                P.append(p.detach().cpu().numpy())\n",
    "                t.append(dc[pdbid][mdid]['traj'].time[i])\n",
    "            \n",
    "        # get atom coordinates for C_alpha for predicted frames\n",
    "        X_traj_slice = X_traj[:, pt.arange(0, X_traj.shape[1], n_skip)]\n",
    "        Xp = (pt.matmul(X_traj_slice.transpose(0,2), M) / pt.sum(M, axis=0).reshape(1,1,-1)).transpose(0,2).transpose(0,1).numpy()\n",
    "        _, Xp = superpose(np.expand_dims(Xp[0],0), Xp)\n",
    "\n",
    "        # pack results\n",
    "        P = np.array(P)\n",
    "        t = np.array(t)\n",
    "        \n",
    "        # save results\n",
    "        np.savez(\"outputs/{}_{}.npz\".format(pdbid, mdid), P=P, t=t, Xp=Xp, y=y)\n",
    "        \n",
    "        # unload data\n",
    "        dc.unload_md(pdbid, mdid)\n",
    "        \n",
    "    # unload data\n",
    "    dc.unload_pdb(pdbid)"
   ]
  },
  {
   "cell_type": "code",
   "execution_count": null,
   "id": "d53cc542-c90f-49f9-8445-d0a507a8e9e1",
   "metadata": {},
   "outputs": [],
   "source": []
  },
  {
   "cell_type": "code",
   "execution_count": null,
   "id": "0ab66c89-238e-410f-9864-74a119fa4dcc",
   "metadata": {},
   "outputs": [],
   "source": []
  }
 ],
 "metadata": {
  "kernelspec": {
   "display_name": "pesto",
   "language": "python",
   "name": "pesto"
  },
  "language_info": {
   "codemirror_mode": {
    "name": "ipython",
    "version": 3
   },
   "file_extension": ".py",
   "mimetype": "text/x-python",
   "name": "python",
   "nbconvert_exporter": "python",
   "pygments_lexer": "ipython3",
   "version": "3.10.4"
  }
 },
 "nbformat": 4,
 "nbformat_minor": 5
}
