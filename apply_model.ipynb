{
 "cells": [
  {
   "cell_type": "code",
   "execution_count": 1,
   "id": "finite-respondent",
   "metadata": {},
   "outputs": [],
   "source": [
    "import os\n",
    "import sys\n",
    "import h5py\n",
    "import json\n",
    "import numpy as np\n",
    "import torch as pt\n",
    "import pandas as pd\n",
    "import matplotlib.pyplot as plt\n",
    "from tqdm import tqdm\n",
    "from glob import glob\n",
    "\n",
    "from src.dataset import StructuresDataset, collate_batch_features, select_by_sid, select_by_interface_types\n",
    "from src.data_encoding import encode_structure, encode_features, extract_topology, categ_to_resnames, resname_to_categ\n",
    "from src.structure import data_to_structure, encode_bfactor, concatenate_chains, split_by_chain\n",
    "from src.structure_io import save_pdb, read_pdb\n",
    "from src.scoring import bc_scoring, bc_score_names"
   ]
  },
  {
   "cell_type": "code",
   "execution_count": 2,
   "id": "9b923fbb-2072-496e-b83a-dea465f8e26e",
   "metadata": {},
   "outputs": [],
   "source": [
    "# data parameters\n",
    "data_path = \"examples/issue_20_04_2023\""
   ]
  },
  {
   "cell_type": "code",
   "execution_count": 3,
   "id": "varying-essence",
   "metadata": {},
   "outputs": [],
   "source": [
    "# model parameters\n",
    "# R3\n",
    "#save_path = \"model/save/i_v3_0_2021-05-27_14-27\"  # 89\n",
    "#save_path = \"model/save/i_v3_1_2021-05-28_12-40\"  # 90\n",
    "# R4\n",
    "#save_path = \"model/save/i_v4_0_2021-09-07_11-20\"  # 89\n",
    "save_path = \"model/save/i_v4_1_2021-09-07_11-21\"  # 91\n",
    "\n",
    "# select saved model\n",
    "model_filepath = os.path.join(save_path, 'model_ckpt.pt')\n",
    "#model_filepath = os.path.join(save_path, 'model.pt')"
   ]
  },
  {
   "cell_type": "code",
   "execution_count": 4,
   "id": "educational-discipline",
   "metadata": {},
   "outputs": [],
   "source": [
    "# add module to path\n",
    "if save_path not in sys.path:\n",
    "    sys.path.insert(0, save_path)\n",
    "    \n",
    "# load functions\n",
    "from config import config_model, config_data\n",
    "from data_handler import Dataset\n",
    "from model import Model"
   ]
  },
  {
   "cell_type": "code",
   "execution_count": 5,
   "id": "settled-adult",
   "metadata": {},
   "outputs": [],
   "source": [
    "# define device\n",
    "device = pt.device(\"cpu\")\n",
    "\n",
    "# create model\n",
    "model = Model(config_model)\n",
    "\n",
    "# reload model\n",
    "model.load_state_dict(pt.load(model_filepath, map_location=pt.device(\"cpu\")))\n",
    "\n",
    "# set model to inference\n",
    "model = model.eval().to(device)"
   ]
  },
  {
   "cell_type": "code",
   "execution_count": 6,
   "id": "614c5e28-7dbb-4746-9db1-020523dab479",
   "metadata": {},
   "outputs": [
    {
     "name": "stdout",
     "output_type": "stream",
     "text": [
      "1\n"
     ]
    }
   ],
   "source": [
    "# find pdb files and ignore already predicted oins\n",
    "pdb_filepaths = glob(os.path.join(data_path, \"*.pdb\"), recursive=True)\n",
    "pdb_filepaths = [fp for fp in pdb_filepaths if \"_i\" not in fp]\n",
    "\n",
    "# create dataset loader with preprocessing\n",
    "dataset = StructuresDataset(pdb_filepaths, with_preprocessing=True)\n",
    "\n",
    "# debug print\n",
    "print(len(dataset))"
   ]
  },
  {
   "cell_type": "code",
   "execution_count": 7,
   "id": "0b1e4fea-0e3e-4a6a-a096-597015b4591b",
   "metadata": {},
   "outputs": [
    {
     "name": "stderr",
     "output_type": "stream",
     "text": [
      "100%|██████████| 1/1 [00:02<00:00,  2.73s/it]\n"
     ]
    }
   ],
   "source": [
    "# run model on all subunits\n",
    "with pt.no_grad():\n",
    "    for subunits, filepath in tqdm(dataset):\n",
    "        # concatenate all chains together\n",
    "        structure = concatenate_chains(subunits)\n",
    "\n",
    "        # encode structure and features\n",
    "        X, M = encode_structure(structure)\n",
    "        #q = pt.cat(encode_features(structure), dim=1)\n",
    "        q = encode_features(structure)[0]\n",
    "\n",
    "        # extract topology\n",
    "        ids_topk, _, _, _, _ = extract_topology(X, 64)\n",
    "\n",
    "        # pack data and setup sink (IMPORTANT)\n",
    "        X, ids_topk, q, M = collate_batch_features([[X, ids_topk, q, M]])\n",
    "\n",
    "        # run model\n",
    "        z = model(X.to(device), ids_topk.to(device), q.to(device), M.float().to(device))\n",
    "\n",
    "        # for all predictions\n",
    "        for i in range(z.shape[1]):\n",
    "            # prediction\n",
    "            p = pt.sigmoid(z[:,i])\n",
    "\n",
    "            # encode result\n",
    "            structure = encode_bfactor(structure, p.cpu().numpy())\n",
    "\n",
    "            # save results\n",
    "            output_filepath = filepath[:-4]+'_i{}.pdb'.format(i)\n",
    "            save_pdb(split_by_chain(structure), output_filepath)"
   ]
  },
  {
   "cell_type": "code",
   "execution_count": null,
   "id": "44e4ca9b-0aa6-4c34-8528-6f659495c18a",
   "metadata": {},
   "outputs": [],
   "source": []
  },
  {
   "cell_type": "code",
   "execution_count": null,
   "id": "560ef5b0-6a5a-427b-9d40-d128e82445cb",
   "metadata": {},
   "outputs": [],
   "source": []
  },
  {
   "cell_type": "code",
   "execution_count": null,
   "id": "f77ca8f6-789e-4fd3-9212-414b934298ed",
   "metadata": {},
   "outputs": [],
   "source": []
  }
 ],
 "metadata": {
  "kernelspec": {
   "display_name": "pesto",
   "language": "python",
   "name": "python3"
  },
  "language_info": {
   "codemirror_mode": {
    "name": "ipython",
    "version": 3
   },
   "file_extension": ".py",
   "mimetype": "text/x-python",
   "name": "python",
   "nbconvert_exporter": "python",
   "pygments_lexer": "ipython3",
   "version": "3.9.7"
  }
 },
 "nbformat": 4,
 "nbformat_minor": 5
}
